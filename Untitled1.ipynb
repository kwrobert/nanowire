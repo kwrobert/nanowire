{
 "cells": [
  {
   "cell_type": "code",
   "execution_count": 3,
   "metadata": {
    "collapsed": false
   },
   "outputs": [
    {
     "name": "stdout",
     "output_type": "stream",
     "text": [
      "[('A1', 'B1', 'C1'), ('A1', 'B1', 'C2'), ('A1', 'B1', 'C3'), ('A1', 'B2', 'C1'), ('A1', 'B2', 'C2'), ('A1', 'B2', 'C3'), ('A1', 'B3', 'C1'), ('A1', 'B3', 'C2'), ('A1', 'B3', 'C3'), ('A2', 'B1', 'C1'), ('A2', 'B1', 'C2'), ('A2', 'B1', 'C3'), ('A2', 'B2', 'C1'), ('A2', 'B2', 'C2'), ('A2', 'B2', 'C3'), ('A2', 'B3', 'C1'), ('A2', 'B3', 'C2'), ('A2', 'B3', 'C3'), ('A3', 'B1', 'C1'), ('A3', 'B1', 'C2'), ('A3', 'B1', 'C3'), ('A3', 'B2', 'C1'), ('A3', 'B2', 'C2'), ('A3', 'B2', 'C3'), ('A3', 'B3', 'C1'), ('A3', 'B3', 'C2'), ('A3', 'B3', 'C3'), ('A4', 'B1', 'C1'), ('A4', 'B1', 'C2'), ('A4', 'B1', 'C3'), ('A4', 'B2', 'C1'), ('A4', 'B2', 'C2'), ('A4', 'B2', 'C3'), ('A4', 'B3', 'C1'), ('A4', 'B3', 'C2'), ('A4', 'B3', 'C3')]\n"
     ]
    }
   ],
   "source": [
    "import itertools\n",
    "test = [['A1','A2','A3','A4'],['B1','B2','B3'],['C1','C2','C3']]\n",
    "combos = list(itertools.product(*test))\n",
    "print(combos)"
   ]
  },
  {
   "cell_type": "code",
   "execution_count": 7,
   "metadata": {
    "collapsed": false
   },
   "outputs": [],
   "source": [
    "string='10:20:30'\n",
    "string.find('.')\n",
    "if string.find('.') != -1:\n",
    "    print('someting')"
   ]
  },
  {
   "cell_type": "code",
   "execution_count": 9,
   "metadata": {
    "collapsed": false
   },
   "outputs": [
    {
     "name": "stdout",
     "output_type": "stream",
     "text": [
      "n1\n",
      "2\n",
      "n2\n",
      "2\n"
     ]
    }
   ],
   "source": [
    "for name, param in [('n1',2),('n2',2)]:\n",
    "    print name\n",
    "    print param"
   ]
  },
  {
   "cell_type": "code",
   "execution_count": null,
   "metadata": {
    "collapsed": true
   },
   "outputs": [],
   "source": []
  }
 ],
 "metadata": {
  "kernelspec": {
   "display_name": "Python 2",
   "language": "python",
   "name": "python2"
  },
  "language_info": {
   "codemirror_mode": {
    "name": "ipython",
    "version": 2
   },
   "file_extension": ".py",
   "mimetype": "text/x-python",
   "name": "python",
   "nbconvert_exporter": "python",
   "pygments_lexer": "ipython2",
   "version": "2.7.12"
  }
 },
 "nbformat": 4,
 "nbformat_minor": 1
}
