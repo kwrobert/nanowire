{
 "cells": [
  {
   "cell_type": "code",
   "execution_count": 1,
   "metadata": {
    "collapsed": false
   },
   "outputs": [],
   "source": [
    "import numpy as np\n",
    "from nanowire.optics.simulate import Simulator\n",
    "from nanowire.optics.utils.utils import setup_sim\n",
    "from nanowire.optics.utils.config import Config"
   ]
  },
  {
   "cell_type": "markdown",
   "metadata": {},
   "source": [
    "# Introduction"
   ]
  },
  {
   "cell_type": "markdown",
   "metadata": {},
   "source": [
    "This is just a quick set of tests to figure out how to compute the absorption of an individual layer from the power fluxes at the top and bottom of each layer"
   ]
  },
  {
   "cell_type": "code",
   "execution_count": 2,
   "metadata": {
    "collapsed": false
   },
   "outputs": [],
   "source": [
    "conf = Config('AbsorptionTest.yml')\n",
    "sim = Simulator(conf)\n",
    "sim = setup_sim(sim)"
   ]
  },
  {
   "cell_type": "code",
   "execution_count": 17,
   "metadata": {
    "collapsed": false
   },
   "outputs": [
    {
     "name": "stderr",
     "output_type": "stream",
     "text": [
      "DEBUG:nanowire.optics.simulate:Computing fluxes ...\n",
      "DEBUG:nanowire.optics.simulate:Computing fluxes through layer: NW_SiO2\n",
      "DEBUG:nanowire.optics.simulate:Computing fluxes through layer: Substrate\n",
      "DEBUG:nanowire.optics.simulate:Computing fluxes through layer: Air\n",
      "DEBUG:nanowire.optics.simulate:Computing fluxes through layer: ITO\n",
      "DEBUG:nanowire.optics.simulate:Computing fluxes through layer: NW_AlShell\n",
      "DEBUG:nanowire.optics.simulate:Finished computing fluxes!\n"
     ]
    }
   ],
   "source": [
    "fluxes = sim.get_fluxes()"
   ]
  },
  {
   "cell_type": "code",
   "execution_count": 4,
   "metadata": {
    "collapsed": false
   },
   "outputs": [
    {
     "name": "stdout",
     "output_type": "stream",
     "text": [
      "{'ITO': ((889.3896940292223+0.40536162201509285j), (-31.320447816229574-0.40536162201509285j)), 'ITO_bottom': ((832.8167787694824-1.1020696710776718j), (-32.32968144724215+1.1020696710776718j)), 'Substrate_bottom': ((41.56120138174488+0j), 0j), 'NW_AlShell': ((805.4789693755682-1.018496961282608j), (-4.99187205333792+1.018496961282608j)), 'NW_SiO2_bottom': ((294.3421073335986-0.17843894992674514j), (-25.517551725745832+0.17843894992674514j)), 'Substrate': ((268.82455560785075+0j), 0j), 'NW_AlShell_bottom': ((288.4316133009568-1.6540491075088823j), (-15.301493749495123+1.6540491075088823j)), 'NW_SiO2': ((298.47308699452026-1.2484204892192103j), (-25.34296744306598+1.2484204892192103j)), 'Air': ((930.4485521295919+0j), (-72.37930591656783+0j)), 'Air_bottom': ((930.4485521295919+0j), (-72.37930591656784+0j))}\n"
     ]
    }
   ],
   "source": [
    "print(fluxes)"
   ]
  },
  {
   "cell_type": "code",
   "execution_count": 5,
   "metadata": {
    "collapsed": false
   },
   "outputs": [
    {
     "name": "stdout",
     "output_type": "stream",
     "text": [
      "(800.4870973222403+0j)\n",
      "(800.4870973222303+0j)\n",
      "((832.8167787694824-1.1020696710776718j), (-32.32968144724215+1.1020696710776718j))\n",
      "((805.4789693755682-1.018496961282608j), (-4.99187205333792+1.018496961282608j))\n"
     ]
    }
   ],
   "source": [
    "out_ito = fluxes['ITO_bottom'][0] + fluxes['ITO_bottom'][1]\n",
    "in_nw = fluxes['NW_AlShell'][0] + fluxes['NW_AlShell'][1]\n",
    "print(out_ito)\n",
    "print(in_nw)\n",
    "print(fluxes['ITO_bottom'])\n",
    "print(fluxes['NW_AlShell'])"
   ]
  },
  {
   "cell_type": "code",
   "execution_count": 25,
   "metadata": {
    "collapsed": false
   },
   "outputs": [
    {
     "name": "stdout",
     "output_type": "stream",
     "text": [
      "889.389786406\n",
      "31.3230708816\n",
      "805.4796133\n",
      "52.5871022242\n"
     ]
    }
   ],
   "source": [
    "ito_inc = np.absolute(fluxes['ITO'][0])\n",
    "ito_ref = np.absolute(fluxes['Air_bottom'][1])\n",
    "ito_ref = np.absolute(fluxes['ITO'][1])\n",
    "ito_trans = np.absolute(fluxes['NW_AlShell'][0])\n",
    "print(ito_inc)\n",
    "print(ito_ref)\n",
    "print(ito_trans)\n",
    "absorbed = ito_inc - ito_ref - ito_trans\n",
    "print(absorbed)"
   ]
  },
  {
   "cell_type": "code",
   "execution_count": 8,
   "metadata": {
    "collapsed": false
   },
   "outputs": [
    {
     "name": "stdout",
     "output_type": "stream",
     "text": [
      "Total Incident Power = 930.4485521295919\n",
      "Total Reflected Power = 72.37930591656783\n",
      "Total Transmitted Power = 41.56120138174488\n",
      "Total Absorbed Power = 816.5080448312792\n"
     ]
    }
   ],
   "source": [
    "total_incident_power = np.absolute(fluxes['Air'][0])\n",
    "total_reflected_power = np.absolute(fluxes['Air'][1])\n",
    "total_transmitted_power = np.absolute(sum(fluxes['Substrate_bottom']))\n",
    "total_absorbed_power = total_incident_power - total_reflected_power - total_transmitted_power\n",
    "print('Total Incident Power = {}'.format(total_incident_power))\n",
    "print('Total Reflected Power = {}'.format(total_reflected_power))\n",
    "print('Total Transmitted Power = {}'.format(total_transmitted_power))\n",
    "print('Total Absorbed Power = {}'.format(total_absorbed_power))"
   ]
  },
  {
   "cell_type": "code",
   "execution_count": 6,
   "metadata": {
    "collapsed": false
   },
   "outputs": [
    {
     "name": "stdout",
     "output_type": "stream",
     "text": [
      "-------------------------\n",
      "Layer: ITO\n",
      "Incident Power: 889.389786406072\n",
      "Reflected Power: 31.323070881600398\n",
      "Transmitted Power: 832.8175079556967\n",
      "Backward_bottom: 32.34845993304879\n",
      "Absorbed in Layer: 57.582148890752364\n",
      "-------------------------\n",
      "Layer: Substrate\n",
      "Incident Power: 268.82455560785075\n",
      "Reflected Power: 0.0\n",
      "Transmitted Power: 41.56120138174488\n",
      "Backward_bottom: 0.0\n",
      "Absorbed in Layer: 227.2633542261059\n",
      "-------------------------\n",
      "Layer: NW_SiO2\n",
      "Incident Power: 298.4756978612436\n",
      "Reflected Power: 25.373698046169867\n",
      "Transmitted Power: 294.342161421096\n",
      "Backward_bottom: 25.518175611414016\n",
      "Absorbed in Layer: 4.3055639436014985\n",
      "-------------------------\n",
      "Layer: Air\n",
      "Incident Power: 930.4485521295919\n",
      "Reflected Power: 72.37930591656783\n",
      "Transmitted Power: 930.4485521295919\n",
      "Backward_bottom: 72.37930591656784\n",
      "Absorbed in Layer: 1.1368683772161603e-13\n",
      "-------------------------\n",
      "Layer: NW_AlShell\n",
      "Incident Power: 805.4796133002919\n",
      "Reflected Power: 5.094715169372871\n",
      "Transmitted Power: 288.4363559432873\n",
      "Backward_bottom: 15.390633171376974\n",
      "Absorbed in Layer: 527.3569777707686\n",
      "-------------------------\n",
      "Summed Absorption= 816.5080448312285\n"
     ]
    }
   ],
   "source": [
    "summed_absorbed_power = 0\n",
    "for layer, (forw, back) in fluxes.items():\n",
    "    if '_bottom' in layer:\n",
    "        continue\n",
    "    incident_power = np.absolute(forw)\n",
    "    reflected_power = np.absolute(back)\n",
    "    print('-'*25)\n",
    "    print('Layer: {}'.format(layer))\n",
    "    print('Incident Power: {}'.format(incident_power))\n",
    "    print('Reflected Power: {}'.format(reflected_power))\n",
    "    bottom = layer+'_bottom'\n",
    "    transmitted_power = np.absolute(fluxes[bottom][0])\n",
    "    bottom_reflected_power = np.absolute(fluxes[bottom][1])\n",
    "    print('Transmitted Power: {}'.format(transmitted_power))\n",
    "    print('Backward_bottom: {}'.format(bottom_reflected_power))\n",
    "    #absorbed = incident_power + bottom_reflected_power - transmitted_power - reflected_power\n",
    "    flux_top = np.absolute(forw+back)\n",
    "    flux_bottom = np.absolute(fluxes[bottom][0]+fluxes[bottom][1]) \n",
    "    absorbed = flux_top - flux_bottom\n",
    "    print('Absorbed in Layer: {}'.format(absorbed))\n",
    "    summed_absorbed_power += absorbed\n",
    "#print('Summed Absorption= {}'.format(np.absolute(summed_absorbed_power)))\n",
    "print('-'*25)\n",
    "print('Summed Absorption= {}'.format(summed_absorbed_power))"
   ]
  },
  {
   "cell_type": "markdown",
   "metadata": {},
   "source": [
    "So if the loop above computed things properly, then summed absorbed power should be equal to the total absorbed power"
   ]
  },
  {
   "cell_type": "code",
   "execution_count": 9,
   "metadata": {
    "collapsed": false
   },
   "outputs": [
    {
     "name": "stdout",
     "output_type": "stream",
     "text": [
      "Diff = 5.070432962384075e-11\n"
     ]
    }
   ],
   "source": [
    "diff = total_absorbed_power - summed_absorbed_power\n",
    "print('Diff = {}'.format(diff))"
   ]
  },
  {
   "cell_type": "markdown",
   "metadata": {},
   "source": [
    "So they appear to be pretty close. This device didn't have an air layer below everything. I try adding an air layer below to\n",
    "see if that improves the agreement between these two methods"
   ]
  },
  {
   "cell_type": "code",
   "execution_count": 11,
   "metadata": {
    "collapsed": false
   },
   "outputs": [
    {
     "name": "stderr",
     "output_type": "stream",
     "text": [
      "DEBUG:nanowire.optics.simulate:Logger initialized\n",
      "DEBUG:nanowire.optics.simulate:Building layer: Air\n",
      "DEBUG:nanowire.optics.simulate:Layer Order 1\n",
      "DEBUG:nanowire.optics.simulate:Building layer: ITO\n",
      "DEBUG:nanowire.optics.simulate:Layer Order 2\n",
      "DEBUG:nanowire.optics.simulate:Building layer: NW_AlShell\n",
      "DEBUG:nanowire.optics.simulate:Layer Order 3\n",
      "DEBUG:nanowire.optics.simulate:Building geometry in layer: NW_AlShell\n",
      "DEBUG:nanowire.optics.simulate:Building object shell of type circle at order 1\n",
      "DEBUG:nanowire.optics.simulate:Building object core of type circle at order 2\n",
      "DEBUG:nanowire.optics.simulate:Building layer: NW_SiO2\n",
      "DEBUG:nanowire.optics.simulate:Layer Order 4\n",
      "DEBUG:nanowire.optics.simulate:Building geometry in layer: NW_SiO2\n",
      "DEBUG:nanowire.optics.simulate:Building object shell of type circle at order 1\n",
      "DEBUG:nanowire.optics.simulate:Building object core of type circle at order 2\n",
      "DEBUG:nanowire.optics.simulate:Building layer: Substrate\n",
      "DEBUG:nanowire.optics.simulate:Layer Order 5\n",
      "DEBUG:nanowire.optics.simulate:Building layer: Bottom_Air\n",
      "DEBUG:nanowire.optics.simulate:Layer Order 6\n",
      "DEBUG:nanowire.optics.simulate:Physical Frequency = 4.000000E+14\n",
      "WARNING:nanowire.optics.simulate:Your bins are smaller than NRELs! Using NREL bin size\n",
      "DEBUG:nanowire.optics.simulate:[399723277333333.31, 400256953271028.0]\n",
      "DEBUG:nanowire.optics.simulate:[2.3155394055977224e-12, 2.3123628270194848e-12]\n",
      "INFO:nanowire.optics.simulate:Incident Intensity: 1.23490003178\n",
      "DEBUG:nanowire.optics.simulate:Incident Power: 0.077181251986\n",
      "DEBUG:nanowire.optics.simulate:Incident Amplitude: 21.5690583027\n"
     ]
    }
   ],
   "source": [
    "below_conf = Config('AbsorptionTest_airbelow.yml')\n",
    "below_sim = Simulator(below_conf)\n",
    "below_sim = setup_sim(below_sim)"
   ]
  },
  {
   "cell_type": "code",
   "execution_count": 12,
   "metadata": {
    "collapsed": false
   },
   "outputs": [
    {
     "name": "stderr",
     "output_type": "stream",
     "text": [
      "DEBUG:nanowire.optics.simulate:Computing fluxes ...\n",
      "DEBUG:nanowire.optics.simulate:Computing fluxes through layer: Substrate\n",
      "DEBUG:nanowire.optics.simulate:Computing fluxes through layer: NW_SiO2\n",
      "DEBUG:nanowire.optics.simulate:Computing fluxes through layer: ITO\n",
      "DEBUG:nanowire.optics.simulate:Computing fluxes through layer: Air\n",
      "DEBUG:nanowire.optics.simulate:Computing fluxes through layer: NW_AlShell\n",
      "DEBUG:nanowire.optics.simulate:Computing fluxes through layer: Bottom_Air\n",
      "DEBUG:nanowire.optics.simulate:Finished computing fluxes!\n"
     ]
    }
   ],
   "source": [
    "fluxes = below_sim.get_fluxes()"
   ]
  },
  {
   "cell_type": "code",
   "execution_count": 13,
   "metadata": {
    "collapsed": false
   },
   "outputs": [
    {
     "name": "stdout",
     "output_type": "stream",
     "text": [
      "{'Substrate_bottom': ((43.60219291195291+0.6932449963104814j), (-15.07239896981021-0.6932449963104814j)), 'Bottom_Air_bottom': ((28.52979394214275+0j), 0j), 'NW_AlShell': ((814.5027719852595-0.797432675361371j), (-2.617026481935543+0.797432675361371j)), 'Bottom_Air': ((28.52979394214275+0j), 0j), 'NW_SiO2': ((299.1838150595673-1.7439443101523118j), (-14.872676558269914+1.7439443101523118j)), 'Substrate': ((282.21592462896365+0.5540592160286817j), (-2.7521874656798158-0.5540592160286817j)), 'NW_SiO2_bottom': ((294.8071086249769-0.620316201855837j), (-15.34337146169093+0.620316201855837j)), 'ITO': ((896.507349202051+0.5037645865747891j), (-26.29738076318455-0.5037645865747891j)), 'Air': ((930.4485521295919+0j), (-60.23858369069318+0j)), 'ITO_bottom': ((839.1481953357867-1.0767936010322146j), (-27.262449832452976+1.0767936010322146j)), 'Air_bottom': ((930.4485521295919+0j), (-60.23858369069321+0j)), 'NW_AlShell_bottom': ((291.9930683146283-1.3588527120678293j), (-7.681929813325565+1.3588527120678293j))}\n"
     ]
    }
   ],
   "source": [
    "print(fluxes)"
   ]
  },
  {
   "cell_type": "code",
   "execution_count": 14,
   "metadata": {
    "collapsed": false
   },
   "outputs": [
    {
     "name": "stdout",
     "output_type": "stream",
     "text": [
      "Total Incident Power = 930.4485521295919\n",
      "Total Reflected Power = 60.23858369069318\n",
      "Total Transmitted Power = 28.52979394214275\n",
      "Total Absorbed Power = 841.680174496756\n"
     ]
    }
   ],
   "source": [
    "total_incident_power = np.absolute(fluxes['Air'][0])\n",
    "total_reflected_power = np.absolute(fluxes['Air'][1])\n",
    "total_transmitted_power = np.absolute(fluxes['Bottom_Air_bottom'][0])\n",
    "total_absorbed_power = total_incident_power - total_reflected_power - total_transmitted_power\n",
    "print('Total Incident Power = {}'.format(total_incident_power))\n",
    "print('Total Reflected Power = {}'.format(total_reflected_power))\n",
    "print('Total Transmitted Power = {}'.format(total_transmitted_power))\n",
    "print('Total Absorbed Power = {}'.format(total_absorbed_power))"
   ]
  },
  {
   "cell_type": "code",
   "execution_count": 15,
   "metadata": {
    "collapsed": false
   },
   "outputs": [
    {
     "name": "stdout",
     "output_type": "stream",
     "text": [
      "-------------------------\n",
      "Layer: NW_AlShell\n",
      "Incident Power: 814.5031623453302\n",
      "Reflected Power: 2.735822815696572\n",
      "Transmitted Power: 291.9962301545763\n",
      "Backward_bottom: 7.801187496141485\n",
      "Absorbed in Layer: 527.5746070020211\n",
      "-------------------------\n",
      "Layer: Bottom_Air\n",
      "Incident Power: 28.52979394214275\n",
      "Reflected Power: 0.0\n",
      "Transmitted Power: 28.52979394214275\n",
      "Backward_bottom: 0.0\n",
      "Absorbed in Layer: 0.0\n",
      "-------------------------\n",
      "Layer: NW_SiO2\n",
      "Incident Power: 299.18889774748374\n",
      "Reflected Power: 14.974573441798736\n",
      "Transmitted Power: 294.80776124113356\n",
      "Backward_bottom: 15.35590570437695\n",
      "Absorbed in Layer: 4.847401338011423\n",
      "-------------------------\n",
      "Layer: Substrate\n",
      "Incident Power: 282.21646850564156\n",
      "Reflected Power: 2.8074040430816876\n",
      "Transmitted Power: 43.607703623970686\n",
      "Backward_bottom: 15.088333219081736\n",
      "Absorbed in Layer: 250.93394322114113\n",
      "-------------------------\n",
      "Layer: ITO\n",
      "Incident Power: 896.5074907395069\n",
      "Reflected Power: 26.302205492365\n",
      "Transmitted Power: 839.148886205402\n",
      "Backward_bottom: 27.283706773938164\n",
      "Absorbed in Layer: 58.324222935532816\n",
      "-------------------------\n",
      "Layer: Air\n",
      "Incident Power: 930.4485521295919\n",
      "Reflected Power: 60.23858369069318\n",
      "Transmitted Power: 930.4485521295919\n",
      "Backward_bottom: 60.23858369069321\n",
      "Absorbed in Layer: 0.0\n",
      "-------------------------\n",
      "Summed Absorption= 841.6801744967065\n"
     ]
    }
   ],
   "source": [
    "summed_absorbed_power = 0\n",
    "for layer, (forw, back) in fluxes.items():\n",
    "    if '_bottom' in layer:\n",
    "        continue\n",
    "    incident_power = np.absolute(forw)\n",
    "    reflected_power = np.absolute(back)\n",
    "    print('-'*25)\n",
    "    print('Layer: {}'.format(layer))\n",
    "    print('Incident Power: {}'.format(incident_power))\n",
    "    print('Reflected Power: {}'.format(reflected_power))\n",
    "    bottom = layer+'_bottom'\n",
    "    transmitted_power = np.absolute(fluxes[bottom][0])\n",
    "    bottom_reflected_power = np.absolute(fluxes[bottom][1])\n",
    "    print('Transmitted Power: {}'.format(transmitted_power))\n",
    "    print('Backward_bottom: {}'.format(bottom_reflected_power))\n",
    "    #absorbed = incident_power + bottom_reflected_power - transmitted_power - reflected_power\n",
    "    flux_top = np.absolute(forw+back)\n",
    "    flux_bottom = np.absolute(fluxes[bottom][0]+fluxes[bottom][1]) \n",
    "    absorbed = flux_top - flux_bottom\n",
    "    print('Absorbed in Layer: {}'.format(absorbed))\n",
    "    summed_absorbed_power += absorbed\n",
    "#print('Summed Absorption= {}'.format(np.absolute(summed_absorbed_power)))\n",
    "print('-'*25)\n",
    "print('Summed Absorption= {}'.format(summed_absorbed_power))"
   ]
  },
  {
   "cell_type": "code",
   "execution_count": 16,
   "metadata": {
    "collapsed": false
   },
   "outputs": [
    {
     "name": "stdout",
     "output_type": "stream",
     "text": [
      "Diff = 4.945377440890297e-11\n"
     ]
    }
   ],
   "source": [
    "diff = total_absorbed_power - summed_absorbed_power\n",
    "print('Diff = {}'.format(diff))"
   ]
  },
  {
   "cell_type": "code",
   "execution_count": null,
   "metadata": {
    "collapsed": true
   },
   "outputs": [],
   "source": []
  }
 ],
 "metadata": {
  "kernelspec": {
   "display_name": "nanowire",
   "language": "python",
   "name": "nanowire"
  },
  "language_info": {
   "codemirror_mode": {
    "name": "ipython",
    "version": 3
   },
   "file_extension": ".py",
   "mimetype": "text/x-python",
   "name": "python",
   "nbconvert_exporter": "python",
   "pygments_lexer": "ipython3",
   "version": "3.5.2"
  },
  "toc": {
   "colors": {
    "hover_highlight": "#DAA520",
    "running_highlight": "#FF0000",
    "selected_highlight": "#FFD700"
   },
   "moveMenuLeft": true,
   "nav_menu": {
    "height": "4px",
    "width": "255px"
   },
   "navigate_menu": true,
   "number_sections": true,
   "sideBar": true,
   "threshold": 4,
   "toc_cell": false,
   "toc_section_display": "block",
   "toc_window_display": false
  }
 },
 "nbformat": 4,
 "nbformat_minor": 1
}
