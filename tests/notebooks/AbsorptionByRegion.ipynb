{
 "cells": [
  {
   "cell_type": "code",
   "execution_count": 1,
   "metadata": {
    "collapsed": false
   },
   "outputs": [],
   "source": [
    "import os\n",
    "import numpy as np\n",
    "from nanowire.optics.simulate import Simulator, SimulationManager\n",
    "from nanowire.optics.postprocess import Simulation\n",
    "from nanowire.optics.utils.utils import setup_sim\n",
    "from nanowire.optics.utils.config import Config\n",
    "from nanowire.optics.utils.geometry import get_mask\n",
    "import scipy.constants as consts\n",
    "import scipy.integrate as intg\n",
    "import IPython.display as disp\n",
    "import matplotlib.pyplot as plt\n",
    "%load_ext autoreload \n",
    "%autoreload 2\n",
    "%matplotlib notebook"
   ]
  },
  {
   "cell_type": "code",
   "execution_count": null,
   "metadata": {
    "collapsed": false
   },
   "outputs": [],
   "source": [
    "conf = Config('AbsorptionByRegion.yml')\n",
    "sim = Simulator(conf)\n",
    "sim = setup_sim(sim)\n",
    "sim.get_fluxes()\n",
    "sim.get_field()\n",
    "Zo = consts.physical_constants['characteristic impedance of vacuum'][0]"
   ]
  },
  {
   "cell_type": "code",
   "execution_count": null,
   "metadata": {
    "collapsed": false
   },
   "outputs": [],
   "source": [
    "s = Simulation(simulator=sim)"
   ]
  },
  {
   "cell_type": "code",
   "execution_count": null,
   "metadata": {
    "collapsed": false
   },
   "outputs": [],
   "source": [
    "abs_dict = s.absorption_per_layer()\n",
    "print(abs_dict)"
   ]
  },
  {
   "cell_type": "code",
   "execution_count": null,
   "metadata": {
    "collapsed": false
   },
   "outputs": [],
   "source": [
    "total_absorbed = sum(dlist[1].real for layer, dlist in abs_dict.items())\n",
    "print(total_absorbed)"
   ]
  },
  {
   "cell_type": "code",
   "execution_count": null,
   "metadata": {
    "collapsed": false
   },
   "outputs": [],
   "source": [
    "base_unit = s.conf['Simulation']['base_unit']\n",
    "Zo = consts.physical_constants['characteristic impedance of vacuum'][0]\n",
    "freq = s.conf[('Simulation', 'params', 'frequency', 'value')]"
   ]
  },
  {
   "cell_type": "code",
   "execution_count": null,
   "metadata": {
    "collapsed": false
   },
   "outputs": [],
   "source": [
    "abs_ito = abs_dict['ITO'][1]\n",
    "abs_subs = abs_dict['Substrate'][1]\n",
    "print(\"ITO Absorption: {}\".format(abs_ito))\n",
    "print(\"Substrate Absorption: {}\".format(abs_subs))"
   ]
  },
  {
   "cell_type": "code",
   "execution_count": null,
   "metadata": {
    "collapsed": false
   },
   "outputs": [],
   "source": [
    "nw_alshell = s.layers['NW_AlShell']\n",
    "xcoords = np.arange(0, s.period, s.dx)\n",
    "ycoords = np.arange(0, s.period, s.dy)\n",
    "outer_mask = get_mask(nw_alshell.shapes['shell'][0], xcoords, ycoords)\n",
    "cyc_mask = np.ones_like(outer_mask) - outer_mask\n",
    "inner_mask = get_mask(nw_alshell.shapes['core'][0], xcoords, ycoords)\n",
    "shell_mask = outer_mask - inner_mask\n",
    "n_mat, k_mat = nw_alshell.get_nk_matrix(freq)"
   ]
  },
  {
   "cell_type": "code",
   "execution_count": null,
   "metadata": {
    "collapsed": false
   },
   "outputs": [],
   "source": [
    "plt.matshow(inner_mask)"
   ]
  },
  {
   "cell_type": "code",
   "execution_count": null,
   "metadata": {
    "collapsed": false
   },
   "outputs": [],
   "source": [
    "plt.matshow(shell_mask)"
   ]
  },
  {
   "cell_type": "code",
   "execution_count": null,
   "metadata": {
    "collapsed": false
   },
   "outputs": [],
   "source": [
    "plt.matshow(cyc_mask)"
   ]
  },
  {
   "cell_type": "code",
   "execution_count": null,
   "metadata": {
    "collapsed": false
   },
   "outputs": [],
   "source": [
    "Esqnk = s.normEsquared()*n_mat*k_mat"
   ]
  },
  {
   "cell_type": "code",
   "execution_count": null,
   "metadata": {
    "collapsed": false
   },
   "outputs": [],
   "source": [
    "s.data['normEsquarednk'] = Esqnk"
   ]
  },
  {
   "cell_type": "code",
   "execution_count": null,
   "metadata": {
    "collapsed": false
   },
   "outputs": [],
   "source": [
    "core_abs = 2*np.pi*freq*consts.epsilon_0*base_unit*s.integrate_quantity('normEsquarednk', mask=inner_mask, layer='NW_AlShell')\n",
    "shell_abs = 2*np.pi*freq*consts.epsilon_0*base_unit*s.integrate_quantity('normEsquarednk', mask=shell_mask, layer='NW_AlShell')\n",
    "cyc_abs = 2*np.pi*freq*consts.epsilon_0*base_unit*s.integrate_quantity('normEsquarednk', mask=cyc_mask, layer='NW_AlShell')"
   ]
  },
  {
   "cell_type": "code",
   "execution_count": null,
   "metadata": {
    "collapsed": false
   },
   "outputs": [],
   "source": [
    "print(\"Total NW Absorption: {}\".format(abs_dict[\"NW_AlShell\"][1]))\n",
    "print(\"Core Absorption: {}\".format(core_abs))\n",
    "print(\"Shell Absorption: {}\".format(shell_abs))\n",
    "print(\"Cyclotene Absorption: {}\".format(cyc_abs))"
   ]
  },
  {
   "cell_type": "code",
   "execution_count": 3,
   "metadata": {
    "collapsed": false
   },
   "outputs": [],
   "source": [
    "def integrate_regions(sim):\n",
    "    base_unit = sim.conf['Simulation']['base_unit']\n",
    "    Zo = consts.physical_constants['characteristic impedance of vacuum'][0]\n",
    "    freq = sim.conf[('Simulation', 'params', 'frequency', 'value')]\n",
    "    nw_alshell = sim.layers['NW_AlShell']\n",
    "    xcoords = np.arange(0, sim.period, sim.dx)\n",
    "    ycoords = np.arange(0, sim.period, sim.dy)\n",
    "    outer_mask = get_mask(nw_alshell.shapes['shell'][0], xcoords, ycoords)\n",
    "    cyc_mask = np.ones_like(outer_mask) - outer_mask\n",
    "    inner_mask = get_mask(nw_alshell.shapes['core'][0], xcoords, ycoords)\n",
    "    shell_mask = outer_mask - inner_mask\n",
    "    n_mat, k_mat = nw_alshell.get_nk_matrix(freq)\n",
    "    Esqnk = sim.normEsquared()*n_mat*k_mat\n",
    "    sim.data['normEsquarednk'] = Esqnk\n",
    "    core_abs = 2*np.pi*freq*consts.epsilon_0*base_unit*sim.integrate_quantity('normEsquarednk', mask=inner_mask, layer='NW_AlShell')\n",
    "    shell_abs = 2*np.pi*freq*consts.epsilon_0*base_unit*sim.integrate_quantity('normEsquarednk', mask=shell_mask, layer='NW_AlShell')\n",
    "    cyc_abs = 2*np.pi*freq*consts.epsilon_0*base_unit*sim.integrate_quantity('normEsquarednk', mask=cyc_mask, layer='NW_AlShell')\n",
    "    return core_abs, shell_abs, cyc_abs"
   ]
  },
  {
   "cell_type": "markdown",
   "metadata": {},
   "source": [
    "# Frequency Sweep "
   ]
  },
  {
   "cell_type": "code",
   "execution_count": 2,
   "metadata": {
    "collapsed": false
   },
   "outputs": [
    {
     "name": "stderr",
     "output_type": "stream",
     "text": [
      "01/05/2018 11:11:20 AM [nanowire.optics.simulate:INFO] - Constructing simulator objects ...\n",
      "01/05/2018 11:11:20 AM [nanowire.optics.simulate:INFO] - Executing sims in parallel using 6 cores ...\n",
      "01/05/2018 11:11:20 AM [nanowire.optics.simulate:INFO] - Executing sim a25fabc18f\n",
      "01/05/2018 11:11:20 AM [nanowire.optics.simulate:INFO] - Executing sim e7d0cb0ba3\n",
      "01/05/2018 11:11:20 AM [nanowire.optics.simulate:INFO] - Executing sim 31a611de0d\n",
      "01/05/2018 11:11:20 AM [nanowire.optics.simulate:INFO] - Executing sim c16492fe9e\n",
      "01/05/2018 11:11:20 AM [nanowire.optics.simulate:INFO] - Executing sim e8bda3a515\n",
      "01/05/2018 11:11:20 AM [nanowire.optics.simulate:INFO] - Executing sim af7cb156db\n",
      "01/05/2018 11:15:42 AM [nanowire.optics.simulate:INFO] - Simulation 31a611de0d completed in 261.60 seconds!\n",
      "01/05/2018 11:15:42 AM [nanowire.optics.simulate:INFO] - Executing sim 1d53534095\n",
      "01/05/2018 11:15:42 AM [nanowire.optics.simulate:INFO] - 39 out of 40 simulations remaining\n",
      "01/05/2018 11:15:44 AM [nanowire.optics.simulate:INFO] - Simulation c16492fe9e completed in 263.97 seconds!\n",
      "01/05/2018 11:15:44 AM [nanowire.optics.simulate:INFO] - 38 out of 40 simulations remaining\n",
      "01/05/2018 11:15:44 AM [nanowire.optics.simulate:INFO] - Executing sim dd786b4878\n",
      "01/05/2018 11:15:44 AM [nanowire.optics.simulate:INFO] - Simulation af7cb156db completed in 264.19 seconds!\n",
      "01/05/2018 11:15:45 AM [nanowire.optics.simulate:INFO] - 37 out of 40 simulations remaining\n",
      "01/05/2018 11:15:45 AM [nanowire.optics.simulate:INFO] - Executing sim 3b61d3c236\n",
      "01/05/2018 11:15:46 AM [nanowire.optics.simulate:INFO] - Simulation e8bda3a515 completed in 265.30 seconds!\n",
      "01/05/2018 11:15:46 AM [nanowire.optics.simulate:INFO] - 36 out of 40 simulations remaining\n",
      "01/05/2018 11:15:46 AM [nanowire.optics.simulate:INFO] - Executing sim db8b0d63cf\n",
      "01/05/2018 11:15:46 AM [nanowire.optics.simulate:INFO] - Simulation a25fabc18f completed in 265.95 seconds!\n",
      "01/05/2018 11:15:46 AM [nanowire.optics.simulate:INFO] - 35 out of 40 simulations remaining\n",
      "01/05/2018 11:15:46 AM [nanowire.optics.simulate:INFO] - Executing sim 42515e343f\n",
      "01/05/2018 11:15:48 AM [nanowire.optics.simulate:INFO] - Simulation e7d0cb0ba3 completed in 267.57 seconds!\n",
      "01/05/2018 11:15:48 AM [nanowire.optics.simulate:INFO] - 34 out of 40 simulations remaining\n",
      "01/05/2018 11:15:48 AM [nanowire.optics.simulate:INFO] - Executing sim df4a210028\n",
      "01/05/2018 11:20:14 AM [nanowire.optics.simulate:INFO] - Simulation 1d53534095 completed in 271.91 seconds!\n",
      "01/05/2018 11:20:14 AM [nanowire.optics.simulate:INFO] - Executing sim 30886b0872\n",
      "01/05/2018 11:20:14 AM [nanowire.optics.simulate:INFO] - 33 out of 40 simulations remaining\n",
      "01/05/2018 11:20:14 AM [nanowire.optics.simulate:INFO] - Simulation 3b61d3c236 completed in 269.70 seconds!\n",
      "01/05/2018 11:20:15 AM [nanowire.optics.simulate:INFO] - 32 out of 40 simulations remaining\n",
      "01/05/2018 11:20:15 AM [nanowire.optics.simulate:INFO] - Executing sim de97ba1f90\n",
      "01/05/2018 11:20:15 AM [nanowire.optics.simulate:INFO] - Simulation dd786b4878 completed in 270.17 seconds!\n",
      "01/05/2018 11:20:15 AM [nanowire.optics.simulate:INFO] - 31 out of 40 simulations remaining\n",
      "01/05/2018 11:20:15 AM [nanowire.optics.simulate:INFO] - Executing sim 07a0cbbb59\n",
      "01/05/2018 11:20:18 AM [nanowire.optics.simulate:INFO] - Simulation 42515e343f completed in 271.65 seconds!\n",
      "01/05/2018 11:20:18 AM [nanowire.optics.simulate:INFO] - 30 out of 40 simulations remaining\n",
      "01/05/2018 11:20:18 AM [nanowire.optics.simulate:INFO] - Executing sim 11ad5761a3\n",
      "01/05/2018 11:20:18 AM [nanowire.optics.simulate:INFO] - Simulation db8b0d63cf completed in 272.48 seconds!\n",
      "01/05/2018 11:20:19 AM [nanowire.optics.simulate:INFO] - 29 out of 40 simulations remaining\n",
      "01/05/2018 11:20:19 AM [nanowire.optics.simulate:INFO] - Executing sim 1e4ea3e44a\n",
      "01/05/2018 11:20:19 AM [nanowire.optics.simulate:INFO] - Simulation df4a210028 completed in 271.26 seconds!\n",
      "01/05/2018 11:20:20 AM [nanowire.optics.simulate:INFO] - 28 out of 40 simulations remaining\n",
      "01/05/2018 11:20:20 AM [nanowire.optics.simulate:INFO] - Executing sim a058101396\n",
      "01/05/2018 11:24:43 AM [nanowire.optics.simulate:INFO] - Simulation 30886b0872 completed in 268.22 seconds!\n",
      "01/05/2018 11:24:43 AM [nanowire.optics.simulate:INFO] - Executing sim 1d40d362bc\n",
      "01/05/2018 11:24:43 AM [nanowire.optics.simulate:INFO] - 27 out of 40 simulations remaining\n",
      "01/05/2018 11:24:45 AM [nanowire.optics.simulate:INFO] - Simulation de97ba1f90 completed in 270.31 seconds!\n",
      "01/05/2018 11:24:45 AM [nanowire.optics.simulate:INFO] - 26 out of 40 simulations remaining\n",
      "01/05/2018 11:24:45 AM [nanowire.optics.simulate:INFO] - Executing sim 736d0b27ea\n",
      "01/05/2018 11:24:51 AM [nanowire.optics.simulate:INFO] - Simulation 07a0cbbb59 completed in 276.02 seconds!\n",
      "01/05/2018 11:24:51 AM [nanowire.optics.simulate:INFO] - 25 out of 40 simulations remaining\n",
      "01/05/2018 11:24:51 AM [nanowire.optics.simulate:INFO] - Executing sim d1df42badf\n",
      "01/05/2018 11:24:53 AM [nanowire.optics.simulate:INFO] - Simulation a058101396 completed in 273.74 seconds!\n",
      "01/05/2018 11:24:54 AM [nanowire.optics.simulate:INFO] - Simulation 1e4ea3e44a completed in 274.96 seconds!\n",
      "01/05/2018 11:24:54 AM [nanowire.optics.simulate:INFO] - 24 out of 40 simulations remaining\n",
      "01/05/2018 11:24:54 AM [nanowire.optics.simulate:INFO] - Executing sim 0ea2e7aa1a\n",
      "01/05/2018 11:24:54 AM [nanowire.optics.simulate:INFO] - Simulation 11ad5761a3 completed in 275.41 seconds!\n",
      "01/05/2018 11:24:54 AM [nanowire.optics.simulate:INFO] - 23 out of 40 simulations remaining\n",
      "01/05/2018 11:24:54 AM [nanowire.optics.simulate:INFO] - Executing sim bd7e3e6584\n",
      "01/05/2018 11:24:54 AM [nanowire.optics.simulate:INFO] - 22 out of 40 simulations remaining\n",
      "01/05/2018 11:24:54 AM [nanowire.optics.simulate:INFO] - Executing sim 6c216402b4\n",
      "01/05/2018 11:29:13 AM [nanowire.optics.simulate:INFO] - Simulation 736d0b27ea completed in 268.22 seconds!\n",
      "01/05/2018 11:29:14 AM [nanowire.optics.simulate:INFO] - Executing sim 94dd584710\n",
      "01/05/2018 11:29:14 AM [nanowire.optics.simulate:INFO] - 21 out of 40 simulations remaining\n",
      "01/05/2018 11:29:14 AM [nanowire.optics.simulate:INFO] - Simulation 1d40d362bc completed in 270.85 seconds!\n",
      "01/05/2018 11:29:14 AM [nanowire.optics.simulate:INFO] - 20 out of 40 simulations remaining\n",
      "01/05/2018 11:29:14 AM [nanowire.optics.simulate:INFO] - Executing sim 10264f8eb7\n",
      "01/05/2018 11:29:22 AM [nanowire.optics.simulate:INFO] - Simulation d1df42badf completed in 271.41 seconds!\n",
      "01/05/2018 11:29:23 AM [nanowire.optics.simulate:INFO] - 19 out of 40 simulations remaining\n",
      "01/05/2018 11:29:23 AM [nanowire.optics.simulate:INFO] - Executing sim cb2f1fddbc\n",
      "01/05/2018 11:29:23 AM [nanowire.optics.simulate:INFO] - Simulation 0ea2e7aa1a completed in 269.14 seconds!\n",
      "01/05/2018 11:29:23 AM [nanowire.optics.simulate:INFO] - 18 out of 40 simulations remaining\n",
      "01/05/2018 11:29:23 AM [nanowire.optics.simulate:INFO] - Executing sim 8e80265b77\n",
      "01/05/2018 11:29:24 AM [nanowire.optics.simulate:INFO] - Simulation bd7e3e6584 completed in 270.51 seconds!\n",
      "01/05/2018 11:29:24 AM [nanowire.optics.simulate:INFO] - 17 out of 40 simulations remaining\n",
      "01/05/2018 11:29:24 AM [nanowire.optics.simulate:INFO] - Executing sim b7a4420159\n",
      "01/05/2018 11:29:26 AM [nanowire.optics.simulate:INFO] - Simulation 6c216402b4 completed in 271.90 seconds!\n",
      "01/05/2018 11:29:26 AM [nanowire.optics.simulate:INFO] - 16 out of 40 simulations remaining\n",
      "01/05/2018 11:29:26 AM [nanowire.optics.simulate:INFO] - Executing sim c2b7c2126f\n",
      "01/05/2018 11:34:01 AM [nanowire.optics.simulate:INFO] - Simulation 10264f8eb7 completed in 287.41 seconds!\n",
      "01/05/2018 11:34:02 AM [nanowire.optics.simulate:INFO] - 15 out of 40 simulations remaining\n",
      "01/05/2018 11:34:02 AM [nanowire.optics.simulate:INFO] - Executing sim a1d5ece07c\n",
      "01/05/2018 11:34:03 AM [nanowire.optics.simulate:INFO] - Simulation 94dd584710 completed in 289.27 seconds!\n",
      "01/05/2018 11:34:03 AM [nanowire.optics.simulate:INFO] - 14 out of 40 simulations remaining\n",
      "01/05/2018 11:34:03 AM [nanowire.optics.simulate:INFO] - Executing sim e1a5893483\n",
      "01/05/2018 11:34:05 AM [nanowire.optics.simulate:INFO] - Simulation cb2f1fddbc completed in 282.42 seconds!\n",
      "01/05/2018 11:34:05 AM [nanowire.optics.simulate:INFO] - 13 out of 40 simulations remaining\n",
      "01/05/2018 11:34:05 AM [nanowire.optics.simulate:INFO] - Executing sim e86723be8a\n",
      "01/05/2018 11:34:05 AM [nanowire.optics.simulate:INFO] - Simulation 8e80265b77 completed in 282.44 seconds!\n",
      "01/05/2018 11:34:06 AM [nanowire.optics.simulate:INFO] - Simulation b7a4420159 completed in 281.19 seconds!\n",
      "01/05/2018 11:34:06 AM [nanowire.optics.simulate:INFO] - 12 out of 40 simulations remaining\n",
      "01/05/2018 11:34:06 AM [nanowire.optics.simulate:INFO] - Executing sim 94895d3981\n",
      "01/05/2018 11:34:06 AM [nanowire.optics.simulate:INFO] - 11 out of 40 simulations remaining\n",
      "01/05/2018 11:34:06 AM [nanowire.optics.simulate:INFO] - Executing sim d67b287480\n",
      "01/05/2018 11:34:08 AM [nanowire.optics.simulate:INFO] - Simulation c2b7c2126f completed in 282.05 seconds!\n",
      "01/05/2018 11:34:08 AM [nanowire.optics.simulate:INFO] - 10 out of 40 simulations remaining\n",
      "01/05/2018 11:34:08 AM [nanowire.optics.simulate:INFO] - Executing sim 072cdeca9e\n",
      "01/05/2018 11:38:38 AM [nanowire.optics.simulate:INFO] - Simulation e1a5893483 completed in 275.24 seconds!\n",
      "01/05/2018 11:38:39 AM [nanowire.optics.simulate:INFO] - Executing sim c2db6237f1\n",
      "01/05/2018 11:38:39 AM [nanowire.optics.simulate:INFO] - 9 out of 40 simulations remaining\n",
      "01/05/2018 11:38:47 AM [nanowire.optics.simulate:INFO] - Simulation 94895d3981 completed in 281.19 seconds!\n",
      "01/05/2018 11:38:47 AM [nanowire.optics.simulate:INFO] - Simulation e86723be8a completed in 281.57 seconds!\n",
      "01/05/2018 11:38:47 AM [nanowire.optics.simulate:INFO] - Simulation 072cdeca9e completed in 278.64 seconds!\n",
      "01/05/2018 11:38:47 AM [nanowire.optics.simulate:INFO] - 8 out of 40 simulations remaining\n",
      "01/05/2018 11:38:47 AM [nanowire.optics.simulate:INFO] - Executing sim 65990e61ab\n",
      "01/05/2018 11:38:47 AM [nanowire.optics.simulate:INFO] - 7 out of 40 simulations remaining\n",
      "01/05/2018 11:38:47 AM [nanowire.optics.simulate:INFO] - Executing sim 77a1cc76ed\n",
      "01/05/2018 11:38:47 AM [nanowire.optics.simulate:INFO] - 6 out of 40 simulations remaining\n",
      "01/05/2018 11:38:47 AM [nanowire.optics.simulate:INFO] - Executing sim 3de9813d7c\n",
      "01/05/2018 11:38:47 AM [nanowire.optics.simulate:INFO] - Simulation d67b287480 completed in 281.56 seconds!\n",
      "01/05/2018 11:38:48 AM [nanowire.optics.simulate:INFO] - 5 out of 40 simulations remaining\n",
      "01/05/2018 11:38:48 AM [nanowire.optics.simulate:INFO] - Simulation a1d5ece07c completed in 286.51 seconds!\n",
      "01/05/2018 11:38:48 AM [nanowire.optics.simulate:INFO] - 4 out of 40 simulations remaining\n",
      "01/05/2018 11:41:54 AM [nanowire.optics.simulate:INFO] - Simulation c2db6237f1 completed in 194.93 seconds!\n",
      "01/05/2018 11:41:54 AM [nanowire.optics.simulate:INFO] - 3 out of 40 simulations remaining\n",
      "01/05/2018 11:42:00 AM [nanowire.optics.simulate:INFO] - Simulation 77a1cc76ed completed in 192.80 seconds!\n",
      "01/05/2018 11:42:00 AM [nanowire.optics.simulate:INFO] - 2 out of 40 simulations remaining\n",
      "01/05/2018 11:42:03 AM [nanowire.optics.simulate:INFO] - Simulation 65990e61ab completed in 195.68 seconds!\n",
      "01/05/2018 11:42:03 AM [nanowire.optics.simulate:INFO] - 1 out of 40 simulations remaining\n",
      "01/05/2018 11:42:04 AM [nanowire.optics.simulate:INFO] - Simulation 3de9813d7c completed in 196.23 seconds!\n",
      "01/05/2018 11:42:04 AM [nanowire.optics.simulate:INFO] - 0 out of 40 simulations remaining\n",
      "01/05/2018 11:42:04 AM [nanowire.optics.simulate:INFO] - Finished executing jobs!\n"
     ]
    }
   ],
   "source": [
    "manager = SimulationManager('AbsorptionByRegionFreqSweep.yml')\n",
    "manager.make_confs()\n",
    "manager.execute_jobs()"
   ]
  },
  {
   "cell_type": "code",
   "execution_count": 4,
   "metadata": {
    "collapsed": false
   },
   "outputs": [
    {
     "ename": "AttributeError",
     "evalue": "'Config' object has no attribute 'id'",
     "output_type": "error",
     "traceback": [
      "\u001b[0;31m---------------------------------------------------------------------------\u001b[0m",
      "\u001b[0;31mAttributeError\u001b[0m                            Traceback (most recent call last)",
      "\u001b[0;32m<ipython-input-4-507909acb462>\u001b[0m in \u001b[0;36m<module>\u001b[0;34m()\u001b[0m\n\u001b[1;32m      1\u001b[0m \u001b[0;32mfor\u001b[0m \u001b[0mconf\u001b[0m \u001b[0;32min\u001b[0m \u001b[0mmanager\u001b[0m\u001b[0;34m.\u001b[0m\u001b[0msim_confs\u001b[0m\u001b[0;34m:\u001b[0m\u001b[0;34m\u001b[0m\u001b[0m\n\u001b[0;32m----> 2\u001b[0;31m     \u001b[0mprint\u001b[0m\u001b[0;34m(\u001b[0m\u001b[0mconf\u001b[0m\u001b[0;34m.\u001b[0m\u001b[0mid\u001b[0m\u001b[0;34m)\u001b[0m\u001b[0;34m\u001b[0m\u001b[0m\n\u001b[0m",
      "\u001b[0;31mAttributeError\u001b[0m: 'Config' object has no attribute 'id'"
     ]
    }
   ],
   "source": [
    "for conf in manager.:\n",
    "    print(conf.id)"
   ]
  },
  {
   "cell_type": "code",
   "execution_count": 6,
   "metadata": {
    "collapsed": false
   },
   "outputs": [
    {
     "name": "stdout",
     "output_type": "stream",
     "text": [
      "[ 0.     0.062  0.125  0.188  0.25 ]\n",
      "[ 0.     0.062  0.125  0.188]\n"
     ]
    }
   ],
   "source": [
    "lin = np.linspace(0, .25, 5)\n",
    "dx = lin[1] - lin[0]\n",
    "aran = np.arange(0, .25, dx)\n",
    "print(lin)\n",
    "print(aran)"
   ]
  },
  {
   "cell_type": "code",
   "execution_count": 8,
   "metadata": {
    "collapsed": false
   },
   "outputs": [
    {
     "name": "stdout",
     "output_type": "stream",
     "text": [
      "[ 0.    0.05  0.1   0.15  0.2 ]\n",
      "[ 0.    0.05  0.1   0.15  0.2 ]\n"
     ]
    }
   ],
   "source": [
    "period = .25\n",
    "num_samples = 5\n",
    "dx = period / num_samples\n",
    "aran = np.arange(0, .25, dx)\n",
    "lin = np.linspace(0, period, num_samples)\n",
    "lin = np.linspace(0, period, num_samples, endpoint=False)\n",
    "print(aran)\n",
    "print(lin)"
   ]
  },
  {
   "cell_type": "code",
   "execution_count": null,
   "metadata": {
    "collapsed": true
   },
   "outputs": [],
   "source": []
  }
 ],
 "metadata": {
  "kernelspec": {
   "display_name": "nanowire",
   "language": "python",
   "name": "nanowire"
  },
  "language_info": {
   "codemirror_mode": {
    "name": "ipython",
    "version": 3
   },
   "file_extension": ".py",
   "mimetype": "text/x-python",
   "name": "python",
   "nbconvert_exporter": "python",
   "pygments_lexer": "ipython3",
   "version": "3.5.2"
  },
  "toc": {
   "colors": {
    "hover_highlight": "#DAA520",
    "running_highlight": "#FF0000",
    "selected_highlight": "#FFD700"
   },
   "moveMenuLeft": true,
   "nav_menu": {
    "height": "26px",
    "width": "254px"
   },
   "navigate_menu": true,
   "number_sections": true,
   "sideBar": true,
   "threshold": 4,
   "toc_cell": false,
   "toc_section_display": "block",
   "toc_window_display": false
  }
 },
 "nbformat": 4,
 "nbformat_minor": 1
}
