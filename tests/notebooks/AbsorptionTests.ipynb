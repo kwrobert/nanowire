{
 "cells": [
  {
   "cell_type": "code",
   "execution_count": 2,
   "metadata": {},
   "outputs": [],
   "source": [
    "import numpy as np\n",
    "from nanowire.optics.simulate import Simulator\n",
    "from nanowire.optics.utils.utils import setup_sim\n",
    "from nanowire.optics.utils.config import Config\n",
    "import scipy.constants as consts"
   ]
  },
  {
   "cell_type": "markdown",
   "metadata": {},
   "source": [
    "# Introduction"
   ]
  },
  {
   "cell_type": "markdown",
   "metadata": {},
   "source": [
    "This is just a quick set of tests to figure out how to compute the absorption of an individual layer from the power fluxes at the top and bottom of each layer"
   ]
  },
  {
   "cell_type": "code",
   "execution_count": 3,
   "metadata": {},
   "outputs": [
    {
     "name": "stderr",
     "output_type": "stream",
     "text": [
      "DEBUG:nanowire.optics.simulate:Logger initialized\n",
      "DEBUG:nanowire.optics.simulate:Building layer: Air\n",
      "DEBUG:nanowire.optics.simulate:Layer Order 1\n",
      "DEBUG:nanowire.optics.simulate:Building layer: ITO\n",
      "DEBUG:nanowire.optics.simulate:Layer Order 2\n",
      "DEBUG:nanowire.optics.simulate:Building layer: NW_AlShell\n",
      "DEBUG:nanowire.optics.simulate:Layer Order 3\n",
      "DEBUG:nanowire.optics.simulate:Building geometry in layer: NW_AlShell\n",
      "DEBUG:nanowire.optics.simulate:Building object shell of type circle at order 1\n",
      "DEBUG:nanowire.optics.simulate:Building object core of type circle at order 2\n",
      "DEBUG:nanowire.optics.simulate:Building layer: NW_SiO2\n",
      "DEBUG:nanowire.optics.simulate:Layer Order 4\n",
      "DEBUG:nanowire.optics.simulate:Building geometry in layer: NW_SiO2\n",
      "DEBUG:nanowire.optics.simulate:Building object shell of type circle at order 1\n",
      "DEBUG:nanowire.optics.simulate:Building object core of type circle at order 2\n",
      "DEBUG:nanowire.optics.simulate:Building layer: Substrate\n",
      "DEBUG:nanowire.optics.simulate:Layer Order 5\n",
      "DEBUG:nanowire.optics.simulate:Physical Frequency = 4.000000E+14\n",
      "WARNING:nanowire.optics.simulate:Your bins are smaller than NRELs! Using NREL bin size\n",
      "DEBUG:nanowire.optics.simulate:[399723277333333.31, 400256953271028.0]\n",
      "DEBUG:nanowire.optics.simulate:[2.3155394055977224e-12, 2.3123628270194848e-12]\n",
      "INFO:nanowire.optics.simulate:Incident Intensity: 1.23490003178\n",
      "DEBUG:nanowire.optics.simulate:Incident Power: 0.077181251986\n",
      "DEBUG:nanowire.optics.simulate:Incident Amplitude: 21.5690583027\n"
     ]
    },
    {
     "name": "stdout",
     "output_type": "stream",
     "text": [
      "0\n"
     ]
    }
   ],
   "source": [
    "conf = Config('AbsorptionTest.yml')\n",
    "sim = Simulator(conf)\n",
    "sim = setup_sim(sim)\n",
    "Zo = consts.physical_constants['characteristic impedance of vacuum'][0]"
   ]
  },
  {
   "cell_type": "code",
   "execution_count": 5,
   "metadata": {},
   "outputs": [
    {
     "name": "stderr",
     "output_type": "stream",
     "text": [
      "DEBUG:nanowire.optics.simulate:Computing fluxes ...\n",
      "DEBUG:nanowire.optics.simulate:Computing fluxes through layer: Substrate\n",
      "DEBUG:nanowire.optics.simulate:Computing fluxes through layer: NW_AlShell\n",
      "DEBUG:nanowire.optics.simulate:Computing fluxes through layer: Air\n",
      "DEBUG:nanowire.optics.simulate:Computing fluxes through layer: ITO\n",
      "DEBUG:nanowire.optics.simulate:Computing fluxes through layer: NW_SiO2\n",
      "DEBUG:nanowire.optics.simulate:Finished computing fluxes!\n"
     ]
    }
   ],
   "source": [
    "fluxes = sim.get_fluxes()"
   ]
  },
  {
   "cell_type": "code",
   "execution_count": 6,
   "metadata": {},
   "outputs": [
    {
     "name": "stdout",
     "output_type": "stream",
     "text": [
      "{'Substrate': ((0.5778386241618029+0j), 0j), 'NW_SiO2': ((0.6415681690545958-0.002683480964878013j), (-0.054474731321943956+0.002683480964878013j)), 'NW_AlShell': ((1.7313777694256565-0.0021892601347096793j), (-0.010730033470238865+0.0021892601347096793j)), 'NW_SiO2_bottom': ((0.632688624556471-0.0003835546834251788j), (-0.05485000039465573+0.0003835546834251788j)), 'Air': ((2+0j), (-0.15557938319276354+0j)), 'ITO': ((1.911743947569879+0.0008713251712626491j), (-0.06732333076256294-0.0008713251712626491j)), 'NW_AlShell_bottom': ((0.6199840123151336-0.0035553800448866954j), (-0.03289057458248516+0.0035553800448866954j)), 'ITO_bottom': ((1.7901404153159508-0.0023688997496048164j), (-0.06949267936052105+0.0023688997496048164j)), 'Substrate_bottom': ((0.08933583976596272+0j), 0j), 'Air_bottom': ((2+0j), (-0.15557938319276352+0j))}\n"
     ]
    }
   ],
   "source": [
    "print(fluxes)"
   ]
  },
  {
   "cell_type": "code",
   "execution_count": 7,
   "metadata": {},
   "outputs": [
    {
     "name": "stdout",
     "output_type": "stream",
     "text": [
      "(1.7206477359554297+0j)\n",
      "(1.7206477359554175+0j)\n",
      "((1.7901404153159508-0.0023688997496048164j), (-0.06949267936052105+0.0023688997496048164j))\n",
      "((1.7313777694256565-0.0021892601347096793j), (-0.010730033470238865+0.0021892601347096793j))\n"
     ]
    }
   ],
   "source": [
    "out_ito = fluxes['ITO_bottom'][0] + fluxes['ITO_bottom'][1]\n",
    "in_nw = fluxes['NW_AlShell'][0] + fluxes['NW_AlShell'][1]\n",
    "print(out_ito)\n",
    "print(in_nw)\n",
    "print(fluxes['ITO_bottom'])\n",
    "print(fluxes['NW_AlShell'])"
   ]
  },
  {
   "cell_type": "code",
   "execution_count": 8,
   "metadata": {},
   "outputs": [
    {
     "name": "stdout",
     "output_type": "stream",
     "text": [
      "1.91174414613\n",
      "0.0673289690439\n",
      "1.73137915354\n",
      "0.113036023548\n"
     ]
    }
   ],
   "source": [
    "ito_inc = np.absolute(fluxes['ITO'][0])\n",
    "ito_ref = np.absolute(fluxes['Air_bottom'][1])\n",
    "ito_ref = np.absolute(fluxes['ITO'][1])\n",
    "ito_trans = np.absolute(fluxes['NW_AlShell'][0])\n",
    "print(ito_inc)\n",
    "print(ito_ref)\n",
    "print(ito_trans)\n",
    "absorbed = ito_inc - ito_ref - ito_trans\n",
    "print(absorbed)"
   ]
  },
  {
   "cell_type": "code",
   "execution_count": 9,
   "metadata": {},
   "outputs": [
    {
     "name": "stdout",
     "output_type": "stream",
     "text": [
      "Total Incident Power = 2.0\n",
      "Total Reflected Power = 0.15557938319276354\n",
      "Total Transmitted Power = 0.08933583976596272\n",
      "Total Absorbed Power = 1.7550847770412736\n"
     ]
    }
   ],
   "source": [
    "total_incident_power = np.absolute(fluxes['Air'][0])\n",
    "total_reflected_power = np.absolute(fluxes['Air'][1])\n",
    "total_transmitted_power = np.absolute(sum(fluxes['Substrate_bottom']))\n",
    "total_absorbed_power = total_incident_power - total_reflected_power - total_transmitted_power\n",
    "print('Total Incident Power = {}'.format(total_incident_power))\n",
    "print('Total Reflected Power = {}'.format(total_reflected_power))\n",
    "print('Total Transmitted Power = {}'.format(total_transmitted_power))\n",
    "print('Total Absorbed Power = {}'.format(total_absorbed_power))"
   ]
  },
  {
   "cell_type": "code",
   "execution_count": 11,
   "metadata": {},
   "outputs": [
    {
     "name": "stdout",
     "output_type": "stream",
     "text": [
      "-------------------------\n",
      "Layer: Substrate\n",
      "Forward Top: (0.5778386241618029+0j)\n",
      "Backward Top: 0j\n",
      "Forward Bottom: (0.08933583976596272+0j)\n",
      "Backward Bottom: 0j\n",
      "-------------------------\n",
      "Layer: NW_SiO2\n",
      "Forward Top: (0.6415681690545958-0.002683480964878013j)\n",
      "Backward Top: (-0.054474731321943956+0.002683480964878013j)\n",
      "Forward Bottom: (0.632688624556471-0.0003835546834251788j)\n",
      "Backward Bottom: (-0.05485000039465573+0.0003835546834251788j)\n",
      "-------------------------\n",
      "Layer: NW_AlShell\n",
      "Forward Top: (1.7313777694256565-0.0021892601347096793j)\n",
      "Backward Top: (-0.010730033470238865+0.0021892601347096793j)\n",
      "Forward Bottom: (0.6199840123151336-0.0035553800448866954j)\n",
      "Backward Bottom: (-0.03289057458248516+0.0035553800448866954j)\n",
      "-------------------------\n",
      "Layer: Air\n",
      "Forward Top: (2+0j)\n",
      "Backward Top: (-0.15557938319276354+0j)\n",
      "Forward Bottom: (2+0j)\n",
      "Backward Bottom: (-0.15557938319276352+0j)\n",
      "-------------------------\n",
      "Layer: ITO\n",
      "Forward Top: (1.911743947569879+0.0008713251712626491j)\n",
      "Backward Top: (-0.06732333076256294-0.0008713251712626491j)\n",
      "Forward Bottom: (1.7901404153159508-0.0023688997496048164j)\n",
      "Backward Bottom: (-0.06949267936052105+0.0023688997496048164j)\n",
      "-------------------------\n",
      "Summed Absorption= (1.7550847770413323+0j)\n",
      "GaAs Absorption = (4.0521591883842706e-05+0j)\n"
     ]
    }
   ],
   "source": [
    "summed_absorbed_power = 0\n",
    "abs_dict_fluxmethod = {}\n",
    "for layer, (forw_top, back_top) in fluxes.items():\n",
    "    if '_bottom' in layer:\n",
    "        continue\n",
    "    bottom = layer+'_bottom'\n",
    "    forw_bot, back_bot = fluxes[bottom] \n",
    "    print('-'*25)\n",
    "    print('Layer: {}'.format(layer))\n",
    "    print('Forward Top: {}'.format(forw_top))\n",
    "    print('Backward Top: {}'.format(back_top))\n",
    "    print('Forward Bottom: {}'.format(forw_bot))\n",
    "    print('Backward Bottom: {}'.format(back_bot))\n",
    "    P_in = forw_top + -1*back_bot\n",
    "    P_out = forw_bot + -1*back_top\n",
    "    #print('Power Entering Layer: {}'.format(P_in))\n",
    "    #print('Power Leaving Layer: {}'.format(P_out))\n",
    "    P_abs = P_in - P_out\n",
    "    abs_dict_fluxmethod[layer] = .5*P_abs*(sim.period**2)/Zo\n",
    "    #print('Absorbed in Layer: {}'.format(P_abs))\n",
    "    summed_absorbed_power += P_abs\n",
    "#print('Summed Absorption= {}'.format(np.absolute(summed_absorbed_power)))\n",
    "print('-'*25)\n",
    "print('Summed Absorption= {}'.format(summed_absorbed_power))\n",
    "print('GaAs Absorption = {}'.format(abs_dict_fluxmethod['Substrate']))"
   ]
  },
  {
   "cell_type": "markdown",
   "metadata": {},
   "source": [
    "So if the loop above computed things properly, then summed absorbed power should be equal to the total absorbed power"
   ]
  },
  {
   "cell_type": "code",
   "execution_count": 12,
   "metadata": {},
   "outputs": [
    {
     "name": "stdout",
     "output_type": "stream",
     "text": [
      "Diff = (-5.861977570020827e-14+0j)\n"
     ]
    }
   ],
   "source": [
    "diff = total_absorbed_power - summed_absorbed_power\n",
    "print('Diff = {}'.format(diff))"
   ]
  },
  {
   "cell_type": "markdown",
   "metadata": {},
   "source": [
    "So they appear to be pretty close. This device didn't have an air layer below everything. I try adding an air layer below to\n",
    "see if that improves the agreement between these two methods"
   ]
  },
  {
   "cell_type": "code",
   "execution_count": 11,
   "metadata": {},
   "outputs": [
    {
     "name": "stderr",
     "output_type": "stream",
     "text": [
      "DEBUG:nanowire.optics.simulate:Logger initialized\n",
      "DEBUG:nanowire.optics.simulate:Building layer: Air\n",
      "DEBUG:nanowire.optics.simulate:Layer Order 1\n",
      "DEBUG:nanowire.optics.simulate:Building layer: ITO\n",
      "DEBUG:nanowire.optics.simulate:Layer Order 2\n",
      "DEBUG:nanowire.optics.simulate:Building layer: NW_AlShell\n",
      "DEBUG:nanowire.optics.simulate:Layer Order 3\n",
      "DEBUG:nanowire.optics.simulate:Building geometry in layer: NW_AlShell\n",
      "DEBUG:nanowire.optics.simulate:Building object shell of type circle at order 1\n",
      "DEBUG:nanowire.optics.simulate:Building object core of type circle at order 2\n",
      "DEBUG:nanowire.optics.simulate:Building layer: NW_SiO2\n",
      "DEBUG:nanowire.optics.simulate:Layer Order 4\n",
      "DEBUG:nanowire.optics.simulate:Building geometry in layer: NW_SiO2\n",
      "DEBUG:nanowire.optics.simulate:Building object shell of type circle at order 1\n",
      "DEBUG:nanowire.optics.simulate:Building object core of type circle at order 2\n",
      "DEBUG:nanowire.optics.simulate:Building layer: Substrate\n",
      "DEBUG:nanowire.optics.simulate:Layer Order 5\n",
      "DEBUG:nanowire.optics.simulate:Building layer: Bottom_Air\n",
      "DEBUG:nanowire.optics.simulate:Layer Order 6\n",
      "DEBUG:nanowire.optics.simulate:Physical Frequency = 4.000000E+14\n",
      "WARNING:nanowire.optics.simulate:Your bins are smaller than NRELs! Using NREL bin size\n",
      "DEBUG:nanowire.optics.simulate:[399723277333333.31, 400256953271028.0]\n",
      "DEBUG:nanowire.optics.simulate:[2.3155394055977224e-12, 2.3123628270194848e-12]\n",
      "INFO:nanowire.optics.simulate:Incident Intensity: 1.23490003178\n",
      "DEBUG:nanowire.optics.simulate:Incident Power: 0.077181251986\n",
      "DEBUG:nanowire.optics.simulate:Incident Amplitude: 21.5690583027\n"
     ]
    }
   ],
   "source": [
    "below_conf = Config('AbsorptionTest_airbelow.yml')\n",
    "below_sim = Simulator(below_conf)\n",
    "below_sim = setup_sim(below_sim)"
   ]
  },
  {
   "cell_type": "code",
   "execution_count": 12,
   "metadata": {},
   "outputs": [
    {
     "name": "stderr",
     "output_type": "stream",
     "text": [
      "DEBUG:nanowire.optics.simulate:Computing fluxes ...\n",
      "DEBUG:nanowire.optics.simulate:Computing fluxes through layer: Substrate\n",
      "DEBUG:nanowire.optics.simulate:Computing fluxes through layer: NW_SiO2\n",
      "DEBUG:nanowire.optics.simulate:Computing fluxes through layer: ITO\n",
      "DEBUG:nanowire.optics.simulate:Computing fluxes through layer: Air\n",
      "DEBUG:nanowire.optics.simulate:Computing fluxes through layer: NW_AlShell\n",
      "DEBUG:nanowire.optics.simulate:Computing fluxes through layer: Bottom_Air\n",
      "DEBUG:nanowire.optics.simulate:Finished computing fluxes!\n"
     ]
    }
   ],
   "source": [
    "fluxes = below_sim.get_fluxes()"
   ]
  },
  {
   "cell_type": "code",
   "execution_count": 13,
   "metadata": {},
   "outputs": [
    {
     "name": "stdout",
     "output_type": "stream",
     "text": [
      "{'Substrate_bottom': ((43.60219291195291+0.6932449963104814j), (-15.07239896981021-0.6932449963104814j)), 'Bottom_Air_bottom': ((28.52979394214275+0j), 0j), 'NW_AlShell': ((814.5027719852595-0.797432675361371j), (-2.617026481935543+0.797432675361371j)), 'Bottom_Air': ((28.52979394214275+0j), 0j), 'NW_SiO2': ((299.1838150595673-1.7439443101523118j), (-14.872676558269914+1.7439443101523118j)), 'Substrate': ((282.21592462896365+0.5540592160286817j), (-2.7521874656798158-0.5540592160286817j)), 'NW_SiO2_bottom': ((294.8071086249769-0.620316201855837j), (-15.34337146169093+0.620316201855837j)), 'ITO': ((896.507349202051+0.5037645865747891j), (-26.29738076318455-0.5037645865747891j)), 'Air': ((930.4485521295919+0j), (-60.23858369069318+0j)), 'ITO_bottom': ((839.1481953357867-1.0767936010322146j), (-27.262449832452976+1.0767936010322146j)), 'Air_bottom': ((930.4485521295919+0j), (-60.23858369069321+0j)), 'NW_AlShell_bottom': ((291.9930683146283-1.3588527120678293j), (-7.681929813325565+1.3588527120678293j))}\n"
     ]
    }
   ],
   "source": [
    "print(fluxes)"
   ]
  },
  {
   "cell_type": "code",
   "execution_count": 14,
   "metadata": {},
   "outputs": [
    {
     "name": "stdout",
     "output_type": "stream",
     "text": [
      "Total Incident Power = 930.4485521295919\n",
      "Total Reflected Power = 60.23858369069318\n",
      "Total Transmitted Power = 28.52979394214275\n",
      "Total Absorbed Power = 841.680174496756\n"
     ]
    }
   ],
   "source": [
    "total_incident_power = np.absolute(fluxes['Air'][0])\n",
    "total_reflected_power = np.absolute(fluxes['Air'][1])\n",
    "total_transmitted_power = np.absolute(fluxes['Bottom_Air_bottom'][0])\n",
    "total_absorbed_power = total_incident_power - total_reflected_power - total_transmitted_power\n",
    "print('Total Incident Power = {}'.format(total_incident_power))\n",
    "print('Total Reflected Power = {}'.format(total_reflected_power))\n",
    "print('Total Transmitted Power = {}'.format(total_transmitted_power))\n",
    "print('Total Absorbed Power = {}'.format(total_absorbed_power))"
   ]
  },
  {
   "cell_type": "code",
   "execution_count": 11,
   "metadata": {},
   "outputs": [
    {
     "name": "stdout",
     "output_type": "stream",
     "text": [
      "-------------------------\n",
      "Layer: Substrate\n",
      "Forward Top: (0.5778386241618029+0j)\n",
      "Backward Top: 0j\n",
      "Forward Bottom: (0.08933583976596272+0j)\n",
      "Backward Bottom: 0j\n",
      "-------------------------\n",
      "Layer: NW_SiO2\n",
      "Forward Top: (0.6415681690545958-0.002683480964878013j)\n",
      "Backward Top: (-0.054474731321943956+0.002683480964878013j)\n",
      "Forward Bottom: (0.632688624556471-0.0003835546834251788j)\n",
      "Backward Bottom: (-0.05485000039465573+0.0003835546834251788j)\n",
      "-------------------------\n",
      "Layer: NW_AlShell\n",
      "Forward Top: (1.7313777694256565-0.0021892601347096793j)\n",
      "Backward Top: (-0.010730033470238865+0.0021892601347096793j)\n",
      "Forward Bottom: (0.6199840123151336-0.0035553800448866954j)\n",
      "Backward Bottom: (-0.03289057458248516+0.0035553800448866954j)\n",
      "-------------------------\n",
      "Layer: Air\n",
      "Forward Top: (2+0j)\n",
      "Backward Top: (-0.15557938319276354+0j)\n",
      "Forward Bottom: (2+0j)\n",
      "Backward Bottom: (-0.15557938319276352+0j)\n",
      "-------------------------\n",
      "Layer: ITO\n",
      "Forward Top: (1.911743947569879+0.0008713251712626491j)\n",
      "Backward Top: (-0.06732333076256294-0.0008713251712626491j)\n",
      "Forward Bottom: (1.7901404153159508-0.0023688997496048164j)\n",
      "Backward Bottom: (-0.06949267936052105+0.0023688997496048164j)\n",
      "-------------------------\n",
      "Summed Absorption= (1.7550847770413323+0j)\n",
      "GaAs Absorption = (4.0521591883842706e-05+0j)\n"
     ]
    }
   ],
   "source": [
    "summed_absorbed_power = 0\n",
    "abs_dict_fluxmethod = {}\n",
    "for layer, (forw_top, back_top) in fluxes.items():\n",
    "    if '_bottom' in layer:\n",
    "        continue\n",
    "    bottom = layer+'_bottom'\n",
    "    forw_bot, back_bot = fluxes[bottom] \n",
    "    print('-'*25)\n",
    "    print('Layer: {}'.format(layer))\n",
    "    print('Forward Top: {}'.format(forw_top))\n",
    "    print('Backward Top: {}'.format(back_top))\n",
    "    print('Forward Bottom: {}'.format(forw_bot))\n",
    "    print('Backward Bottom: {}'.format(back_bot))\n",
    "    P_in = forw_top + -1*back_bot\n",
    "    P_out = forw_bot + -1*back_top\n",
    "    #print('Power Entering Layer: {}'.format(P_in))\n",
    "    #print('Power Leaving Layer: {}'.format(P_out))\n",
    "    P_abs = P_in - P_out\n",
    "    abs_dict_fluxmethod[layer] = .5*P_abs*(sim.period**2)/Zo\n",
    "    #print('Absorbed in Layer: {}'.format(P_abs))\n",
    "    summed_absorbed_power += P_abs\n",
    "#print('Summed Absorption= {}'.format(np.absolute(summed_absorbed_power)))\n",
    "print('-'*25)\n",
    "print('Summed Absorption= {}'.format(summed_absorbed_power))\n",
    "print('GaAs Absorption = {}'.format(abs_dict_fluxmethod['Substrate']))"
   ]
  },
  {
   "cell_type": "code",
   "execution_count": 16,
   "metadata": {},
   "outputs": [
    {
     "name": "stdout",
     "output_type": "stream",
     "text": [
      "Diff = 4.945377440890297e-11\n"
     ]
    }
   ],
   "source": [
    "diff = total_absorbed_power - summed_absorbed_power\n",
    "print('Diff = {}'.format(diff))"
   ]
  }
 ],
 "metadata": {
  "kernelspec": {
   "display_name": "nanowire",
   "language": "python",
   "name": "nanowire"
  },
  "language_info": {
   "codemirror_mode": {
    "name": "ipython",
    "version": 3
   },
   "file_extension": ".py",
   "mimetype": "text/x-python",
   "name": "python",
   "nbconvert_exporter": "python",
   "pygments_lexer": "ipython3",
   "version": "3.5.2"
  },
  "toc": {
   "nav_menu": {
    "height": "4px",
    "width": "255px"
   },
   "number_sections": true,
   "sideBar": true,
   "skip_h1_title": false,
   "toc_cell": false,
   "toc_position": {},
   "toc_section_display": "block",
   "toc_window_display": false
  }
 },
 "nbformat": 4,
 "nbformat_minor": 1
}
