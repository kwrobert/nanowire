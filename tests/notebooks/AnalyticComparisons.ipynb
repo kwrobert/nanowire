{
 "cells": [
  {
   "cell_type": "code",
   "execution_count": null,
   "metadata": {},
   "outputs": [],
   "source": [
    "import os\n",
    "import S4\n",
    "import numpy as np\n",
    "import scipy.constants as consts\n",
    "import scipy.integrate as intg\n",
    "import matplotlib.pyplot as plt\n",
    "%matplotlib inline"
   ]
  },
  {
   "cell_type": "markdown",
   "metadata": {},
   "source": [
    "# Infinite Half Slab"
   ]
  },
  {
   "cell_type": "markdown",
   "metadata": {},
   "source": [
    "## Electric Field Comparisons"
   ]
  },
  {
   "cell_type": "markdown",
   "metadata": {},
   "source": [
    "This is a test of S4, comparing it to analytical solutions taken from Griffiths Introduction to Electrodynamics Chapter 9 Section 3.2. \n",
    "\n",
    "In this test, we have an infinite half-space of vacuum above an infinite half-space of an arbitrary nonmagnetic material. The material could by lossy or \n",
    "lossless, depending on the value for $k$. If $k = 0$, the material is lossless and the amplitude of the wave should remain constant in the \n",
    "material. If $k > 0$, the material should be lossy and we expect exponential attentuation of the wave as it travels through the slab. The\n",
    "interface between the two materials sits at $z=0$, and the phase of the incident plane wave is measured relative to $z = 0$.\n",
    "\n",
    "First we set up the simulation cell. Note that in the Lorentz-Heaviside unit system used by S4, all lengths are specified as multiples of some common\n",
    "reference length unit. So, the value of $L$ specified below won't really take on any meaning until we start sending in light at some physical frequency \n",
    "and need to convert that frequency into LH units."
   ]
  },
  {
   "cell_type": "code",
   "execution_count": null,
   "metadata": {},
   "outputs": [],
   "source": [
    "L = .75\n",
    "numbasis = 10\n",
    "sim = S4.New(Lattice=((L, 0), (0, L)), NumBasis=numbasis)"
   ]
  },
  {
   "cell_type": "markdown",
   "metadata": {},
   "source": [
    "Next we set up a material. Recall that\n",
    "\n",
    "\\begin{align}\n",
    "    \\mathrm{Re}(\\epsilon_r) &= n^2 - k^2 \\\\\n",
    "    \\mathrm{Im}(\\epsilon_r) &= 2nk \n",
    "\\end{align}                  \n",
    "\n",
    "where $n$ and $k$ are the real and imaginary parts of the index of refraction. The values for $n$ and $k$ are configurable below, everything will still work as long\n",
    "as $k \\geq 0$. If $k < 0$ your wave exponentially blows up which I think is unphysical for simple linear materials."
   ]
  },
  {
   "cell_type": "code",
   "execution_count": null,
   "metadata": {},
   "outputs": [],
   "source": [
    "nn_slab = 2\n",
    "k_slab = .2\n",
    "eps_vac = complex(1, 0)\n",
    "eps_slab = complex(nn_slab**2 - k_slab**2, 2*nn_slab*k_slab)\n",
    "n_slab = complex(nn_slab, k_slab)\n",
    "sim.SetMaterial(Name = \"TestMaterial\", Epsilon = eps_slab)\n",
    "sim.SetMaterial(Name = \"Vacuum\", Epsilon = eps_vac)"
   ]
  },
  {
   "cell_type": "markdown",
   "metadata": {},
   "source": [
    "Now we just make the layer structure"
   ]
  },
  {
   "cell_type": "code",
   "execution_count": null,
   "metadata": {},
   "outputs": [],
   "source": [
    "sim.AddLayer(Name='VacuumAbove', Thickness = 0, Material='Vacuum')\n",
    "sim.AddLayer(Name='Slab', Thickness = 0, Material='TestMaterial')"
   ]
  },
  {
   "cell_type": "markdown",
   "metadata": {},
   "source": [
    "Now we need to set up the incident plane wave. This is where the unit system in S4 gets a little annoying. In LH\n",
    "units $c = \\mu_0 = \\epsilon_0 = 1$. To convert from a physical, SI frequency into an LH frequency you need to employ\n",
    "the following prescription\n",
    "\n",
    "\\begin{equation}\n",
    "    f_{LH} = \\frac{f_{SI}}{c}\n",
    "\\end{equation}\n",
    "   \n",
    "Where the speed of light $c$ is expressed in your reference length unit of choice. For example, if we decide that our reference\n",
    "length unit is a micrometer (meaning our unit cell side length $L = 1 \\mathrm{ \\mu m}$) then  $c = 2.998 x 10^{14} \\mathrm{ \\mu m/s}$.\n",
    "This is the  value of $c$ that needs to be used to convert SI frequencies to LH frequencies. Note also that S4 does not want angular\n",
    "frequencies, it wants the frequency in cycles/second (i.e Hertz)\n",
    "\n",
    "So first lets specify the frequency"
   ]
  },
  {
   "cell_type": "code",
   "execution_count": null,
   "metadata": {},
   "outputs": [],
   "source": [
    "SI_freq = 6e14 # Hertz\n",
    "SI_wvlgth = 1e6*consts.c / SI_freq # micrometers\n",
    "print(SI_wvlgth)\n",
    "LH_freq = SI_freq/(consts.c * 1e6) # 1/micrometers\n",
    "print(LH_freq)\n",
    "sim.SetFrequency(LH_freq)"
   ]
  },
  {
   "cell_type": "markdown",
   "metadata": {},
   "source": [
    "Now we can actually specify the excitation. For normally incident waves, S4 uses the convention that the p polarization is along the x direction.\n",
    "So, below we set up an incident wave that is normally incident and linearly polarized along the x axis. The amplitudes specified below are for\n",
    "the electric field, and we just choose an amplitude of 1 for simplicity. S4 expects the angles to be specified in degrees, but all the numpy \n",
    "tools expect radians. Make sure `polar_angle` is specified in radians, the conversion to degrees is done within the `SetExcitationPlanewave`\n",
    "API call. Don't touch the azimuthal angle (which is currently set to zero), it will introduce y-components that I don't want to deal with."
   ]
  },
  {
   "cell_type": "code",
   "execution_count": null,
   "metadata": {},
   "outputs": [],
   "source": [
    "polar_angle = np.pi/4\n",
    "#polar_angle = 0\n",
    "incident_amp = complex(1, 0)\n",
    "sim.SetExcitationPlanewave(IncidenceAngles=(np.rad2deg(polar_angle), 0), sAmplitude=complex(0, 0), pAmplitude=incident_amp)"
   ]
  },
  {
   "cell_type": "markdown",
   "metadata": {},
   "source": [
    "That's it! Now we should be ready to compute the fields along the z-direction at an arbitrary x-y point. Note that I chose x,y both equal to zero because\n",
    "it just makes things easier when comparing with the GetFieldsOnGrid method. Change the value of the boolean flag to switch the method for computing the fields."
   ]
  },
  {
   "cell_type": "code",
   "execution_count": null,
   "metadata": {},
   "outputs": [],
   "source": [
    "ongrid = True\n",
    "z_vals = np.linspace(-5, 5, 100)\n",
    "Ex = np.zeros_like(z_vals, dtype=np.complex)\n",
    "Ey = np.zeros_like(z_vals, dtype=np.complex)\n",
    "Ez = np.zeros_like(z_vals, dtype=np.complex)\n",
    "for i, z in enumerate(z_vals):\n",
    "    if ongrid:\n",
    "        E, H = sim.GetFieldsOnGrid(z=z, NumSamples=(25, 25), Format='Array')\n",
    "        Ex[i] = E[0][0][0]\n",
    "        Ey[i] = E[0][0][1]\n",
    "        Ez[i] = E[0][0][2]\n",
    "    else:\n",
    "        E, H = sim.GetFields(0, 0, z)\n",
    "        Ex[i] = E[0]\n",
    "        Ey[i] = E[1]\n",
    "        Ez[i] = E[2]\n",
    "fig, axes = plt.subplots(2, 2, figsize=(14, 7))\n",
    "ax1, ax2, ax3, ax4 = axes.flatten()\n",
    "ax1.plot(z_vals, Ex.real, label = \"Real\")\n",
    "ax1.plot(z_vals, Ex.imag, label = \"Imag\")\n",
    "ax1.set_ylabel('Ex')\n",
    "ax1.set_xlabel('z [um]')\n",
    "ax1.legend()\n",
    "ax2.plot(z_vals, Ey.real, label = \"Real\")\n",
    "ax2.plot(z_vals, Ey.imag, label = \"Imag\")\n",
    "ax2.set_ylabel('Ey')\n",
    "ax2.set_xlabel('z [um]')\n",
    "ax2.legend()\n",
    "ax3.plot(z_vals, Ez.real, label = \"Real\")\n",
    "ax3.plot(z_vals, Ez.imag, label = \"Imag\")\n",
    "ax3.set_ylabel('Ez')\n",
    "ax3.set_xlabel('z [um]')\n",
    "ax3.legend()\n",
    "normE = np.sqrt(np.absolute(Ex)**2 + np.absolute(Ey)**2 + np.absolute(Ez)**2)\n",
    "ax4.plot(z_vals, normE, label = \"|E|\")\n",
    "ax4.legend()\n",
    "ax4.set_ylabel('|E|')\n",
    "ax4.set_xlabel('z [um]')\n",
    "plt.tight_layout()\n",
    "plt.show()"
   ]
  },
  {
   "cell_type": "markdown",
   "metadata": {},
   "source": [
    "Next step is to set up the analytic equations. These results are just straight up copied from Griffiths, for\n",
    "arbitary angle of incidence.\n",
    "\n",
    "First, the velocity of the wave in the slab must be\n",
    "\n",
    "\\begin{equation}\n",
    "    v_{slab} = \\frac{c}{n_{slab}}\n",
    "\\end{equation}\n",
    "\n",
    "Snell's law tells use the relationship between the incident angle and the transmitted angle\n",
    "\n",
    "\\begin{equation}\n",
    "    \\frac{\\sin(\\theta_T)}{\\sin(\\theta_I)} = \\frac{n_1}{n_2}\n",
    "\\end{equation}\n",
    "\n",
    "Griffiths then defines some constants\n",
    "\n",
    "\\begin{align}\n",
    "    \\alpha &= \\frac{\\cos(\\theta_T)}{\\cos(\\theta_I)} \\\\\n",
    "    \\beta &= \\frac{\\mu_1 n_2}{\\mu_2 n_1}\n",
    "\\end{align}\n",
    "\n",
    "In our case $\\mu_1 = \\mu_2 = \\mu_0$ for simplicity (the slab is non magnetic)\n",
    "\n",
    "Now we can compute the amplitudes of the reflected and transmitted waves analytically in terms of the incident amplitude\n",
    "\n",
    "\\begin{align}\n",
    "    E_{0, R} &= \\frac{\\alpha - \\beta}{\\alpha + \\beta} E_{0, I} \\\\ \n",
    "    E_{0, T} &= \\frac{2}{\\alpha + \\beta} E_{0, I} \\\\ \n",
    "\\end{align}\n",
    "\n",
    "I write a function to compute and return the analytic waves given the necessary parameters below."
   ]
  },
  {
   "cell_type": "code",
   "execution_count": null,
   "metadata": {},
   "outputs": [],
   "source": [
    "def analytic_waves(SI_freq, n_slab, Einc, z_vals, polar_angle):\n",
    "    # polar_angle must be in radians!!\n",
    "    # Define constants and scalar magnitudes of vectors\n",
    "    si_omega = 2*np.pi*SI_freq\n",
    "    theta_T = np.arcsin((1/n_slab)*np.sin(polar_angle))\n",
    "    beta = n_slab\n",
    "    alpha = np.cos(theta_T)/np.cos(polar_angle)\n",
    "    v_slab = 1e6*consts.c / n_slab\n",
    "    ktrans = si_omega / v_slab\n",
    "    kinc = si_omega / (1e6*consts.c)\n",
    "    kref = kinc\n",
    "    Eref = Einc*(alpha - beta)/(alpha + beta)\n",
    "    Etrans = Einc*2/(alpha + beta)\n",
    "    # Define vector amplitudes and wave vectors\n",
    "    vEinc = Einc*np.array([np.cos(polar_angle), 0, -np.sin(polar_angle)])\n",
    "    vkinc = kinc*np.array([np.sin(polar_angle), 0, np.cos(polar_angle)])\n",
    "    vEtrans = Etrans*np.array([np.cos(theta_T), 0, -np.sin(theta_T)])\n",
    "    vktrans = ktrans*np.array([np.sin(theta_T), 0, np.cos(theta_T)])\n",
    "    vEref = Eref*np.array([np.cos(polar_angle), 0, np.sin(polar_angle)])\n",
    "    vkref = kref*np.array([np.sin(polar_angle), 0, -np.cos(polar_angle)])\n",
    "    # Define 3D positions\n",
    "    r_vals = np.zeros((z_vals.shape[0], 3))\n",
    "    r_vals[:, 2] = z_vals\n",
    "    # Get phases\n",
    "    inc_phase = np.exp(1j*np.dot(r_vals, vkinc))\n",
    "    ref_phase = np.exp(1j*np.dot(r_vals, vkref))\n",
    "    trans_phase = np.exp(1j*np.dot(r_vals, vktrans))\n",
    "    inc_wave = vEinc*np.column_stack((inc_phase, inc_phase, inc_phase))\n",
    "    ref_wave = vEref*np.column_stack((ref_phase, ref_phase, ref_phase))\n",
    "    trans_wave = vEtrans*np.column_stack((trans_phase, trans_phase, trans_phase))\n",
    "    air_wave = inc_wave + ref_wave\n",
    "    ind_arr = np.where(z_vals < 0)\n",
    "    total_wave = np.zeros_like(inc_wave)\n",
    "    total_wave[ind_arr, :] = air_wave[ind_arr, :]\n",
    "    ind_arr = np.where(z_vals >= 0)\n",
    "    total_wave[ind_arr, :] = trans_wave[ind_arr, :]\n",
    "    Ex = total_wave[:,0]\n",
    "    Ey = total_wave[:,1]\n",
    "    Ez = total_wave[:,2]\n",
    "    return Ex, Ey, Ez "
   ]
  },
  {
   "cell_type": "code",
   "execution_count": null,
   "metadata": {},
   "outputs": [],
   "source": [
    "aEx, aEy, aEz = analytic_waves(SI_freq, n_slab, incident_amp, z_vals, polar_angle)"
   ]
  },
  {
   "cell_type": "code",
   "execution_count": null,
   "metadata": {},
   "outputs": [],
   "source": [
    "fig, axes = plt.subplots(3, 2, figsize=(12, 10))\n",
    "for i, comp in enumerate([(Ex, aEx, 'Ex'), (Ey, aEy, 'Ey'), (Ez, aEz, 'Ez')]):\n",
    "    numeric_result = comp[0]\n",
    "    analytic_result = comp[1]\n",
    "    lab = comp[2]\n",
    "    diff = numeric_result - analytic_result\n",
    "    axes[i, 0].plot(z_vals, numeric_result.real, label=\"%s Real\"%lab)\n",
    "    axes[i, 0].plot(z_vals, numeric_result.imag, label=\"%s Imag\"%lab)\n",
    "    axes[i, 0].plot(z_vals, analytic_result.real, label=\"Analytic %s Real\"%lab)\n",
    "    axes[i, 0].plot(z_vals, analytic_result.imag, label=\"Analytic %s Imag\"%lab)\n",
    "    axes[i, 0].set_xlabel('z [um]')\n",
    "    axes[i, 0].set_ylabel(lab)\n",
    "    axes[i, 0].legend()\n",
    "    axes[i, 1].plot(z_vals, diff.real, label=\"%s Difference Real\"%lab)\n",
    "    axes[i, 1].plot(z_vals, diff.imag, label=\"%s Difference Imag\"%lab)\n",
    "    axes[i, 1].set_xlabel('z [um]')\n",
    "    axes[i, 1].set_ylabel('Difference')\n",
    "    axes[i, 1].legend()\n",
    "plt.show()"
   ]
  },
  {
   "cell_type": "markdown",
   "metadata": {},
   "source": [
    "So it seems like the electric fields returned by S4 are indeed in SI units (Volts/meter). \n",
    "\n",
    "We can now compare the power per unit area of the incident, reflected, and transmitted waves to the results of the\n",
    "`GetPowerFlux` function provided by S4. Analytically we have\n",
    "\n",
    "\\begin{align}\n",
    "    S_{z,I} &= \\frac{1}{2} \\epsilon_1 v_1 E_{0,I}^2 \\cos(\\theta_I) \\\\\n",
    "    S_{z,R} &= \\frac{1}{2} \\epsilon_1 v_1 E_{0,R}^2 \\cos(\\theta_I) \\\\\n",
    "    S_{z,T} &= \\frac{1}{2} \\epsilon_2 v_2 E_{0,T}^2 \\cos(\\theta_T)\n",
    "\\end{align}\n",
    "\n",
    "for monochromatic plane waves this value should be uniform over any x-y plane."
   ]
  },
  {
   "cell_type": "code",
   "execution_count": null,
   "metadata": {},
   "outputs": [],
   "source": [
    "def get_power_per_area(Einc, polar_angle, eps_vac, eps_slab, n_slab):\n",
    "    #v_air = 1e6*consts.c\n",
    "    v_air = consts.c\n",
    "    Si = .5*consts.epsilon_0*eps_vac*v_air*np.absolute(Einc)**2*np.cos(polar_angle)\n",
    "    theta_T = np.arcsin((1/n_slab)*np.sin(polar_angle))\n",
    "    beta = n_slab\n",
    "    alpha = np.cos(theta_T)/np.cos(polar_angle)\n",
    "    v_slab = consts.c / n_slab\n",
    "    Eref = Einc*(alpha - beta)/(alpha + beta)\n",
    "    Etrans = Einc*2/(alpha + beta)\n",
    "    Sr = .5*consts.epsilon_0*eps_vac*v_air*np.absolute(Eref)**2*np.cos(polar_angle)\n",
    "    St = .5*consts.epsilon_0*eps_slab*v_slab*np.absolute(Etrans)**2*np.cos(theta_T)\n",
    "    return Si, Sr, St"
   ]
  },
  {
   "cell_type": "code",
   "execution_count": null,
   "metadata": {},
   "outputs": [],
   "source": [
    "nSi, nSr = sim.GetPowerFlux(\"VacuumAbove\")\n",
    "v_slab = consts.c / n_slab\n",
    "print(nSi)\n",
    "print(nSr)\n",
    "nSt, nSr_slab = sim.GetPowerFlux(\"Slab\", zOffset=.2)\n",
    "print(nSt)\n",
    "print(nSr_slab)\n",
    "nSi = .5*consts.epsilon_0*eps_vac*consts.c*nSi\n",
    "nSr = .5*consts.epsilon_0*eps_vac*consts.c*nSr\n",
    "print(nSi)\n",
    "print(nSr)\n",
    "nSt = .5*consts.epsilon_0*eps_vac*consts.c*nSt\n",
    "nSr = .5*consts.epsilon_0*eps_slab*v_slab*nSr\n",
    "print(nSt)\n",
    "print(nSr_slab)"
   ]
  },
  {
   "cell_type": "code",
   "execution_count": null,
   "metadata": {},
   "outputs": [],
   "source": [
    "aSi, aSr, aSt = get_power_per_area(incident_amp, polar_angle, eps_vac, eps_slab, n_slab)\n",
    "print(aSi)\n",
    "print(aSr)\n",
    "print(aSt)"
   ]
  },
  {
   "cell_type": "markdown",
   "metadata": {},
   "source": [
    "Ok! So it seems like S4 is giving back only $|E|^2$ properly scaled by a cosine of the incident angle. It does this for the forward and\n",
    "backward moving waves separately, which is shown in the calculation below. "
   ]
  },
  {
   "cell_type": "code",
   "execution_count": null,
   "metadata": {},
   "outputs": [],
   "source": [
    "Esq = np.absolute(Ex[0])**2 + np.absolute(Ey[0])**2 + np.absolute(Ez[0])**2\n",
    "print(Esq*np.cos(polar_angle))\n",
    "print(Esq*np.cos(polar_angle)-0.1654358085257486)\n",
    "print(Esq)"
   ]
  },
  {
   "cell_type": "markdown",
   "metadata": {},
   "source": [
    "Above, $|E|^2 = |E_{forw}|^2 + |E_{back}|^2$. In other words, the raw fields always contain the combination of forward and backward moving waves. By\n",
    "subtracting out the backward moving intensity, we see the sum of the squares is equal to the incident intensity. This further confirms that the fields\n",
    "are in SI units. So to fully clarify\n",
    "\n",
    "GetPowerFlux = ($|E_{forw}|^2\\cos(\\theta_I), -|E_{back}|^2\\cos(\\theta_I)$)\n",
    "\n",
    "When we multiply by the necessary\n",
    "unitful constants, we get the z component of the Poynting vector which has units of power per unit area. For our case, we could just\n",
    "multiply by the area of the unit cell to get the total power because the \n",
    "z-component of the Poynting flux is uniform over any x-y plane. However, what would the `GetPowerFlux` function return if $S_z$ was not uniform? \n",
    "Would it give me the average power per unit area, such that I could still just multiply by the area to get total power? Also, in a nonuniform\n",
    "layer the constants out front become functions of space. What then? The power/area is a function of space, and we would need to perform an integral \n",
    "over the area to get at the total power.\n",
    "\n",
    "So the question comes down to whether or not S4 is performing the integral over the area, then dividing by the area after the fact, or not\n",
    "performing an integral at all. I think this could be clarified by simulating a nonuniform device below"
   ]
  },
  {
   "cell_type": "markdown",
   "metadata": {},
   "source": [
    "## Reflectance Comparisons"
   ]
  },
  {
   "cell_type": "markdown",
   "metadata": {},
   "source": [
    "The goal here is to compare the results of GetPowerFlux to analytical results for reflectance, to make sure the function is accurate. The \n",
    "analytical results used here are taken from A User's Guide to Ellipsometry by Harland G. Tompkins"
   ]
  },
  {
   "cell_type": "code",
   "execution_count": null,
   "metadata": {},
   "outputs": [],
   "source": [
    "def analytic_reflectance(incident_angle, n1, n2):\n",
    "    # This cosphi2 term is cos(refracted_angle). You can get it by squaring both \n",
    "    # sides of snell's law then using trig identities to turn sin^2(phi2) into \n",
    "    # cos^2(phi2)\n",
    "    cosphi2 = np.sqrt(n2**2 - n1**2*np.sin(incident_angle)**2)/n2\n",
    "    r12 = (n2*np.cos(incident_angle) - n1*cosphi2)/(n2*np.cos(incident_angle)+n1*cosphi2)\n",
    "    return np.abs(r12)**2"
   ]
  },
  {
   "cell_type": "code",
   "execution_count": null,
   "metadata": {},
   "outputs": [],
   "source": [
    "nSi, nSr = sim.GetPowerFlux(\"VacuumAbove\")\n",
    "R_s4 = np.abs(nSr/nSi).real\n",
    "print(R_s4)\n",
    "R_analytic = analytic_reflectance(polar_angle, complex(1, 0), n_slab)\n",
    "print(R_analytic)"
   ]
  },
  {
   "cell_type": "markdown",
   "metadata": {},
   "source": [
    "So these seem to agree well. Now let's see what happens when we add air below the slab"
   ]
  },
  {
   "cell_type": "code",
   "execution_count": null,
   "metadata": {},
   "outputs": [],
   "source": [
    "def analytic_reflectance_2(incident_angle, n1, n2, n3, layer_t, wvlgth):\n",
    "    # If you look in the program listing for calculating various ellipsometry quantities\n",
    "    # on pg 237 of the book mentioned above (very last line), for some reason they put\n",
    "    # a minus sign in front of the imaginary part of the index of refraction for the\n",
    "    # film in the middle. I think this is because the book and S4 have opposite conventions\n",
    "    # for the sign of a forward moving, decaying plane wave (is exp(-i*stuff) or exp(i*stuff) \n",
    "    # forward?). \n",
    "    n2 = complex(n2.real, -1*n2.imag)\n",
    "    cosphi2 = np.sqrt(1 - (n1*np.sin(incident_angle)/n2)**2)\n",
    "    beta = 2*np.pi*layer_t*n2*cosphi2/wvlgth\n",
    "    r12 = (n2*np.cos(incident_angle) - n1*cosphi2)/(n2*np.cos(incident_angle)+n1*cosphi2)\n",
    "    phi2 = np.arccos(cosphi2)\n",
    "    cosphi3 = np.sqrt(1 - (n1*np.sin(incident_angle)/n3)**2)\n",
    "    #cosphi3 = np.sqrt((n3**2 - n2**2*(1-np.abs(cosphi2)**2))/n3**2)\n",
    "    r23 = (n3*cosphi2 - n2*cosphi3)/(n3*cosphi2+n2*cosphi3)\n",
    "    Rp = (r12 + r23*np.exp(-1j*2*beta))/(1+r12*r23*np.exp(-1j*2*beta))\n",
    "    return np.abs(Rp)**2"
   ]
  },
  {
   "cell_type": "code",
   "execution_count": null,
   "metadata": {},
   "outputs": [],
   "source": [
    "sim.SetLayerThickness(Layer='Slab', Thickness=.1)\n",
    "sim.AddLayerCopy(Name='VacuumBelow', Thickness = 0, Layer=\"VacuumAbove\")\n",
    "nSi, nSr = sim.GetPowerFlux(\"VacuumAbove\")"
   ]
  },
  {
   "cell_type": "code",
   "execution_count": null,
   "metadata": {},
   "outputs": [],
   "source": [
    "R_s4 = np.abs(nSr/nSi).real\n",
    "print(R_s4)\n",
    "R_analytic = analytic_reflectance_2(polar_angle, complex(1, 0), n_slab, complex(1, 0), .1, SI_wvlgth)\n",
    "print(R_analytic)"
   ]
  },
  {
   "cell_type": "markdown",
   "metadata": {},
   "source": [
    "So this agrees as well!"
   ]
  },
  {
   "cell_type": "markdown",
   "metadata": {
    "heading_collapsed": true
   },
   "source": [
    "# Slab with a Hole in It"
   ]
  },
  {
   "cell_type": "code",
   "execution_count": null,
   "metadata": {
    "hidden": true
   },
   "outputs": [],
   "source": [
    "L = .75\n",
    "numbasis = 200\n",
    "sim = S4.New(Lattice=((L, 0), (0, L)), NumBasis=numbasis)\n",
    "nn_slab = 4\n",
    "k_slab = 0\n",
    "eps_vac = complex(1, 0)\n",
    "eps_slab = complex(nn_slab**2 - k_slab**2, 2*nn_slab*k_slab)\n",
    "n_slab = complex(nn_slab, k_slab)\n",
    "sim.SetMaterial(Name = \"TestMaterial\", Epsilon = eps_slab)\n",
    "sim.SetMaterial(Name = \"Vacuum\", Epsilon = eps_vac)\n",
    "sim.AddLayer(Name='VacuumAbove', Thickness = 0, Material='Vacuum')\n",
    "sim.AddLayer(Name='Slab', Thickness = .5, Material='TestMaterial')\n",
    "sim.SetRegionCircle(Layer=\"Slab\", Material=\"Vacuum\", Center=(0, 0), Radius=0.2)\n",
    "# Tried both, makes no difference.\n",
    "#sim.AddLayerCopy(Name=\"VacuumBelow\", Thickness = 0, Layer=\"VacuumAbove\")\n",
    "sim.AddLayer(Name='VacuumBelow', Thickness = 0, Material='Vacuum')\n",
    "SI_freq = 2e14 # Hertz\n",
    "SI_wvlgth = 1e6*consts.c / SI_freq # micrometers\n",
    "print(SI_wvlgth)\n",
    "LH_freq = SI_freq/(consts.c * 1e6) # 1/micrometers\n",
    "print(LH_freq)\n",
    "sim.SetFrequency(LH_freq)\n",
    "polar_angle = np.pi/4\n",
    "incident_amp = complex(1, 0)\n",
    "sim.SetExcitationPlanewave(IncidenceAngles=(np.rad2deg(polar_angle), 0), sAmplitude=complex(0, 0), pAmplitude=incident_amp)"
   ]
  },
  {
   "cell_type": "code",
   "execution_count": null,
   "metadata": {
    "hidden": true
   },
   "outputs": [],
   "source": [
    "Si, Sr = sim.GetPowerFlux(\"VacuumAbove\")\n",
    "St, Sr_slab = sim.GetPowerFlux(\"Slab\")\n",
    "print(Si)\n",
    "print(Sr)\n",
    "print(St)\n",
    "print(Sr_slab)"
   ]
  },
  {
   "cell_type": "code",
   "execution_count": null,
   "metadata": {
    "hidden": true
   },
   "outputs": [],
   "source": [
    "xsamples = 300\n",
    "ysamples = 300\n",
    "E,H = sim.GetFieldsOnGrid(z = .1, NumSamples=(xsamples,ysamples), Format = 'Array')\n",
    "E_arr = np.array(E)\n",
    "H_arr = np.array(H)"
   ]
  },
  {
   "cell_type": "code",
   "execution_count": null,
   "metadata": {
    "hidden": true
   },
   "outputs": [],
   "source": [
    "print(E_arr.shape)"
   ]
  },
  {
   "cell_type": "code",
   "execution_count": null,
   "metadata": {
    "hidden": true
   },
   "outputs": [],
   "source": [
    "S = np.cross(E_arr, np.conj(H_arr))\n",
    "Sz = S[:, :, 2]\n",
    "plt.figure()\n",
    "plt.imshow(Sz.real)\n",
    "plt.colorbar()\n",
    "plt.show()"
   ]
  },
  {
   "cell_type": "code",
   "execution_count": null,
   "metadata": {
    "hidden": true
   },
   "outputs": [],
   "source": [
    "dx = L/xsamples\n",
    "dy = L/ysamples\n",
    "x_vals = np.arange(0, L, dx)\n",
    "y_vals = np.arange(0, L, dy)\n",
    "x_integral = intg.trapz(Sz, x=x_vals)\n",
    "result = intg.trapz(x_integral, x=y_vals)\n",
    "print(result/(L**2))\n",
    "print(Si+Sr)\n",
    "print(St+Sr_slab)"
   ]
  },
  {
   "cell_type": "markdown",
   "metadata": {
    "hidden": true
   },
   "source": [
    "So it appears that `GetPowerFlux` is indeed performing the integral of the z-component of the Poynting flux over\n",
    "the area of the unit cell, _but dividing by the area of the unit cell after integration_. I reached this conclusion based on the relatively \n",
    "good agreement between the explicit integration of the z-component of the Poytning flux constructed from the raw fields (divided by the area)\n",
    "and the result of `GetPowerFlux`.\n",
    "\n",
    "So I think what I need to do when computing the total power absorbed in a layer via the flux method is multiply everything\n",
    "by the area of the unit cell. Then it should compare to the volume integration method."
   ]
  }
 ],
 "metadata": {
  "kernelspec": {
   "display_name": "nanowire",
   "language": "python",
   "name": "nanowire"
  },
  "language_info": {
   "codemirror_mode": {
    "name": "ipython",
    "version": 3
   },
   "file_extension": ".py",
   "mimetype": "text/x-python",
   "name": "python",
   "nbconvert_exporter": "python",
   "pygments_lexer": "ipython3",
   "version": "3.5.2"
  },
  "toc": {
   "colors": {
    "hover_highlight": "#DAA520",
    "running_highlight": "#FF0000",
    "selected_highlight": "#FFD700"
   },
   "moveMenuLeft": true,
   "nav_menu": {
    "height": "26px",
    "width": "254px"
   },
   "navigate_menu": true,
   "number_sections": true,
   "sideBar": true,
   "skip_h1_title": false,
   "threshold": 4,
   "toc_cell": false,
   "toc_position": {},
   "toc_section_display": "block",
   "toc_window_display": false
  }
 },
 "nbformat": 4,
 "nbformat_minor": 1
}
