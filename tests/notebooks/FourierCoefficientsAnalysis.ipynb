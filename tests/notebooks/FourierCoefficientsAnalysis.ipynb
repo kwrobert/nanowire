{
 "cells": [
  {
   "cell_type": "code",
   "execution_count": null,
   "metadata": {},
   "outputs": [],
   "source": [
    "from nanowire.optics.utils.config import Config\n",
    "from nanowire.optics.simulate import Simulator\n",
    "import numpy as np\n",
    "import matplotlib as mpl\n",
    "mpl.style.use('notebook')\n",
    "import matplotlib.pyplot as plt\n",
    "from matplotlib.patches import Circle\n",
    "%matplotlib inline"
   ]
  },
  {
   "cell_type": "markdown",
   "metadata": {},
   "source": [
    "# Utility Functions"
   ]
  },
  {
   "cell_type": "code",
   "execution_count": null,
   "metadata": {},
   "outputs": [],
   "source": [
    "def plot_kspace(L, Ng, show_actual=False):\n",
    "    dk = 2*np.pi/L\n",
    "    rad = np.sqrt(4*np.pi*Ng/L**2)\n",
    "    kspacemax = (int(round(rad/dk))+1)*dk\n",
    "    kx = np.arange(-kspacemax, kspacemax+dk, dk)\n",
    "    ky = np.arange(-kspacemax, kspacemax+dk, dk)\n",
    "    kxx, kyy = np.meshgrid(kx, ky)\n",
    "    kmax = np.sqrt(kxx**2 + kyy**2)\n",
    "    circ = Circle((0, 0), rad, fill=False)\n",
    "    inside = np.where(kmax < rad)\n",
    "    actual_ng = len(inside[0])\n",
    "    fig, ax = plt.subplots(figsize=(12, 12))\n",
    "    ax.add_artist(circ)\n",
    "    if show_actual:\n",
    "        while actual_ng > Ng:\n",
    "            rad -= dk/2.0\n",
    "            inside = np.where(kmax < rad)\n",
    "            actual_ng = len(inside[0])\n",
    "        circ = Circle((0, 0), rad, fill=False, edgecolor='red')\n",
    "        ax.add_artist(circ)\n",
    "    print(\"Actual Ng Used = {}\".format(actual_ng))\n",
    "    ax.scatter(kxx.flatten(), kyy.flatten())\n",
    "    ax.set_xlabel('kx')\n",
    "    ax.set_ylabel('ky')\n",
    "    plt.axis('equal')\n",
    "    plt.show()\n",
    "\n",
    "def setup_sim(conf):\n",
    "    sim = Simulator(conf)\n",
    "    sim.evaluate_config()\n",
    "    sim.update_id()\n",
    "    sim.make_logger()\n",
    "    sim.configure()\n",
    "    sim.build_device()\n",
    "    sim.set_excitation()\n",
    "    return sim\n",
    "\n",
    "def get_arrays(sim, substrate_zvals, nw_zvals):\n",
    "    result_dict = sim.get_fourier_coefficients(offset=0.)\n",
    "    substrate_data = np.zeros((2, result_dict['Substrate'].shape[1], \n",
    "                               len(substrate_zvals)), dtype=np.complex128)\n",
    "    substrate_data[:, :, 0] = result_dict['Substrate']\n",
    "    for i, z in enumerate(substrate_zvals[1:]):\n",
    "        layer_dict = sim.get_fourier_coefficients(offset=z)\n",
    "        substrate_data[:, :, i+1] = layer_dict['Substrate']\n",
    "    # I've discovered a somewhat weird and concerning bug here. When \n",
    "    # requesting the amplitudes at 0 offset in the NW layer, I get \n",
    "    # back 40 amplitudes (as if there were no proper truncation). The\n",
    "    # first 26 amplitudes are reasonable numbers. The extra amplitudes\n",
    "    # that we wouldn't expect to exist are numbers raised to the -310th\n",
    "    # power (so zero). I don't know why these extra amplitudes are here.\n",
    "    # This doesn't happen for any of the other z offsets, only at 0 \n",
    "    # offset. The default offset is 0 according to the docs, meaning\n",
    "    # GetAmplitudes(Layer=layer, zOffset=0) and GetAmplitudes(Layer=layer)\n",
    "    # should return the same result. However, calling with explicitly a \n",
    "    # zero offset gives the incorrect shape, while leaving out the zOffset\n",
    "    # arg gives the correct shape. SUPER WEIRD. For now I just have a \n",
    "    # check in my wrapper code to call GetAmplitudes without the zOffset \n",
    "    # arg if the offset is 0\n",
    "    nw_data = np.zeros((2, result_dict['NW_AlShell'].shape[1], \n",
    "                        len(nw_zvals)), dtype=np.complex128)\n",
    "    nw_data[:, :, 0] = result_dict['NW_AlShell']\n",
    "    for i, z in enumerate(nw_zvals[1:]):\n",
    "        layer_dict = sim.get_fourier_coefficients(offset=z)\n",
    "        nw_data[:, :, i+1] = layer_dict['NW_AlShell']\n",
    "    return substrate_data, nw_data\n",
    "\n",
    "def plot_amplitudes(data):\n",
    "    layer = data[:, :, 0]\n",
    "    print(len(layer))\n",
    "    print(len(layer[0,:]))\n",
    "    print(len(layer[1,:]))\n",
    "    forw_amps = np.array(layer[0, :])\n",
    "    back_amps = np.array(layer[1, :])\n",
    "    fabs_sq = np.absolute(forw_amps)**2\n",
    "    babs_sq = np.absolute(back_amps)**2\n",
    "    flog = np.where(fabs_sq < 1e-8, 0, fabs_sq)\n",
    "    blog = np.where(babs_sq < 1e-8, 0, babs_sq)\n",
    "    fig, axes = plt.subplots(2, 2, figsize=(9, 7))\n",
    "    axes[0, 0].plot(fabs_sq)\n",
    "    axes[0, 0].set_title('Forward Propagating Amplitudes')\n",
    "    axes[1, 0].semilogy(flog)\n",
    "    axes[1, 0].set_title('Forward Propagating Amplitudes')\n",
    "    axes[0, 1].plot(babs_sq)\n",
    "    axes[0, 1].set_title('Backward Propagating Amplitudes')\n",
    "    axes[1, 1].semilogy(blog)\n",
    "    axes[1, 1].set_title('Backward Propagating Amplitudes')\n",
    "    plt.tight_layout()\n",
    "    plt.show()"
   ]
  },
  {
   "cell_type": "code",
   "execution_count": null,
   "metadata": {},
   "outputs": [],
   "source": [
    "plot_kspace(.25, 2500, show_actual=True)"
   ]
  },
  {
   "cell_type": "markdown",
   "metadata": {},
   "source": [
    "# $N_G$ = 20"
   ]
  },
  {
   "cell_type": "markdown",
   "metadata": {},
   "source": [
    "First I just quickly load the base config file into an object that just automates a lot of annoying stuff. We can modify the `conf` object\n",
    "in memory for the rest of the notebook. This is a typical NW device with Al shell. Params are in the config file for those who are interested."
   ]
  },
  {
   "cell_type": "code",
   "execution_count": null,
   "metadata": {},
   "outputs": [],
   "source": [
    "conf = Config(path=\"FourierCoefficientsAnalysis.yml\")"
   ]
  },
  {
   "cell_type": "markdown",
   "metadata": {},
   "source": [
    "So I start off by specifying 20 basis terms, and look at the amplitudes in two different layers. First, I look at the substrate which is an\n",
    "unpatterned layer. Then, I look at the nanowire layer which is a patterned layer. Note that here all the coefficients are taken at the\n",
    "very top of the layer in question. The first row of plots is the absolute value squared of the complex amplitudes. The second row is the\n",
    "same data plotted on a log scale."
   ]
  },
  {
   "cell_type": "markdown",
   "metadata": {},
   "source": [
    "## Layer = Substrate"
   ]
  },
  {
   "cell_type": "code",
   "execution_count": null,
   "metadata": {},
   "outputs": [],
   "source": [
    "sim = setup_sim(conf)\n",
    "substrate_t = sim.conf[('Layers', 'Substrate', 'params', 'thickness',\n",
    "                        'value')]\n",
    "nw_t = sim.conf[('Layers', 'NW_AlShell', 'params', 'thickness', 'value')]\n",
    "substrate_zvals = np.linspace(0, substrate_t, 50)\n",
    "nw_zvals = np.linspace(0, nw_t, 50)\n",
    "substrate_data, nw_data = get_arrays(sim, substrate_zvals, nw_zvals)\n",
    "plot_amplitudes(substrate_data)"
   ]
  },
  {
   "cell_type": "markdown",
   "metadata": {},
   "source": [
    "Ok, what's going on here? Why do we get 26 amplitudes? I would like to (hopefully) clarify what these amplitudes correspond to \n",
    "physically and finally determine \"how many basis terms\" are actually being used when I run simulations. \n",
    "So, I'll start by establishing their notation. In real space imagine we have a square unit cell defined by the following\n",
    "set of basis vectors:\n",
    "\n",
    "\\begin{align}\n",
    "    L_r &= \\left[ \\vec{r_1} \\vec{r_2}\\right] \\\\\n",
    "        &= \n",
    "    \\begin{bmatrix}\n",
    "            L & 0 \\\\\n",
    "            0 & L\n",
    "    \\end{bmatrix}\n",
    "\\end{align}\n",
    "\n",
    "where the vectors are contained in columns of the matrix above. We can get the reciprocal lattice unit vectors by \n",
    " \n",
    "\\begin{align}\n",
    "    L_k &= 2 \\pi L_r^{-T} \\\\\n",
    "         &= [ \\vec{u}_1 \\vec{u}_2 ]\\\\\n",
    "        &= \\frac{2 \\pi}{L} \n",
    "    \\begin{bmatrix}\n",
    "            1 & 0 \\\\\n",
    "            0 & 1\n",
    "    \\end{bmatrix}\n",
    "\\end{align}\n",
    "\n",
    "The paper refers to $\\vec{G}$ as a \"reciprocal lattice vector\". I take this to mean a linear combination of our\n",
    "basis vectors in reciprocal space, so:\n",
    "\n",
    "\\begin{equation}\n",
    "    \\vec{G} = m \\cdot \\vec{u_1} + n \\cdot \\vec{u_2}\n",
    "\\end{equation}\n",
    "\n",
    "where $m$ and $n$ are integers. The fields are then approximated as \n",
    "\n",
    "\\begin{equation}\n",
    "    \\vec{E}(\\vec{r}, z) = \\sum_{\\vec{G}} \\vec{E}_G(z) e^{i (\\vec{k} + \\vec{G}) \\cdot \\vec{r}}\n",
    "\\end{equation}\n",
    "\n",
    "where $\\vec{r}$ is the in-plane vector in real space and $\\vec{k}$ is the in-plane component of the wave \n",
    "vector of the incident light. For normally incident light we can set $\\vec{k}$ to zero. Pulling from Eq. 24\n",
    "of the S4 paper, these $\\vec{E}_G(z)$ must look something like this:\n",
    "\n",
    "\\begin{equation}\n",
    "\t\\vec{E}_G(z) = \\left[ \\phi_{G,x} \\hat{x} + \\phi_{G,y} \\hat{y} - \\frac{G_x \\phi_{G,x} + G_y \\phi_{G,y}}{q} \\hat{z} \\right]\n",
    "    e^{iqz}\n",
    "\\end{equation}\n",
    "\n",
    "where q ends up being the eigenvalue of an eigenvalue equation, and the $\\phi$ are the components of the eigenvector.\n",
    "The fact that there are 2 $\\phi$ for every G explains why we get 26 amplitudes (explained in detail below). \n",
    "\n",
    "Now, for a \"circular  truncation\" we take all $\\vec{G}$ within a circular region centered around the origin. The radius of this\n",
    "region is determined by the parameter I provide as input to my simulations, what I've been referring to \n",
    "(somewhat imprecisely) as the number of basis terms (which I will call $N_G$ from now on). The circle must\n",
    "contain $N_G$ points, which are located at some $\\vec{G}$. This implicitly defines the radius in k space.\n",
    "With a square unit cell of side length $L$, the areal ensity of \"G-points\" in k-space must be:\n",
    "\n",
    "\\begin{equation}\n",
    "\t\\rho_k = \\frac{L}{2 \\pi}\\frac{L}{2 \\pi}\n",
    "\\end{equation}\n",
    "\n",
    "We can multiply this by the area of the circle and set equal to $N_G$ to find the maximal k-vector\n",
    "in either dimension we can reach\n",
    "\n",
    "\\begin{align}\n",
    "\t\\frac{L^2}{4 \\pi^2} \\cdot \\pi k_{\\mathrm{max}}^2 &= N_G \\\\\n",
    "    k_{\\mathrm{max}} &= \\sqrt{\\frac{4 \\pi N_G}{L^2}}\n",
    "\\end{align}"
   ]
  },
  {
   "cell_type": "code",
   "execution_count": null,
   "metadata": {},
   "outputs": [],
   "source": [
    "plot_kspace(.25, 20)"
   ]
  },
  {
   "cell_type": "markdown",
   "metadata": {},
   "source": [
    "This radius is in theory the largest k-vector magnitude we could obtain. However, S4 chooses the circle \n",
    "automatically to \"preserve symmetry considerations\" while _also_ not exceeding the maximum number of\n",
    "G-vectors specified by the user. By \"preserve symmentry considerations\", they mean if you have some\n",
    "vector $\\vec{G}$ in reciprocal space, you must also include $-\\vec{G}$. If we include all the dots\n",
    "shown in the circle above, we would hit 21 G-vectors. This is more than we asked for, so S4 shrinks\n",
    "the circle like so:"
   ]
  },
  {
   "cell_type": "code",
   "execution_count": null,
   "metadata": {},
   "outputs": [],
   "source": [
    "plot_kspace(.25, 20, show_actual=True)"
   ]
  },
  {
   "cell_type": "markdown",
   "metadata": {},
   "source": [
    "The red circle now only contains 13 points, which is less than the maximum we requested, and the maximal distance we ever move\n",
    "along either direction in k-space is $4 \\pi/L$. Now we can see why we get 26 amplitudes. S4 has truncated to 13 lattice points\n",
    "in k-space, and each lattice point has a mode with an x and y amplitude. This ends up giving $2 \\cdot 13$ amplitudes. So the\n",
    "\"number of basis terms\" ($N_G$) I specify is really \"the maximum number of points in k-space to include\", and this number can \n",
    "possibly be reduced depending on the unit vectors I define in real space and whether or not $N_G$ points will fit into a circle\n",
    "symmetrically. \n",
    "\n",
    "However, this still does not explain which numbers in the list of amplitudes I get back correspond to which points in k-space.\n",
    "There is a function in the Lua API called GetDiffractedOrder. It appears to take the indices (m, n) of the G vector as arguments,\n",
    "and returns the 1-based index  you need to use to extract the power of that mode/diffraction order from the 1-D array returned by GetAmplitudes.\n",
    "The documentation says this works for unpatterned layers, but definitively does not work for patterned layers and that, in the\n",
    "case of a patterned layer, the GetDiffractedOrder function \"returns the index of an arbitrary layer eigenmode\". This GetDiffractedOrder\n",
    "function is also not exposed in the Python API, so if I want to use it I have to write the underlying C code that glues Python and the\n",
    "S4 C API together.\n",
    "\n",
    "So with this information all in hand, here are the rest of the plots. I plot the z-dependence of the first amplitude of the forward propagating \n",
    "modes below. Then, I look at the nanowire layer and plot all the same stuff. Finally, I change $N_G$ and repeat."
   ]
  },
  {
   "cell_type": "code",
   "execution_count": null,
   "metadata": {},
   "outputs": [],
   "source": [
    "plt.figure()\n",
    "plt.plot(substrate_zvals, substrate_data[0, 0, :].real, label='Real')\n",
    "plt.plot(substrate_zvals, substrate_data[0, 0, :].imag, label='Imag')\n",
    "plt.xlabel('Distance from top of layer (um)')\n",
    "plt.ylabel('Mode Amplitude')\n",
    "plt.legend()\n",
    "plt.title('Amplitude of a Single Mode against Depth in Layer')\n",
    "plt.show()"
   ]
  },
  {
   "cell_type": "markdown",
   "metadata": {},
   "source": [
    "So this is reassuring. We can see the $e^{iqz}$ dependence in the amplitude, as well as the physically expected attenuation with depth\n",
    "into an absorbing layer. "
   ]
  },
  {
   "cell_type": "markdown",
   "metadata": {},
   "source": [
    "## Layer = Nanowire "
   ]
  },
  {
   "cell_type": "code",
   "execution_count": null,
   "metadata": {},
   "outputs": [],
   "source": [
    "plot_amplitudes(nw_data)"
   ]
  },
  {
   "cell_type": "markdown",
   "metadata": {},
   "source": [
    "So this is interesting, we can clearly see the nanowire has some highly resonant modes with larger amplitude than\n",
    "all other modes. Checking out the z-dependence of some of these higher-amplitude modes below:"
   ]
  },
  {
   "cell_type": "code",
   "execution_count": null,
   "metadata": {},
   "outputs": [],
   "source": [
    "plt.figure()\n",
    "plt.plot(nw_zvals, nw_data[0, 5, :].real, label='Real')\n",
    "plt.plot(nw_zvals, nw_data[0, 5, :].imag, label='Imag')\n",
    "plt.xlabel('Distance from top of layer (um)')\n",
    "plt.ylabel('Mode Amplitude')\n",
    "plt.legend()\n",
    "plt.title('Amplitude of a Single Mode against Depth in Layer')\n",
    "plt.show()"
   ]
  },
  {
   "cell_type": "markdown",
   "metadata": {},
   "source": [
    "# $N_G$ = 200"
   ]
  },
  {
   "cell_type": "code",
   "execution_count": null,
   "metadata": {},
   "outputs": [],
   "source": [
    "conf[('Simulation','params','numbasis','value')] = 200\n",
    "sim = setup_sim(conf)\n",
    "substrate_data, nw_data = get_arrays(sim, substrate_zvals, nw_zvals)"
   ]
  },
  {
   "cell_type": "markdown",
   "metadata": {},
   "source": [
    "## Layer = Substrate"
   ]
  },
  {
   "cell_type": "code",
   "execution_count": null,
   "metadata": {},
   "outputs": [],
   "source": [
    "plot_amplitudes(substrate_data)"
   ]
  },
  {
   "cell_type": "code",
   "execution_count": null,
   "metadata": {},
   "outputs": [],
   "source": [
    "plt.figure()\n",
    "plt.plot(substrate_zvals, substrate_data[0, 0, :].real, label='Real')\n",
    "plt.plot(substrate_zvals, substrate_data[0, 0, :].imag, label='Imag')\n",
    "plt.xlabel('Distance from top of layer (um)')\n",
    "plt.ylabel('Mode Amplitude')\n",
    "plt.legend()\n",
    "plt.title('Amplitude of a Single Mode against Depth in Layer')\n",
    "plt.show()"
   ]
  },
  {
   "cell_type": "markdown",
   "metadata": {},
   "source": [
    "## Layer = Nanowire"
   ]
  },
  {
   "cell_type": "code",
   "execution_count": null,
   "metadata": {},
   "outputs": [],
   "source": [
    "plot_amplitudes(nw_data)"
   ]
  },
  {
   "cell_type": "code",
   "execution_count": null,
   "metadata": {},
   "outputs": [],
   "source": [
    "plt.figure()\n",
    "plt.plot(nw_zvals, nw_data[0, 40, :].real, label='Real')\n",
    "plt.plot(nw_zvals, nw_data[0, 40, :].imag, label='Imag')\n",
    "plt.xlabel('Distance from top of layer (um)')\n",
    "plt.ylabel('Mode Amplitude')\n",
    "plt.legend()\n",
    "plt.title('Amplitude of a Single Mode against Depth in Layer')\n",
    "plt.show()"
   ]
  },
  {
   "cell_type": "markdown",
   "metadata": {},
   "source": [
    "# $N_G$ = 300"
   ]
  },
  {
   "cell_type": "code",
   "execution_count": null,
   "metadata": {},
   "outputs": [],
   "source": [
    "conf[('Simulation','params','numbasis','value')] = 300\n",
    "sim = setup_sim(conf)\n",
    "substrate_data, nw_data = get_arrays(sim, substrate_zvals, nw_zvals)"
   ]
  },
  {
   "cell_type": "markdown",
   "metadata": {},
   "source": [
    "## Layer = Substrate"
   ]
  },
  {
   "cell_type": "code",
   "execution_count": null,
   "metadata": {},
   "outputs": [],
   "source": [
    "plot_amplitudes(substrate_data)"
   ]
  },
  {
   "cell_type": "code",
   "execution_count": null,
   "metadata": {},
   "outputs": [],
   "source": [
    "plt.figure()\n",
    "plt.plot(substrate_zvals, substrate_data[0, 0, :].real, label='Real')\n",
    "plt.plot(substrate_zvals, substrate_data[0, 0, :].imag, label='Imag')\n",
    "plt.xlabel('Distance from top of layer (um)')\n",
    "plt.ylabel('Mode Amplitude')\n",
    "plt.legend()\n",
    "plt.title('Amplitude of a Single Mode against Depth in Layer')\n",
    "plt.show()"
   ]
  },
  {
   "cell_type": "markdown",
   "metadata": {},
   "source": [
    "## Layer = Nanowire"
   ]
  },
  {
   "cell_type": "code",
   "execution_count": null,
   "metadata": {},
   "outputs": [],
   "source": [
    "plot_amplitudes(nw_data)"
   ]
  },
  {
   "cell_type": "code",
   "execution_count": null,
   "metadata": {},
   "outputs": [],
   "source": [
    "plt.figure()\n",
    "plt.plot(substrate_zvals, nw_data[0, 40, :].real, label='Real')\n",
    "plt.plot(substrate_zvals, nw_data[0, 40, :].imag, label='Imag')\n",
    "plt.xlabel('Distance from top of layer (um)')\n",
    "plt.ylabel('Mode Amplitude')\n",
    "plt.legend()\n",
    "plt.title('Amplitude of a Single Mode against Depth in Layer')\n",
    "plt.show()"
   ]
  }
 ],
 "metadata": {
  "kernelspec": {
   "display_name": "nanowire",
   "language": "python",
   "name": "nanowire"
  },
  "language_info": {
   "codemirror_mode": {
    "name": "ipython",
    "version": 3
   },
   "file_extension": ".py",
   "mimetype": "text/x-python",
   "name": "python",
   "nbconvert_exporter": "python",
   "pygments_lexer": "ipython3",
   "version": "3.5.2"
  },
  "toc": {
   "nav_menu": {
    "height": "168px",
    "width": "255px"
   },
   "number_sections": true,
   "sideBar": true,
   "skip_h1_title": false,
   "toc_cell": false,
   "toc_position": {},
   "toc_section_display": "block",
   "toc_window_display": false
  }
 },
 "nbformat": 4,
 "nbformat_minor": 1
}
