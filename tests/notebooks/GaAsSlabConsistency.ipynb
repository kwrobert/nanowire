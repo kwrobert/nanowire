{
 "cells": [
  {
   "cell_type": "code",
   "execution_count": 13,
   "metadata": {},
   "outputs": [
    {
     "name": "stdout",
     "output_type": "stream",
     "text": [
      "The autoreload extension is already loaded. To reload it, use:\n",
      "  %reload_ext autoreload\n"
     ]
    }
   ],
   "source": [
    "import os\n",
    "import numpy as np\n",
    "from nanowire.optics.simulate import Simulator\n",
    "from nanowire.optics.postprocess import Simulation\n",
    "from nanowire.optics.utils.utils import setup_sim\n",
    "from nanowire.optics.utils.config import Config\n",
    "import scipy.constants as consts\n",
    "import scipy.integrate as intg\n",
    "%load_ext autoreload\n",
    "%autoreload 2"
   ]
  },
  {
   "cell_type": "markdown",
   "metadata": {},
   "source": [
    "# Introduction"
   ]
  },
  {
   "cell_type": "markdown",
   "metadata": {},
   "source": [
    "This notebook is intended to check the consistency between 3 different methods for calculating the absorption of a layer in S4.\n",
    "The methods are as follows\n",
    "\n",
    "1. Using the GetPowerFlux method and taking the difference between what enters the top and leaves the bottom. \n",
    "2. Using the GetVolumeIntegral function\n",
    "3. Integrate the raw field output numerically\n",
    "\n",
    "All of these methods should agree with one another, so let's verify this. Below I just set up the sim so it's ready for all subsequent computations"
   ]
  },
  {
   "cell_type": "code",
   "execution_count": 2,
   "metadata": {},
   "outputs": [],
   "source": [
    "conf = Config('GaAs_slab.yml')\n",
    "sim = Simulator(conf)\n",
    "sim = setup_sim(sim)"
   ]
  },
  {
   "cell_type": "code",
   "execution_count": 3,
   "metadata": {},
   "outputs": [],
   "source": [
    "fluxes = sim.get_fluxes()"
   ]
  },
  {
   "cell_type": "code",
   "execution_count": 4,
   "metadata": {},
   "outputs": [
    {
     "name": "stdout",
     "output_type": "stream",
     "text": [
      "{'Substrate': ((1.7579049646056364+0.011467893212008501j), (-0.0987989801440658-0.011467893212008501j)), 'Below_Air': ((0.47642383837444036+0j), 0j), 'Air': ((2+0j), (-0.3408940155385014+0j)), 'Substrate_bottom': ((0.7123928372666464+0.011930675216029193j), (-0.23596899889220918-0.011930675216029193j)), 'Below_Air_bottom': ((0.47642383837444036+0j), 0j), 'Air_bottom': ((2+0j), (-0.3408940155385014+0j))}\n"
     ]
    }
   ],
   "source": [
    "print(sim.flux_dict)"
   ]
  },
  {
   "cell_type": "markdown",
   "metadata": {},
   "source": [
    "# Poynting Flux Method"
   ]
  },
  {
   "cell_type": "code",
   "execution_count": 5,
   "metadata": {},
   "outputs": [
    {
     "name": "stdout",
     "output_type": "stream",
     "text": [
      "-------------------------\n",
      "Layer: Substrate\n",
      "Incident Power: 1.7579423702612853\n",
      "Reflected Power: 0.09946230970689117\n",
      "Transmitted Power: 0.712492733717287\n",
      "Backward_bottom: 0.23627041594178014\n",
      "Absorbed in Layer: 1.1826821460871333\n",
      "-------------------------\n",
      "Layer: Below_Air\n",
      "Incident Power: 0.47642383837444036\n",
      "Reflected Power: 0.0\n",
      "Transmitted Power: 0.47642383837444036\n",
      "Backward_bottom: 0.0\n",
      "Absorbed in Layer: 0.0\n",
      "-------------------------\n",
      "Layer: Air\n",
      "Incident Power: 2.0\n",
      "Reflected Power: 0.3408940155385014\n",
      "Transmitted Power: 2.0\n",
      "Backward_bottom: 0.3408940155385014\n",
      "Absorbed in Layer: 0.0\n",
      "-------------------------\n",
      "Summed Absorption= 1.1826821460871333\n",
      "GaAs Absorption = 0.5913410730435666\n"
     ]
    }
   ],
   "source": [
    "summed_absorbed_power = 0\n",
    "abs_dict_fluxmethod = {}\n",
    "for layer, (forw, back) in fluxes.items():\n",
    "    if '_bottom' in layer:\n",
    "        continue\n",
    "    incident_power = np.absolute(forw)\n",
    "    reflected_power = np.absolute(back)\n",
    "    print('-'*25)\n",
    "    print('Layer: {}'.format(layer))\n",
    "    print('Incident Power: {}'.format(incident_power))\n",
    "    print('Reflected Power: {}'.format(reflected_power))\n",
    "    bottom = layer+'_bottom'\n",
    "    transmitted_power = np.absolute(fluxes[bottom][0])\n",
    "    bottom_reflected_power = np.absolute(fluxes[bottom][1])\n",
    "    print('Transmitted Power: {}'.format(transmitted_power))\n",
    "    print('Backward_bottom: {}'.format(bottom_reflected_power))\n",
    "    #absorbed = incident_power + bottom_reflected_power - transmitted_power - reflected_power\n",
    "    flux_top = np.absolute(forw+back)\n",
    "    flux_bottom = np.absolute(fluxes[bottom][0]+fluxes[bottom][1]) \n",
    "    absorbed = flux_top - flux_bottom\n",
    "    abs_dict_fluxmethod[layer] = absorbed\n",
    "    print('Absorbed in Layer: {}'.format(absorbed))\n",
    "    summed_absorbed_power += absorbed\n",
    "#print('Summed Absorption= {}'.format(np.absolute(summed_absorbed_power)))\n",
    "print('-'*25)\n",
    "print('Summed Absorption= {}'.format(summed_absorbed_power))\n",
    "print('GaAs Absorption = {}'.format(.5*abs_dict_fluxmethod['Substrate']))"
   ]
  },
  {
   "cell_type": "markdown",
   "metadata": {
    "collapsed": true
   },
   "source": [
    "# GetVolumeIntegral Method"
   ]
  },
  {
   "cell_type": "markdown",
   "metadata": {},
   "source": [
    "We use the provided S4 function to compute\n",
    "\n",
    "\\begin{equation}\n",
    "    \\int \\epsilon | \\vec{E} | ^2 dV\n",
    "\\end{equation}\n",
    "  \n",
    "where the integral is over the volume of the layer (that is what `Quantity = \"E\"` means). The total absorbed power is \n",
    "\n",
    "\\begin{equation}\n",
    "    P_{abs} = \\frac{\\omega}{2} \\int Im(\\epsilon) | \\vec{E} | ^2 dV\n",
    "\\end{equation}\n",
    "\n",
    "Where here we need to convert $\\omega$ into the Lorentz-Heaviside units used by S4. $|E|^2$ should be a purely real quantity,\n",
    "meaning we can take the imaginary part of the result of the integration and multiply by $\\omega / 2$ to get the absorbed \n",
    "power."
   ]
  },
  {
   "cell_type": "code",
   "execution_count": 14,
   "metadata": {},
   "outputs": [
    {
     "name": "stdout",
     "output_type": "stream",
     "text": [
      "Epsilon = (13.767280000000001+0.8017920000000001j)\n",
      "Converted freq = 1.3342563807926082\n",
      "Pabs = (0.809375168317913-7.507962969271358e-18j)\n",
      "Pabs2  = (0.8066392288407569-0.00273593947715617j)\n"
     ]
    }
   ],
   "source": [
    "int_result = sim.s4.GetLayerVolumeIntegral(Layer=\"Substrate\", Quantity=\"E\")\n",
    "int_result2 = sim.s4.GetLayerVolumeIntegral(Layer=\"Substrate\", Quantity=\"e\")\n",
    "epsilon = sim._get_epsilon(os.path.expandvars(\n",
    "    '$HOME/software/nanowire/nanowire/NK/006_GaAs_nk_Walker_modified_Hz.txt'))\n",
    "print('Epsilon = {}'.format(epsilon))\n",
    "si_freq = sim.conf[('Simulation', 'params', 'frequency', 'value')]\n",
    "base_unit = sim.conf[('Simulation', 'base_unit')]\n",
    "c_conv = consts.c / base_unit \n",
    "f_conv = si_freq / c_conv\n",
    "print('Converted freq = {}'.format(f_conv))\n",
    "print(\"Pabs = {}\".format(.25*f_conv*int_result))\n",
    "print(\"Pabs2  = {}\".format(complex(.25*f_conv*epsilon.real*int_result2.real,.25*f_conv*epsilon.imag*int_result2.imag)))"
   ]
  },
  {
   "cell_type": "markdown",
   "metadata": {},
   "source": [
    "So this is a bit odd. Two methods of computing the same exact integral do not agree about the imaginary componented. The only \n",
    "difference here is I pulled the $\\epsilon$ outside the integral because we know it is uniform over an \n",
    "isotropic slab. If we do the same thing but using the Lua API and the latest version of S4 on the master branch we get\n",
    "similiar results. The lua script is below."
   ]
  },
  {
   "cell_type": "code",
   "execution_count": 8,
   "metadata": {},
   "outputs": [
    {
     "name": "stdout",
     "output_type": "stream",
     "text": [
      "S = S4.NewSimulation()\r\n",
      "-- Params\r\n",
      "period = .25\r\n",
      "numbasis = 300\r\n",
      "eps_real = 13.77\r\n",
      "eps_imag = 0.8\r\n",
      "thickness = .5\r\n",
      "freq = 1.3342563807926082\r\n",
      "--\r\n",
      "S:SetVerbosity(9)\r\n",
      "S:SetLattice({period,0}, {0,period})\r\n",
      "S:SetNumG(numbasis)\r\n",
      "S:AddMaterial('Vacuum', {1.0, 0})\r\n",
      "S:AddMaterial('GaAs', {eps_real, eps_imag})\r\n",
      "S:AddLayer('top', 0, 'Vacuum')\r\n",
      "S:AddLayer('slab', thickness, 'GaAs')\r\n",
      "S:AddLayerCopy('bottom', 0, 'top')\r\n",
      "S:SetExcitationPlanewave(\r\n",
      "        {0, 0}, -- phi in [0,180), theta in [0,360)\r\n",
      "        {1, 0}, -- s-polarization amplitude and phase in degrees\r\n",
      "        {0, 0}) -- p-polarization\r\n",
      "S:SetFrequency(freq)\r\n",
      "tfr, tbr, tfi, tbi = S:GetPowerFlux('top')\r\n",
      "bfr, bbr, bfi, bbi = S:GetPowerFlux('bottom')\r\n",
      "print(\"### Top ###\")\r\n",
      "print(tfr)\r\n",
      "print(tbr)\r\n",
      "print(tfi)\r\n",
      "print(tbi)\r\n",
      "print(\"### Bottom ###\")\r\n",
      "print(bfr)\r\n",
      "print(bbr)\r\n",
      "print(bfi)\r\n",
      "print(bbi)\r\n",
      "pabs_r = (tfr - bfr) + (tbr- bbr)\r\n",
      "pabs_i = (tfi - bfi) + (tbi- bbi)\r\n",
      "print(\"Power Absorbed Real: \" .. pabs_r)\r\n",
      "print(\"Power Absorbed Imag: \" .. pabs_i)\r\n",
      "int_r, int_i = S:GetLayerElectricEnergyDensityIntegral('slab')\r\n",
      "print(\"Integral of epsilon |E|^2 Real: \" .. freq*.5*int_r)\r\n",
      "print(\"Integral of epsilon |E|^2 Imag: \" .. freq*.5*int_i)\r\n",
      "int_r, int_i = S:GetLayerElectricFieldIntensityIntegral('slab')\r\n",
      "print(\"Integral of |E|^2 epsilon outside Real: \" .. freq*.5*eps_real*int_r)\r\n",
      "print(\"Integral of |E|^2 epsilon outside Imag: \" .. freq*.5*eps_imag*int_i)\r\n"
     ]
    }
   ],
   "source": [
    "%cat volume_integral.lua"
   ]
  },
  {
   "cell_type": "markdown",
   "metadata": {},
   "source": [
    "Here is what we get if we run it"
   ]
  },
  {
   "cell_type": "code",
   "execution_count": 10,
   "metadata": {},
   "outputs": [
    {
     "data": {
      "text/plain": [
       "['[1] Computing solution in layer: top',\n",
       " '[1] Computing modes of layer: top',\n",
       " '[1] Computing modes of layer: slab',\n",
       " '[1] Computing solution in layer: bottom',\n",
       " '### Top ###',\n",
       " '1',\n",
       " '-0.1698995526786',\n",
       " '6.9388939039072e-18',\n",
       " '-6.9388939039072e-18',\n",
       " '### Bottom ###',\n",
       " '0.23890877416073',\n",
       " '0',\n",
       " '0',\n",
       " '0',\n",
       " 'Power Absorbed Real: 0.59119167316067',\n",
       " 'Power Absorbed Imag: 0',\n",
       " '[1] Computing solution in layer: slab',\n",
       " 'Integral of epsilon |E|^2 Real: 0.81113679072971',\n",
       " 'Integral of epsilon |E|^2 Imag: 2.9098357364357e-18',\n",
       " 'Integral of |E|^2 epsilon outside Real: 0.80840817242183',\n",
       " 'Integral of |E|^2 epsilon outside Imag: -0.0027286183078787']"
      ]
     },
     "execution_count": 10,
     "metadata": {},
     "output_type": "execute_result"
    }
   ],
   "source": [
    "!!$HOME/software/S4/build/S4 volume_integral.lua"
   ]
  },
  {
   "cell_type": "markdown",
   "metadata": {},
   "source": [
    "So first of all it seems like the integrals are time-averaged when using the Lua API, but are NOT time averaged when \n",
    "using the Python API (thats why we multiply by .25 when using the Python API, but multiply by .5 using the Lua API. \n",
    "Factor of .5 from the equation for Pabs, and factor of .5 from time averaging). When doing this, the results seem to\n",
    "agree quite well. However, regardless of which API we use, it is troubling that the imaginary components do not agree\n",
    "between the two rearrangements of the expression for the absorbed power."
   ]
  },
  {
   "cell_type": "markdown",
   "metadata": {},
   "source": [
    "# Integrate Raw Fields"
   ]
  },
  {
   "cell_type": "markdown",
   "metadata": {},
   "source": [
    "This approach collects the raw fields from S4 and integrates them over the volume of the layer"
   ]
  },
  {
   "cell_type": "code",
   "execution_count": 17,
   "metadata": {},
   "outputs": [],
   "source": [
    "sim.get_field()"
   ]
  },
  {
   "cell_type": "code",
   "execution_count": 20,
   "metadata": {},
   "outputs": [
    {
     "name": "stdout",
     "output_type": "stream",
     "text": [
      "(13.767280000000001+0.8017920000000001j)\n",
      "Pabs = 0.011723507855552075\n"
     ]
    }
   ],
   "source": [
    "Ex = np.absolute(sim.data['Ex'])\n",
    "Ey = np.absolute(sim.data['Ey'])\n",
    "Ez = np.absolute(sim.data['Ez'])\n",
    "normE = np.sqrt(Ex**2 + Ey**2 + Ex**2)\n",
    "zsamps = sim.conf[('Simulation', 'z_samples')]\n",
    "xsamps = sim.conf[('Simulation', 'x_samples')]\n",
    "ysamps = sim.conf[('Simulation', 'y_samples')]\n",
    "height = sim.get_height()\n",
    "z_vals = np.linspace(0, height, zsamps)\n",
    "x_vals = np.linspace(0, sim.period, xsamps)\n",
    "y_vals = np.linspace(0, sim.period, ysamps)\n",
    "z_integral = intg.trapz(normE, x=z_vals, axis=0)\n",
    "x_integral = intg.trapz(z_integral, x=x_vals, axis=0)\n",
    "y_integral = intg.trapz(x_integral, x=y_vals, axis=0)\n",
    "epsilon = sim._get_epsilon(os.path.expandvars(\n",
    "    '$HOME/software/nanowire/nanowire/NK/006_GaAs_nk_Walker_modified_Hz.txt'))\n",
    "print(epsilon)\n",
    "si_freq = sim.conf[('Simulation', 'params', 'frequency', 'value')]\n",
    "base_unit = sim.conf[('Simulation', 'base_unit')]\n",
    "c_conv = consts.c / base_unit \n",
    "f_conv = si_freq / c_conv\n",
    "print(\"Pabs = {}\".format(.5*f_conv*epsilon.imag*y_integral))"
   ]
  },
  {
   "cell_type": "code",
   "execution_count": 21,
   "metadata": {},
   "outputs": [
    {
     "name": "stdout",
     "output_type": "stream",
     "text": [
      "Layer : Substrate\n",
      "3.71257179904\n",
      "0.108\n",
      "0.801915508592\n",
      "Slice: (slice(0, 150, None), Ellipsis)\n",
      "Integrated Absorbed Imag: 0.0029416146665228347\n",
      "Integrated Absorbed Real: 0.10103438717459336\n"
     ]
    }
   ],
   "source": [
    "sim_proc = Simulation(simulator=sim)\n",
    "try:\n",
    "    Esq = sim_proc.data['normEsquared']\n",
    "except KeyError:\n",
    "    Esq = sim_proc.normEsquared()\n",
    "layer_name = 'Substrate'\n",
    "layer_obj = sim_proc.layers[layer_name]\n",
    "print(\"Layer : {}\".format(layer_name))\n",
    "si_freq = sim_proc.conf[('Simulation', 'params', 'frequency', 'value')]\n",
    "base_unit = sim_proc.conf[('Simulation', 'base_unit')]\n",
    "c_conv = consts.c / base_unit \n",
    "f_conv = si_freq / c_conv\n",
    "n_mat, k_mat = layer_obj.get_nk_matrix(si_freq)\n",
    "print(n_mat[0,0])\n",
    "print(k_mat[0,0])\n",
    "print(2*n_mat[0,0,]*k_mat[0,0])\n",
    "# n and k could be functions of space, so we need to multiply the\n",
    "# fields by n and k before integrating\n",
    "print('Slice: {}'.format(layer_obj.slice))\n",
    "arr_slice = Esq[layer_obj.slice]*n_mat*k_mat\n",
    "zsamps = layer_obj.iend - layer_obj.istart\n",
    "z_vals = np.linspace(0, layer_obj.thickness, zsamps)\n",
    "x_vals = np.linspace(0, sim_proc.period, sim_proc.x_samples)\n",
    "y_vals = np.linspace(0, sim_proc.period, sim_proc.y_samples)\n",
    "z_integral = intg.trapz(arr_slice, x=z_vals, axis=0)\n",
    "x_integral = intg.trapz(z_integral, x=x_vals, axis=0)\n",
    "y_integral = intg.trapz(x_integral, x=y_vals, axis=0)\n",
    "p_abs_imag = .5*f_conv*y_integral\n",
    "arr_slice = Esq[layer_obj.slice]*(n_mat**2 - k_mat**2)\n",
    "zsamps = layer_obj.iend - layer_obj.istart\n",
    "z_vals = np.linspace(0, layer_obj.thickness, zsamps)\n",
    "x_vals = np.linspace(0, sim_proc.period, sim_proc.x_samples)\n",
    "y_vals = np.linspace(0, sim_proc.period, sim_proc.y_samples)\n",
    "z_integral = intg.trapz(arr_slice, x=z_vals, axis=0)\n",
    "x_integral = intg.trapz(z_integral, x=x_vals, axis=0)\n",
    "y_integral = intg.trapz(x_integral, x=y_vals, axis=0)\n",
    "p_abs_real = .5*f_conv*y_integral\n",
    "print(\"Integrated Absorbed Imag: {}\".format(p_abs_imag))\n",
    "print(\"Integrated Absorbed Real: {}\".format(p_abs_real))\n"
   ]
  },
  {
   "cell_type": "code",
   "execution_count": null,
   "metadata": {},
   "outputs": [],
   "source": []
  },
  {
   "cell_type": "code",
   "execution_count": null,
   "metadata": {},
   "outputs": [],
   "source": []
  }
 ],
 "metadata": {
  "kernelspec": {
   "display_name": "nanowire",
   "language": "python",
   "name": "nanowire"
  },
  "language_info": {
   "codemirror_mode": {
    "name": "ipython",
    "version": 3
   },
   "file_extension": ".py",
   "mimetype": "text/x-python",
   "name": "python",
   "nbconvert_exporter": "python",
   "pygments_lexer": "ipython3",
   "version": "3.5.2"
  },
  "toc": {
   "nav_menu": {
    "height": "48px",
    "width": "254px"
   },
   "number_sections": true,
   "sideBar": true,
   "skip_h1_title": false,
   "toc_cell": false,
   "toc_position": {},
   "toc_section_display": "block",
   "toc_window_display": false
  }
 },
 "nbformat": 4,
 "nbformat_minor": 1
}
