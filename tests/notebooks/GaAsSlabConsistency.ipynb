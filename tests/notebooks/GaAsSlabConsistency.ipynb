{
 "cells": [
  {
   "cell_type": "code",
   "execution_count": 1,
   "metadata": {},
   "outputs": [],
   "source": [
    "import os\n",
    "import numpy as np\n",
    "from nanowire.optics.simulate import Simulator\n",
    "from nanowire.optics.postprocess import Simulation\n",
    "from nanowire.optics.utils.utils import setup_sim\n",
    "from nanowire.optics.utils.config import Config\n",
    "import scipy.constants as consts\n",
    "import scipy.integrate as intg\n",
    "import IPython.display as disp\n",
    "import matplotlib.pyplot as plt\n",
    "%load_ext autoreload \n",
    "%autoreload 2"
   ]
  },
  {
   "cell_type": "markdown",
   "metadata": {},
   "source": [
    "# Polar Angle = 0"
   ]
  },
  {
   "cell_type": "markdown",
   "metadata": {},
   "source": [
    "This notebook is intended to check the consistency between 3 different methods for calculating the absorption of a layer in S4.\n",
    "The methods are as follows\n",
    "\n",
    "1. Using the GetPowerFlux method and taking the difference between what enters the the layer and what leaves the the layer. \n",
    "2. Using the GetVolumeIntegral function\n",
    "3. Integrate the raw field output numerically\n",
    "\n",
    "All of these methods should agree with one another, so let's verify this. Below I just set up the sim so it's ready for all subsequent computations"
   ]
  },
  {
   "cell_type": "code",
   "execution_count": 2,
   "metadata": {},
   "outputs": [
    {
     "name": "stdout",
     "output_type": "stream",
     "text": [
      "0\n"
     ]
    }
   ],
   "source": [
    "conf = Config('GaAs_slab.yml')\n",
    "sim = Simulator(conf)\n",
    "sim = setup_sim(sim)\n",
    "Zo = consts.physical_constants['characteristic impedance of vacuum'][0]"
   ]
  },
  {
   "cell_type": "markdown",
   "metadata": {},
   "source": [
    "## Poynting Flux Method"
   ]
  },
  {
   "cell_type": "markdown",
   "metadata": {},
   "source": [
    "So at every layer interface, we have both forward and backward modes that each individually carry power. \n",
    "The forward direction signifies waves moving downwards, and the backward direction signifies waves moving\n",
    "upward. A quick note about the indices on the terms. The first index describes the direction (f = forward, b = backward) and the second index describes where we are in the layer (t = top, b = bottom).  Using this\n",
    "convention, the total power absorbed should be \n",
    "\n",
    "\\begin{equation}\n",
    "    P_{abs} = P_{f,t} + P_{b, b} - (P_{b, t} + P_{f, b})\n",
    "\\end{equation}\n",
    "\n",
    "When S4 returns these numbers, it sticks a minus sign in front of the backward components to signify they are\n",
    "traveling in the negative z directon (upwards). So, we need to stick an extra minus sign in front of a few\n",
    "terms as follows:\n",
    "\n",
    "\\begin{equation}\n",
    "    P_{abs} = P_{f,t} + -1 \\cdot P_{b, b} - (-1 \\cdot P_{b, t} + P_{f, b})\n",
    "\\end{equation}\n",
    "\n",
    "And this correctly describes the total amount of power entering minus the total amount of power leaving. I \n",
    "implement this calculation below."
   ]
  },
  {
   "cell_type": "code",
   "execution_count": 3,
   "metadata": {},
   "outputs": [],
   "source": [
    "fluxes = sim.get_fluxes()"
   ]
  },
  {
   "cell_type": "code",
   "execution_count": 4,
   "metadata": {},
   "outputs": [
    {
     "name": "stdout",
     "output_type": "stream",
     "text": [
      "-------------------------\n",
      "Layer: Substrate\n",
      "Forward Top: (0.8789524823027968+0.005733946606004129j)\n",
      "Backward Top: (-0.04939949007203206-0.005733946606004129j)\n",
      "Forward Bottom: (0.3561964186333145+0.00596533760801447j)\n",
      "Backward Bottom: (-0.11798449944610266-0.00596533760801447j)\n",
      "-------------------------\n",
      "Layer: Air\n",
      "Forward Top: (1+0j)\n",
      "Backward Top: (-0.1704470077692355+0j)\n",
      "Forward Bottom: (1+0j)\n",
      "Backward Bottom: (-0.1704470077692355+0j)\n",
      "-------------------------\n",
      "Layer: Below_Air\n",
      "Forward Top: (0.23821191918721193+0j)\n",
      "Backward Top: 0j\n",
      "Forward Bottom: (0.23821191918721193+0j)\n",
      "Backward Bottom: 0j\n",
      "-------------------------\n",
      "GaAs Absorption = (4.905208811790044e-05+0j)\n"
     ]
    }
   ],
   "source": [
    "summed_absorbed_power = 0\n",
    "abs_dict_fluxmethod = {}\n",
    "for layer, (forw_top, back_top) in fluxes.items():\n",
    "    if '_bottom' in layer:\n",
    "        continue\n",
    "    bottom = layer+'_bottom'\n",
    "    forw_bot, back_bot = fluxes[bottom] \n",
    "    print('-'*25)\n",
    "    print('Layer: {}'.format(layer))\n",
    "    print('Forward Top: {}'.format(forw_top))\n",
    "    print('Backward Top: {}'.format(back_top))\n",
    "    print('Forward Bottom: {}'.format(forw_bot))\n",
    "    print('Backward Bottom: {}'.format(back_bot))\n",
    "    P_in = forw_top + -1*back_bot\n",
    "    P_out = forw_bot + -1*back_top\n",
    "    #print('Power Entering Layer: {}'.format(P_in))\n",
    "    #print('Power Leaving Layer: {}'.format(P_out))\n",
    "    P_abs = P_in - P_out\n",
    "    abs_dict_fluxmethod[layer] = .5*P_abs*(sim.period**2)/Zo\n",
    "    #print('Absorbed in Layer: {}'.format(P_abs))\n",
    "    summed_absorbed_power += P_abs\n",
    "#print('Summed Absorption= {}'.format(np.absolute(summed_absorbed_power)))\n",
    "print('-'*25)\n",
    "#print('Summed Absorption= {}'.format(summed_absorbed_power))\n",
    "print('GaAs Absorption = {}'.format(abs_dict_fluxmethod['Substrate']))"
   ]
  },
  {
   "cell_type": "markdown",
   "metadata": {},
   "source": [
    "So this just tells us that the incident power is equal to the amplitude of the incident electric field squared.\n",
    "This is what we would expect, because we know:\n",
    "\n",
    "\\begin{equation}\n",
    "    S = \\frac{1}{c \\mu_o} \\frac{|E|^2}{2}\n",
    "\\end{equation}\n",
    "\n",
    "where $S$ is the magnitude of the Poynting vector. In Lorentz-Heaviside units (the units used by S4), $c = \\mu_o = 1$, so this also tells us that the power \n",
    "values are indeed not time averaged and are missing that factor of .5. This also tells us something about what\n",
    "the power flux function is giving us back!!!!!! It's either not integrating, or dividing by the area, or something else like that. If it were integrating a uniform poynting vector magnitude "
   ]
  },
  {
   "cell_type": "markdown",
   "metadata": {
    "collapsed": true,
    "heading_collapsed": true
   },
   "source": [
    "## GetVolumeIntegral Method"
   ]
  },
  {
   "cell_type": "markdown",
   "metadata": {
    "hidden": true
   },
   "source": [
    "We use the provided S4 function to compute\n",
    "\n",
    "\\begin{equation}\n",
    "    \\int \\epsilon | \\vec{E} | ^2 dV\n",
    "\\end{equation}\n",
    "  \n",
    "(this is what `Quantity = \"E\"` means in the code below) where the integral is over the volume of the layer. The\n",
    "total absorbed power is \n",
    "\n",
    "\\begin{equation}\n",
    "    P_{abs} = -\\frac{\\omega}{2} \\int Im(\\epsilon) | \\vec{E} | ^2 dV\n",
    "\\end{equation}\n",
    "\n",
    "Where here we need to convert $\\omega$ into the Lorentz-Heaviside units used by S4. $|E|^2$ should be a purely real quantity,\n",
    "meaning we can take the imaginary part of the result of the integration and multiply by $\\omega / 2$ to get the absorbed \n",
    "power."
   ]
  },
  {
   "cell_type": "code",
   "execution_count": 5,
   "metadata": {
    "hidden": true
   },
   "outputs": [
    {
     "data": {
      "text/latex": [
       "$\\epsilon = (13.767280000000001+0.8017920000000001j)$"
      ],
      "text/plain": [
       "<IPython.core.display.Latex object>"
      ]
     },
     "metadata": {},
     "output_type": "display_data"
    },
    {
     "data": {
      "text/latex": [
       "SI $\\omega = 400000000000000.0$"
      ],
      "text/plain": [
       "<IPython.core.display.Latex object>"
      ]
     },
     "metadata": {},
     "output_type": "display_data"
    },
    {
     "data": {
      "text/latex": [
       "LH $\\omega = 1.3342563807926082$"
      ],
      "text/plain": [
       "<IPython.core.display.Latex object>"
      ]
     },
     "metadata": {},
     "output_type": "display_data"
    },
    {
     "data": {
      "text/latex": [
       "$\\int \\epsilon |E|^2 dV = (1.2132228557709261-1.3617848916844416e-17j)$"
      ],
      "text/plain": [
       "<IPython.core.display.Latex object>"
      ]
     },
     "metadata": {},
     "output_type": "display_data"
    },
    {
     "data": {
      "text/latex": [
       "$\\int |E|^2 dV = (0.08782575684281478-0.00511488029810639j)$"
      ],
      "text/plain": [
       "<IPython.core.display.Latex object>"
      ]
     },
     "metadata": {},
     "output_type": "display_data"
    },
    {
     "data": {
      "text/latex": [
       "$\\epsilon \\int |E|^2 dV = (1.2132228557709266+0j)$"
      ],
      "text/plain": [
       "<IPython.core.display.Latex object>"
      ]
     },
     "metadata": {},
     "output_type": "display_data"
    },
    {
     "data": {
      "text/latex": [
       "$P_{abs} = \\frac{\\omega}{2} Im(\\epsilon) \\int |E|^2 dV = (0.04697782572669934-0.0027359394771561056j)$"
      ],
      "text/plain": [
       "<IPython.core.display.Latex object>"
      ]
     },
     "metadata": {},
     "output_type": "display_data"
    },
    {
     "data": {
      "text/latex": [
       "$\\int \\epsilon |E|^2 + |H|^2 dV  = (2.4408002580650314-9.07971921549939e-18j)$"
      ],
      "text/plain": [
       "<IPython.core.display.Latex object>"
      ]
     },
     "metadata": {},
     "output_type": "display_data"
    }
   ],
   "source": [
    "int_result = sim.s4.GetLayerVolumeIntegral(Layer=\"Substrate\", Quantity=\"E\")\n",
    "int_result2 = sim.s4.GetLayerVolumeIntegral(Layer=\"Substrate\", Quantity=\"e\")\n",
    "int_result3 = sim.s4.GetLayerVolumeIntegral(Layer=\"Substrate\", Quantity=\"U\")\n",
    "epsilon = sim._get_epsilon(os.path.expandvars(\n",
    "    '$HOME/software/nanowire/nanowire/NK/006_GaAs_nk_Walker_modified_Hz.txt'))\n",
    "si_freq = sim.conf[('Simulation', 'params', 'frequency', 'value')]\n",
    "base_unit = sim.conf[('Simulation', 'base_unit')]\n",
    "c_conv = consts.c / base_unit \n",
    "f_conv = si_freq / c_conv\n",
    "o1 = disp.Latex('$\\epsilon = {}$'.format(epsilon))\n",
    "o2 = disp.Latex(\"SI $\\omega = {}$\".format(si_freq))\n",
    "o3 = disp.Latex(\"LH $\\omega = {}$\".format(f_conv))\n",
    "o4 = disp.Latex('$\\int \\epsilon |E|^2 dV = {}$'.format(int_result))\n",
    "o5 = disp.Latex('$\\int |E|^2 dV = {}$'.format(int_result2))\n",
    "o52 = disp.Latex('$\\epsilon \\int |E|^2 dV = {}$'.format(epsilon*int_result2))\n",
    "msg = \"$P_{abs} = \\\\frac{\\omega}{2} Im(\\epsilon) \\int |E|^2 dV = \" + \"{}$\".format(.5*f_conv*epsilon.imag*int_result2)\n",
    "o6 = disp.Latex(msg)\n",
    "o8 = disp.Latex(\"$\\int \\epsilon |E|^2 + |H|^2 dV  = {}$\".format(int_result3))\n",
    "test = disp.display(o1, o2, o3, o4, o5, o52, o6, o8)"
   ]
  },
  {
   "cell_type": "markdown",
   "metadata": {
    "hidden": true
   },
   "source": [
    "So this is a bit odd. We would expect\n",
    "\n",
    "\\begin{equation}\n",
    "    \\int |E|^2 dV\n",
    "\\end{equation}\n",
    "\n",
    "to be purely real, but it clearly is not. Don't know what to make of this.\n",
    "\n",
    "If we do the same thing but using the Lua API and the latest version of S4 on the master branch we get\n",
    "similiar results. The lua script is below."
   ]
  },
  {
   "cell_type": "code",
   "execution_count": 6,
   "metadata": {
    "hidden": true
   },
   "outputs": [
    {
     "name": "stdout",
     "output_type": "stream",
     "text": [
      "S = S4.NewSimulation()\r\n",
      "-- Params\r\n",
      "period = .25\r\n",
      "numbasis = 40\r\n",
      "eps_real = 13.77\r\n",
      "eps_imag = 0.8\r\n",
      "thickness = .5\r\n",
      "freq = 1.3342563807926082\r\n",
      "--\r\n",
      "S:SetVerbosity(9)\r\n",
      "S:SetLattice({period,0}, {0,period})\r\n",
      "S:SetNumG(numbasis)\r\n",
      "S:AddMaterial('Vacuum', {1.0, 0})\r\n",
      "S:AddMaterial('GaAs', {eps_real, eps_imag})\r\n",
      "S:AddLayer('top', 0, 'Vacuum')\r\n",
      "S:AddLayer('slab', thickness, 'GaAs')\r\n",
      "S:AddLayerCopy('bottom', 0, 'top')\r\n",
      "S:SetExcitationPlanewave(\r\n",
      "        {0, 0}, -- phi in [0,180), theta in [0,360)\r\n",
      "        {1, 0}, -- s-polarization amplitude and phase in degrees\r\n",
      "        {0, 0}) -- p-polarization\r\n",
      "S:SetFrequency(freq)\r\n",
      "tfr, tbr, tfi, tbi = S:GetPowerFlux('top')\r\n",
      "bfr, bbr, bfi, bbi = S:GetPowerFlux('bottom')\r\n",
      "print(\"### Top ###\")\r\n",
      "print(tfr)\r\n",
      "print(tbr)\r\n",
      "print(tfi)\r\n",
      "print(tbi)\r\n",
      "print(\"### Bottom ###\")\r\n",
      "print(bfr)\r\n",
      "print(bbr)\r\n",
      "print(bfi)\r\n",
      "print(bbi)\r\n",
      "pabs_r = (tfr - bfr) + (tbr - bbr)\r\n",
      "pabs_i = (tfi - bfi) + (tbi - bbi)\r\n",
      "print(\"Flux Method Power Absorbed Real: \" .. pabs_r)\r\n",
      "print(\"Flux Method Power Absorbed Imag: \" .. pabs_i)\r\n",
      "int_r, int_i = S:GetLayerElectricEnergyDensityIntegral('slab')\r\n",
      "print(\"Re(\\\\int \\\\epsilon |E|^2 dV) = \" .. int_r)\r\n",
      "print(\"Im(\\\\int \\\\epsilon |E|^2 dV) = \" .. int_i)\r\n",
      "int_r, int_i = S:GetLayerElectricFieldIntensityIntegral('slab')\r\n",
      "print(\"Re(\\\\int |E|^2 dV) = \" .. int_r)\r\n",
      "print(\"Im(\\\\int |E|^2 dV) = \" .. int_i)\r\n"
     ]
    }
   ],
   "source": [
    "%cat volume_integral.lua"
   ]
  },
  {
   "cell_type": "markdown",
   "metadata": {
    "hidden": true
   },
   "source": [
    "Here is what we get if we run it"
   ]
  },
  {
   "cell_type": "code",
   "execution_count": 7,
   "metadata": {
    "hidden": true
   },
   "outputs": [],
   "source": [
    "output = !! $HOME/software/S4/build/S4 volume_integral.lua"
   ]
  },
  {
   "cell_type": "code",
   "execution_count": 8,
   "metadata": {
    "hidden": true
   },
   "outputs": [
    {
     "name": "stdout",
     "output_type": "stream",
     "text": [
      "Flux Method Power Absorbed Real: 0.59119167316067\n",
      "Flux Method Power Absorbed Imag: 0\n"
     ]
    },
    {
     "data": {
      "text/latex": [
       "$Re(\\int |E|^2 dV) = 0.088000970616423$"
      ]
     },
     "metadata": {},
     "output_type": "display_data"
    },
    {
     "data": {
      "text/latex": [
       "$Im(\\int |E|^2 dV) = -0.0051126199341422$"
      ]
     },
     "metadata": {},
     "output_type": "display_data"
    },
    {
     "data": {
      "text/latex": [
       "$Re(\\int \\epsilon |E|^2 dV) = 1.2158634613355$"
      ]
     },
     "metadata": {},
     "output_type": "display_data"
    },
    {
     "data": {
      "text/latex": [
       "$Im(\\int \\epsilon |E|^2 dV) = 4.3617340390115e-18$"
      ]
     },
     "metadata": {},
     "output_type": "display_data"
    }
   ],
   "source": [
    "print(output[-7])\n",
    "print(output[-6])\n",
    "luaapi_1 = disp.display_latex(\"$\"+output[-2]+\"$\", raw=True)\n",
    "luaapi_2 = disp.display_latex(\"$\"+output[-1]+\"$\", raw=True)\n",
    "luaapi_3 = disp.display_latex(\"$\"+output[-4]+\"$\", raw=True)\n",
    "luaapi_4 = disp.display_latex(\"$\"+output[-3]+\"$\", raw=True)"
   ]
  },
  {
   "cell_type": "markdown",
   "metadata": {
    "hidden": true
   },
   "source": [
    "So the results seem to agree decently well between the Lua and Python API. However, regardless of which API\n",
    "we use, it is troubling that the integral of the electric field intensity has imaginary components."
   ]
  },
  {
   "cell_type": "markdown",
   "metadata": {},
   "source": [
    "## Integrate Raw Fields"
   ]
  },
  {
   "cell_type": "markdown",
   "metadata": {},
   "source": [
    "This approach collects the raw fields from S4 and integrates them over the volume of the layer. Here\n",
    "we are computing \n",
    "\n",
    "\\begin{equation}\n",
    "    \\int \\epsilon | \\vec{E} | ^2 dV\n",
    "\\end{equation}\n",
    "\n",
    "Which can be broken into real and imaginary parts\n",
    "\n",
    "\n",
    "\\begin{equation}\n",
    "    \\int \\epsilon | \\vec{E} | ^2 dV = \\int Re(\\epsilon) | \\vec{E} | ^2 dV + i\\int Im(\\epsilon) | \\vec{E} | ^2 dV\n",
    "\\end{equation}\n",
    "\n",
    "The second term is the one that corresponds to absorbed power, which is given by:\n",
    "\n",
    "\\begin{equation}\n",
    "    P_{absorbed} = \\frac{\\omega}{2} \\int Im(\\epsilon) | \\vec{E} | ^2 dV\n",
    "\\end{equation}"
   ]
  },
  {
   "cell_type": "code",
   "execution_count": 9,
   "metadata": {},
   "outputs": [],
   "source": [
    "def integrate(arr, layer_obj, sim_proc):\n",
    "    arr_slice = arr[layer_obj.slice]\n",
    "    zsamps = layer_obj.iend - layer_obj.istart\n",
    "    z_vals = np.linspace(0, layer_obj.thickness, zsamps)\n",
    "    x_vals = np.linspace(0, sim_proc.period, sim_proc.x_samples)\n",
    "    y_vals = np.linspace(0, sim_proc.period, sim_proc.y_samples)\n",
    "    z_integral = intg.trapz(arr_slice, x=z_vals, axis=0)\n",
    "    x_integral = intg.trapz(z_integral, x=x_vals, axis=0)\n",
    "    y_integral = intg.trapz(x_integral, x=y_vals, axis=0)\n",
    "    return y_integral"
   ]
  },
  {
   "cell_type": "code",
   "execution_count": 10,
   "metadata": {},
   "outputs": [],
   "source": [
    "def integrate_SI(arr, layer_obj, sim_proc):\n",
    "    arr_slice = arr[layer_obj.slice]\n",
    "    zsamps = layer_obj.iend - layer_obj.istart\n",
    "    z_vals = np.linspace(0, layer_obj.thickness*1e-6, zsamps)\n",
    "    x_vals = np.linspace(0, sim_proc.period*1e-6, sim_proc.x_samples)\n",
    "    y_vals = np.linspace(0, sim_proc.period*1e-6, sim_proc.y_samples)\n",
    "    z_integral = intg.trapz(arr_slice, x=z_vals, axis=0)\n",
    "    x_integral = intg.trapz(z_integral, x=x_vals, axis=0)\n",
    "    y_integral = intg.trapz(x_integral, x=y_vals, axis=0)\n",
    "    return y_integral"
   ]
  },
  {
   "cell_type": "code",
   "execution_count": 11,
   "metadata": {},
   "outputs": [],
   "source": [
    "sim.get_field()"
   ]
  },
  {
   "cell_type": "code",
   "execution_count": 12,
   "metadata": {},
   "outputs": [
    {
     "name": "stdout",
     "output_type": "stream",
     "text": [
      "Epsilon = (13.767280000000001+0.8017920000000001j)\n",
      "SI Freq = 400000000000000.0\n",
      "LH Freq = 1.3342563807926082\n"
     ]
    }
   ],
   "source": [
    "epsilon = sim._get_epsilon(os.path.expandvars(\n",
    "    '$HOME/software/nanowire/nanowire/NK/006_GaAs_nk_Walker_modified_Hz.txt'))\n",
    "print(\"Epsilon = {}\".format(epsilon))\n",
    "si_freq = sim.conf[('Simulation', 'params', 'frequency', 'value')]\n",
    "base_unit = sim.conf[('Simulation', 'base_unit')]\n",
    "c_conv = consts.c / base_unit \n",
    "f_conv = si_freq / c_conv\n",
    "print(\"SI Freq = {}\".format(si_freq))\n",
    "print(\"LH Freq = {}\".format(f_conv))"
   ]
  },
  {
   "cell_type": "markdown",
   "metadata": {},
   "source": [
    "We need to multiply by $10^{-6}$ (conversion from micrometers to meters) below because when we perform the integral,\n",
    "we are doing it in a unit system where the micrometer is our reference length unit. So we have\n",
    "\n",
    "\\begin{align}\n",
    "    P_{absorbed} &= \\frac{\\omega}{2} \\int Im(\\epsilon) | \\vec{E} | ^2 dV \\\\\n",
    "                 &= \\frac{\\omega \\epsilon_0}{2} \\int Im(\\epsilon_r) | \\vec{E} | ^2 dV\n",
    "\\end{align}\n",
    "\n",
    "Looking at this dimensionally we have\n",
    "\n",
    "\\begin{equation}\n",
    "    \\frac{rad}{s} \\frac{C}{V m} \\frac{V^2}{\\mu m ^2} \\mu m^3\n",
    "\\end{equation}\n",
    "\n",
    "To end up getting units of Watts (Joules/s), we need to mulitply by a conversion factor from micrometers to\n",
    "meters. \n",
    "\n",
    "Why? This is because Maxwell's equations are scale invariant. We could just have easily asserted that our\n",
    "reference length unit was a meter if we wanted to. Then, we would not multiply by $10^{-6}$, and the power \n",
    "absorbed would be much larger because we would be absorbing over an area on the order of square meters. \n",
    "\n",
    "Instead, I have decided that my reference length unit is a micrometer. In that case, we need this extra\n",
    "factor and the power absorbed becomes much smaller, because we are absorbing light over a much smaller area."
   ]
  },
  {
   "cell_type": "code",
   "execution_count": 13,
   "metadata": {
    "scrolled": false
   },
   "outputs": [
    {
     "data": {
      "text/latex": [
       "$P_{abs} = \\frac{\\omega}{2} Im(\\epsilon) \\int |E|^2 dV = 4.906032094610447e-05$"
      ]
     },
     "metadata": {},
     "output_type": "display_data"
    }
   ],
   "source": [
    "sim_proc = Simulation(simulator=sim)\n",
    "try:\n",
    "    Esq = sim_proc.data['normEsquared']\n",
    "except KeyError:\n",
    "    Esq = sim_proc.normEsquared()\n",
    "layer_name = 'Substrate'\n",
    "layer_obj = sim_proc.layers[layer_name]\n",
    "si_freq = sim_proc.conf[('Simulation', 'params', 'frequency', 'value')]\n",
    "base_unit = sim_proc.conf[('Simulation', 'base_unit')]\n",
    "c_conv = consts.c / base_unit \n",
    "f_conv = si_freq / c_conv\n",
    "n_mat, k_mat = layer_obj.get_nk_matrix(si_freq)\n",
    "# n and k could be functions of space, so we need to multiply the\n",
    "# fields by n and k before integrating\n",
    "res = integrate(Esq, layer_obj, sim_proc)\n",
    "imag_part = res*(2*n_mat[0, 0]*k_mat[0, 0])\n",
    "p_abs_imag = .5*2*np.pi*si_freq*consts.epsilon_0*imag_part*1e-6\n",
    "disp.display_latex(\"$P_{abs} = \\\\frac{\\omega}{2} Im(\\epsilon) \\int |E|^2 dV\"+\" = {}$\".format(p_abs_imag), raw=True)\n",
    "#p_abs_imag = .5*f_conv*imag_part\n",
    "#disp.display_latex(\"$P_{abs} = \\\\frac{\\omega}{2} Im(\\epsilon) \\int |E|^2 dV\"+\" = {}$\".format(p_abs_imag), raw=True)"
   ]
  },
  {
   "cell_type": "markdown",
   "metadata": {},
   "source": [
    "## Conclusion"
   ]
  },
  {
   "cell_type": "markdown",
   "metadata": {},
   "source": [
    "### Flux Method"
   ]
  },
  {
   "cell_type": "code",
   "execution_count": 14,
   "metadata": {},
   "outputs": [
    {
     "name": "stdout",
     "output_type": "stream",
     "text": [
      "Python API:\n",
      "\n",
      "GaAs Absorption = (4.905208811790044e-05+0j)\n",
      "-------------------------\n",
      "Lua API:\n",
      "\n",
      "Flux Method Power Absorbed Real: 0.59119167316067\n",
      "Flux Method Power Absorbed Imag: 0\n"
     ]
    }
   ],
   "source": [
    "print('Python API:\\n')\n",
    "print('GaAs Absorption = {}'.format(abs_dict_fluxmethod['Substrate']))\n",
    "print(\"-\"*25)\n",
    "print(\"Lua API:\\n\")\n",
    "print(output[-7])\n",
    "print(output[-6])"
   ]
  },
  {
   "cell_type": "markdown",
   "metadata": {
    "heading_collapsed": true
   },
   "source": [
    "### GetVolumeIntegral Method"
   ]
  },
  {
   "cell_type": "code",
   "execution_count": 15,
   "metadata": {
    "hidden": true,
    "scrolled": false
   },
   "outputs": [
    {
     "name": "stdout",
     "output_type": "stream",
     "text": [
      "Python API:\n",
      "\n"
     ]
    },
    {
     "data": {
      "text/latex": [
       "$\\int \\epsilon |E|^2 dV = (1.2132228557709261-1.3617848916844416e-17j)$"
      ],
      "text/plain": [
       "<IPython.core.display.Latex object>"
      ]
     },
     "metadata": {},
     "output_type": "display_data"
    },
    {
     "data": {
      "text/latex": [
       "$\\int |E|^2 dV = (0.08782575684281478-0.00511488029810639j)$"
      ],
      "text/plain": [
       "<IPython.core.display.Latex object>"
      ]
     },
     "metadata": {},
     "output_type": "display_data"
    },
    {
     "data": {
      "text/latex": [
       "$\\epsilon \\int |E|^2 dV = (1.2132228557709266+0j)$"
      ],
      "text/plain": [
       "<IPython.core.display.Latex object>"
      ]
     },
     "metadata": {},
     "output_type": "display_data"
    },
    {
     "data": {
      "text/latex": [
       "$P_{abs} = \\frac{\\omega}{2} Im(\\epsilon) \\int |E|^2 dV = (0.04697782572669934-0.0027359394771561056j)$"
      ],
      "text/plain": [
       "<IPython.core.display.Latex object>"
      ]
     },
     "metadata": {},
     "output_type": "display_data"
    },
    {
     "data": {
      "text/latex": [
       "$\\int \\epsilon |E|^2 + |H|^2 dV  = (2.4408002580650314-9.07971921549939e-18j)$"
      ],
      "text/plain": [
       "<IPython.core.display.Latex object>"
      ]
     },
     "metadata": {},
     "output_type": "display_data"
    },
    {
     "name": "stdout",
     "output_type": "stream",
     "text": [
      "-------------------------\n",
      "Lua API:\n"
     ]
    },
    {
     "data": {
      "text/latex": [
       "$Re(\\int |E|^2 dV) = 0.088000970616423$"
      ]
     },
     "metadata": {},
     "output_type": "display_data"
    },
    {
     "data": {
      "text/latex": [
       "$Im(\\int |E|^2 dV) = -0.0051126199341422$"
      ]
     },
     "metadata": {},
     "output_type": "display_data"
    },
    {
     "data": {
      "text/latex": [
       "$Re(\\int \\epsilon |E|^2 dV) = 1.2158634613355$"
      ]
     },
     "metadata": {},
     "output_type": "display_data"
    },
    {
     "data": {
      "text/latex": [
       "$Im(\\int \\epsilon |E|^2 dV) = 4.3617340390115e-18$"
      ]
     },
     "metadata": {},
     "output_type": "display_data"
    }
   ],
   "source": [
    "print('Python API:\\n')\n",
    "test = disp.display(o4, o5, o52, o6, o8)\n",
    "print(\"-\"*25)\n",
    "print(\"Lua API:\" )\n",
    "luaapi_1 = disp.display_latex(\"$\"+output[-2]+\"$\", raw=True)\n",
    "luaapi_2 = disp.display_latex(\"$\"+output[-1]+\"$\", raw=True)\n",
    "luaapi_3 = disp.display_latex(\"$\"+output[-4]+\"$\", raw=True)\n",
    "luaapi_4 = disp.display_latex(\"$\"+output[-3]+\"$\", raw=True)"
   ]
  },
  {
   "cell_type": "markdown",
   "metadata": {},
   "source": [
    "### Integrate Raw Fields"
   ]
  },
  {
   "cell_type": "code",
   "execution_count": 16,
   "metadata": {},
   "outputs": [
    {
     "data": {
      "text/latex": [
       "$\\int |E|^2 dV = 0.005498486691974665$"
      ],
      "text/plain": [
       "<IPython.core.display.Latex object>"
      ]
     },
     "metadata": {},
     "output_type": "display_data"
    },
    {
     "data": {
      "text/latex": [
       "$Im(\\epsilon) \\int |E|^2 dV = 0.004409321752080177$"
      ]
     },
     "metadata": {},
     "output_type": "display_data"
    },
    {
     "data": {
      "text/latex": [
       "$P_{abs} = \\frac{\\omega}{2} Im(\\epsilon) \\int |E|^2 dV = 4.906032094610447e-05$"
      ]
     },
     "metadata": {},
     "output_type": "display_data"
    }
   ],
   "source": [
    "raw_fields3 = disp.Latex(\"$\\int |E|^2 dV = {}$\".format(res))\n",
    "disp.display(raw_fields3)\n",
    "#disp.display_latex(\"$Re(\\epsilon) \\int |E|^2 dV = {}$\".format(real_part), raw=True)\n",
    "disp.display_latex(\"$Im(\\epsilon) \\int |E|^2 dV = {}$\".format(imag_part), raw=True)\n",
    "disp.display_latex(\"$P_{abs} = \\\\frac{\\omega}{2} Im(\\epsilon) \\int |E|^2 dV\"+\" = {}$\".format(p_abs_imag), raw=True)"
   ]
  },
  {
   "cell_type": "code",
   "execution_count": 17,
   "metadata": {},
   "outputs": [
    {
     "name": "stdout",
     "output_type": "stream",
     "text": [
      "Percent Difference = 0.016783848598341693\n"
     ]
    }
   ],
   "source": [
    "pdiff = 100*abs(abs_dict_fluxmethod['Substrate'].real - p_abs_imag)/abs_dict_fluxmethod['Substrate'].real\n",
    "print(\"Percent Difference = {}\".format(pdiff))"
   ]
  },
  {
   "cell_type": "markdown",
   "metadata": {},
   "source": [
    "# Polar Angle = $\\pi/4$"
   ]
  },
  {
   "cell_type": "code",
   "execution_count": 18,
   "metadata": {},
   "outputs": [
    {
     "name": "stdout",
     "output_type": "stream",
     "text": [
      "0.7853981633974483\n",
      "-------------------------\n",
      "Layer: Substrate\n",
      "Forward Top: (0.878868323791533+0.005732654134601195j)\n",
      "Backward Top: (-0.04939049340190894-0.005732654134601195j)\n",
      "Forward Bottom: (0.3561605609148767+0.0059643539342713325j)\n",
      "Backward Bottom: (-0.11796067485222057-0.0059643539342713325j)\n",
      "-------------------------\n",
      "Layer: Air\n",
      "Forward Top: (0.9999060498015506-6.938893903907228e-18j)\n",
      "Backward Top: (-0.1704282194119263+6.938893903907228e-18j)\n",
      "Forward Bottom: (0.9999060498015506-6.938893903907228e-18j)\n",
      "Backward Bottom: (-0.1704282194119263+6.938893903907228e-18j)\n",
      "-------------------------\n",
      "Layer: Below_Air\n",
      "Forward Top: (0.23819988606265594+0j)\n",
      "Backward Top: 0j\n",
      "Forward Bottom: (0.23819988606265594+0j)\n",
      "Backward Bottom: 0j\n",
      "-------------------------\n",
      "GaAs Absorption = (4.9046851553910805e-05+0j)\n",
      "Epsilon = (13.767280000000001+0.8017920000000001j)\n",
      "SI Freq = 400000000000000.0\n",
      "LH Freq = 1.3342563807926082\n"
     ]
    },
    {
     "data": {
      "text/latex": [
       "$P_{abs} = \\frac{\\omega}{2} Im(\\epsilon) \\int |E|^2 dV = 4.9054668856532946e-05$"
      ]
     },
     "metadata": {},
     "output_type": "display_data"
    }
   ],
   "source": [
    "conf = Config('GaAs_slab.yml')\n",
    "sim = Simulator(conf)\n",
    "Zo = consts.physical_constants['characteristic impedance of vacuum'][0]\n",
    "sim.conf['Simulation']['params']['polar_angle']['value'] = np.pi/4\n",
    "sim = setup_sim(sim)\n",
    "\n",
    "fluxes = sim.get_fluxes()\n",
    "\n",
    "summed_absorbed_power = 0\n",
    "abs_dict_fluxmethod = {}\n",
    "for layer, (forw_top, back_top) in fluxes.items():\n",
    "    if '_bottom' in layer:\n",
    "        continue\n",
    "    bottom = layer+'_bottom'\n",
    "    forw_bot, back_bot = fluxes[bottom] \n",
    "    print('-'*25)\n",
    "    print('Layer: {}'.format(layer))\n",
    "    print('Forward Top: {}'.format(forw_top))\n",
    "    print('Backward Top: {}'.format(back_top))\n",
    "    print('Forward Bottom: {}'.format(forw_bot))\n",
    "    print('Backward Bottom: {}'.format(back_bot))\n",
    "    P_in = forw_top + -1*back_bot\n",
    "    P_out = forw_bot + -1*back_top\n",
    "    #print('Power Entering Layer: {}'.format(P_in))\n",
    "    #print('Power Leaving Layer: {}'.format(P_out))\n",
    "    P_abs = P_in - P_out\n",
    "    abs_dict_fluxmethod[layer] = .5*P_abs*(sim.period**2)/Zo\n",
    "    #print('Absorbed in Layer: {}'.format(P_abs))\n",
    "    summed_absorbed_power += P_abs\n",
    "#print('Summed Absorption= {}'.format(np.absolute(summed_absorbed_power)))\n",
    "print('-'*25)\n",
    "#print('Summed Absorption= {}'.format(summed_absorbed_power))\n",
    "print('GaAs Absorption = {}'.format(abs_dict_fluxmethod['Substrate']))\n",
    "\n",
    "sim.get_field()\n",
    "\n",
    "epsilon = sim._get_epsilon(os.path.expandvars(\n",
    "    '$HOME/software/nanowire/nanowire/NK/006_GaAs_nk_Walker_modified_Hz.txt'))\n",
    "print(\"Epsilon = {}\".format(epsilon))\n",
    "si_freq = sim.conf[('Simulation', 'params', 'frequency', 'value')]\n",
    "base_unit = sim.conf[('Simulation', 'base_unit')]\n",
    "c_conv = consts.c / base_unit \n",
    "f_conv = si_freq / c_conv\n",
    "print(\"SI Freq = {}\".format(si_freq))\n",
    "print(\"LH Freq = {}\".format(f_conv))\n",
    "\n",
    "sim_proc = Simulation(simulator=sim)\n",
    "try:\n",
    "    Esq = sim_proc.data['normEsquared']\n",
    "except KeyError:\n",
    "    Esq = sim_proc.normEsquared()\n",
    "layer_name = 'Substrate'\n",
    "layer_obj = sim_proc.layers[layer_name]\n",
    "si_freq = sim_proc.conf[('Simulation', 'params', 'frequency', 'value')]\n",
    "base_unit = sim_proc.conf[('Simulation', 'base_unit')]\n",
    "c_conv = consts.c / base_unit \n",
    "f_conv = si_freq / c_conv\n",
    "n_mat, k_mat = layer_obj.get_nk_matrix(si_freq)\n",
    "# n and k could be functions of space, so we need to multiply the\n",
    "# fields by n and k before integrating\n",
    "res = integrate(Esq, layer_obj, sim_proc)\n",
    "imag_part = res*(2*n_mat[0, 0]*k_mat[0, 0])\n",
    "p_abs_imag = .5*2*np.pi*si_freq*consts.epsilon_0*imag_part*1e-6\n",
    "disp.display_latex(\"$P_{abs} = \\\\frac{\\omega}{2} Im(\\epsilon) \\int |E|^2 dV\"+\" = {}$\".format(p_abs_imag), raw=True)\n",
    "#p_abs_imag = .5*f_conv*imag_part\n",
    "#disp.display_latex(\"$P_{abs} = \\\\frac{\\omega}{2} Im(\\epsilon) \\int |E|^2 dV\"+\" = {}$\".format(p_abs_imag), raw=True)"
   ]
  },
  {
   "cell_type": "code",
   "execution_count": 19,
   "metadata": {},
   "outputs": [
    {
     "data": {
      "image/png": "[encoded data removed]",
      "text/plain": [
       "<matplotlib.figure.Figure at 0x7f0d0f0fcf28>"
      ]
     },
     "metadata": {},
     "output_type": "display_data"
    }
   ],
   "source": [
    "sim_proc.conf['General']['show_plots'] = True\n",
    "sim_proc.fixed_line('Ez', 'z', 62, 62)"
   ]
  },
  {
   "cell_type": "code",
   "execution_count": 20,
   "metadata": {},
   "outputs": [
    {
     "data": {
      "image/png": "[encoded data removed]",
      "text/plain": [
       "<matplotlib.figure.Figure at 0x7f0d0f119518>"
      ]
     },
     "metadata": {},
     "output_type": "display_data"
    }
   ],
   "source": [
    "z_vals = np.linspace(-.2, .2, 100)\n",
    "Ez = np.zeros_like(z_vals, dtype=np.complex)\n",
    "for i, z in enumerate(z_vals):\n",
    "    E, H = sim.compute_fields_at_point(0, 0, z)\n",
    "    Ez[i] = E[2]\n",
    "plt.figure()\n",
    "plt.plot(z_vals, Ez.real)\n",
    "plt.plot(z_vals, Ez.imag)\n",
    "plt.show()"
   ]
  },
  {
   "cell_type": "markdown",
   "metadata": {},
   "source": [
    "So agreement is a bit worse with off normal incidence but things still check out"
   ]
  },
  {
   "cell_type": "code",
   "execution_count": null,
   "metadata": {},
   "outputs": [],
   "source": []
  }
 ],
 "metadata": {
  "kernelspec": {
   "display_name": "nanowire",
   "language": "python",
   "name": "nanowire"
  },
  "language_info": {
   "codemirror_mode": {
    "name": "ipython",
    "version": 3
   },
   "file_extension": ".py",
   "mimetype": "text/x-python",
   "name": "python",
   "nbconvert_exporter": "python",
   "pygments_lexer": "ipython3",
   "version": "3.5.2"
  },
  "toc": {
   "nav_menu": {
    "height": "48px",
    "width": "254px"
   },
   "number_sections": true,
   "sideBar": true,
   "skip_h1_title": false,
   "toc_cell": false,
   "toc_position": {},
   "toc_section_display": "block",
   "toc_window_display": false
  }
 },
 "nbformat": 4,
 "nbformat_minor": 1
}
