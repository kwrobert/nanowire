{
 "cells": [
  {
   "cell_type": "code",
   "execution_count": 25,
   "metadata": {
    "collapsed": false
   },
   "outputs": [],
   "source": [
    "import numpy as np\n",
    "from nanowire.optics.simulate import Simulator\n",
    "from nanowire.optics.utils.utils import setup_sim\n",
    "from nanowire.optics.utils.config import Config\n",
    "import scipy.constants as consts\n",
    "import scipy.integrate as intg"
   ]
  },
  {
   "cell_type": "markdown",
   "metadata": {},
   "source": [
    "# Introduction"
   ]
  },
  {
   "cell_type": "markdown",
   "metadata": {},
   "source": [
    "This notebook is intended to check the consistency between 3 different methods for calculating the absorption of a layer in S4.\n",
    "The methods are as follows\n",
    "\n",
    "1. Using the GetPowerFlux method and taking the difference between what enters the top and leaves the bottom. \n",
    "2. Using the GetVolumeIntegral function\n",
    "3. Integrate the raw field output numerically\n",
    "\n",
    "All of these methods should agree with one another, so let's verify this. Below I just set up the sim so it's ready for all subsequent computations"
   ]
  },
  {
   "cell_type": "code",
   "execution_count": 2,
   "metadata": {
    "collapsed": false
   },
   "outputs": [],
   "source": [
    "conf = Config('GaAs_slab.yml')\n",
    "sim = Simulator(conf)\n",
    "sim = setup_sim(sim)"
   ]
  },
  {
   "cell_type": "code",
   "execution_count": 3,
   "metadata": {
    "collapsed": false
   },
   "outputs": [],
   "source": [
    "fluxes = sim.get_fluxes()"
   ]
  },
  {
   "cell_type": "markdown",
   "metadata": {},
   "source": [
    "# Poynting Flux Method"
   ]
  },
  {
   "cell_type": "code",
   "execution_count": 5,
   "metadata": {
    "collapsed": false
   },
   "outputs": [
    {
     "name": "stdout",
     "output_type": "stream",
     "text": [
      "-------------------------\n",
      "Layer: Substrate\n",
      "Incident Power: 1.7579423702612038\n",
      "Reflected Power: 0.09946230970688712\n",
      "Transmitted Power: 0.712492733717254\n",
      "Backward_bottom: 0.2362704159417706\n",
      "Absorbed in Layer: 1.1826821460870796\n",
      "-------------------------\n",
      "Layer: Below_Air\n",
      "Incident Power: 0.4764238383744144\n",
      "Reflected Power: 0.0\n",
      "Transmitted Power: 0.4764238383744144\n",
      "Backward_bottom: 0.0\n",
      "Absorbed in Layer: 0.0\n",
      "-------------------------\n",
      "Layer: Air\n",
      "Incident Power: 2.0\n",
      "Reflected Power: 0.34089401553844645\n",
      "Transmitted Power: 2.0\n",
      "Backward_bottom: 0.34089401553844645\n",
      "Absorbed in Layer: 0.0\n",
      "-------------------------\n",
      "Summed Absorption= 1.1826821460870796\n",
      "GaAs Absorption = 1.1826821460870796\n"
     ]
    }
   ],
   "source": [
    "summed_absorbed_power = 0\n",
    "abs_dict_fluxmethod = {}\n",
    "for layer, (forw, back) in fluxes.items():\n",
    "    if '_bottom' in layer:\n",
    "        continue\n",
    "    incident_power = np.absolute(forw)\n",
    "    reflected_power = np.absolute(back)\n",
    "    print('-'*25)\n",
    "    print('Layer: {}'.format(layer))\n",
    "    print('Incident Power: {}'.format(incident_power))\n",
    "    print('Reflected Power: {}'.format(reflected_power))\n",
    "    bottom = layer+'_bottom'\n",
    "    transmitted_power = np.absolute(fluxes[bottom][0])\n",
    "    bottom_reflected_power = np.absolute(fluxes[bottom][1])\n",
    "    print('Transmitted Power: {}'.format(transmitted_power))\n",
    "    print('Backward_bottom: {}'.format(bottom_reflected_power))\n",
    "    #absorbed = incident_power + bottom_reflected_power - transmitted_power - reflected_power\n",
    "    flux_top = np.absolute(forw+back)\n",
    "    flux_bottom = np.absolute(fluxes[bottom][0]+fluxes[bottom][1]) \n",
    "    absorbed = flux_top - flux_bottom\n",
    "    abs_dict_fluxmethod[layer] = absorbed\n",
    "    print('Absorbed in Layer: {}'.format(absorbed))\n",
    "    summed_absorbed_power += absorbed\n",
    "#print('Summed Absorption= {}'.format(np.absolute(summed_absorbed_power)))\n",
    "print('-'*25)\n",
    "print('Summed Absorption= {}'.format(summed_absorbed_power))\n",
    "print('GaAs Absorption = {}'.format(abs_dict_fluxmethod['Substrate']))"
   ]
  },
  {
   "cell_type": "markdown",
   "metadata": {
    "collapsed": true
   },
   "source": [
    "# GetVolumeIntegral Method"
   ]
  },
  {
   "cell_type": "markdown",
   "metadata": {},
   "source": [
    "We use the provided S4 function to compute\n",
    "\n",
    "\\begin{equation}\n",
    "    \\int \\epsilon | \\vec{E} | ^2 dV\n",
    "\\end{equation}\n",
    "  \n",
    "where the integral is over the volume of the layer. The total absorbed power is \n",
    "\n",
    "\\begin{equation}\n",
    "    P_{abs} = \\frac{\\omega}{2} \\int \\epsilon | \\vec{E} | ^2 dV\n",
    "\\end{equation}\n",
    "\n",
    "Where here we need to convert $\\omega$ into the Lorentz-Heaviside units used by S4."
   ]
  },
  {
   "cell_type": "code",
   "execution_count": 14,
   "metadata": {
    "collapsed": false
   },
   "outputs": [
    {
     "name": "stdout",
     "output_type": "stream",
     "text": [
      "(13.767280000000001+0.8017920000000001j)\n",
      "Pabs = (1.618750336635752-1.1898315158680083e-17j)\n"
     ]
    }
   ],
   "source": [
    "int_result = sim.s4.GetLayerVolumeIntegral(Layer=\"Substrate\", Quantity=\"E\")\n",
    "epsilon = sim._get_epsilon('/home/kyle_robertson/software/nanowire/nanowire/NK/006_GaAs_nk_Walker_modified_Hz.txt')\n",
    "print(epsilon)\n",
    "si_freq = sim.conf[('Simulation', 'params', 'frequency', 'value')]\n",
    "base_unit = sim.conf[('Simulation', 'base_unit')]\n",
    "c_conv = consts.c / base_unit \n",
    "f_conv = si_freq / c_conv\n",
    "print(\"Pabs = {}\".format(.5*f_conv*int_result))"
   ]
  },
  {
   "cell_type": "markdown",
   "metadata": {},
   "source": [
    "# Integrate Raw Fields"
   ]
  },
  {
   "cell_type": "markdown",
   "metadata": {},
   "source": [
    "This approach collects the raw fields from S4 and integrates them over the volume of the layer"
   ]
  },
  {
   "cell_type": "code",
   "execution_count": 15,
   "metadata": {
    "collapsed": false
   },
   "outputs": [
    {
     "name": "stderr",
     "output_type": "stream",
     "text": [
      "DEBUG:nanowire.optics.simulate:Computing fields ...\n",
      "DEBUG:nanowire.optics.simulate:Computing up to depth of 0.5 microns\n",
      "DEBUG:nanowire.optics.simulate:Finished computing fields!\n"
     ]
    }
   ],
   "source": [
    "sim.get_field()"
   ]
  },
  {
   "cell_type": "code",
   "execution_count": 30,
   "metadata": {
    "collapsed": false
   },
   "outputs": [
    {
     "name": "stdout",
     "output_type": "stream",
     "text": [
      "(13.767280000000001+0.8017920000000001j)\n",
      "Pabs = 0.011723507855551719\n"
     ]
    }
   ],
   "source": [
    "Ex = np.absolute(sim.data['Ex'])\n",
    "Ey = np.absolute(sim.data['Ey'])\n",
    "Ez = np.absolute(sim.data['Ez'])\n",
    "normE = np.sqrt(Ex**2 + Ey**2 + Ex**2)\n",
    "zsamps = sim.conf[('Simulation', 'z_samples')]\n",
    "xsamps = sim.conf[('Simulation', 'x_samples')]\n",
    "ysamps = sim.conf[('Simulation', 'y_samples')]\n",
    "height = sim.get_height()\n",
    "z_vals = np.linspace(0, height, zsamps)\n",
    "x_vals = np.linspace(0, sim.period, xsamps)\n",
    "y_vals = np.linspace(0, sim.period, ysamps)\n",
    "z_integral = intg.trapz(normE, x=z_vals, axis=0)\n",
    "x_integral = intg.trapz(z_integral, x=x_vals, axis=0)\n",
    "y_integral = intg.trapz(x_integral, x=y_vals, axis=0)\n",
    "epsilon = sim._get_epsilon('/home/kyle_robertson/software/nanowire/nanowire/NK/006_GaAs_nk_Walker_modified_Hz.txt')\n",
    "print(epsilon)\n",
    "si_freq = sim.conf[('Simulation', 'params', 'frequency', 'value')]\n",
    "base_unit = sim.conf[('Simulation', 'base_unit')]\n",
    "c_conv = consts.c / base_unit \n",
    "f_conv = si_freq / c_conv\n",
    "print(\"Pabs = {}\".format(.5*f_conv*epsilon.imag*y_integral))"
   ]
  },
  {
   "cell_type": "code",
   "execution_count": null,
   "metadata": {
    "collapsed": true
   },
   "outputs": [],
   "source": []
  }
 ],
 "metadata": {
  "kernelspec": {
   "display_name": "nanowire",
   "language": "python",
   "name": "nanowire"
  },
  "language_info": {
   "codemirror_mode": {
    "name": "ipython",
    "version": 3
   },
   "file_extension": ".py",
   "mimetype": "text/x-python",
   "name": "python",
   "nbconvert_exporter": "python",
   "pygments_lexer": "ipython3",
   "version": "3.5.2"
  },
  "toc": {
   "colors": {
    "hover_highlight": "#DAA520",
    "running_highlight": "#FF0000",
    "selected_highlight": "#FFD700"
   },
   "moveMenuLeft": true,
   "nav_menu": {
    "height": "48px",
    "width": "254px"
   },
   "navigate_menu": true,
   "number_sections": true,
   "sideBar": true,
   "threshold": 4,
   "toc_cell": false,
   "toc_section_display": "block",
   "toc_window_display": false
  }
 },
 "nbformat": 4,
 "nbformat_minor": 1
}
