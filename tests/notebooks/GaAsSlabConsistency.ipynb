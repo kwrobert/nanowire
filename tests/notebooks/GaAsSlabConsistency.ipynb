{
 "cells": [
  {
   "cell_type": "code",
   "execution_count": 24,
   "metadata": {},
   "outputs": [
    {
     "name": "stdout",
     "output_type": "stream",
     "text": [
      "The autoreload extension is already loaded. To reload it, use:\n",
      "  %reload_ext autoreload\n"
     ]
    }
   ],
   "source": [
    "import os\n",
    "import numpy as np\n",
    "from nanowire.optics.simulate import Simulator\n",
    "from nanowire.optics.postprocess import Simulation\n",
    "from nanowire.optics.utils.utils import setup_sim\n",
    "from nanowire.optics.utils.config import Config\n",
    "import scipy.constants as const\n",
    "import scipy.integrate as intg\n",
    "import IPython.display as disp\n",
    "%load_ext autoreload \n",
    "%autoreload 2"
   ]
  },
  {
   "cell_type": "markdown",
   "metadata": {},
   "source": [
    "# Introduction"
   ]
  },
  {
   "cell_type": "markdown",
   "metadata": {},
   "source": [
    "This notebook is intended to check the consistency between 3 different methods for calculating the absorption of a layer in S4.\n",
    "The methods are as follows\n",
    "\n",
    "1. Using the GetPowerFlux method and taking the difference between what enters the the layer and what leaves the the layer. \n",
    "2. Using the GetVolumeIntegral function\n",
    "3. Integrate the raw field output numerically\n",
    "\n",
    "All of these methods should agree with one another, so let's verify this. Below I just set up the sim so it's ready for all subsequent computations"
   ]
  },
  {
   "cell_type": "code",
   "execution_count": 45,
   "metadata": {},
   "outputs": [
    {
     "name": "stderr",
     "output_type": "stream",
     "text": [
      "DEBUG:nanowire.optics.simulate:Logger initialized\n",
      "DEBUG:nanowire.optics.simulate:Building layer: Air\n",
      "DEBUG:nanowire.optics.simulate:Layer Order 1\n",
      "DEBUG:nanowire.optics.simulate:Building layer: Substrate\n",
      "DEBUG:nanowire.optics.simulate:Layer Order 3\n",
      "DEBUG:nanowire.optics.simulate:Building layer: Below_Air\n",
      "DEBUG:nanowire.optics.simulate:Layer Order 4\n",
      "DEBUG:nanowire.optics.simulate:Physical Frequency = 4.000000E+14\n",
      "WARNING:nanowire.optics.simulate:Your bins are smaller than NRELs! Using NREL bin size\n",
      "DEBUG:nanowire.optics.simulate:[399723277333333.31, 400256953271028.0]\n",
      "DEBUG:nanowire.optics.simulate:[2.3155394055977224e-12, 2.3123628270194848e-12]\n",
      "INFO:nanowire.optics.simulate:Incident Intensity: 1.23490003178\n",
      "DEBUG:nanowire.optics.simulate:Incident Power: 0.077181251986\n",
      "DEBUG:nanowire.optics.simulate:Incident Amplitude: 21.5690583027\n"
     ]
    }
   ],
   "source": [
    "conf = Config('GaAs_slab.yml')\n",
    "sim = Simulator(conf)\n",
    "sim = setup_sim(sim)"
   ]
  },
  {
   "cell_type": "markdown",
   "metadata": {},
   "source": [
    "# Poynting Flux Method"
   ]
  },
  {
   "cell_type": "markdown",
   "metadata": {},
   "source": [
    "So at every layer interface, we have both forward and backward modes that each individually carry power. \n",
    "The forward direction signifies waves moving downwards, and the backward direction signifies waves moving\n",
    "upward. A quick note about the indices on the terms. The first index describes the direction (f = forward, b = backward) and the second index describes where we are in the layer (t = top, b = bottom).  Using this\n",
    "convention, the total power absorbed should be \n",
    "\n",
    "\\begin{equation}\n",
    "    P_{abs} = P_{f,t} + P_{b, b} - (P_{b, t} + P_{f, b})\n",
    "\\end{equation}\n",
    "\n",
    "When S4 returns these numbers, it sticks a minus sign in front of the backward components to signify they are\n",
    "traveling in the negative z directon (upwards). So, we need to stick an extra minus sign in front of a few\n",
    "terms as follows:\n",
    "\n",
    "\\begin{equation}\n",
    "    P_{abs} = P_{f,t} + -1 \\cdot P_{b, b} - (-1 \\cdot P_{b, t} + P_{f, b})\n",
    "\\end{equation}\n",
    "\n",
    "And this correctly describes the total amount of power entering minus the total amount of power leaving. I \n",
    "implement this calculation below."
   ]
  },
  {
   "cell_type": "code",
   "execution_count": 46,
   "metadata": {},
   "outputs": [
    {
     "name": "stderr",
     "output_type": "stream",
     "text": [
      "DEBUG:nanowire.optics.simulate:Computing fluxes ...\n",
      "DEBUG:nanowire.optics.simulate:Computing fluxes through layer: Below_Air\n",
      "DEBUG:nanowire.optics.simulate:Computing fluxes through layer: Substrate\n",
      "DEBUG:nanowire.optics.simulate:Computing fluxes through layer: Air\n",
      "DEBUG:nanowire.optics.simulate:Finished computing fluxes!\n"
     ]
    }
   ],
   "source": [
    "fluxes = sim.get_fluxes()"
   ]
  },
  {
   "cell_type": "code",
   "execution_count": 47,
   "metadata": {},
   "outputs": [
    {
     "name": "stdout",
     "output_type": "stream",
     "text": [
      "-------------------------\n",
      "Layer: Substrate\n",
      "Forward Top: (21.973812057569923+0.14334866515010325j)\n",
      "Backward Top: (-1.2349872518008014-0.14334866515010325j)\n",
      "Forward Bottom: (8.90491046583286+0.14913344020036184j)\n",
      "Backward Bottom: (-2.9496124861525645-0.14913344020036184j)\n",
      "Power Entering Layer: (24.923424543722486+0.2924821053504651j)\n",
      "Power Leaving Layer: (10.13989771763366+0.2924821053504651j)\n",
      "Absorbed in Layer: (14.783526826088826+0j)\n",
      "-------------------------\n",
      "Layer: Below_Air\n",
      "Forward Top: (5.955297979680294+0j)\n",
      "Backward Top: 0j\n",
      "Forward Bottom: (5.955297979680294+0j)\n",
      "Backward Bottom: 0j\n",
      "Power Entering Layer: (5.955297979680294+0j)\n",
      "Power Leaving Layer: (5.955297979680294+0j)\n",
      "Absorbed in Layer: 0j\n",
      "-------------------------\n",
      "Layer: Air\n",
      "Forward Top: (25+0j)\n",
      "Backward Top: (-4.261175194230889+0j)\n",
      "Forward Bottom: (25+0j)\n",
      "Backward Bottom: (-4.261175194230889+0j)\n",
      "Power Entering Layer: (29.261175194230887+0j)\n",
      "Power Leaving Layer: (29.261175194230887+0j)\n",
      "Absorbed in Layer: 0j\n",
      "-------------------------\n",
      "Summed Absorption= (14.783526826088826+0j)\n",
      "GaAs Absorption = (14.783526826088826+0j)\n"
     ]
    }
   ],
   "source": [
    "summed_absorbed_power = 0\n",
    "abs_dict_fluxmethod = {}\n",
    "for layer, (forw_top, back_top) in fluxes.items():\n",
    "    if '_bottom' in layer:\n",
    "        continue\n",
    "    bottom = layer+'_bottom'\n",
    "    forw_bot, back_bot = fluxes[bottom] \n",
    "    print('-'*25)\n",
    "    print('Layer: {}'.format(layer))\n",
    "    print('Forward Top: {}'.format(forw_top))\n",
    "    print('Backward Top: {}'.format(back_top))\n",
    "    print('Forward Bottom: {}'.format(forw_bot))\n",
    "    print('Backward Bottom: {}'.format(back_bot))\n",
    "    P_in = forw_top + -1*back_bot\n",
    "    P_out = forw_bot + -1*back_top\n",
    "    print('Power Entering Layer: {}'.format(P_in))\n",
    "    print('Power Leaving Layer: {}'.format(P_out))\n",
    "    P_abs = P_in - P_out\n",
    "    abs_dict_fluxmethod[layer] = P_abs\n",
    "    print('Absorbed in Layer: {}'.format(P_abs))\n",
    "    summed_absorbed_power += P_abs\n",
    "#print('Summed Absorption= {}'.format(np.absolute(summed_absorbed_power)))\n",
    "print('-'*25)\n",
    "print('Summed Absorption= {}'.format(summed_absorbed_power))\n",
    "print('GaAs Absorption = {}'.format(abs_dict_fluxmethod['Substrate']))"
   ]
  },
  {
   "cell_type": "code",
   "execution_count": 56,
   "metadata": {},
   "outputs": [
    {
     "data": {
      "text/plain": [
       "218.55266541768796"
      ]
     },
     "execution_count": 56,
     "metadata": {},
     "output_type": "execute_result"
    }
   ],
   "source": [
    "14.783526826088826**2"
   ]
  },
  {
   "cell_type": "code",
   "execution_count": 48,
   "metadata": {},
   "outputs": [
    {
     "name": "stdout",
     "output_type": "stream",
     "text": [
      "4.0\n",
      "9.0\n",
      "16.0\n",
      "25.000000000000007\n"
     ]
    }
   ],
   "source": [
    "incident_amp_one_power_absorbed = .5913410730435529\n",
    "incident_amp_two_power_absorbed = 2.3653642921742115\n",
    "incident_amp_three_power_absorbed = 5.3220696573919755\n",
    "incident_amp_four_power_absorbed = 9.461457168696846\n",
    "incident_amp_five_power_absorbed = 14.783526826088826 \n",
    "ratio_one2two = incident_amp_two_power_absorbed/incident_amp_one_power_absorbed\n",
    "ratio_one2three = incident_amp_three_power_absorbed/incident_amp_one_power_absorbed\n",
    "ratio_one2four = incident_amp_four_power_absorbed/incident_amp_one_power_absorbed\n",
    "ratio_one2five = incident_amp_five_power_absorbed/incident_amp_one_power_absorbed\n",
    "print(ratio_one2two)\n",
    "print(ratio_one2three)\n",
    "print(ratio_one2four)\n",
    "print(ratio_one2five)"
   ]
  },
  {
   "cell_type": "markdown",
   "metadata": {},
   "source": [
    "So this just tells us that the incident power is equal to the amplitude of the incident electric field squared.\n",
    "This is what we would expect, because we know:\n",
    "\n",
    "\\begin{equation}\n",
    "    S = \\frac{1}{c \\mu_o} \\frac{|E|^2}{2}\n",
    "\\end{equation}\n",
    "\n",
    "where $S$ is the magnitude of the Poynting vector. In Lorentz-Heaviside units (the units used by S4), $c = \\mu_o = 1$, so this also tells us that the power \n",
    "values are indeed not time averaged and are missing that factor of .5. This also tells us something about what\n",
    "the power flux function is giving us back!!!!!! It's either not integrating, or dividing by the area, or something else like that. If it were integrating a uniform poynting vector magnitude "
   ]
  },
  {
   "cell_type": "markdown",
   "metadata": {
    "collapsed": true
   },
   "source": [
    "# GetVolumeIntegral Method"
   ]
  },
  {
   "cell_type": "markdown",
   "metadata": {},
   "source": [
    "We use the provided S4 function to compute\n",
    "\n",
    "\\begin{equation}\n",
    "    \\int \\epsilon | \\vec{E} | ^2 dV\n",
    "\\end{equation}\n",
    "  \n",
    "(this is what `Quantity = \"E\"` means in the code below) where the integral is over the volume of the layer. The\n",
    "total absorbed power is \n",
    "\n",
    "\\begin{equation}\n",
    "    P_{abs} = -\\frac{\\omega}{2} \\int Im(\\epsilon) | \\vec{E} | ^2 dV\n",
    "\\end{equation}\n",
    "\n",
    "Where here we need to convert $\\omega$ into the Lorentz-Heaviside units used by S4. $|E|^2$ should be a purely real quantity,\n",
    "meaning we can take the imaginary part of the result of the integration and multiply by $\\omega / 2$ to get the absorbed \n",
    "power."
   ]
  },
  {
   "cell_type": "code",
   "execution_count": 6,
   "metadata": {},
   "outputs": [
    {
     "data": {
      "text/latex": [
       "$\\epsilon = (13.767280000000001+0.8017920000000001j)$"
      ],
      "text/plain": [
       "<IPython.core.display.Latex object>"
      ]
     },
     "metadata": {},
     "output_type": "display_data"
    },
    {
     "data": {
      "text/latex": [
       "SI $\\omega = 400000000000000.0$"
      ],
      "text/plain": [
       "<IPython.core.display.Latex object>"
      ]
     },
     "metadata": {},
     "output_type": "display_data"
    },
    {
     "data": {
      "text/latex": [
       "LH $\\omega = 1.3342563807926082$"
      ],
      "text/plain": [
       "<IPython.core.display.Latex object>"
      ]
     },
     "metadata": {},
     "output_type": "display_data"
    },
    {
     "data": {
      "text/latex": [
       "$\\int \\epsilon |E|^2 dV = (1.2132228557709261-9.118409901029573e-18j)$"
      ],
      "text/plain": [
       "<IPython.core.display.Latex object>"
      ]
     },
     "metadata": {},
     "output_type": "display_data"
    },
    {
     "data": {
      "text/latex": [
       "$\\int |E|^2 dV = (0.08782575684281478-0.00511488029810639j)$"
      ],
      "text/plain": [
       "<IPython.core.display.Latex object>"
      ]
     },
     "metadata": {},
     "output_type": "display_data"
    },
    {
     "data": {
      "text/latex": [
       "$\\epsilon \\int |E|^2 dV = (1.2132228557709266+0j)$"
      ],
      "text/plain": [
       "<IPython.core.display.Latex object>"
      ]
     },
     "metadata": {},
     "output_type": "display_data"
    },
    {
     "data": {
      "text/latex": [
       "$P_{abs} = \\frac{\\omega}{2} Im(\\epsilon) \\int |E|^2 dV = (0.04697782572669934-0.0027359394771561056j)$"
      ],
      "text/plain": [
       "<IPython.core.display.Latex object>"
      ]
     },
     "metadata": {},
     "output_type": "display_data"
    },
    {
     "data": {
      "text/latex": [
       "$\\int \\epsilon |E|^2 + |H|^2 dV  = (2.4408002580650314-9.079719215499404e-18j)$"
      ],
      "text/plain": [
       "<IPython.core.display.Latex object>"
      ]
     },
     "metadata": {},
     "output_type": "display_data"
    }
   ],
   "source": [
    "int_result = sim.s4.GetLayerVolumeIntegral(Layer=\"Substrate\", Quantity=\"E\")\n",
    "int_result2 = sim.s4.GetLayerVolumeIntegral(Layer=\"Substrate\", Quantity=\"e\")\n",
    "int_result3 = sim.s4.GetLayerVolumeIntegral(Layer=\"Substrate\", Quantity=\"U\")\n",
    "epsilon = sim._get_epsilon(os.path.expandvars(\n",
    "    '$HOME/software/nanowire/nanowire/NK/006_GaAs_nk_Walker_modified_Hz.txt'))\n",
    "si_freq = sim.conf[('Simulation', 'params', 'frequency', 'value')]\n",
    "base_unit = sim.conf[('Simulation', 'base_unit')]\n",
    "c_conv = consts.c / base_unit \n",
    "f_conv = si_freq / c_conv\n",
    "o1 = disp.Latex('$\\epsilon = {}$'.format(epsilon))\n",
    "o2 = disp.Latex(\"SI $\\omega = {}$\".format(si_freq))\n",
    "o3 = disp.Latex(\"LH $\\omega = {}$\".format(f_conv))\n",
    "o4 = disp.Latex('$\\int \\epsilon |E|^2 dV = {}$'.format(int_result))\n",
    "o5 = disp.Latex('$\\int |E|^2 dV = {}$'.format(int_result2))\n",
    "o52 = disp.Latex('$\\epsilon \\int |E|^2 dV = {}$'.format(epsilon*int_result2))\n",
    "msg = \"$P_{abs} = \\\\frac{\\omega}{2} Im(\\epsilon) \\int |E|^2 dV = \" + \"{}$\".format(.5*f_conv*epsilon.imag*int_result2)\n",
    "o6 = disp.Latex(msg)\n",
    "o8 = disp.Latex(\"$\\int \\epsilon |E|^2 + |H|^2 dV  = {}$\".format(int_result3))\n",
    "test = disp.display(o1, o2, o3, o4, o5, o52, o6, o8)"
   ]
  },
  {
   "cell_type": "markdown",
   "metadata": {},
   "source": [
    "So this is a bit odd. We would expect\n",
    "\n",
    "\\begin{equation}\n",
    "    \\int |E|^2 dV\n",
    "\\end{equation}\n",
    "\n",
    "to be purely real, but it clearly is not. Don't know what to make of this.\n",
    "\n",
    "If we do the same thing but using the Lua API and the latest version of S4 on the master branch we get\n",
    "similiar results. The lua script is below."
   ]
  },
  {
   "cell_type": "code",
   "execution_count": 7,
   "metadata": {},
   "outputs": [
    {
     "name": "stdout",
     "output_type": "stream",
     "text": [
      "S = S4.NewSimulation()\r\n",
      "-- Params\r\n",
      "period = .25\r\n",
      "numbasis = 40\r\n",
      "eps_real = 13.77\r\n",
      "eps_imag = 0.8\r\n",
      "thickness = .5\r\n",
      "freq = 1.3342563807926082\r\n",
      "--\r\n",
      "S:SetVerbosity(9)\r\n",
      "S:SetLattice({period,0}, {0,period})\r\n",
      "S:SetNumG(numbasis)\r\n",
      "S:AddMaterial('Vacuum', {1.0, 0})\r\n",
      "S:AddMaterial('GaAs', {eps_real, eps_imag})\r\n",
      "S:AddLayer('top', 0, 'Vacuum')\r\n",
      "S:AddLayer('slab', thickness, 'GaAs')\r\n",
      "S:AddLayerCopy('bottom', 0, 'top')\r\n",
      "S:SetExcitationPlanewave(\r\n",
      "        {0, 0}, -- phi in [0,180), theta in [0,360)\r\n",
      "        {1, 0}, -- s-polarization amplitude and phase in degrees\r\n",
      "        {0, 0}) -- p-polarization\r\n",
      "S:SetFrequency(freq)\r\n",
      "tfr, tbr, tfi, tbi = S:GetPowerFlux('top')\r\n",
      "bfr, bbr, bfi, bbi = S:GetPowerFlux('bottom')\r\n",
      "print(\"### Top ###\")\r\n",
      "print(tfr)\r\n",
      "print(tbr)\r\n",
      "print(tfi)\r\n",
      "print(tbi)\r\n",
      "print(\"### Bottom ###\")\r\n",
      "print(bfr)\r\n",
      "print(bbr)\r\n",
      "print(bfi)\r\n",
      "print(bbi)\r\n",
      "pabs_r = (tfr - bfr) + (tbr - bbr)\r\n",
      "pabs_i = (tfi - bfi) + (tbi - bbi)\r\n",
      "print(\"Flux Method Power Absorbed Real: \" .. pabs_r)\r\n",
      "print(\"Flux Method Power Absorbed Imag: \" .. pabs_i)\r\n",
      "int_r, int_i = S:GetLayerElectricEnergyDensityIntegral('slab')\r\n",
      "print(\"Re(\\\\int \\\\epsilon |E|^2 dV) = \" .. int_r)\r\n",
      "print(\"Im(\\\\int \\\\epsilon |E|^2 dV) = \" .. int_i)\r\n",
      "int_r, int_i = S:GetLayerElectricFieldIntensityIntegral('slab')\r\n",
      "print(\"Re(\\\\int |E|^2 dV) = \" .. int_r)\r\n",
      "print(\"Im(\\\\int |E|^2 dV) = \" .. int_i)\r\n"
     ]
    }
   ],
   "source": [
    "%cat volume_integral.lua"
   ]
  },
  {
   "cell_type": "markdown",
   "metadata": {},
   "source": [
    "Here is what we get if we run it"
   ]
  },
  {
   "cell_type": "code",
   "execution_count": 8,
   "metadata": {},
   "outputs": [],
   "source": [
    "output = !! $HOME/software/S4/build/S4 volume_integral.lua"
   ]
  },
  {
   "cell_type": "code",
   "execution_count": 9,
   "metadata": {},
   "outputs": [
    {
     "name": "stdout",
     "output_type": "stream",
     "text": [
      "Flux Method Power Absorbed Real: 0.59119167316067\n",
      "Flux Method Power Absorbed Imag: 0\n"
     ]
    },
    {
     "data": {
      "text/latex": [
       "$Re(\\int |E|^2 dV) = 0.088000970616423$"
      ]
     },
     "metadata": {},
     "output_type": "display_data"
    },
    {
     "data": {
      "text/latex": [
       "$Im(\\int |E|^2 dV) = -0.0051126199341422$"
      ]
     },
     "metadata": {},
     "output_type": "display_data"
    },
    {
     "data": {
      "text/latex": [
       "$Re(\\int \\epsilon |E|^2 dV) = 1.2158634613355$"
      ]
     },
     "metadata": {},
     "output_type": "display_data"
    },
    {
     "data": {
      "text/latex": [
       "$Im(\\int \\epsilon |E|^2 dV) = 4.3617340390115e-18$"
      ]
     },
     "metadata": {},
     "output_type": "display_data"
    }
   ],
   "source": [
    "print(output[-7])\n",
    "print(output[-6])\n",
    "luaapi_1 = disp.display_latex(\"$\"+output[-2]+\"$\", raw=True)\n",
    "luaapi_2 = disp.display_latex(\"$\"+output[-1]+\"$\", raw=True)\n",
    "luaapi_3 = disp.display_latex(\"$\"+output[-4]+\"$\", raw=True)\n",
    "luaapi_4 = disp.display_latex(\"$\"+output[-3]+\"$\", raw=True)"
   ]
  },
  {
   "cell_type": "markdown",
   "metadata": {},
   "source": [
    "So the results seem to agree decently well between the Lua and Python API. However, regardless of which API\n",
    "we use, it is troubling that the integral of the electric field intensity has imaginary components."
   ]
  },
  {
   "cell_type": "markdown",
   "metadata": {},
   "source": [
    "# Integrate Raw Fields"
   ]
  },
  {
   "cell_type": "markdown",
   "metadata": {},
   "source": [
    "This approach collects the raw fields from S4 and integrates them over the volume of the layer. Here\n",
    "we are computing \n",
    "\n",
    "\\begin{equation}\n",
    "    \\int \\epsilon | \\vec{E} | ^2 dV\n",
    "\\end{equation}\n",
    "\n",
    "Which can be broken into real and imaginary parts\n",
    "\n",
    "\n",
    "\\begin{equation}\n",
    "    \\int \\epsilon | \\vec{E} | ^2 dV = \\int Re(\\epsilon) | \\vec{E} | ^2 dV + i\\int Im(\\epsilon) | \\vec{E} | ^2 dV\n",
    "\\end{equation}\n",
    "\n",
    "The second term is the one that corresponds to absorbed power, which is given by:\n",
    "\n",
    "\\begin{equation}\n",
    "    P_{absorbed} = \\frac{\\omega}{2} \\int Im(\\epsilon) | \\vec{E} | ^2 dV\n",
    "\\end{equation}"
   ]
  },
  {
   "cell_type": "code",
   "execution_count": 49,
   "metadata": {},
   "outputs": [],
   "source": [
    "def integrate(arr, layer_obj, sim_proc):\n",
    "    arr_slice = arr[layer_obj.slice]\n",
    "    zsamps = layer_obj.iend - layer_obj.istart\n",
    "    z_vals = np.linspace(0, layer_obj.thickness, zsamps)\n",
    "    x_vals = np.linspace(0, sim_proc.period, sim_proc.x_samples)\n",
    "    y_vals = np.linspace(0, sim_proc.period, sim_proc.y_samples)\n",
    "    z_integral = intg.trapz(arr_slice, x=z_vals, axis=0)\n",
    "    x_integral = intg.trapz(z_integral, x=x_vals, axis=0)\n",
    "    y_integral = intg.trapz(x_integral, x=y_vals, axis=0)\n",
    "    return y_integral"
   ]
  },
  {
   "cell_type": "code",
   "execution_count": 50,
   "metadata": {},
   "outputs": [],
   "source": [
    "def integrate_SI(arr, layer_obj, sim_proc):\n",
    "    arr_slice = arr[layer_obj.slice]\n",
    "    zsamps = layer_obj.iend - layer_obj.istart\n",
    "    z_vals = np.linspace(0, layer_obj.thickness*1e-6, zsamps)\n",
    "    x_vals = np.linspace(0, sim_proc.period*1e-6, sim_proc.x_samples)\n",
    "    y_vals = np.linspace(0, sim_proc.period*1e-6, sim_proc.y_samples)\n",
    "    z_integral = intg.trapz(arr_slice, x=z_vals, axis=0)\n",
    "    x_integral = intg.trapz(z_integral, x=x_vals, axis=0)\n",
    "    y_integral = intg.trapz(x_integral, x=y_vals, axis=0)\n",
    "    return y_integral"
   ]
  },
  {
   "cell_type": "code",
   "execution_count": 51,
   "metadata": {},
   "outputs": [
    {
     "name": "stderr",
     "output_type": "stream",
     "text": [
      "DEBUG:nanowire.optics.simulate:Computing fields ...\n",
      "DEBUG:nanowire.optics.simulate:Computing up to depth of 0.5 microns\n",
      "DEBUG:nanowire.optics.simulate:Finished computing fields!\n"
     ]
    }
   ],
   "source": [
    "sim.get_field()"
   ]
  },
  {
   "cell_type": "code",
   "execution_count": 52,
   "metadata": {},
   "outputs": [
    {
     "name": "stdout",
     "output_type": "stream",
     "text": [
      "Epsilon = (13.767280000000001+0.8017920000000001j)\n",
      "SI Freq = 400000000000000.0\n",
      "LH Freq = 1.3342563807926082\n"
     ]
    }
   ],
   "source": [
    "epsilon = sim._get_epsilon(os.path.expandvars(\n",
    "    '$HOME/software/nanowire/nanowire/NK/006_GaAs_nk_Walker_modified_Hz.txt'))\n",
    "print(\"Epsilon = {}\".format(epsilon))\n",
    "si_freq = sim.conf[('Simulation', 'params', 'frequency', 'value')]\n",
    "base_unit = sim.conf[('Simulation', 'base_unit')]\n",
    "c_conv = consts.c / base_unit \n",
    "f_conv = si_freq / c_conv\n",
    "print(\"SI Freq = {}\".format(si_freq))\n",
    "print(\"LH Freq = {}\".format(f_conv))"
   ]
  },
  {
   "cell_type": "code",
   "execution_count": 53,
   "metadata": {},
   "outputs": [
    {
     "name": "stderr",
     "output_type": "stream",
     "text": [
      "DEBUG:nanowire.optics.postprocess:Logger initialized\n",
      "DEBUG:nanowire.optics.postprocess:Adding normEsquared to data dict\n"
     ]
    },
    {
     "name": "stdout",
     "output_type": "stream",
     "text": [
      "400000000000000.0\n",
      "(1.37463654512e-19+0j)\n",
      "1.3342563807926082\n",
      "749.481145\n"
     ]
    },
    {
     "data": {
      "text/latex": [
       "$P_{abs} = \\frac{\\omega}{2} Im(\\epsilon) \\int |E|^2 dV = (1.952069266401941e-16+0j)$"
      ]
     },
     "metadata": {},
     "output_type": "display_data"
    }
   ],
   "source": [
    "sim_proc = Simulation(simulator=sim)\n",
    "try:\n",
    "    Esq = sim_proc.data['normEsquared']\n",
    "except KeyError:\n",
    "    Esq = sim_proc.normEsquared()\n",
    "layer_name = 'Substrate'\n",
    "layer_obj = sim_proc.layers[layer_name]\n",
    "si_freq = sim_proc.conf[('Simulation', 'params', 'frequency', 'value')]\n",
    "base_unit = sim_proc.conf[('Simulation', 'base_unit')]\n",
    "c_conv = consts.c / base_unit \n",
    "f_conv = si_freq / c_conv\n",
    "n_mat, k_mat = layer_obj.get_nk_matrix(si_freq)\n",
    "# n and k could be functions of space, so we need to multiply the\n",
    "# fields by n and k before integrating\n",
    "res = integrate_SI(Esq, layer_obj, sim_proc)\n",
    "imag_part = res*(2*n_mat[0, 0]*k_mat[0, 0])\n",
    "p_abs_imag = .5*si_freq*const.epsilon_0*imag_part\n",
    "print(si_freq)\n",
    "print(res)\n",
    "print(f_conv)\n",
    "print(const.c/si_freq*1e9)\n",
    "disp.display_latex(\"$P_{abs} = \\\\frac{\\omega}{2} Im(\\epsilon) \\int |E|^2 dV\"+\" = {}$\".format(p_abs_imag), raw=True)"
   ]
  },
  {
   "cell_type": "code",
   "execution_count": 54,
   "metadata": {},
   "outputs": [
    {
     "name": "stdout",
     "output_type": "stream",
     "text": [
      "(4.41905227606+0j)\n"
     ]
    }
   ],
   "source": [
    "print(np.average(Esq))"
   ]
  },
  {
   "cell_type": "code",
   "execution_count": 55,
   "metadata": {},
   "outputs": [
    {
     "name": "stderr",
     "output_type": "stream",
     "text": [
      "DEBUG:nanowire.optics.postprocess:Logger initialized\n",
      "DEBUG:nanowire.optics.postprocess:Adding normEsquared to data dict\n"
     ]
    },
    {
     "name": "stdout",
     "output_type": "stream",
     "text": [
      "complex128\n",
      "Layer : Substrate\n",
      "n = 3.7125717990361693\n",
      "k = 0.108\n"
     ]
    },
    {
     "data": {
      "text/latex": [
       "$\\epsilon = (13.767280000000001+0.8017920000000001j)$"
      ],
      "text/plain": [
       "<IPython.core.display.Latex object>"
      ]
     },
     "metadata": {},
     "output_type": "display_data"
    },
    {
     "data": {
      "text/latex": [
       "SI $\\omega = 400000000000000.0$"
      ],
      "text/plain": [
       "<IPython.core.display.Latex object>"
      ]
     },
     "metadata": {},
     "output_type": "display_data"
    },
    {
     "name": "stdout",
     "output_type": "stream",
     "text": [
      "13.794853363\n",
      "Slice: (slice(0, 150, None), Ellipsis)\n"
     ]
    },
    {
     "data": {
      "text/latex": [
       "$\\int |E|^2 dV = (0.13746365451179282+0j)$"
      ],
      "text/plain": [
       "<IPython.core.display.Latex object>"
      ]
     },
     "metadata": {},
     "output_type": "display_data"
    },
    {
     "data": {
      "text/latex": [
       "$Re(\\epsilon) \\int |E|^2 dV = (1.8930842045996399+0j)$"
      ]
     },
     "metadata": {},
     "output_type": "display_data"
    },
    {
     "data": {
      "text/latex": [
       "$Im(\\epsilon) \\int |E|^2 dV = (0.11023423642071356+0j)$"
      ]
     },
     "metadata": {},
     "output_type": "display_data"
    },
    {
     "data": {
      "text/latex": [
       "$P_{abs} = \\frac{\\omega}{2} Im(\\epsilon) \\int |E|^2 dV = (195.20692664019356+0j)$"
      ]
     },
     "metadata": {},
     "output_type": "display_data"
    },
    {
     "name": "stdout",
     "output_type": "stream",
     "text": [
      "3.71257179904\n",
      "8.854187817620389e-12\n",
      "4.000000E+14\n"
     ]
    }
   ],
   "source": [
    "sim_proc = Simulation(simulator=sim)\n",
    "try:\n",
    "    Esq = sim_proc.data['normEsquared']\n",
    "except KeyError:\n",
    "    Esq = sim_proc.normEsquared()\n",
    "print(Esq.dtype)\n",
    "layer_name = 'Substrate'\n",
    "layer_obj = sim_proc.layers[layer_name]\n",
    "print(\"Layer : {}\".format(layer_name))\n",
    "si_freq = sim_proc.conf[('Simulation', 'params', 'frequency', 'value')]\n",
    "base_unit = sim_proc.conf[('Simulation', 'base_unit')]\n",
    "c_conv = consts.c / base_unit \n",
    "f_conv = si_freq / c_conv\n",
    "n_mat, k_mat = layer_obj.get_nk_matrix(si_freq)\n",
    "print(\"n = {}\".format(n_mat[0,0]))\n",
    "print(\"k = {}\".format(k_mat[0,0]))\n",
    "raw_fields1 = disp.Latex(\"$Re(\\epsilon) = {}$\".format(n_mat[0, 0]**2 - k_mat[0, 0]**2))\n",
    "raw_fields2 = disp.Latex(\"$Im(\\epsilon) = {}$\".format(2*n_mat[0,0]*k_mat[0,0]))\n",
    "disp.display(o1, o2)\n",
    "epsilon = complex(n_mat[0, 0]**2 - k_mat[0, 0]**2, 2*n_mat[0,0]*k_mat[0,0])\n",
    "print(np.absolute(epsilon))\n",
    "# n and k could be functions of space, so we need to multiply the\n",
    "# fields by n and k before integrating\n",
    "print('Slice: {}'.format(layer_obj.slice))\n",
    "res = integrate(Esq, layer_obj, sim_proc)\n",
    "raw_fields3 = disp.Latex(\"$\\int |E|^2 dV = {}$\".format(res))\n",
    "disp.display(raw_fields3)\n",
    "#arr_slice = Esq[layer_obj.slice]*(n_mat**2 - k_mat**2)\n",
    "real_part = res*(n_mat[0, 0]**2 - k_mat[0, 0]**2)\n",
    "imag_part = res*(2*n_mat[0, 0]*k_mat[0, 0])\n",
    "#p_abs_imag = .5*f_conv*imag_part\n",
    "#p_abs_imag = (1/16)*.5*si_freq*const.epsilon_0*imag_part\n",
    "p_abs_imag = .5*si_freq*const.epsilon_0*imag_part\n",
    "disp.display_latex(\"$Re(\\epsilon) \\int |E|^2 dV = {}$\".format(real_part), raw=True)\n",
    "disp.display_latex(\"$Im(\\epsilon) \\int |E|^2 dV = {}$\".format(imag_part), raw=True)\n",
    "disp.display_latex(\"$P_{abs} = \\\\frac{\\omega}{2} Im(\\epsilon) \\int |E|^2 dV\"+\" = {}$\".format(p_abs_imag), raw=True)\n",
    "print(n_mat[0, 0])\n",
    "print(const.epsilon_0)\n",
    "print('{:E}'.format(si_freq))"
   ]
  },
  {
   "cell_type": "code",
   "execution_count": 17,
   "metadata": {},
   "outputs": [
    {
     "name": "stdout",
     "output_type": "stream",
     "text": [
      "0.0879767388875\n"
     ]
    }
   ],
   "source": [
    "fields = np.absolute(sim.data[\"Ex\"])**2 + np.absolute(sim.data['Ey'])**2\n",
    "result = integrate(fields, layer_obj, sim_proc)\n",
    "print(result)"
   ]
  },
  {
   "cell_type": "code",
   "execution_count": 18,
   "metadata": {},
   "outputs": [
    {
     "name": "stdout",
     "output_type": "stream",
     "text": [
      "8.07958682619e-34\n"
     ]
    }
   ],
   "source": [
    "fields = np.absolute(sim.data['Ez'])**2\n",
    "result = integrate(fields, layer_obj, sim_proc)\n",
    "print(result)"
   ]
  },
  {
   "cell_type": "markdown",
   "metadata": {},
   "source": [
    "# Conclusion"
   ]
  },
  {
   "cell_type": "markdown",
   "metadata": {},
   "source": [
    "## Flux Method"
   ]
  },
  {
   "cell_type": "code",
   "execution_count": 19,
   "metadata": {},
   "outputs": [
    {
     "name": "stdout",
     "output_type": "stream",
     "text": [
      "Python API:\n",
      "\n",
      "GaAs Absorption = (0.5913410730435529+0j)\n",
      "-------------------------\n",
      "Lua API:\n",
      "\n",
      "Flux Method Power Absorbed Real: 0.59119167316067\n",
      "Flux Method Power Absorbed Imag: 0\n"
     ]
    }
   ],
   "source": [
    "print('Python API:\\n')\n",
    "print('GaAs Absorption = {}'.format(abs_dict_fluxmethod['Substrate']))\n",
    "print(\"-\"*25)\n",
    "print(\"Lua API:\\n\")\n",
    "print(output[-7])\n",
    "print(output[-6])"
   ]
  },
  {
   "cell_type": "markdown",
   "metadata": {},
   "source": [
    "## GetVolumeIntegral Method"
   ]
  },
  {
   "cell_type": "code",
   "execution_count": 20,
   "metadata": {
    "scrolled": false
   },
   "outputs": [
    {
     "name": "stdout",
     "output_type": "stream",
     "text": [
      "Python API:\n",
      "\n"
     ]
    },
    {
     "data": {
      "text/latex": [
       "$\\int \\epsilon |E|^2 dV = (1.2132228557709261-9.118409901029573e-18j)$"
      ],
      "text/plain": [
       "<IPython.core.display.Latex object>"
      ]
     },
     "metadata": {},
     "output_type": "display_data"
    },
    {
     "data": {
      "text/latex": [
       "$\\int |E|^2 dV = (0.08782575684281478-0.00511488029810639j)$"
      ],
      "text/plain": [
       "<IPython.core.display.Latex object>"
      ]
     },
     "metadata": {},
     "output_type": "display_data"
    },
    {
     "data": {
      "text/latex": [
       "$\\epsilon \\int |E|^2 dV = (1.2132228557709266+0j)$"
      ],
      "text/plain": [
       "<IPython.core.display.Latex object>"
      ]
     },
     "metadata": {},
     "output_type": "display_data"
    },
    {
     "data": {
      "text/latex": [
       "$P_{abs} = \\frac{\\omega}{2} Im(\\epsilon) \\int |E|^2 dV = (0.04697782572669934-0.0027359394771561056j)$"
      ],
      "text/plain": [
       "<IPython.core.display.Latex object>"
      ]
     },
     "metadata": {},
     "output_type": "display_data"
    },
    {
     "data": {
      "text/latex": [
       "$\\int \\epsilon |E|^2 + |H|^2 dV  = (2.4408002580650314-9.079719215499404e-18j)$"
      ],
      "text/plain": [
       "<IPython.core.display.Latex object>"
      ]
     },
     "metadata": {},
     "output_type": "display_data"
    },
    {
     "name": "stdout",
     "output_type": "stream",
     "text": [
      "-------------------------\n",
      "Lua API:\n"
     ]
    },
    {
     "data": {
      "text/latex": [
       "$Re(\\int |E|^2 dV) = 0.088000970616423$"
      ]
     },
     "metadata": {},
     "output_type": "display_data"
    },
    {
     "data": {
      "text/latex": [
       "$Im(\\int |E|^2 dV) = -0.0051126199341422$"
      ]
     },
     "metadata": {},
     "output_type": "display_data"
    },
    {
     "data": {
      "text/latex": [
       "$Re(\\int \\epsilon |E|^2 dV) = 1.2158634613355$"
      ]
     },
     "metadata": {},
     "output_type": "display_data"
    },
    {
     "data": {
      "text/latex": [
       "$Im(\\int \\epsilon |E|^2 dV) = 4.3617340390115e-18$"
      ]
     },
     "metadata": {},
     "output_type": "display_data"
    }
   ],
   "source": [
    "print('Python API:\\n')\n",
    "test = disp.display(o4, o5, o52, o6, o8)\n",
    "print(\"-\"*25)\n",
    "print(\"Lua API:\" )\n",
    "luaapi_1 = disp.display_latex(\"$\"+output[-2]+\"$\", raw=True)\n",
    "luaapi_2 = disp.display_latex(\"$\"+output[-1]+\"$\", raw=True)\n",
    "luaapi_3 = disp.display_latex(\"$\"+output[-4]+\"$\", raw=True)\n",
    "luaapi_4 = disp.display_latex(\"$\"+output[-3]+\"$\", raw=True)"
   ]
  },
  {
   "cell_type": "markdown",
   "metadata": {},
   "source": [
    "## Integrate Raw Fields"
   ]
  },
  {
   "cell_type": "code",
   "execution_count": 21,
   "metadata": {},
   "outputs": [
    {
     "data": {
      "text/latex": [
       "$\\int |E|^2 dV = (0.08797673888754828+0j)$"
      ],
      "text/plain": [
       "<IPython.core.display.Latex object>"
      ]
     },
     "metadata": {},
     "output_type": "display_data"
    },
    {
     "data": {
      "text/latex": [
       "$Re(\\epsilon) \\int |E|^2 dV = (1.2115738909437817+0j)$"
      ]
     },
     "metadata": {},
     "output_type": "display_data"
    },
    {
     "data": {
      "text/latex": [
       "$Im(\\epsilon) \\int |E|^2 dV = (0.07054991130925738+0j)$"
      ]
     },
     "metadata": {},
     "output_type": "display_data"
    },
    {
     "data": {
      "text/latex": [
       "$P_{abs} = \\frac{\\omega}{2} Im(\\epsilon) \\int |E|^2 dV = (124.9324330497251+0j)$"
      ]
     },
     "metadata": {},
     "output_type": "display_data"
    }
   ],
   "source": [
    "raw_fields3 = disp.Latex(\"$\\int |E|^2 dV = {}$\".format(res))\n",
    "disp.display(raw_fields3)\n",
    "disp.display_latex(\"$Re(\\epsilon) \\int |E|^2 dV = {}$\".format(real_part), raw=True)\n",
    "disp.display_latex(\"$Im(\\epsilon) \\int |E|^2 dV = {}$\".format(imag_part), raw=True)\n",
    "disp.display_latex(\"$P_{abs} = \\\\frac{\\omega}{2} Im(\\epsilon) \\int |E|^2 dV\"+\" = {}$\".format(p_abs_imag), raw=True)"
   ]
  },
  {
   "cell_type": "code",
   "execution_count": 22,
   "metadata": {},
   "outputs": [
    {
     "data": {
      "text/plain": [
       "(0.0047332870945384509+0j)"
      ]
     },
     "execution_count": 22,
     "metadata": {},
     "output_type": "execute_result"
    }
   ],
   "source": [
    "abs_dict_fluxmethod['Substrate']/p_abs_imag"
   ]
  }
 ],
 "metadata": {
  "kernelspec": {
   "display_name": "nanowire",
   "language": "python",
   "name": "nanowire"
  },
  "language_info": {
   "codemirror_mode": {
    "name": "ipython",
    "version": 3
   },
   "file_extension": ".py",
   "mimetype": "text/x-python",
   "name": "python",
   "nbconvert_exporter": "python",
   "pygments_lexer": "ipython3",
   "version": "3.5.2"
  },
  "toc": {
   "nav_menu": {
    "height": "48px",
    "width": "254px"
   },
   "number_sections": true,
   "sideBar": true,
   "skip_h1_title": false,
   "toc_cell": false,
   "toc_position": {},
   "toc_section_display": "block",
   "toc_window_display": false
  }
 },
 "nbformat": 4,
 "nbformat_minor": 1
}
