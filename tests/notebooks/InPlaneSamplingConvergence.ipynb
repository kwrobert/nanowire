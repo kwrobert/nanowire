{
 "cells": [
  {
   "cell_type": "code",
   "execution_count": null,
   "metadata": {},
   "outputs": [],
   "source": [
    "import os\n",
    "import numpy as np\n",
    "from nanowire.optics.simulate import Simulator\n",
    "from nanowire.optics.postprocess import Simulation\n",
    "from nanowire.optics.utils.utils import setup_sim\n",
    "from nanowire.optics.utils.config import Config\n",
    "from nanowire.optics.utils.geometry import get_layers\n",
    "import scipy.constants as consts\n",
    "import scipy.integrate as intg\n",
    "import IPython.display as disp\n",
    "import matplotlib.pyplot as plt\n",
    "import time\n",
    "from itertools import product\n",
    "plt.style.use(['presentation'])\n",
    "%load_ext autoreload \n",
    "%autoreload 2\n",
    "%load_ext ipycache"
   ]
  },
  {
   "cell_type": "code",
   "execution_count": null,
   "metadata": {},
   "outputs": [],
   "source": [
    "def integrate(arr, xvals, yvals):\n",
    "    x_integral = intg.trapz(arr, x=xvals, axis=0)\n",
    "    y_integral = intg.trapz(x_integral, x=yvals, axis=0)\n",
    "    return y_integral"
   ]
  },
  {
   "cell_type": "code",
   "execution_count": null,
   "metadata": {},
   "outputs": [],
   "source": [
    "ITO_locs = np.linspace(.501, .8, 4, endpoint=False)\n",
    "NW_locs = np.linspace(.8, .8+1.3, 4, endpoint=False)\n",
    "Sub_locs = np.linspace(.8+1.3, .8+1.3+1, 4, endpoint=False)\n",
    "z_vals = np.concatenate((ITO_locs, NW_locs, Sub_locs))\n",
    "num_points = np.arange(50, 550, 50)\n",
    "numbasis = np.arange(200, 550, 50)\n",
    "pairs = list(zip(num_points, num_points))\n",
    "print(list(pairs))"
   ]
  },
  {
   "cell_type": "code",
   "execution_count": null,
   "metadata": {},
   "outputs": [],
   "source": [
    "%%cache InPlaneResultsWeismann.pkl results times\n",
    "results = np.zeros((len(numbasis), len(pairs), z_vals.shape[0]))\n",
    "times = np.zeros_like(results)\n",
    "conf = Config('InPlaneSampleTest.yml')\n",
    "freq = conf[('Simulation', 'params', 'frequency')]\n",
    "for k, basis in enumerate(numbasis):\n",
    "    print('#'*25)\n",
    "    print('Computing with {} basis terms'.format(basis))\n",
    "    conf[('Simulation', 'params', 'numbasis')] = basis\n",
    "    for i, (xpts, ypts) in enumerate(pairs):\n",
    "        print('-'*25)\n",
    "        print('Computing with {} points per edge'.format(xpts))\n",
    "        conf[('Simulation', 'x_samples')] = xpts\n",
    "        conf[('Simulation', 'y_samples')] = ypts\n",
    "        sim = Simulator(conf)\n",
    "        sim.setup()\n",
    "        layers = get_layers(sim)\n",
    "        for j, z in enumerate(z_vals):\n",
    "            layer_obj = [layer for layer in layers.values() if layer.start <= z <= layer.end].pop()\n",
    "            n_mat, k_mat = layer_obj.get_nk_matrix(freq)\n",
    "            start = time.time()\n",
    "            Ex, Ey, Ez, Hx, Hy, Hz = sim.compute_fields_on_plane(z, sim.xsamps, sim.ysamps)\n",
    "            end = time.time()\n",
    "            diff = end - start\n",
    "            normEsq = np.absolute(Ex)**2 + np.absolute(Ey)**2 + np.absolute(Ez)**2\n",
    "            res = integrate(n_mat*k_mat*normEsq, sim.X, sim.Y)\n",
    "            results[k, i, j] = res\n",
    "            times[k, i, j] = diff\n",
    "print('Done!')"
   ]
  },
  {
   "cell_type": "markdown",
   "metadata": {},
   "source": [
    "# Convergence w.r.t Sampling Points, Fixed Basis"
   ]
  },
  {
   "cell_type": "markdown",
   "metadata": {},
   "source": [
    "## N = 200"
   ]
  },
  {
   "cell_type": "code",
   "execution_count": null,
   "metadata": {},
   "outputs": [],
   "source": [
    "fig, axes = plt.subplots(4, 3, figsize=(16, 13), sharex=True)\n",
    "axes = axes.flatten()\n",
    "total_pts = np.array([tup[0] for tup in pairs])\n",
    "for i, z in enumerate(z_vals):\n",
    "    rel_diff = np.array(\n",
    "        [100*np.abs(results[-1,-1,i]-results[-1,j,i])/results[-1,-1,i] for j in range(len(results[-1, :, i]))])\n",
    "    #axes[i].plot(total_pts, results[0, :, i], marker='o', label=\"z = {:.3f}\".format(z))\n",
    "    axes[i].plot(total_pts, rel_diff, marker='o', label=\"z = {:.3f}\".format(z))\n",
    "    axes[i].legend(loc='best')\n",
    "    #pdiff = 100*abs(results[0, 0, i] - results[-1, -1, i])/results[0, -1, i]\n",
    "    #print('Percent Diff = {}'.format(pdiff))\n",
    "for ax in axes[-3:]:\n",
    "    ax.set_xlabel(\"Number of pts per edge\")\n",
    "for ax in axes[0::3]:\n",
    "    ax.set_ylabel(\"Percent Difference\")\n",
    "plt.tight_layout()\n",
    "plt.show()"
   ]
  },
  {
   "cell_type": "markdown",
   "metadata": {},
   "source": [
    "## N = 500"
   ]
  },
  {
   "cell_type": "code",
   "execution_count": null,
   "metadata": {},
   "outputs": [],
   "source": [
    "fig, axes = plt.subplots(4, 3, figsize=(16, 13), sharex=True)\n",
    "axes = axes.flatten()\n",
    "total_pts = np.array([tup[0] for tup in pairs])\n",
    "for i, z in enumerate(z_vals):\n",
    "    rel_diff = np.array(\n",
    "        [100*np.abs(results[-1,-1,i]-results[-1,j,i])/results[-1,-1,i] for j in range(len(results[-1, :, i]))])\n",
    "    #axes[i].plot(total_pts, results[-1, :, i], marker='o', label=\"z = {:.3f}\".format(z))\n",
    "    axes[i].plot(total_pts, rel_diff, marker='o', label=\"z = {:.3f}\".format(z))\n",
    "    axes[i].legend(loc='best')\n",
    "    #pdiff = 100*abs(results[-1, 1, i] - results[-1, -1, i])/results[-1, -1, i]\n",
    "    #print('Percent Diff = {}'.format(pdiff))\n",
    "for ax in axes[-3:]:\n",
    "    ax.set_xlabel(\"Number of pts per edge\")\n",
    "for ax in axes[0::3]:\n",
    "    ax.set_ylabel(\"Integral Val\")\n",
    "plt.tight_layout()\n",
    "plt.show()"
   ]
  },
  {
   "cell_type": "markdown",
   "metadata": {},
   "source": [
    "# Convergence w.r.t Number of Basis Terms, Converged Sampling"
   ]
  },
  {
   "cell_type": "code",
   "execution_count": null,
   "metadata": {},
   "outputs": [],
   "source": [
    "cols = 3\n",
    "rows = int(np.ceil(len(z_vals))/3)\n",
    "fig, axes = plt.subplots(rows, cols, figsize=(16, 13), sharex=True)\n",
    "axes = axes.flatten()\n",
    "total_pts = np.array([tup[0] for tup in pairs])\n",
    "for i, z in enumerate(z_vals):\n",
    "    rel_diff = np.array(\n",
    "        [100*np.abs(results[-1,2,i]-results[j,2,i])/results[-1,2,i] for j in range(len(results[:, 2, i]))])\n",
    "    #axes[i].plot(numbasis, results[:, -1, i], marker='o', label=\"z = {:.3f}\".format(z))\n",
    "    axes[i].plot(numbasis, rel_diff, marker='o', label=\"z = {:.3f}\".format(z))\n",
    "    axes[i].legend(loc='best')\n",
    "    #pdiff = 100*abs(results[-2, -1, i] - results[-1, -1, i])/results[-1, -1, i]\n",
    "    #print('Percent Diff = {} at z = {}'.format(pdiff, z))\n",
    "for ax in axes[-3:]:\n",
    "    ax.set_xlabel(\"Number of Basis Terms\")\n",
    "for ax in axes[0::3]:\n",
    "    ax.set_ylabel(\"Integral Val\")\n",
    "plt.tight_layout()\n",
    "plt.show()"
   ]
  },
  {
   "cell_type": "markdown",
   "metadata": {},
   "source": [
    "# Convergence w.r.t Number of Basis Terms, Most Dense Sampling"
   ]
  },
  {
   "cell_type": "code",
   "execution_count": null,
   "metadata": {},
   "outputs": [],
   "source": [
    "cols = 3\n",
    "rows = int(np.ceil(len(z_vals))/3)\n",
    "fig, axes = plt.subplots(rows, cols, figsize=(16, 13), sharex=True)\n",
    "axes = axes.flatten()\n",
    "total_pts = np.array([tup[0] for tup in pairs])\n",
    "for i, z in enumerate(z_vals):\n",
    "    rel_diff = np.array(\n",
    "        [100*np.abs(results[-1,-1,i]-results[j,-1,i])/results[-1,-1,i] for j in range(len(results[:, -1, i]))])\n",
    "    #axes[i].plot(numbasis, results[:, -1, i], marker='o', label=\"z = {:.3f}\".format(z))\n",
    "    axes[i].plot(numbasis, rel_diff, marker='o', label=\"z = {:.3f}\".format(z))\n",
    "    axes[i].legend(loc='best')\n",
    "    #pdiff = 100*abs(results[-2, -1, i] - results[-1, -1, i])/results[-1, -1, i]\n",
    "    #print('Percent Diff = {} at z = {}'.format(pdiff, z))\n",
    "for ax in axes[-3:]:\n",
    "    ax.set_xlabel(\"Number of Basis Terms\")\n",
    "for ax in axes[0::3]:\n",
    "    ax.set_ylabel(\"Integral Val\")\n",
    "plt.tight_layout()\n",
    "plt.show()"
   ]
  },
  {
   "cell_type": "markdown",
   "metadata": {},
   "source": [
    "# Run Time w.r.t Number of Sampling Points, 500 Basis"
   ]
  },
  {
   "cell_type": "code",
   "execution_count": null,
   "metadata": {},
   "outputs": [],
   "source": [
    "cols = 3\n",
    "rows = int(np.ceil(len(z_vals)/cols))\n",
    "fig, axes = plt.subplots(rows, cols, figsize=(14, 10), sharex=True, sharey=True)\n",
    "axes = axes.flatten()\n",
    "total_pts = np.array([tup[0] for tup in pairs])\n",
    "for i, z in enumerate(z_vals):\n",
    "    axes[i].plot(total_pts, times[-1, :, i], marker='o', label=\"z = {:.3f}\".format(z))\n",
    "    axes[i].legend(loc='best')\n",
    "for ax in axes[-3:]:\n",
    "    ax.set_xlabel(\"Number of pts per edge\")\n",
    "for ax in axes[0::3]:\n",
    "    ax.set_ylabel(\"Run (seconds)\")\n",
    "plt.tight_layout()\n",
    "plt.show()"
   ]
  },
  {
   "cell_type": "markdown",
   "metadata": {},
   "source": [
    "# Run Time w.r.t Z Location, Fixed Basis"
   ]
  },
  {
   "cell_type": "code",
   "execution_count": null,
   "metadata": {},
   "outputs": [],
   "source": [
    "cols = 3\n",
    "rows = int(np.ceil(len(pairs)/cols))\n",
    "fig, axes = plt.subplots(rows, cols, figsize=(16, 13), sharex=True, sharey=True)\n",
    "axes = axes.flatten()\n",
    "total_pts = np.array([tup[0] for tup in pairs])\n",
    "for i, (xpts, ypts) in enumerate(pairs):\n",
    "    axes[i].plot(z_vals, times[0, i, :], marker='o', label=\"{} pts per edge\".format(xpts))\n",
    "    axes[i].legend(loc='best')\n",
    "for ax in axes[-3:]:\n",
    "    ax.set_xlabel(\"Z Coordinate\")\n",
    "for ax in axes[0::3]:\n",
    "    ax.set_ylabel(\"Time (seconds)\")\n",
    "plt.tight_layout()\n",
    "plt.show()"
   ]
  },
  {
   "cell_type": "markdown",
   "metadata": {},
   "source": [
    "# Run Time Scaling w.r.t Sampling Points, Fixed Basis"
   ]
  },
  {
   "cell_type": "markdown",
   "metadata": {},
   "source": [
    "## N = 200"
   ]
  },
  {
   "cell_type": "code",
   "execution_count": null,
   "metadata": {},
   "outputs": [],
   "source": [
    "cols = 3\n",
    "rows = int(np.ceil(len(z_vals)/cols))\n",
    "fig, axes = plt.subplots(rows, cols, figsize=(16, 13), sharey=True)\n",
    "axes = axes.flatten()\n",
    "total_pts = np.array([tup[0] for tup in pairs])\n",
    "for i, z in enumerate(z_vals):\n",
    "    axes[i].plot(total_pts, times[0, :, i], marker='o', label=\"z = {:.3f}\".format(z))\n",
    "    axes[i].legend(loc='best')\n",
    "for ax in axes[-3:]:\n",
    "    ax.set_xlabel(\"Number of pts per edge\")\n",
    "for ax in axes[0::3]:\n",
    "    ax.set_ylabel(\"Time (seconds)\")\n",
    "plt.tight_layout()\n",
    "plt.show()"
   ]
  },
  {
   "cell_type": "markdown",
   "metadata": {},
   "source": [
    "## N = 500"
   ]
  },
  {
   "cell_type": "code",
   "execution_count": null,
   "metadata": {},
   "outputs": [],
   "source": [
    "cols = 3\n",
    "rows = int(np.ceil(len(z_vals)/cols))\n",
    "fig, axes = plt.subplots(rows, cols, figsize=(16, 13), sharey=True)\n",
    "axes = axes.flatten()\n",
    "total_pts = np.array([tup[0] for tup in pairs])\n",
    "for i, z in enumerate(z_vals):\n",
    "    axes[i].plot(total_pts, times[-1, :, i], marker='o', label=\"z = {:.3f}\".format(z))\n",
    "    axes[i].legend(loc='best')\n",
    "for ax in axes[-3:]:\n",
    "    ax.set_xlabel(\"Number of pts per edge\")\n",
    "for ax in axes[0::3]:\n",
    "    ax.set_ylabel(\"Time (seconds)\")\n",
    "plt.tight_layout()\n",
    "plt.show()"
   ]
  },
  {
   "cell_type": "markdown",
   "metadata": {},
   "source": [
    "# Run Time Scaling w.r.t Sampling Points, z = 1.125"
   ]
  },
  {
   "cell_type": "code",
   "execution_count": null,
   "metadata": {},
   "outputs": [],
   "source": [
    "cols = 3\n",
    "rows = int(np.ceil(len(numbasis)/cols))\n",
    "fig, axes = plt.subplots(rows, cols, figsize=(16, 13), sharex=True)\n",
    "axes = axes.flatten()\n",
    "total_pts = np.array([tup[0] for tup in pairs])\n",
    "for i, basis in enumerate(numbasis):\n",
    "    axes[i].plot(total_pts[1:], times[i, 1:, 5], marker='o', label=\"N = {}\".format(basis))\n",
    "    axes[i].legend(loc='best')\n",
    "for ax in axes[-3:]:\n",
    "    ax.set_xlabel(\"Number of pts per edge\")\n",
    "for ax in axes[0::3]:\n",
    "    ax.set_ylabel(\"Run Time (seconds)\")\n",
    "plt.tight_layout()\n",
    "plt.show()"
   ]
  },
  {
   "cell_type": "markdown",
   "metadata": {},
   "source": [
    "# Run Time Scaling w.r.t Basis Terms, z=1.125"
   ]
  },
  {
   "cell_type": "code",
   "execution_count": null,
   "metadata": {},
   "outputs": [],
   "source": [
    "cols = 3\n",
    "rows = int(np.ceil(len(pairs)/cols))\n",
    "fig, axes = plt.subplots(rows, cols, figsize=(16, 13))\n",
    "axes = axes.flatten()\n",
    "total_pts = np.array([tup[0] for tup in pairs])\n",
    "for i, pair in enumerate(pairs):\n",
    "    axes[i].plot(numbasis, times[:, i, 5], marker='o', label=\"Pts/Edge = {}\".format(pair[0]))\n",
    "    axes[i].legend(loc='best')\n",
    "for ax in axes[-3:]:\n",
    "    ax.set_xlabel(\"Number of Basis Terms\")\n",
    "for ax in axes[0::3]:\n",
    "    ax.set_ylabel(\"Time (seconds)\")\n",
    "plt.tight_layout()\n",
    "plt.show()"
   ]
  },
  {
   "cell_type": "code",
   "execution_count": null,
   "metadata": {},
   "outputs": [],
   "source": [
    "from scipy.optimize import curve_fit\n",
    "\n",
    "def line(x, m, b):\n",
    "    return m*x + b\n",
    "\n",
    "def cube(x, a, m, b):\n",
    "    return a*x**m + b\n",
    "\n",
    "cols = 3\n",
    "rows = int(np.ceil(len(pairs)/cols))\n",
    "fig, axes = plt.subplots(rows, cols, figsize=(16, 13))\n",
    "axes = axes.flatten()\n",
    "total_pts = np.array([tup[0] for tup in pairs])\n",
    "x = np.log(numbasis)\n",
    "for i, pair in enumerate(pairs):\n",
    "    y = np.log(times[:, i, 5])\n",
    "    opt_pars, par_cov = curve_fit(cube, numbasis, times[:, i, 5])\n",
    "    print(opt_pars)\n",
    "    print(par_cov)\n",
    "    opt_pars, par_cov = curve_fit(line, x, y)\n",
    "    slope = opt_pars[0]\n",
    "    y_int = np.exp(opt_pars[1])\n",
    "    lab = \"Pts/Edge = {}\\nSlope = {:.3f}\".format(pair[0], slope)\n",
    "    axes[i].plot(x, y, marker='o', label=lab)\n",
    "    axes[i].legend(loc='best')\n",
    "for ax in axes[-3:]:\n",
    "    ax.set_xlabel(\"Number of Basis Terms\")\n",
    "for ax in axes[0::3]:\n",
    "    ax.set_ylabel(\"Time (seconds)\")\n",
    "plt.tight_layout()\n",
    "plt.show()"
   ]
  },
  {
   "cell_type": "code",
   "execution_count": null,
   "metadata": {},
   "outputs": [],
   "source": []
  },
  {
   "cell_type": "code",
   "execution_count": null,
   "metadata": {},
   "outputs": [],
   "source": [
    "xpts = 125\n",
    "ypts = 125\n",
    "conf[('Simulation', 'x_samples')] = xpts\n",
    "conf[('Simulation', 'y_samples')] = ypts\n",
    "sim = Simulator(conf)\n",
    "sim.setup()\n",
    "layers = get_layers(sim)\n",
    "Ex, Ey, Ez, Hx, Hy, Hz = sim.compute_fields_on_plane(1.125, sim.xsamps, sim.ysamps)\n",
    "normEsq = np.absolute(Ex)**2 + np.absolute(Ey)**2 + np.absolute(Ez)**2\n",
    "print(normEsq.shape)"
   ]
  },
  {
   "cell_type": "code",
   "execution_count": null,
   "metadata": {},
   "outputs": [],
   "source": [
    "layers = get_layers(sim)\n",
    "layer_obj = [layer for layer in layers.values() if layer.start <= z <= layer.end].pop()\n",
    "n_mat, k_mat = layer_obj.get_nk_matrix(freq)\n",
    "x = np.linspace(0, .25, 125)\n",
    "nkE = n_mat*k_mat*normEsq\n",
    "fig = plt.figure()\n",
    "plt.plot(x, normEsq[62, :], label=r'$|E|^2$')\n",
    "plt.plot(x, nkE[62, :], label=r'$nk|E|^2$')\n",
    "plt.xlabel('Microns')\n",
    "plt.ylabel('(V/m)^2')\n",
    "#fig, (ax1, ax2) = plt.subplots(1, 2, figsize=(12, 9))\n",
    "#ax1.plot(x, normEsq[250, :])\n",
    "#ax1.set_title(r'$|E|^2$')\n",
    "#ax2.plot(x, nkE[250, :])\n",
    "#ax2.set_title(r'$nk|E|^2$')\n",
    "plt.legend()\n",
    "plt.show()"
   ]
  },
  {
   "cell_type": "code",
   "execution_count": null,
   "metadata": {},
   "outputs": [],
   "source": []
  }
 ],
 "metadata": {
  "kernelspec": {
   "display_name": "nanowire",
   "language": "python",
   "name": "nanowire"
  },
  "language_info": {
   "codemirror_mode": {
    "name": "ipython",
    "version": 3
   },
   "file_extension": ".py",
   "mimetype": "text/x-python",
   "name": "python",
   "nbconvert_exporter": "python",
   "pygments_lexer": "ipython3",
   "version": "3.5.2"
  },
  "toc": {
   "colors": {
    "hover_highlight": "#DAA520",
    "running_highlight": "#FF0000",
    "selected_highlight": "#FFD700"
   },
   "moveMenuLeft": true,
   "nav_menu": {},
   "navigate_menu": true,
   "number_sections": true,
   "sideBar": true,
   "skip_h1_title": false,
   "threshold": 4,
   "toc_cell": false,
   "toc_position": {},
   "toc_section_display": "block",
   "toc_window_display": false
  }
 },
 "nbformat": 4,
 "nbformat_minor": 2
}
