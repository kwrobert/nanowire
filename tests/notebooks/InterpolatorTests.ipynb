{
 "cells": [
  {
   "cell_type": "code",
   "execution_count": null,
   "metadata": {},
   "outputs": [],
   "source": [
    "import os\n",
    "import sys\n",
    "import numpy as np\n",
    "from nanowire.optics.simulate import Simulator\n",
    "from nanowire.optics.postprocess import Simulation\n",
    "from nanowire.optics.utils.utils import setup_sim\n",
    "from nanowire.optics.utils.config import Config\n",
    "from nanowire.optics.utils.geometry import *\n",
    "from itertools import accumulate, repeat, chain\n",
    "import scipy.constants as consts\n",
    "import scipy.integrate as intg\n",
    "import scipy.interpolate as spi\n",
    "import IPython.display as disp\n",
    "import matplotlib.pyplot as plt\n",
    "plt.style.use(['presentation'])\n",
    "%load_ext autoreload \n",
    "%autoreload 2\n",
    "%load_ext ipycache"
   ]
  },
  {
   "cell_type": "code",
   "execution_count": null,
   "metadata": {},
   "outputs": [],
   "source": [
    "local_vars = locals()\n",
    "mem_useage = [(key, sys.getsizeof(val)/1024) for key, val in local_vars.items()]\n",
    "total = 0\n",
    "for name, val in sorted(mem_useage, key=lambda tup: tup[1], reverse=True):\n",
    "    print(\"{}: {} Kb\".format(name, val))\n",
    "    total += val\n",
    "print('Total Useage: {} Mb'.format(total/1024))"
   ]
  },
  {
   "cell_type": "markdown",
   "metadata": {},
   "source": [
    "# Utility Functions"
   ]
  },
  {
   "cell_type": "code",
   "execution_count": null,
   "metadata": {},
   "outputs": [],
   "source": [
    "def integrate1d(arr, xvals, meth=intg.trapz):\n",
    "    x_integral = meth(arr, x=xvals, axis=0)\n",
    "    return x_integral\n",
    "\n",
    "def integrate2d(arr, xvals, yvals, meth=intg.trapz):\n",
    "    x_integral = meth(arr, x=xvals, axis=0)\n",
    "    y_integral = meth(x_integral, x=yvals, axis=0)\n",
    "    return y_integral\n",
    "\n",
    "def integrate3d(arr, xvals, yvals, zvals, meth=intg.trapz):\n",
    "    ##print(\"Layer: {}\".format(layer_obj.name))\n",
    "    ##print(\"Layer Start Ind: {}\".format(layer_obj.istart))\n",
    "    ##print(\"Layer End Ind: {}\".format(layer_obj.iend))\n",
    "    ##print(z_vals)\n",
    "    z_integral = meth(arr, x=zvals, axis=0)\n",
    "    x_integral = meth(z_integral, x=xvals, axis=0)\n",
    "    y_integral = meth(x_integral, x=yvals, axis=0)\n",
    "    return y_integral\n",
    "\n",
    "def compute_fluxes(sim):\n",
    "    fluxes = sim.data['fluxes']\n",
    "    total_incident_power = .5*sim.period**2/Zo*np.absolute(fluxes['Air'][0])\n",
    "    total_reflected_power = .5*sim.period**2/Zo*np.absolute(fluxes['Air'][1])\n",
    "    total_transmitted_power = .5*sim.period**2/Zo*np.absolute(sum(fluxes['Substrate_bottom']))\n",
    "    total_absorbed_power = total_incident_power - total_reflected_power - total_transmitted_power\n",
    "    #print('Total Incident Power = {}'.format(total_incident_power))\n",
    "    #print('Total Reflected Power = {}'.format(total_reflected_power))\n",
    "    #print('Total Transmitted Power = {}'.format(total_transmitted_power))\n",
    "    #print('Total Absorbed Power = {}'.format(total_absorbed_power))\n",
    "    summed_absorbed_power = 0\n",
    "    abs_dict_fluxmethod = {}\n",
    "    for layer, (forw_top, back_top) in fluxes.items():\n",
    "        if '_bottom' in layer:\n",
    "            continue\n",
    "        bottom = layer+'_bottom'\n",
    "        forw_bot, back_bot = fluxes[bottom] \n",
    "        #print('-'*25)\n",
    "        #print('Layer: {}'.format(layer))\n",
    "        #print('Forward Top: {}'.format(forw_top))\n",
    "        #print('Backward Top: {}'.format(back_top))\n",
    "        #print('Forward Bottom: {}'.format(forw_bot))\n",
    "        #print('Backward Bottom: {}'.format(back_bot))\n",
    "        P_in = forw_top + -1*back_bot\n",
    "        P_out = forw_bot + -1*back_top\n",
    "        #print('Power Entering Layer: {}'.format(P_in))\n",
    "        #print('Power Leaving Layer: {}'.format(P_out))\n",
    "        P_lost = P_in - P_out\n",
    "        P_abs = .5*P_lost*(sim.period**2)/Zo\n",
    "        abs_dict_fluxmethod[layer] = P_abs \n",
    "        #print('Absorbed in Layer: {}'.format(P_abs))\n",
    "        summed_absorbed_power += P_abs\n",
    "    #print('-'*25)\n",
    "    #print('Summed Absorption= {}'.format(summed_absorbed_power))\n",
    "    return abs_dict_fluxmethod, summed_absorbed_power\n",
    "\n",
    "def get_intmethod_abs(sim_proc):\n",
    "    abs_dict_intmethod = {}\n",
    "    int_method_total = 0\n",
    "    freq = sim_proc.conf[(\"Simulation\",\"params\",\"frequency\",\"value\")]\n",
    "    Esq = sim_proc.normEsquared()\n",
    "    for layer_name, layer_obj in sim_proc.layers.items():\n",
    "        #print(\"Layer: {}\".format(layer_name))\n",
    "        base_unit = sim_proc.conf[('Simulation', 'base_unit')]\n",
    "        n_mat, k_mat = layer_obj.get_nk_matrix(freq)\n",
    "        # n and k could be functions of space, so we need to multiply the\n",
    "        # fields by n and k before integrating\n",
    "        arr = Esq[layer_obj.slice]\n",
    "        z_vals = sim_proc.Z[layer_obj.istart:layer_obj.iend]\n",
    "        res = integrate3d(arr*n_mat*k_mat,sim_proc.X, sim_proc.Y, z_vals)\n",
    "        if np.isnan(res):\n",
    "            #print(\"Result is nan!\")\n",
    "            res = 0\n",
    "        p_abs_imag = 2*np.pi*freq*consts.epsilon_0*res*base_unit\n",
    "        abs_dict_intmethod[layer_name] = p_abs_imag\n",
    "        #disp.display_latex(\"$P_{abs} = \\\\frac{\\omega}{2} Im(\\epsilon) \\int |E|^2 dV\"+\" = {}$\".format(p_abs_imag), raw=True)\n",
    "        int_method_total += p_abs_imag\n",
    "    #print(\"Integral Method Total Absorption: {}\".format(int_method_total))\n",
    "    return abs_dict_intmethod, int_method_total\n",
    "\n",
    "def get_errors(abs_dict_intmethod, abs_dict_fluxmethod, int_method_total, flux_method_total):\n",
    "    errors = {}\n",
    "    for key in abs_dict_fluxmethod.keys():\n",
    "        fm = abs_dict_fluxmethod[key]\n",
    "        im = abs_dict_intmethod[key]\n",
    "        diff = np.real(fm - im)\n",
    "        try:\n",
    "            pdiff = 100*abs(diff)/fm\n",
    "        except ZeroDivisionError:\n",
    "            pdiff = None\n",
    "            pass\n",
    "        #print('-'*25)\n",
    "        #print(\"Layer: {}\".format(key))\n",
    "        #print(\"Flux Method: {}\".format(fm))\n",
    "        #print(\"Integral Method: {}\".format(im))\n",
    "        #print(\"Diff: {}\".format(diff))\n",
    "        #print(\"Percent Diff: {}\".format(pdiff))\n",
    "        errors[key] = (diff, pdiff)\n",
    "    pdiff_total = 100*abs(flux_method_total - int_method_total)/flux_method_total\n",
    "    #print('-'*25)\n",
    "    #print(\"Total Percent Difference: {}\".format(pdiff_total))\n",
    "    errors['total'] = pdiff_total\n",
    "    return errors\n",
    "\n",
    "def get_layer_absorption(sim, layer, plane_samps, zsamps, interp='nknormEsq', meth=intg.trapz):\n",
    "    layer_results = []\n",
    "    freq = sim.conf[('Simulation', 'params', 'frequency')]\n",
    "    base_unit = sim.conf[('Simulation', 'base_unit')]\n",
    "    period = sim.conf[('Simulation', 'params', 'array_period')]\n",
    "    layer_obj = sim.layers[layer]\n",
    "    if interp == 'nknormEsq':\n",
    "        x = np.linspace(0, period, plane_samps)\n",
    "        z = np.linspace(layer_obj.start, layer_obj.end, zsamps)\n",
    "        pts = cartesian_product((z, x, x))\n",
    "        nkEsq = sim.nknormEsq(pts)\n",
    "        nkEsq = nkEsq.reshape((zsamps, plane_samps, plane_samps))\n",
    "        result = integrate3d(nkEsq, x, x, z, meth=meth)\n",
    "    elif interp == 'normEsq':\n",
    "        x = np.linspace(0, period, plane_samps)\n",
    "        n_mat, k_mat = layer_obj.get_nk_matrix(freq, xcoords=x, ycoords=x)\n",
    "        z = np.linspace(layer_obj.start, layer_obj.end, zsamps)\n",
    "        pts = cartesian_product((z, x, x))\n",
    "        Esq = sim.normEsq(pts)\n",
    "        Esq = Esq.reshape((zsamps, plane_samps, plane_samps))\n",
    "        result = integrate3d(n_mat*k_mat*Esq, x, x, z, meth=meth)\n",
    "    elif interp == 'nknormEsqno':\n",
    "        n_mat, k_mat = layer_obj.get_nk_matrix(freq, xcoords=sim.X, ycoords=sim.Y)\n",
    "        z = sim.Z[layer_obj.slice]\n",
    "        Esq = sim.data['nknormEsq'][layer_obj.slice]\n",
    "        result = integrate3d(Esq, sim.X, sim.Y, z, meth=meth)\n",
    "    elif interp == 'normEsqno':\n",
    "        z = sim.Z[layer_obj.slice]\n",
    "        n_mat, k_mat = layer_obj.get_nk_matrix(freq, xcoords=sim.X, ycoords=sim.Y)\n",
    "        Esq = sim.data['normEsq'][layer_obj.slice]\n",
    "        result = integrate3d(n_mat*k_mat*Esq, sim.X, sim.Y, z, meth=meth)\n",
    "    else:\n",
    "        raise ValueError('Invalid interp method')\n",
    "    result = 2*np.pi*freq*consts.epsilon_0*result*base_unit\n",
    "    print(\"Done with get_layer_absorption!\")\n",
    "    return result\n",
    "\n",
    "def cartesian_product(arrays, out=None):\n",
    "    la = len(arrays)\n",
    "    L = *map(len, arrays), la\n",
    "    dtype = np.result_type(*arrays)\n",
    "    arr = np.empty(L, dtype=dtype)\n",
    "    arrs = *accumulate(chain((arr,), repeat(0, la-1)), np.ndarray.__getitem__),\n",
    "    idx = slice(None), *itertools.repeat(None, la-1)\n",
    "    for i in range(la-1, 0, -1):\n",
    "        arrs[i][..., i] = arrays[i][idx[:la-i]]\n",
    "        arrs[i-1][1:] = arrs[i]\n",
    "    arr[..., 0] = arrays[0][idx]\n",
    "    return arr.reshape(-1, la)"
   ]
  },
  {
   "cell_type": "markdown",
   "metadata": {},
   "source": [
    "# Analysis"
   ]
  },
  {
   "cell_type": "markdown",
   "metadata": {},
   "source": [
    "## Get the data"
   ]
  },
  {
   "cell_type": "code",
   "execution_count": null,
   "metadata": {},
   "outputs": [],
   "source": [
    "conf = Config('interpolator.yml')\n",
    "sim = Simulator(conf)\n",
    "sim.setup()\n",
    "sim.get_layers()\n",
    "Zo = consts.physical_constants['characteristic impedance of vacuum'][0]\n",
    "%time sim.load_state()"
   ]
  },
  {
   "cell_type": "code",
   "execution_count": null,
   "metadata": {},
   "outputs": [],
   "source": [
    "%time sim.get_fluxes()\n",
    "sim.data['fluxes'] = {record[0].decode():(record[1], record[2]) for record in sim.data['fluxes']}\n",
    "abs_dict_fluxmethod, flux_method_total = compute_fluxes(sim)\n",
    "print(\"######\")\n",
    "%time sim.save_state()"
   ]
  },
  {
   "cell_type": "code",
   "execution_count": null,
   "metadata": {},
   "outputs": [],
   "source": [
    "%%time\n",
    "sim.get_field()"
   ]
  },
  {
   "cell_type": "code",
   "execution_count": null,
   "metadata": {},
   "outputs": [],
   "source": [
    "%%time\n",
    "normEsq = np.abs(sim.data['Ex'])**2 + np.abs(sim.data['Ey'])**2 + np.abs(sim.data['Ez'])**2\n",
    "sim.data['normEsq'] = normEsq\n",
    "nknormEsq = np.zeros_like(normEsq)\n",
    "freq = sim.conf['Simulation']['params']['frequency']\n",
    "for name, layer in sim.layers.items():\n",
    "    n, k = layer.get_nk_matrix(freq)\n",
    "    nknormEsq[layer.slice] = normEsq[layer.slice]*n*k\n",
    "sim.data['nknormEsq'] = nknormEsq\n",
    "del normEsq\n",
    "del nknormEsq"
   ]
  },
  {
   "cell_type": "code",
   "execution_count": null,
   "metadata": {},
   "outputs": [],
   "source": [
    "sim.add_interpolator('nknormEsq')\n",
    "sim.add_interpolator('normEsq')"
   ]
  },
  {
   "cell_type": "code",
   "execution_count": null,
   "metadata": {},
   "outputs": [],
   "source": [
    "fig, (ax1, ax2) = plt.subplots(1, 2, figsize=(20, 18))\n",
    "ax1.matshow(sim.data['nknormEsq'][:, :, 150])\n",
    "ax2.matshow(sim.data['normEsq'][:, :, 150])\n",
    "plt.show()"
   ]
  },
  {
   "cell_type": "markdown",
   "metadata": {},
   "source": [
    "## Bivariate Spline in Planes, nknormEsq"
   ]
  },
  {
   "cell_type": "code",
   "execution_count": null,
   "metadata": {},
   "outputs": [],
   "source": [
    "# Integrate nanowire core\n",
    "zsamps = 300\n",
    "plane_samps = 500\n",
    "zsamps = sim.conf['Simulation']['z_samples']\n",
    "period = sim.conf['Simulation']['params']['array_period']\n",
    "freq = sim.conf['Simulation']['params']['frequency']\n",
    "base_unit = sim.conf[('Simulation', 'base_unit')]\n",
    "x = np.linspace(0, period, plane_samps)\n",
    "plane_integrals = np.zeros(zsamps)\n",
    "for i in range(zsamps):\n",
    "    plane_data = sim.data['nknormEsq'][i,:,:]\n",
    "    rbs = spi.RectBivariateSpline(sim.X, sim.Y, plane_data)\n",
    "    presult = rbs.integral(sim.X[0], sim.X[-1], sim.Y[0], sim.Y[-1])\n",
    "    #presult = integrate2d(vals, r_vals, theta_vals)\n",
    "    #presult = integrate2d(vals, theta_vals, r_vals)\n",
    "    plane_integrals[i] = presult"
   ]
  },
  {
   "cell_type": "code",
   "execution_count": null,
   "metadata": {},
   "outputs": [],
   "source": [
    "z_int = integrate1d(plane_integrals, sim.Z)\n",
    "result = 2*np.pi*freq*consts.epsilon_0*z_int*base_unit\n",
    "flux_result = abs_dict_fluxmethod['NW_AlShell'] \n",
    "print(\"Integral Result: {}\".format(result))\n",
    "print(\"Flux Result: {}\".format(flux_result))\n",
    "diff = np.abs(result - abs_dict_fluxmethod['NW_AlShell'])/np.abs(abs_dict_fluxmethod['NW_AlShell'])\n",
    "print(\"Diff: {}\".format(diff))"
   ]
  },
  {
   "cell_type": "markdown",
   "metadata": {},
   "source": [
    "## Bivariate Spline in Planes, normEsq"
   ]
  },
  {
   "cell_type": "code",
   "execution_count": null,
   "metadata": {},
   "outputs": [],
   "source": [
    "# Integrate nanowire core\n",
    "zsamps = 300\n",
    "plane_samps = 500\n",
    "zsamps = sim.conf['Simulation']['z_samples']\n",
    "period = sim.conf['Simulation']['params']['array_period']\n",
    "freq = sim.conf['Simulation']['params']['frequency']\n",
    "base_unit = sim.conf[('Simulation', 'base_unit')]\n",
    "plane_integrals = np.zeros(zsamps)\n",
    "layer_obj = sim.layers['NW_AlShell']\n",
    "nmat, kmat = layer_obj.get_nk_matrix(freq, sim.X, sim.Y)\n",
    "for i in range(zsamps):\n",
    "    plane_data = sim.data['normEsq'][i,:,:]\n",
    "    rbs = spi.RectBivariateSpline(sim.X, sim.Y, nmat*kmat*plane_data)\n",
    "    presult = rbs.integral(sim.X[0], sim.X[-1], sim.Y[0], sim.Y[-1])\n",
    "    #presult = integrate2d(vals, r_vals, theta_vals)\n",
    "    #presult = integrate2d(vals, theta_vals, r_vals)\n",
    "    plane_integrals[i] = presult"
   ]
  },
  {
   "cell_type": "code",
   "execution_count": null,
   "metadata": {},
   "outputs": [],
   "source": [
    "z_int = integrate1d(plane_integrals, sim.Z)\n",
    "result = 2*np.pi*freq*consts.epsilon_0*z_int*base_unit\n",
    "flux_result = abs_dict_fluxmethod['NW_AlShell'] \n",
    "print(\"Integral Result: {}\".format(result))\n",
    "print(\"Flux Result: {}\".format(flux_result))\n",
    "diff = np.abs(result - abs_dict_fluxmethod['NW_AlShell'])/np.abs(abs_dict_fluxmethod['NW_AlShell'])\n",
    "print(\"Diff: {}\".format(diff))"
   ]
  },
  {
   "cell_type": "markdown",
   "metadata": {},
   "source": [
    "## 3D Linear Interpolation, nknormEsq"
   ]
  },
  {
   "cell_type": "code",
   "execution_count": null,
   "metadata": {},
   "outputs": [],
   "source": [
    "%%time\n",
    "result = get_layer_absorption(sim, 'NW_AlShell', 400, 50, interp='nknormEsq')\n",
    "flux_result = abs_dict_fluxmethod['NW_AlShell'] \n",
    "print(\"Integral Result: {}\".format(result))\n",
    "print(\"Flux Result: {}\".format(flux_result))\n",
    "diff = np.abs(result - abs_dict_fluxmethod['NW_AlShell'])/np.abs(abs_dict_fluxmethod['NW_AlShell'])\n",
    "print(\"Diff: {}\".format(diff))"
   ]
  },
  {
   "cell_type": "code",
   "execution_count": null,
   "metadata": {},
   "outputs": [],
   "source": [
    "%%time\n",
    "result = get_layer_absorption(sim, 'NW_AlShell', 100, 50, interp='nknormEsq', meth=intg.simps)\n",
    "flux_result = abs_dict_fluxmethod['NW_AlShell'] \n",
    "print(\"Integral Result: {}\".format(result))\n",
    "print(\"Flux Result: {}\".format(flux_result))\n",
    "diff = np.abs(result - abs_dict_fluxmethod['NW_AlShell'])/np.abs(abs_dict_fluxmethod['NW_AlShell'])\n",
    "print(\"Diff: {}\".format(diff))"
   ]
  },
  {
   "cell_type": "markdown",
   "metadata": {},
   "source": [
    "So it seems like fewer sampling points actually enchances the agreement between the two methods for calculating\n",
    "absorption. "
   ]
  },
  {
   "cell_type": "markdown",
   "metadata": {},
   "source": [
    "## nknormEsq, no interpolation "
   ]
  },
  {
   "cell_type": "code",
   "execution_count": null,
   "metadata": {},
   "outputs": [],
   "source": [
    "%%time\n",
    "result = get_layer_absorption(sim, 'NW_AlShell', 100, 50, interp='nknormEsqno')\n",
    "flux_result = abs_dict_fluxmethod['NW_AlShell'] \n",
    "print(\"Integral Result: {}\".format(result))\n",
    "print(\"Flux Result: {}\".format(flux_result))\n",
    "diff = np.abs(result - abs_dict_fluxmethod['NW_AlShell'])/np.abs(abs_dict_fluxmethod['NW_AlShell'])\n",
    "print(\"Diff: {}\".format(diff))"
   ]
  },
  {
   "cell_type": "code",
   "execution_count": null,
   "metadata": {},
   "outputs": [],
   "source": [
    "%%time\n",
    "result = get_layer_absorption(sim, 'NW_AlShell', 100, 50, interp='nknormEsqno', meth=intg.simps)\n",
    "flux_result = abs_dict_fluxmethod['NW_AlShell'] \n",
    "print(\"Integral Result: {}\".format(result))\n",
    "print(\"Flux Result: {}\".format(flux_result))\n",
    "diff = np.abs(result - abs_dict_fluxmethod['NW_AlShell'])/np.abs(abs_dict_fluxmethod['NW_AlShell'])\n",
    "print(\"Diff: {}\".format(diff))"
   ]
  },
  {
   "cell_type": "markdown",
   "metadata": {},
   "source": [
    "## 3D Linear Interpolation, normEsq"
   ]
  },
  {
   "cell_type": "code",
   "execution_count": null,
   "metadata": {},
   "outputs": [],
   "source": [
    "%%time\n",
    "result = get_layer_absorption(sim, 'NW_AlShell', 300, 200, interp='normEsq')\n",
    "flux_result = abs_dict_fluxmethod['NW_AlShell'] \n",
    "print(\"Integral Result: {}\".format(result))\n",
    "print(\"Flux Result: {}\".format(flux_result))\n",
    "diff = np.abs(result - abs_dict_fluxmethod['NW_AlShell'])/np.abs(abs_dict_fluxmethod['NW_AlShell'])\n",
    "print(\"Diff: {}\".format(diff))"
   ]
  },
  {
   "cell_type": "code",
   "execution_count": null,
   "metadata": {},
   "outputs": [],
   "source": [
    "%%time\n",
    "result = get_layer_absorption(sim, 'NW_AlShell', 300, 200, interp='normEsq', meth=intg.simps)\n",
    "flux_result = abs_dict_fluxmethod['NW_AlShell'] \n",
    "print(\"Integral Result: {}\".format(result))\n",
    "print(\"Flux Result: {}\".format(flux_result))\n",
    "diff = np.abs(result - abs_dict_fluxmethod['NW_AlShell'])/np.abs(abs_dict_fluxmethod['NW_AlShell'])\n",
    "print(\"Diff: {}\".format(diff))"
   ]
  },
  {
   "cell_type": "markdown",
   "metadata": {},
   "source": [
    "## normEsq, no interpolation "
   ]
  },
  {
   "cell_type": "code",
   "execution_count": null,
   "metadata": {},
   "outputs": [],
   "source": [
    "%%time\n",
    "result = get_layer_absorption(sim, 'NW_AlShell', 100, 50, interp='normEsqno')\n",
    "flux_result = abs_dict_fluxmethod['NW_AlShell'] \n",
    "print(\"Integral Result: {}\".format(result))\n",
    "print(\"Flux Result: {}\".format(flux_result))\n",
    "diff = np.abs(result - abs_dict_fluxmethod['NW_AlShell'])/np.abs(abs_dict_fluxmethod['NW_AlShell'])\n",
    "print(\"Diff: {}\".format(diff))"
   ]
  },
  {
   "cell_type": "code",
   "execution_count": null,
   "metadata": {},
   "outputs": [],
   "source": [
    "%%time\n",
    "result = get_layer_absorption(sim, 'NW_AlShell', 100, 50, interp='normEsqno', meth=intg.simps)\n",
    "flux_result = abs_dict_fluxmethod['NW_AlShell'] \n",
    "print(\"Integral Result: {}\".format(result))\n",
    "print(\"Flux Result: {}\".format(flux_result))\n",
    "diff = np.abs(result - abs_dict_fluxmethod['NW_AlShell'])/np.abs(abs_dict_fluxmethod['NW_AlShell'])\n",
    "print(\"Diff: {}\".format(diff))"
   ]
  },
  {
   "cell_type": "markdown",
   "metadata": {},
   "source": [
    "## Integrate By Material"
   ]
  },
  {
   "cell_type": "code",
   "execution_count": null,
   "metadata": {},
   "outputs": [],
   "source": [
    "# Integrate nanowire core\n",
    "zsamps = 200\n",
    "period = sim.conf['Simulation']['params']['array_period']\n",
    "freq = sim.conf['Simulation']['params']['frequency']\n",
    "base_unit = sim.conf[('Simulation', 'base_unit')]\n",
    "layer_obj = sim.layers[\"NW_AlShell\"]\n",
    "z_vals = np.linspace(layer_obj.start, layer_obj.end, zsamps)\n",
    "plane_integrals = np.zeros(zsamps)\n",
    "core_rad = sim.conf[('Layers','NW_AlShell','geometry','core','radius')]\n",
    "shell_rad = sim.conf[('Layers','NW_AlShell','geometry','shell','radius')]\n",
    "r_vals = np.linspace(.0000001, core_rad, 60, endpoint=False)\n",
    "theta_vals = np.linspace(0, 2*np.pi, 180, endpoint=False)\n",
    "pts = cartesian_product((np.array([z_vals]), r_vals, theta_vals))\n",
    "xy_pts = np.zeros_like(pts)\n",
    "xy_pts[:, 1] = pts[:, 1] * np.cos(pts[:,2]) + period/2\n",
    "xy_pts[:, 2] = pts[:, 1] * np.sin(pts[:,2]) + period/2\n",
    "xy_pts[:, 0] = pts[:, 0]\n",
    "vals = sim.nknormEsq(xy_pts)\n",
    "vals = vals.reshape((len(r_vals), len(theta_vals)))\n",
    "#vals = vals.reshape((len(theta_vals), len(r_vals)))\n",
    "presult = integrate2d(vals, r_vals, theta_vals)\n",
    "#presult = integrate2d(vals, theta_vals, r_vals)\n",
    "plane_integrals[i] = presult\n",
    "#for i, z in enumerate(z_vals):\n",
    "#    #n_mat, k_mat = layer_obj.get_nk_matrix(freq, xcoords=x, ycoords=y)\n",
    "#    r_vals = np.linspace(.0000001, core_rad, 60, endpoint=False)\n",
    "#    theta_vals = np.linspace(0, 2*np.pi, 180, endpoint=False)\n",
    "#    pts = cartesian_product((np.array([z]), r_vals, theta_vals))\n",
    "#    xy_pts = np.zeros_like(pts)\n",
    "#    xy_pts[:, 1] = pts[:, 1] * np.cos(pts[:,2]) + period/2\n",
    "#    xy_pts[:, 2] = pts[:, 1] * np.sin(pts[:,2]) + period/2\n",
    "#    xy_pts[:, 0] = pts[:, 0]\n",
    "#    vals = sim.nknormEsq(xy_pts)\n",
    "#    vals = vals.reshape((len(r_vals), len(theta_vals)))\n",
    "#    #vals = vals.reshape((len(theta_vals), len(r_vals)))\n",
    "#    presult = integrate2d(vals, r_vals, theta_vals)\n",
    "#    #presult = integrate2d(vals, theta_vals, r_vals)\n",
    "#    plane_integrals[i] = presult"
   ]
  },
  {
   "cell_type": "code",
   "execution_count": null,
   "metadata": {},
   "outputs": [],
   "source": [
    "z_int = integrate1d(plane_integrals, z_vals)\n",
    "result = 2*np.pi*freq*consts.epsilon_0*z_int*base_unit\n",
    "flux_result = abs_dict_fluxmethod['NW_AlShell'] \n",
    "print(\"Integral Result: {}\".format(result))\n",
    "print(\"Flux Result: {}\".format(flux_result))\n",
    "diff = np.abs(result - abs_dict_fluxmethod['NW_AlShell'])/np.abs(abs_dict_fluxmethod['NW_AlShell'])\n",
    "print(\"Diff: {}\".format(diff))"
   ]
  },
  {
   "cell_type": "code",
   "execution_count": null,
   "metadata": {},
   "outputs": [],
   "source": [
    "#nk_dict = layer_obj.get_nk_dict(freq)\n",
    "#for name, (shape, mat) in layer_obj.shapes.items():\n",
    "#    mask = get_mask(shape, x, x)\n",
    "#    print(name)\n",
    "#    n, k = nk_dict[mat] \n",
    "#    print(n, k)\n",
    "#    mask = mask*n*k\n",
    "#    plt.matshow(mask)\n",
    "#    plt.show()\n",
    "n_mat, k_mat = layer_obj.get_nk_matrix(freq, xcoords=x, ycoords=y)\n",
    "core_rad = sim.conf[('Layers','NW_AlShell','geometry','core','radius')]\n",
    "shell_rad = sim.conf[('Layers','NW_AlShell','geometry','shell','radius')]\n",
    "r_vals = np.linspace(.0000001, core_rad, 60)\n",
    "theta_vals = np.linspace(0, 2*np.pi, 180, endpoint=False)\n",
    "pts = cartesian_product((r_vals, theta_vals, z_vals))\n",
    "print(pts.shape)\n",
    "xy_pts = np.zeros_like(pts)\n",
    "xy_pts[:, 1] = pts[:, 0] * np.cos(pts[:,1]) + .25/2\n",
    "xy_pts[:, 2] = pts[:, 0] * np.sin(pts[:,1]) + .25/2\n",
    "xy_pts[:, 0] = pts[:, 2]\n",
    "vals = sim.normEsq(xy_pts)"
   ]
  },
  {
   "cell_type": "markdown",
   "metadata": {},
   "source": [
    "Z changes, then y, then x"
   ]
  }
 ],
 "metadata": {
  "kernelspec": {
   "display_name": "nanowire",
   "language": "python",
   "name": "nanowire"
  },
  "language_info": {
   "codemirror_mode": {
    "name": "ipython",
    "version": 3
   },
   "file_extension": ".py",
   "mimetype": "text/x-python",
   "name": "python",
   "nbconvert_exporter": "python",
   "pygments_lexer": "ipython3",
   "version": "3.5.2"
  },
  "toc": {
   "nav_menu": {
    "height": "4px",
    "width": "254px"
   },
   "number_sections": true,
   "sideBar": true,
   "skip_h1_title": false,
   "toc_cell": false,
   "toc_position": {},
   "toc_section_display": "block",
   "toc_window_display": false
  }
 },
 "nbformat": 4,
 "nbformat_minor": 1
}
