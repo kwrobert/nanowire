{
 "cells": [
  {
   "cell_type": "code",
   "execution_count": 4,
   "metadata": {
    "collapsed": false
   },
   "outputs": [
    {
     "name": "stdout",
     "output_type": "stream",
     "text": [
      "The autoreload extension is already loaded. To reload it, use:\n",
      "  %reload_ext autoreload\n"
     ]
    }
   ],
   "source": [
    "import os\n",
    "import numpy as np\n",
    "from nanowire.optics.simulate import Simulator\n",
    "from nanowire.optics.postprocess import Simulation\n",
    "from nanowire.optics.utils.utils import setup_sim\n",
    "from nanowire.optics.utils.config import Config\n",
    "import scipy.constants as consts\n",
    "import scipy.integrate as intg\n",
    "import IPython.display as disp\n",
    "import matplotlib.pyplot as plt\n",
    "%load_ext autoreload \n",
    "%autoreload 2"
   ]
  },
  {
   "cell_type": "markdown",
   "metadata": {},
   "source": [
    "# Utility Functions"
   ]
  },
  {
   "cell_type": "code",
   "execution_count": 16,
   "metadata": {
    "collapsed": false
   },
   "outputs": [],
   "source": [
    "def integrate(arr, layer_obj, sim_proc):\n",
    "    arr_slice = arr[layer_obj.slice]\n",
    "    zsamps = layer_obj.iend - layer_obj.istart\n",
    "    z_vals = np.linspace(0, layer_obj.thickness, zsamps)\n",
    "    x_vals = np.linspace(0, sim_proc.period, sim_proc.x_samples)\n",
    "    y_vals = np.linspace(0, sim_proc.period, sim_proc.y_samples)\n",
    "    z_integral = intg.trapz(arr_slice, x=z_vals, axis=0)\n",
    "    x_integral = intg.trapz(z_integral, x=x_vals, axis=0)\n",
    "    y_integral = intg.trapz(x_integral, x=y_vals, axis=0)\n",
    "    return y_integral\n",
    "\n",
    "def compute_fluxes(sim):\n",
    "    fluxes = sim.flux_dict\n",
    "    total_incident_power = .5*sim.period**2/Zo*np.absolute(fluxes['Air'][0])\n",
    "    total_reflected_power = .5*sim.period**2/Zo*np.absolute(fluxes['Air'][1])\n",
    "    total_transmitted_power = .5*sim.period**2/Zo*np.absolute(sum(fluxes['Substrate_bottom']))\n",
    "    total_absorbed_power = total_incident_power - total_reflected_power - total_transmitted_power\n",
    "    print('Total Incident Power = {}'.format(total_incident_power))\n",
    "    print('Total Reflected Power = {}'.format(total_reflected_power))\n",
    "    print('Total Transmitted Power = {}'.format(total_transmitted_power))\n",
    "    print('Total Absorbed Power = {}'.format(total_absorbed_power))\n",
    "    summed_absorbed_power = 0\n",
    "    abs_dict_fluxmethod = {}\n",
    "    for layer, (forw_top, back_top) in fluxes.items():\n",
    "        if '_bottom' in layer:\n",
    "            continue\n",
    "        bottom = layer+'_bottom'\n",
    "        forw_bot, back_bot = fluxes[bottom] \n",
    "        print('-'*25)\n",
    "        print('Layer: {}'.format(layer))\n",
    "        print('Forward Top: {}'.format(forw_top))\n",
    "        print('Backward Top: {}'.format(back_top))\n",
    "        print('Forward Bottom: {}'.format(forw_bot))\n",
    "        print('Backward Bottom: {}'.format(back_bot))\n",
    "        P_in = forw_top + -1*back_bot\n",
    "        P_out = forw_bot + -1*back_top\n",
    "        print('Power Entering Layer: {}'.format(P_in))\n",
    "        print('Power Leaving Layer: {}'.format(P_out))\n",
    "        P_lost = P_in - P_out\n",
    "        P_abs = .5*P_lost*(sim.period**2)/Zo\n",
    "        abs_dict_fluxmethod[layer] = P_abs \n",
    "        print('Absorbed in Layer: {}'.format(P_abs))\n",
    "        summed_absorbed_power += P_abs\n",
    "    print('-'*25)\n",
    "    print('Summed Absorption= {}'.format(summed_absorbed_power))\n",
    "    return abs_dict_fluxmethod"
   ]
  },
  {
   "cell_type": "markdown",
   "metadata": {},
   "source": [
    "# NW w/ Shell"
   ]
  },
  {
   "cell_type": "code",
   "execution_count": 5,
   "metadata": {
    "collapsed": false
   },
   "outputs": [],
   "source": [
    "conf = Config('AbsorptionTest.yml')\n",
    "sim = Simulator(conf)\n",
    "sim = setup_sim(sim)\n",
    "Zo = consts.physical_constants['characteristic impedance of vacuum'][0]"
   ]
  },
  {
   "cell_type": "code",
   "execution_count": 15,
   "metadata": {
    "collapsed": false
   },
   "outputs": [
    {
     "data": {
      "text/plain": [
       "{'Air': ((2+0j), (-0.15557938319299336+0j)),\n",
       " 'Air_bottom': ((2+0j), (-0.15557938319299333+0j)),\n",
       " 'ITO': ((1.9117439475693845+0.0008713251712570702j),\n",
       "  (-0.06732333076244565-0.0008713251712570702j)),\n",
       " 'ITO_bottom': ((1.790140415315491-0.0023688997495998204j),\n",
       "  (-0.06949267936039395+0.0023688997495998204j)),\n",
       " 'NW_AlShell': ((1.7313777694253047-0.002189260134698494j),\n",
       "  (-0.01073003347022824+0.002189260134698494j)),\n",
       " 'NW_AlShell_bottom': ((0.6199840123149215-0.0035553800448679743j),\n",
       "  (-0.03289057458249218+0.0035553800448679743j)),\n",
       " 'NW_SiO2': ((0.6415681690543382-0.0026834809648784153j),\n",
       "  (-0.0544747313219229+0.0026834809648784153j)),\n",
       " 'NW_SiO2_bottom': ((0.6326886245562204-0.000383554683423026j),\n",
       "  (-0.05485000039463061+0.000383554683423026j)),\n",
       " 'Substrate': ((0.5778386241615838+0j), 0j),\n",
       " 'Substrate_bottom': ((0.08933583976592889+0j), 0j)}"
      ]
     },
     "execution_count": 15,
     "metadata": {},
     "output_type": "execute_result"
    }
   ],
   "source": [
    "sim.get_fluxes()"
   ]
  },
  {
   "cell_type": "code",
   "execution_count": 18,
   "metadata": {
    "collapsed": false
   },
   "outputs": [
    {
     "name": "stdout",
     "output_type": "stream",
     "text": [
      "Total Incident Power = 0.00016590117058987953\n",
      "Total Reflected Power = 1.2905400895684514e-05\n",
      "Total Transmitted Power = 7.410460196398756e-06\n",
      "Total Absorbed Power = 0.00014558530949779623\n",
      "-------------------------\n",
      "Layer: ITO\n",
      "Forward Top: (1.9117439475693845+0.0008713251712570702j)\n",
      "Backward Top: (-0.06732333076244565-0.0008713251712570702j)\n",
      "Forward Bottom: (1.790140415315491-0.0023688997495998204j)\n",
      "Backward Bottom: (-0.06949267936039395+0.0023688997495998204j)\n",
      "Power Entering Layer: (1.9812366269297785-0.0014975745783427502j)\n",
      "Power Leaving Layer: (1.8574637460779366-0.0014975745783427502j)\n",
      "Absorbed in Layer: (1.0267032910301127e-05+0j)\n",
      "-------------------------\n",
      "Layer: Substrate\n",
      "Forward Top: (0.5778386241615838+0j)\n",
      "Backward Top: 0j\n",
      "Forward Bottom: (0.08933583976592889+0j)\n",
      "Backward Bottom: 0j\n",
      "Power Entering Layer: (0.5778386241615838+0j)\n",
      "Power Leaving Layer: (0.08933583976592889+0j)\n",
      "Absorbed in Layer: (4.0521591883827344e-05+0j)\n",
      "-------------------------\n",
      "Layer: Air\n",
      "Forward Top: (2+0j)\n",
      "Backward Top: (-0.15557938319299336+0j)\n",
      "Forward Bottom: (2+0j)\n",
      "Backward Bottom: (-0.15557938319299333+0j)\n",
      "Power Entering Layer: (2.1555793831929932+0j)\n",
      "Power Leaving Layer: (2.1555793831929932+0j)\n",
      "Absorbed in Layer: 0j\n",
      "-------------------------\n",
      "Layer: NW_SiO2\n",
      "Forward Top: (0.6415681690543382-0.0026834809648784153j)\n",
      "Backward Top: (-0.0544747313219229+0.0026834809648784153j)\n",
      "Forward Bottom: (0.6326886245562204-0.000383554683423026j)\n",
      "Backward Bottom: (-0.05485000039463061+0.000383554683423026j)\n",
      "Power Entering Layer: (0.6964181694489688-0.0030670356483014413j)\n",
      "Power Leaving Layer: (0.6871633558781434-0.0030670356483014413j)\n",
      "Absorbed in Layer: (7.676922024955243e-07+0j)\n",
      "-------------------------\n",
      "Layer: NW_AlShell\n",
      "Forward Top: (1.7313777694253047-0.002189260134698494j)\n",
      "Backward Top: (-0.01073003347022824+0.002189260134698494j)\n",
      "Forward Bottom: (0.6199840123149215-0.0035553800448679743j)\n",
      "Backward Bottom: (-0.03289057458249218+0.0035553800448679743j)\n",
      "Power Entering Layer: (1.7642683440077969-0.005744640179566468j)\n",
      "Power Leaving Layer: (0.6307140457851498-0.005744640179566468j)\n",
      "Absorbed in Layer: (9.402899250116327e-05+0j)\n",
      "-------------------------\n",
      "Summed Absorption= (0.00014558530949778726+0j)\n"
     ]
    }
   ],
   "source": [
    "abs_dict_fluxmethod = compute_fluxes(sim)"
   ]
  },
  {
   "cell_type": "code",
   "execution_count": 10,
   "metadata": {
    "collapsed": false
   },
   "outputs": [],
   "source": [
    "sim.get_field()"
   ]
  },
  {
   "cell_type": "code",
   "execution_count": 12,
   "metadata": {
    "collapsed": false
   },
   "outputs": [
    {
     "name": "stdout",
     "output_type": "stream",
     "text": [
      "Layer: Air\n"
     ]
    },
    {
     "data": {
      "text/latex": [
       "$P_{abs} = \\frac{\\omega}{2} Im(\\epsilon) \\int |E|^2 dV = 0.0$"
      ]
     },
     "metadata": {},
     "output_type": "display_data"
    },
    {
     "name": "stdout",
     "output_type": "stream",
     "text": [
      "Layer: ITO\n"
     ]
    },
    {
     "data": {
      "text/latex": [
       "$P_{abs} = \\frac{\\omega}{2} Im(\\epsilon) \\int |E|^2 dV = 1.0272030868605414e-05$"
      ]
     },
     "metadata": {},
     "output_type": "display_data"
    },
    {
     "name": "stdout",
     "output_type": "stream",
     "text": [
      "Layer: NW_AlShell\n"
     ]
    },
    {
     "data": {
      "text/latex": [
       "$P_{abs} = \\frac{\\omega}{2} Im(\\epsilon) \\int |E|^2 dV = 9.839681089053484e-05$"
      ]
     },
     "metadata": {},
     "output_type": "display_data"
    },
    {
     "name": "stdout",
     "output_type": "stream",
     "text": [
      "Layer: NW_SiO2\n"
     ]
    },
    {
     "data": {
      "text/latex": [
       "$P_{abs} = \\frac{\\omega}{2} Im(\\epsilon) \\int |E|^2 dV = 8.518816832924799e-07$"
      ]
     },
     "metadata": {},
     "output_type": "display_data"
    },
    {
     "name": "stdout",
     "output_type": "stream",
     "text": [
      "Layer: Substrate\n"
     ]
    },
    {
     "data": {
      "text/latex": [
       "$P_{abs} = \\frac{\\omega}{2} Im(\\epsilon) \\int |E|^2 dV = 3.9391071407509195e-05$"
      ]
     },
     "metadata": {},
     "output_type": "display_data"
    }
   ],
   "source": [
    "sim_proc = Simulation(simulator=sim)\n",
    "freq = sim_proc.conf[('Simulation', 'params', 'frequency','value')]\n",
    "try:\n",
    "    Esq = sim_proc.data['normEsquared']\n",
    "except KeyError:\n",
    "    Esq = sim_proc.normEsquared()\n",
    "abs_dict_intmethod = {}\n",
    "for layer_name, layer_obj in sim_proc.layers.items():\n",
    "    print(\"Layer: {}\".format(layer_name))\n",
    "    base_unit = sim_proc.conf[('Simulation', 'base_unit')]\n",
    "    n_mat, k_mat = layer_obj.get_nk_matrix(freq)\n",
    "    # n and k could be functions of space, so we need to multiply the\n",
    "    # fields by n and k before integrating\n",
    "    res = integrate(Esq*n_mat*k_mat,layer_obj, sim_proc)\n",
    "    p_abs_imag = 2*np.pi*freq*consts.epsilon_0*res*base_unit\n",
    "    abs_dict_intmethod[layer_name] = p_abs_imag\n",
    "    disp.display_latex(\"$P_{abs} = \\\\frac{\\omega}{2} Im(\\epsilon) \\int |E|^2 dV\"+\" = {}$\".format(p_abs_imag), raw=True)"
   ]
  },
  {
   "cell_type": "code",
   "execution_count": 13,
   "metadata": {
    "collapsed": false
   },
   "outputs": [
    {
     "name": "stdout",
     "output_type": "stream",
     "text": [
      "{'ITO': (1.0267032910301127e-05+0j), 'NW_SiO2': (7.676922024955243e-07+0j), 'Substrate': (4.0521591883827344e-05+0j), 'NW_AlShell': (9.402899250116327e-05+0j), 'Air': 0j}\n",
      "{'Air': 0.0, 'NW_SiO2': 8.5188168329247994e-07, 'Substrate': 3.9391071407509195e-05, 'NW_AlShell': 9.8396810890534838e-05, 'ITO': 1.0272030868605414e-05}\n"
     ]
    }
   ],
   "source": [
    "print(abs_dict_fluxmethod)\n",
    "print(abs_dict_intmethod)"
   ]
  },
  {
   "cell_type": "code",
   "execution_count": 14,
   "metadata": {
    "collapsed": false
   },
   "outputs": [
    {
     "name": "stdout",
     "output_type": "stream",
     "text": [
      "-------------------------\n",
      "Layer: ITO\n",
      "Flux Method: (1.0267032910301127e-05+0j)\n",
      "Integral Method: 1.0272030868605414e-05\n",
      "Diff: (-4.997958304286802e-09+0j)\n",
      "Percent Diff: (0.04867967550072082+0j)\n",
      "-------------------------\n",
      "Layer: NW_SiO2\n",
      "Flux Method: (7.676922024955243e-07+0j)\n",
      "Integral Method: 8.518816832924799e-07\n",
      "Diff: (-8.418948079695565e-08+0j)\n",
      "Percent Diff: (10.966567137621341+0j)\n",
      "-------------------------\n",
      "Layer: Substrate\n",
      "Flux Method: (4.0521591883827344e-05+0j)\n",
      "Integral Method: 3.9391071407509195e-05\n",
      "Diff: (1.1305204763181496e-06+0j)\n",
      "Percent Diff: (2.789921184634787+0j)\n",
      "-------------------------\n",
      "Layer: NW_AlShell\n",
      "Flux Method: (9.402899250116327e-05+0j)\n",
      "Integral Method: 9.839681089053484e-05\n",
      "Diff: (-4.367818389371564e-06+0j)\n",
      "Percent Diff: (4.645182590164973+0j)\n",
      "-------------------------\n",
      "Layer: Air\n",
      "Flux Method: 0j\n",
      "Integral Method: 0.0\n",
      "Diff: 0j\n",
      "Percent Diff: None\n"
     ]
    }
   ],
   "source": [
    "for key in abs_dict_fluxmethod.keys():\n",
    "    fm = abs_dict_fluxmethod[key]\n",
    "    im = abs_dict_intmethod[key]\n",
    "    diff = fm - im\n",
    "    try:\n",
    "        pdiff = 100*abs(diff)/fm\n",
    "    except ZeroDivisionError:\n",
    "        pdiff = None\n",
    "        pass\n",
    "    print('-'*25)\n",
    "    print(\"Layer: {}\".format(key))\n",
    "    print(\"Flux Method: {}\".format(fm))\n",
    "    print(\"Integral Method: {}\".format(im))\n",
    "    print(\"Diff: {}\".format(diff))\n",
    "    print(\"Percent Diff: {}\".format(pdiff))"
   ]
  },
  {
   "cell_type": "markdown",
   "metadata": {},
   "source": [
    "# NW no Shell"
   ]
  },
  {
   "cell_type": "code",
   "execution_count": 20,
   "metadata": {
    "collapsed": false
   },
   "outputs": [
    {
     "name": "stderr",
     "output_type": "stream",
     "text": [
      "DEBUG:nanowire.optics.simulate:Logger initialized\n",
      "DEBUG:nanowire.optics.simulate:Building layer: Air\n",
      "DEBUG:nanowire.optics.simulate:Layer Order 1\n",
      "DEBUG:nanowire.optics.simulate:Building layer: ITO\n",
      "DEBUG:nanowire.optics.simulate:Layer Order 2\n",
      "DEBUG:nanowire.optics.simulate:Building layer: NW_AlShell\n",
      "DEBUG:nanowire.optics.simulate:Layer Order 3\n",
      "DEBUG:nanowire.optics.simulate:Building geometry in layer: NW_AlShell\n",
      "DEBUG:nanowire.optics.simulate:Building object core of type circle at order 2\n",
      "DEBUG:nanowire.optics.simulate:Building layer: Substrate\n",
      "DEBUG:nanowire.optics.simulate:Layer Order 5\n",
      "DEBUG:nanowire.optics.simulate:Physical Frequency = 4.000000E+14\n",
      "WARNING:nanowire.optics.simulate:Your bins are smaller than NRELs! Using NREL bin size\n",
      "DEBUG:nanowire.optics.simulate:[399723277333333.31, 400256953271028.0]\n",
      "DEBUG:nanowire.optics.simulate:[2.3155394055977224e-12, 2.3123628270194848e-12]\n",
      "INFO:nanowire.optics.simulate:Incident Intensity: 1.23490003178\n",
      "DEBUG:nanowire.optics.simulate:Incident Power: 0.077181251986\n",
      "DEBUG:nanowire.optics.simulate:Incident Amplitude: 21.5690583027\n"
     ]
    }
   ],
   "source": [
    "conf = Config('AbsorptionTestnoshell.yml')\n",
    "sim = Simulator(conf)\n",
    "sim = setup_sim(sim)\n",
    "Zo = consts.physical_constants['characteristic impedance of vacuum'][0]"
   ]
  },
  {
   "cell_type": "code",
   "execution_count": 21,
   "metadata": {
    "collapsed": false
   },
   "outputs": [
    {
     "name": "stderr",
     "output_type": "stream",
     "text": [
      "DEBUG:nanowire.optics.simulate:Computing fluxes ...\n",
      "DEBUG:nanowire.optics.simulate:Computing fluxes through layer: Air\n",
      "DEBUG:nanowire.optics.simulate:Computing fluxes through layer: Substrate\n",
      "DEBUG:nanowire.optics.simulate:Computing fluxes through layer: NW_AlShell\n",
      "DEBUG:nanowire.optics.simulate:Computing fluxes through layer: ITO\n",
      "DEBUG:nanowire.optics.simulate:Finished computing fluxes!\n"
     ]
    },
    {
     "data": {
      "text/plain": [
       "{'Air': ((2+0j), (-0.2748555116981062+0j)),\n",
       " 'Air_bottom': ((2+0j), (-0.27485551169810607+0j)),\n",
       " 'ITO': ((1.7506830520601-0.0015174118232290368j),\n",
       "  (-0.025538563758270117+0.0015174118232290368j)),\n",
       " 'ITO_bottom': ((1.6356530688545885+0.0016012904022205607j),\n",
       "  (-0.02889260987802556-0.0016012904022205607j)),\n",
       " 'NW_AlShell': ((1.6483629493735117+0.0019215582800875472j),\n",
       "  (-0.041602490396973384-0.0019215582800875472j)),\n",
       " 'NW_AlShell_bottom': ((0.9128551463575294+0.005153174357075071j),\n",
       "  (-0.0759666099963969-0.005153174357075071j)),\n",
       " 'Substrate': ((0.836888536361133+0j), 0j),\n",
       " 'Substrate_bottom': ((0.1305585936818471+0j), 0j)}"
      ]
     },
     "execution_count": 21,
     "metadata": {},
     "output_type": "execute_result"
    }
   ],
   "source": [
    "sim.get_fluxes()"
   ]
  },
  {
   "cell_type": "code",
   "execution_count": 22,
   "metadata": {
    "collapsed": false
   },
   "outputs": [
    {
     "name": "stdout",
     "output_type": "stream",
     "text": [
      "Total Incident Power = 0.00016590117058987953\n",
      "Total Reflected Power = 2.279942556689807e-05\n",
      "Total Transmitted Power = 1.0829911761193442e-05\n",
      "Total Absorbed Power = 0.00013227183326178801\n",
      "-------------------------\n",
      "Layer: ITO\n",
      "Forward Top: (1.7506830520601-0.0015174118232290368j)\n",
      "Backward Top: (-0.025538563758270117+0.0015174118232290368j)\n",
      "Forward Bottom: (1.6356530688545885+0.0016012904022205607j)\n",
      "Backward Bottom: (-0.02889260987802556-0.0016012904022205607j)\n",
      "Power Entering Layer: (1.7795756619381256+8.38785789915239e-05j)\n",
      "Power Leaving Layer: (1.6611916326128586+8.38785789915239e-05j)\n",
      "Absorbed in Layer: (9.820024522104203e-06+0j)\n",
      "-------------------------\n",
      "Layer: Substrate\n",
      "Forward Top: (0.836888536361133+0j)\n",
      "Backward Top: 0j\n",
      "Forward Bottom: (0.1305585936818471+0j)\n",
      "Backward Bottom: 0j\n",
      "Power Entering Layer: (0.836888536361133+0j)\n",
      "Power Leaving Layer: (0.1305585936818471+0j)\n",
      "Absorbed in Layer: (5.859048215658802e-05+0j)\n",
      "-------------------------\n",
      "Layer: NW_AlShell\n",
      "Forward Top: (1.6483629493735117+0.0019215582800875472j)\n",
      "Backward Top: (-0.041602490396973384-0.0019215582800875472j)\n",
      "Forward Bottom: (0.9128551463575294+0.005153174357075071j)\n",
      "Backward Bottom: (-0.0759666099963969-0.005153174357075071j)\n",
      "Power Entering Layer: (1.7243295593699086+0.007074732637162618j)\n",
      "Power Leaving Layer: (0.9544576367545028+0.007074732637162618j)\n",
      "Absorbed in Layer: (6.386132658308848e-05+0j)\n",
      "-------------------------\n",
      "Layer: Air\n",
      "Forward Top: (2+0j)\n",
      "Backward Top: (-0.2748555116981062+0j)\n",
      "Forward Bottom: (2+0j)\n",
      "Backward Bottom: (-0.27485551169810607+0j)\n",
      "Power Entering Layer: (2.274855511698106+0j)\n",
      "Power Leaving Layer: (2.274855511698106+0j)\n",
      "Absorbed in Layer: 0j\n",
      "-------------------------\n",
      "Summed Absorption= (0.0001322718332617807+0j)\n"
     ]
    }
   ],
   "source": [
    "abs_dict_fluxmethod = compute_fluxes(sim)"
   ]
  },
  {
   "cell_type": "code",
   "execution_count": 23,
   "metadata": {
    "collapsed": false
   },
   "outputs": [
    {
     "name": "stderr",
     "output_type": "stream",
     "text": [
      "DEBUG:nanowire.optics.simulate:Computing fields ...\n",
      "DEBUG:nanowire.optics.simulate:Computing up to depth of 3.0700000000000003 microns\n",
      "DEBUG:nanowire.optics.simulate:Finished computing fields!\n"
     ]
    }
   ],
   "source": [
    "sim.get_field()"
   ]
  },
  {
   "cell_type": "code",
   "execution_count": 24,
   "metadata": {
    "collapsed": false
   },
   "outputs": [
    {
     "name": "stderr",
     "output_type": "stream",
     "text": [
      "DEBUG:nanowire.optics.postprocess:Logger initialized\n",
      "DEBUG:nanowire.optics.postprocess:Adding normEsquared to data dict\n"
     ]
    },
    {
     "name": "stdout",
     "output_type": "stream",
     "text": [
      "Layer: Air\n"
     ]
    },
    {
     "data": {
      "text/latex": [
       "$P_{abs} = \\frac{\\omega}{2} Im(\\epsilon) \\int |E|^2 dV = 0.0$"
      ]
     },
     "metadata": {},
     "output_type": "display_data"
    },
    {
     "name": "stdout",
     "output_type": "stream",
     "text": [
      "Layer: ITO\n"
     ]
    },
    {
     "data": {
      "text/latex": [
       "$P_{abs} = \\frac{\\omega}{2} Im(\\epsilon) \\int |E|^2 dV = 9.672317368037164e-06$"
      ]
     },
     "metadata": {},
     "output_type": "display_data"
    },
    {
     "name": "stdout",
     "output_type": "stream",
     "text": [
      "Layer: NW_AlShell\n"
     ]
    },
    {
     "data": {
      "text/latex": [
       "$P_{abs} = \\frac{\\omega}{2} Im(\\epsilon) \\int |E|^2 dV = 7.57254698360161e-05$"
      ]
     },
     "metadata": {},
     "output_type": "display_data"
    },
    {
     "name": "stdout",
     "output_type": "stream",
     "text": [
      "Layer: Substrate\n"
     ]
    },
    {
     "data": {
      "text/latex": [
       "$P_{abs} = \\frac{\\omega}{2} Im(\\epsilon) \\int |E|^2 dV = 5.680385343016516e-05$"
      ]
     },
     "metadata": {},
     "output_type": "display_data"
    }
   ],
   "source": [
    "sim_proc = Simulation(simulator=sim)\n",
    "freq = sim_proc.conf[('Simulation', 'params', 'frequency','value')]\n",
    "try:\n",
    "    Esq = sim_proc.data['normEsquared']\n",
    "except KeyError:\n",
    "    Esq = sim_proc.normEsquared()\n",
    "abs_dict_intmethod = {}\n",
    "for layer_name, layer_obj in sim_proc.layers.items():\n",
    "    print(\"Layer: {}\".format(layer_name))\n",
    "    base_unit = sim_proc.conf[('Simulation', 'base_unit')]\n",
    "    n_mat, k_mat = layer_obj.get_nk_matrix(freq)\n",
    "    # n and k could be functions of space, so we need to multiply the\n",
    "    # fields by n and k before integrating\n",
    "    res = integrate(Esq*n_mat*k_mat,layer_obj, sim_proc)\n",
    "    p_abs_imag = 2*np.pi*freq*consts.epsilon_0*res*base_unit\n",
    "    abs_dict_intmethod[layer_name] = p_abs_imag\n",
    "    disp.display_latex(\"$P_{abs} = \\\\frac{\\omega}{2} Im(\\epsilon) \\int |E|^2 dV\"+\" = {}$\".format(p_abs_imag), raw=True)"
   ]
  },
  {
   "cell_type": "code",
   "execution_count": 25,
   "metadata": {
    "collapsed": false
   },
   "outputs": [
    {
     "name": "stdout",
     "output_type": "stream",
     "text": [
      "{'Air': 0j, 'ITO': (9.820024522104203e-06+0j), 'Substrate': (5.859048215658802e-05+0j), 'NW_AlShell': (6.386132658308848e-05+0j)}\n",
      "{'Air': 0.0, 'Substrate': 5.6803853430165159e-05, 'NW_AlShell': 7.5725469836016105e-05, 'ITO': 9.6723173680371644e-06}\n"
     ]
    }
   ],
   "source": [
    "print(abs_dict_fluxmethod)\n",
    "print(abs_dict_intmethod)"
   ]
  },
  {
   "cell_type": "code",
   "execution_count": 26,
   "metadata": {
    "collapsed": false
   },
   "outputs": [
    {
     "name": "stdout",
     "output_type": "stream",
     "text": [
      "-------------------------\n",
      "Layer: Air\n",
      "Flux Method: 0j\n",
      "Integral Method: 0.0\n",
      "Diff: 0j\n",
      "Percent Diff: None\n",
      "-------------------------\n",
      "Layer: ITO\n",
      "Flux Method: (9.820024522104203e-06+0j)\n",
      "Integral Method: 9.672317368037164e-06\n",
      "Diff: (1.4770715406703905e-07+0j)\n",
      "Percent Diff: (1.5041424156789054+0j)\n",
      "-------------------------\n",
      "Layer: Substrate\n",
      "Flux Method: (5.859048215658802e-05+0j)\n",
      "Integral Method: 5.680385343016516e-05\n",
      "Diff: (1.7866287264228594e-06+0j)\n",
      "Percent Diff: (3.0493497589726997+0j)\n",
      "-------------------------\n",
      "Layer: NW_AlShell\n",
      "Flux Method: (6.386132658308848e-05+0j)\n",
      "Integral Method: 7.57254698360161e-05\n",
      "Diff: (-1.186414325292762e-05+0j)\n",
      "Percent Diff: (18.577978078002282+0j)\n"
     ]
    }
   ],
   "source": [
    "for key in abs_dict_fluxmethod.keys():\n",
    "    fm = abs_dict_fluxmethod[key]\n",
    "    im = abs_dict_intmethod[key]\n",
    "    diff = fm - im\n",
    "    try:\n",
    "        pdiff = 100*abs(diff)/fm\n",
    "    except ZeroDivisionError:\n",
    "        pdiff = None\n",
    "        pass\n",
    "    print('-'*25)\n",
    "    print(\"Layer: {}\".format(key))\n",
    "    print(\"Flux Method: {}\".format(fm))\n",
    "    print(\"Integral Method: {}\".format(im))\n",
    "    print(\"Diff: {}\".format(diff))\n",
    "    print(\"Percent Diff: {}\".format(pdiff))"
   ]
  }
 ],
 "metadata": {
  "kernelspec": {
   "display_name": "nanowire",
   "language": "python",
   "name": "nanowire"
  },
  "language_info": {
   "codemirror_mode": {
    "name": "ipython",
    "version": 3
   },
   "file_extension": ".py",
   "mimetype": "text/x-python",
   "name": "python",
   "nbconvert_exporter": "python",
   "pygments_lexer": "ipython3",
   "version": "3.5.2"
  },
  "toc": {
   "colors": {
    "hover_highlight": "#DAA520",
    "running_highlight": "#FF0000",
    "selected_highlight": "#FFD700"
   },
   "moveMenuLeft": true,
   "nav_menu": {},
   "navigate_menu": true,
   "number_sections": true,
   "sideBar": true,
   "skip_h1_title": false,
   "threshold": 4,
   "toc_cell": false,
   "toc_position": {},
   "toc_section_display": "block",
   "toc_window_display": false
  }
 },
 "nbformat": 4,
 "nbformat_minor": 2
}
