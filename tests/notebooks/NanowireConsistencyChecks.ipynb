{
 "cells": [
  {
   "cell_type": "code",
   "execution_count": 1,
   "metadata": {},
   "outputs": [],
   "source": [
    "import os\n",
    "import numpy as np\n",
    "from nanowire.optics.simulate import Simulator\n",
    "from nanowire.optics.postprocess import Simulation\n",
    "from nanowire.optics.utils.utils import setup_sim\n",
    "from nanowire.optics.utils.config import Config\n",
    "import scipy.constants as consts\n",
    "import scipy.integrate as intg\n",
    "import IPython.display as disp\n",
    "import matplotlib.pyplot as plt\n",
    "%load_ext autoreload \n",
    "%autoreload 2"
   ]
  },
  {
   "cell_type": "markdown",
   "metadata": {},
   "source": [
    "# Utility Functions"
   ]
  },
  {
   "cell_type": "code",
   "execution_count": 2,
   "metadata": {},
   "outputs": [],
   "source": [
    "def integrate(arr, layer_obj, sim_proc):\n",
    "    arr_slice = arr[layer_obj.slice]\n",
    "    zsamps = layer_obj.iend - layer_obj.istart\n",
    "    z_vals = np.linspace(0, layer_obj.thickness, zsamps)\n",
    "    x_vals = np.linspace(0, sim_proc.period, sim_proc.x_samples)\n",
    "    y_vals = np.linspace(0, sim_proc.period, sim_proc.y_samples)\n",
    "    z_integral = intg.trapz(arr_slice, x=z_vals, axis=0)\n",
    "    x_integral = intg.trapz(z_integral, x=x_vals, axis=0)\n",
    "    y_integral = intg.trapz(x_integral, x=y_vals, axis=0)\n",
    "    return y_integral\n",
    "\n",
    "def compute_fluxes(sim):\n",
    "    fluxes = sim.flux_dict\n",
    "    total_incident_power = .5*sim.period**2/Zo*np.absolute(fluxes['Air'][0])\n",
    "    total_reflected_power = .5*sim.period**2/Zo*np.absolute(fluxes['Air'][1])\n",
    "    total_transmitted_power = .5*sim.period**2/Zo*np.absolute(sum(fluxes['Substrate_bottom']))\n",
    "    total_absorbed_power = total_incident_power - total_reflected_power - total_transmitted_power\n",
    "    print('Total Incident Power = {}'.format(total_incident_power))\n",
    "    print('Total Reflected Power = {}'.format(total_reflected_power))\n",
    "    print('Total Transmitted Power = {}'.format(total_transmitted_power))\n",
    "    print('Total Absorbed Power = {}'.format(total_absorbed_power))\n",
    "    summed_absorbed_power = 0\n",
    "    abs_dict_fluxmethod = {}\n",
    "    for layer, (forw_top, back_top) in fluxes.items():\n",
    "        if '_bottom' in layer:\n",
    "            continue\n",
    "        bottom = layer+'_bottom'\n",
    "        forw_bot, back_bot = fluxes[bottom] \n",
    "        print('-'*25)\n",
    "        print('Layer: {}'.format(layer))\n",
    "        print('Forward Top: {}'.format(forw_top))\n",
    "        print('Backward Top: {}'.format(back_top))\n",
    "        print('Forward Bottom: {}'.format(forw_bot))\n",
    "        print('Backward Bottom: {}'.format(back_bot))\n",
    "        P_in = forw_top + -1*back_bot\n",
    "        P_out = forw_bot + -1*back_top\n",
    "        print('Power Entering Layer: {}'.format(P_in))\n",
    "        print('Power Leaving Layer: {}'.format(P_out))\n",
    "        P_lost = P_in - P_out\n",
    "        P_abs = .5*P_lost*(sim.period**2)/Zo\n",
    "        abs_dict_fluxmethod[layer] = P_abs \n",
    "        print('Absorbed in Layer: {}'.format(P_abs))\n",
    "        summed_absorbed_power += P_abs\n",
    "    print('-'*25)\n",
    "    print('Summed Absorption= {}'.format(summed_absorbed_power))\n",
    "    return abs_dict_fluxmethod"
   ]
  },
  {
   "cell_type": "markdown",
   "metadata": {},
   "source": [
    "# NW w/ Shell"
   ]
  },
  {
   "cell_type": "code",
   "execution_count": 3,
   "metadata": {},
   "outputs": [],
   "source": [
    "conf = Config('AbsorptionTest.yml')\n",
    "sim = Simulator(conf)\n",
    "sim = setup_sim(sim)\n",
    "Zo = consts.physical_constants['characteristic impedance of vacuum'][0]"
   ]
  },
  {
   "cell_type": "code",
   "execution_count": 4,
   "metadata": {},
   "outputs": [
    {
     "data": {
      "text/plain": [
       "{'Air': ((8+0j), (-0.6889811691985808+0j)),\n",
       " 'Air_bottom': ((8+0j), (-0.6889811691985808+0j)),\n",
       " 'ITO': ((7.418002620063473-1.8038220179816822e-05j),\n",
       "  (-0.10698378926173845+1.8038220179816822e-05j)),\n",
       " 'ITO_bottom': ((6.942707091245627-0.004415115410193238j),\n",
       "  (-0.10822149007644298+0.004415115410193238j)),\n",
       " 'NW_AlShell': ((6.859400444864055+0.0013275440659821502j),\n",
       "  (-0.024914843694923305-0.0013275440659821502j)),\n",
       " 'NW_AlShell_bottom': ((2.466916596962712+0.004273111972457111j),\n",
       "  (-0.08333950032467816-0.004273111972457111j)),\n",
       " 'Substrate': ((2.3835770966380476+0j), 0j),\n",
       " 'Substrate_bottom': ((0.3544751964486742+0j), 0j)}"
      ]
     },
     "execution_count": 4,
     "metadata": {},
     "output_type": "execute_result"
    }
   ],
   "source": [
    "sim.get_fluxes()"
   ]
  },
  {
   "cell_type": "code",
   "execution_count": 5,
   "metadata": {
    "scrolled": false
   },
   "outputs": [
    {
     "name": "stdout",
     "output_type": "stream",
     "text": [
      "Total Incident Power = 0.0006636046823595181\n",
      "Total Reflected Power = 5.71513912422142e-05\n",
      "Total Transmitted Power = 2.940392501795628e-05\n",
      "Total Absorbed Power = 0.0005770493660993477\n",
      "-------------------------\n",
      "Layer: Substrate\n",
      "Forward Top: (2.3835770966380476+0j)\n",
      "Backward Top: 0j\n",
      "Forward Bottom: (0.3544751964486742+0j)\n",
      "Backward Bottom: 0j\n",
      "Power Entering Layer: (2.3835770966380476+0j)\n",
      "Power Leaving Layer: (0.3544751964486742+0j)\n",
      "Absorbed in Layer: (0.00016831519024378298+0j)\n",
      "-------------------------\n",
      "Layer: ITO\n",
      "Forward Top: (7.418002620063473-1.8038220179816822e-05j)\n",
      "Backward Top: (-0.10698378926173845+1.8038220179816822e-05j)\n",
      "Forward Bottom: (6.942707091245627-0.004415115410193238j)\n",
      "Backward Bottom: (-0.10822149007644298+0.004415115410193238j)\n",
      "Power Entering Layer: (7.526224110139916-0.0044331536303730545j)\n",
      "Power Leaving Layer: (7.049690880507365-0.0044331536303730545j)\n",
      "Absorbed in Layer: (3.952871031050804e-05+0j)\n",
      "-------------------------\n",
      "Layer: NW_AlShell\n",
      "Forward Top: (6.859400444864055+0.0013275440659821502j)\n",
      "Backward Top: (-0.024914843694923305-0.0013275440659821502j)\n",
      "Forward Bottom: (2.466916596962712+0.004273111972457111j)\n",
      "Backward Bottom: (-0.08333950032467816-0.004273111972457111j)\n",
      "Power Entering Layer: (6.942739945188733+0.005600656038439261j)\n",
      "Power Leaving Layer: (2.491831440657635+0.005600656038439261j)\n",
      "Absorbed in Layer: (0.0003692054655450796+0j)\n",
      "-------------------------\n",
      "Layer: Air\n",
      "Forward Top: (8+0j)\n",
      "Backward Top: (-0.6889811691985808+0j)\n",
      "Forward Bottom: (8+0j)\n",
      "Backward Bottom: (-0.6889811691985808+0j)\n",
      "Power Entering Layer: (8.68898116919858+0j)\n",
      "Power Leaving Layer: (8.68898116919858+0j)\n",
      "Absorbed in Layer: 0j\n",
      "-------------------------\n",
      "Summed Absorption= (0.0005770493660993706+0j)\n"
     ]
    }
   ],
   "source": [
    "abs_dict_fluxmethod = compute_fluxes(sim)"
   ]
  },
  {
   "cell_type": "code",
   "execution_count": 6,
   "metadata": {
    "scrolled": true
   },
   "outputs": [],
   "source": [
    "sim.get_field()"
   ]
  },
  {
   "cell_type": "code",
   "execution_count": 7,
   "metadata": {},
   "outputs": [
    {
     "name": "stdout",
     "output_type": "stream",
     "text": [
      "Layer: Air\n"
     ]
    },
    {
     "data": {
      "text/latex": [
       "$P_{abs} = \\frac{\\omega}{2} Im(\\epsilon) \\int |E|^2 dV = 0.0$"
      ]
     },
     "metadata": {},
     "output_type": "display_data"
    },
    {
     "name": "stdout",
     "output_type": "stream",
     "text": [
      "Layer: ITO\n"
     ]
    },
    {
     "data": {
      "text/latex": [
       "$P_{abs} = \\frac{\\omega}{2} Im(\\epsilon) \\int |E|^2 dV = 3.94776187861527e-05$"
      ]
     },
     "metadata": {},
     "output_type": "display_data"
    },
    {
     "name": "stdout",
     "output_type": "stream",
     "text": [
      "Layer: NW_AlShell\n"
     ]
    },
    {
     "data": {
      "text/latex": [
       "$P_{abs} = \\frac{\\omega}{2} Im(\\epsilon) \\int |E|^2 dV = 0.00038622864783302726$"
      ]
     },
     "metadata": {},
     "output_type": "display_data"
    },
    {
     "name": "stdout",
     "output_type": "stream",
     "text": [
      "Layer: Substrate\n"
     ]
    },
    {
     "data": {
      "text/latex": [
       "$P_{abs} = \\frac{\\omega}{2} Im(\\epsilon) \\int |E|^2 dV = 0.0001682528522306985$"
      ]
     },
     "metadata": {},
     "output_type": "display_data"
    }
   ],
   "source": [
    "sim_proc = Simulation(simulator=sim)\n",
    "freq = sim_proc.conf[('Simulation', 'params', 'frequency','value')]\n",
    "try:\n",
    "    Esq = sim_proc.data['normEsquared']\n",
    "except KeyError:\n",
    "    Esq = sim_proc.normEsquared()\n",
    "abs_dict_intmethod = {}\n",
    "for layer_name, layer_obj in sim_proc.layers.items():\n",
    "    print(\"Layer: {}\".format(layer_name))\n",
    "    base_unit = sim_proc.conf[('Simulation', 'base_unit')]\n",
    "    n_mat, k_mat = layer_obj.get_nk_matrix(freq)\n",
    "    # n and k could be functions of space, so we need to multiply the\n",
    "    # fields by n and k before integrating\n",
    "    res = integrate(Esq*n_mat*k_mat,layer_obj, sim_proc)\n",
    "    p_abs_imag = 2*np.pi*freq*consts.epsilon_0*res*base_unit\n",
    "    abs_dict_intmethod[layer_name] = p_abs_imag\n",
    "    disp.display_latex(\"$P_{abs} = \\\\frac{\\omega}{2} Im(\\epsilon) \\int |E|^2 dV\"+\" = {}$\".format(p_abs_imag), raw=True)"
   ]
  },
  {
   "cell_type": "code",
   "execution_count": 8,
   "metadata": {},
   "outputs": [
    {
     "name": "stdout",
     "output_type": "stream",
     "text": [
      "{'Substrate': (0.00016831519024378298+0j), 'ITO': (3.952871031050804e-05+0j), 'NW_AlShell': (0.0003692054655450796+0j), 'Air': 0j}\n",
      "{'Substrate': 0.0001682528522306985, 'ITO': 3.9477618786152697e-05, 'NW_AlShell': 0.00038622864783302726, 'Air': 0.0}\n"
     ]
    }
   ],
   "source": [
    "print(abs_dict_fluxmethod)\n",
    "print(abs_dict_intmethod)"
   ]
  },
  {
   "cell_type": "code",
   "execution_count": 9,
   "metadata": {
    "scrolled": false
   },
   "outputs": [
    {
     "name": "stdout",
     "output_type": "stream",
     "text": [
      "-------------------------\n",
      "Layer: Substrate\n",
      "Flux Method: (0.00016831519024378298+0j)\n",
      "Integral Method: 0.0001682528522306985\n",
      "Diff: (6.233801308448217e-08+0j)\n",
      "Percent Diff: (0.03703647483877929+0j)\n",
      "-------------------------\n",
      "Layer: ITO\n",
      "Flux Method: (3.952871031050804e-05+0j)\n",
      "Integral Method: 3.94776187861527e-05\n",
      "Diff: (5.109152435534513e-08+0j)\n",
      "Percent Diff: (0.12925168555717667+0j)\n",
      "-------------------------\n",
      "Layer: NW_AlShell\n",
      "Flux Method: (0.0003692054655450796+0j)\n",
      "Integral Method: 0.00038622864783302726\n",
      "Diff: (-1.7023182287947665e-05+0j)\n",
      "Percent Diff: (4.610761182209301+0j)\n",
      "-------------------------\n",
      "Layer: Air\n",
      "Flux Method: 0j\n",
      "Integral Method: 0.0\n",
      "Diff: 0j\n",
      "Percent Diff: None\n"
     ]
    }
   ],
   "source": [
    "for key in abs_dict_fluxmethod.keys():\n",
    "    fm = abs_dict_fluxmethod[key]\n",
    "    im = abs_dict_intmethod[key]\n",
    "    diff = fm - im\n",
    "    try:\n",
    "        pdiff = 100*abs(diff)/fm\n",
    "    except ZeroDivisionError:\n",
    "        pdiff = None\n",
    "        pass\n",
    "    print('-'*25)\n",
    "    print(\"Layer: {}\".format(key))\n",
    "    print(\"Flux Method: {}\".format(fm))\n",
    "    print(\"Integral Method: {}\".format(im))\n",
    "    print(\"Diff: {}\".format(diff))\n",
    "    print(\"Percent Diff: {}\".format(pdiff))"
   ]
  },
  {
   "cell_type": "markdown",
   "metadata": {},
   "source": [
    "# NW w/ Shell w/ Lanczos"
   ]
  },
  {
   "cell_type": "code",
   "execution_count": 10,
   "metadata": {},
   "outputs": [],
   "source": [
    "conf = Config('AbsorptionTest.yml')\n",
    "conf[('Solver', 'LanczosSmoothing')] = True\n",
    "sim = Simulator(conf)\n",
    "sim = setup_sim(sim)\n",
    "Zo = consts.physical_constants['characteristic impedance of vacuum'][0]"
   ]
  },
  {
   "cell_type": "code",
   "execution_count": 11,
   "metadata": {},
   "outputs": [
    {
     "data": {
      "text/plain": [
       "{'Air': ((8+0j), (-0.763456782565338+0j)),\n",
       " 'Air_bottom': ((8-1.1102230246251565e-16j),\n",
       "  (-0.763456782565338+1.1102230246251565e-16j)),\n",
       " 'ITO': ((7.458803815629436+0.0006962511562829121j),\n",
       "  (-0.22226059819445257-0.0006962511562829121j)),\n",
       " 'ITO_bottom': ((6.985538323185078-0.006973473057033053j),\n",
       "  (-0.22701755175190058+0.006973473057033053j)),\n",
       " 'NW_AlShell': ((6.810464916302812-0.0054596768019885555j),\n",
       "  (-0.051944144869725394+0.0054596768019885555j)),\n",
       " 'NW_AlShell_bottom': ((2.655213701219679-0.012739572445996467j),\n",
       "  (-0.15086594283932253+0.012739572445996467j)),\n",
       " 'NW_SiO2': ((2.7392398385383196-0.01337212743112065j),\n",
       "  (-0.2348920801579685+0.01337212743112065j)),\n",
       " 'NW_SiO2_bottom': ((2.7071301062475586-0.00587427638012096j),\n",
       "  (-0.23743488369627014+0.00587427638012096j)),\n",
       " 'Substrate': ((2.4696952225512665+0j), 0j),\n",
       " 'Substrate_bottom': ((0.3839830328489277+0j), 0j)}"
      ]
     },
     "execution_count": 11,
     "metadata": {},
     "output_type": "execute_result"
    }
   ],
   "source": [
    "sim.get_fluxes()"
   ]
  },
  {
   "cell_type": "code",
   "execution_count": 12,
   "metadata": {},
   "outputs": [
    {
     "name": "stdout",
     "output_type": "stream",
     "text": [
      "Total Incident Power = 0.0006636046823595181\n",
      "Total Reflected Power = 6.332918696118635e-05\n",
      "Total Transmitted Power = 3.185161731814463e-05\n",
      "Total Absorbed Power = 0.0005684238780801871\n",
      "-------------------------\n",
      "Layer: NW_AlShell\n",
      "Forward Top: (6.810464916302812-0.0054596768019885555j)\n",
      "Backward Top: (-0.051944144869725394+0.0054596768019885555j)\n",
      "Forward Bottom: (2.655213701219679-0.012739572445996467j)\n",
      "Backward Bottom: (-0.15086594283932253+0.012739572445996467j)\n",
      "Power Entering Layer: (6.961330859142135-0.018199249247985022j)\n",
      "Power Leaving Layer: (2.7071578460894044-0.018199249247985022j)\n",
      "Absorbed in Layer: (0.0003528861413786614+0j)\n",
      "-------------------------\n",
      "Layer: NW_SiO2\n",
      "Forward Top: (2.7392398385383196-0.01337212743112065j)\n",
      "Backward Top: (-0.2348920801579685+0.01337212743112065j)\n",
      "Forward Bottom: (2.7071301062475586-0.00587427638012096j)\n",
      "Backward Bottom: (-0.23743488369627014+0.00587427638012096j)\n",
      "Power Entering Layer: (2.97667472223459-0.01924640381124161j)\n",
      "Power Leaving Layer: (2.942022186405527-0.01924640381124161j)\n",
      "Absorbed in Layer: (2.87444812897463e-06+0j)\n",
      "-------------------------\n",
      "Layer: ITO\n",
      "Forward Top: (7.458803815629436+0.0006962511562829121j)\n",
      "Backward Top: (-0.22226059819445257-0.0006962511562829121j)\n",
      "Forward Bottom: (6.985538323185078-0.006973473057033053j)\n",
      "Backward Bottom: (-0.22701755175190058+0.006973473057033053j)\n",
      "Power Entering Layer: (7.685821367381336-0.006277221900750141j)\n",
      "Power Leaving Layer: (7.20779892137953-0.006277221900750141j)\n",
      "Absorbed in Layer: (3.96522416799685e-05+0j)\n",
      "-------------------------\n",
      "Layer: Substrate\n",
      "Forward Top: (2.4696952225512665+0j)\n",
      "Backward Top: 0j\n",
      "Forward Bottom: (0.3839830328489277+0j)\n",
      "Backward Bottom: 0j\n",
      "Power Entering Layer: (2.4696952225512665+0j)\n",
      "Power Leaving Layer: (0.3839830328489277+0j)\n",
      "Absorbed in Layer: (0.00017301104689259944+0j)\n",
      "-------------------------\n",
      "Layer: Air\n",
      "Forward Top: (8+0j)\n",
      "Backward Top: (-0.763456782565338+0j)\n",
      "Forward Bottom: (8-1.1102230246251565e-16j)\n",
      "Backward Bottom: (-0.763456782565338+1.1102230246251565e-16j)\n",
      "Power Entering Layer: (8.763456782565338-1.1102230246251565e-16j)\n",
      "Power Leaving Layer: (8.763456782565338-1.1102230246251565e-16j)\n",
      "Absorbed in Layer: 0j\n",
      "-------------------------\n",
      "Summed Absorption= (0.000568423878080204+0j)\n"
     ]
    }
   ],
   "source": [
    "abs_dict_fluxmethod = compute_fluxes(sim)"
   ]
  },
  {
   "cell_type": "code",
   "execution_count": 13,
   "metadata": {},
   "outputs": [],
   "source": [
    "sim.get_field()"
   ]
  },
  {
   "cell_type": "code",
   "execution_count": 14,
   "metadata": {},
   "outputs": [
    {
     "name": "stdout",
     "output_type": "stream",
     "text": [
      "Layer: Air\n"
     ]
    },
    {
     "data": {
      "text/latex": [
       "$P_{abs} = \\frac{\\omega}{2} Im(\\epsilon) \\int |E|^2 dV = 0.0$"
      ]
     },
     "metadata": {},
     "output_type": "display_data"
    },
    {
     "name": "stdout",
     "output_type": "stream",
     "text": [
      "Layer: ITO\n"
     ]
    },
    {
     "data": {
      "text/latex": [
       "$P_{abs} = \\frac{\\omega}{2} Im(\\epsilon) \\int |E|^2 dV = 3.97260934053305e-05$"
      ]
     },
     "metadata": {},
     "output_type": "display_data"
    },
    {
     "name": "stdout",
     "output_type": "stream",
     "text": [
      "Layer: NW_AlShell\n"
     ]
    },
    {
     "data": {
      "text/latex": [
       "$P_{abs} = \\frac{\\omega}{2} Im(\\epsilon) \\int |E|^2 dV = 0.0003771534225778344$"
      ]
     },
     "metadata": {},
     "output_type": "display_data"
    },
    {
     "name": "stdout",
     "output_type": "stream",
     "text": [
      "Layer: NW_SiO2\n"
     ]
    },
    {
     "data": {
      "text/latex": [
       "$P_{abs} = \\frac{\\omega}{2} Im(\\epsilon) \\int |E|^2 dV = 3.673344609485929e-06$"
      ]
     },
     "metadata": {},
     "output_type": "display_data"
    },
    {
     "name": "stdout",
     "output_type": "stream",
     "text": [
      "Layer: Substrate\n"
     ]
    },
    {
     "data": {
      "text/latex": [
       "$P_{abs} = \\frac{\\omega}{2} Im(\\epsilon) \\int |E|^2 dV = 0.0001727906720392508$"
      ]
     },
     "metadata": {},
     "output_type": "display_data"
    }
   ],
   "source": [
    "sim_proc = Simulation(simulator=sim)\n",
    "freq = sim_proc.conf[('Simulation', 'params', 'frequency','value')]\n",
    "try:\n",
    "    Esq = sim_proc.data['normEsquared']\n",
    "except KeyError:\n",
    "    Esq = sim_proc.normEsquared()\n",
    "abs_dict_intmethod = {}\n",
    "for layer_name, layer_obj in sim_proc.layers.items():\n",
    "    print(\"Layer: {}\".format(layer_name))\n",
    "    base_unit = sim_proc.conf[('Simulation', 'base_unit')]\n",
    "    n_mat, k_mat = layer_obj.get_nk_matrix(freq)\n",
    "    # n and k could be functions of space, so we need to multiply the\n",
    "    # fields by n and k before integrating\n",
    "    res = integrate(Esq*n_mat*k_mat,layer_obj, sim_proc)\n",
    "    p_abs_imag = 2*np.pi*freq*consts.epsilon_0*res*base_unit\n",
    "    abs_dict_intmethod[layer_name] = p_abs_imag\n",
    "    disp.display_latex(\"$P_{abs} = \\\\frac{\\omega}{2} Im(\\epsilon) \\int |E|^2 dV\"+\" = {}$\".format(p_abs_imag), raw=True)"
   ]
  },
  {
   "cell_type": "code",
   "execution_count": 15,
   "metadata": {},
   "outputs": [
    {
     "name": "stdout",
     "output_type": "stream",
     "text": [
      "{'ITO': (3.96522416799685e-05+0j), 'Air': 0j, 'NW_AlShell': (0.0003528861413786614+0j), 'Substrate': (0.00017301104689259944+0j), 'NW_SiO2': (2.87444812897463e-06+0j)}\n",
      "{'ITO': 3.97260934053305e-05, 'NW_AlShell': 0.0003771534225778344, 'NW_SiO2': 3.6733446094859288e-06, 'Air': 0.0, 'Substrate': 0.0001727906720392508}\n"
     ]
    }
   ],
   "source": [
    "print(abs_dict_fluxmethod)\n",
    "print(abs_dict_intmethod)"
   ]
  },
  {
   "cell_type": "code",
   "execution_count": 16,
   "metadata": {},
   "outputs": [
    {
     "name": "stdout",
     "output_type": "stream",
     "text": [
      "-------------------------\n",
      "Layer: ITO\n",
      "Flux Method: (3.96522416799685e-05+0j)\n",
      "Integral Method: 3.97260934053305e-05\n",
      "Diff: (-7.385172536200277e-08+0j)\n",
      "Percent Diff: (0.18624855048059277+0j)\n",
      "-------------------------\n",
      "Layer: Air\n",
      "Flux Method: 0j\n",
      "Integral Method: 0.0\n",
      "Diff: 0j\n",
      "Percent Diff: None\n",
      "-------------------------\n",
      "Layer: NW_AlShell\n",
      "Flux Method: (0.0003528861413786614+0j)\n",
      "Integral Method: 0.0003771534225778344\n",
      "Diff: (-2.4267281199173013e-05+0j)\n",
      "Percent Diff: (6.876801991816737+0j)\n",
      "-------------------------\n",
      "Layer: Substrate\n",
      "Flux Method: (0.00017301104689259944+0j)\n",
      "Integral Method: 0.0001727906720392508\n",
      "Diff: (2.203748533486326e-07+0j)\n",
      "Percent Diff: (0.12737617470486456+0j)\n",
      "-------------------------\n",
      "Layer: NW_SiO2\n",
      "Flux Method: (2.87444812897463e-06+0j)\n",
      "Integral Method: 3.673344609485929e-06\n",
      "Diff: (-7.988964805112988e-07+0j)\n",
      "Percent Diff: (27.793038686569734+0j)\n"
     ]
    }
   ],
   "source": [
    "for key in abs_dict_fluxmethod.keys():\n",
    "    fm = abs_dict_fluxmethod[key]\n",
    "    im = abs_dict_intmethod[key]\n",
    "    diff = fm - im\n",
    "    try:\n",
    "        pdiff = 100*abs(diff)/fm\n",
    "    except ZeroDivisionError:\n",
    "        pdiff = None\n",
    "        pass\n",
    "    print('-'*25)\n",
    "    print(\"Layer: {}\".format(key))\n",
    "    print(\"Flux Method: {}\".format(fm))\n",
    "    print(\"Integral Method: {}\".format(im))\n",
    "    print(\"Diff: {}\".format(diff))\n",
    "    print(\"Percent Diff: {}\".format(pdiff))"
   ]
  },
  {
   "cell_type": "markdown",
   "metadata": {},
   "source": [
    "# NW no Shell"
   ]
  },
  {
   "cell_type": "code",
   "execution_count": 17,
   "metadata": {},
   "outputs": [],
   "source": [
    "conf = Config('AbsorptionTestnoshell.yml')\n",
    "sim = Simulator(conf)\n",
    "sim = setup_sim(sim)\n",
    "Zo = consts.physical_constants['characteristic impedance of vacuum'][0]"
   ]
  },
  {
   "cell_type": "code",
   "execution_count": 18,
   "metadata": {},
   "outputs": [
    {
     "ename": "KeyboardInterrupt",
     "evalue": "",
     "output_type": "error",
     "traceback": [
      "\u001b[0;31m---------------------------------------------------------------------------\u001b[0m",
      "\u001b[0;31mKeyboardInterrupt\u001b[0m                         Traceback (most recent call last)",
      "\u001b[0;32m<ipython-input-18-9c8fd8d578bd>\u001b[0m in \u001b[0;36m<module>\u001b[0;34m()\u001b[0m\n\u001b[0;32m----> 1\u001b[0;31m \u001b[0msim\u001b[0m\u001b[0;34m.\u001b[0m\u001b[0mget_fluxes\u001b[0m\u001b[0;34m(\u001b[0m\u001b[0;34m)\u001b[0m\u001b[0;34m\u001b[0m\u001b[0m\n\u001b[0m",
      "\u001b[0;32m~/software/nanowire/nanowire/optics/simulate.py\u001b[0m in \u001b[0;36mget_fluxes\u001b[0;34m(self)\u001b[0m\n\u001b[1;32m   1253\u001b[0m             \u001b[0mself\u001b[0m\u001b[0;34m.\u001b[0m\u001b[0mlog\u001b[0m\u001b[0;34m.\u001b[0m\u001b[0mdebug\u001b[0m\u001b[0;34m(\u001b[0m\u001b[0;34m'Computing fluxes through layer: %s'\u001b[0m \u001b[0;34m%\u001b[0m \u001b[0mlayer\u001b[0m\u001b[0;34m)\u001b[0m\u001b[0;34m\u001b[0m\u001b[0m\n\u001b[1;32m   1254\u001b[0m             \u001b[0;31m# This gets flux at top of layer\u001b[0m\u001b[0;34m\u001b[0m\u001b[0;34m\u001b[0m\u001b[0m\n\u001b[0;32m-> 1255\u001b[0;31m             \u001b[0mforw\u001b[0m\u001b[0;34m,\u001b[0m \u001b[0mback\u001b[0m \u001b[0;34m=\u001b[0m \u001b[0mself\u001b[0m\u001b[0;34m.\u001b[0m\u001b[0ms4\u001b[0m\u001b[0;34m.\u001b[0m\u001b[0mGetPowerFlux\u001b[0m\u001b[0;34m(\u001b[0m\u001b[0mLayer\u001b[0m\u001b[0;34m=\u001b[0m\u001b[0mlayer\u001b[0m\u001b[0;34m)\u001b[0m\u001b[0;34m\u001b[0m\u001b[0m\n\u001b[0m\u001b[1;32m   1256\u001b[0m             \u001b[0mself\u001b[0m\u001b[0;34m.\u001b[0m\u001b[0mflux_dict\u001b[0m\u001b[0;34m[\u001b[0m\u001b[0mlayer\u001b[0m\u001b[0;34m]\u001b[0m \u001b[0;34m=\u001b[0m \u001b[0;34m(\u001b[0m\u001b[0mforw\u001b[0m\u001b[0;34m,\u001b[0m \u001b[0mback\u001b[0m\u001b[0;34m)\u001b[0m\u001b[0;34m\u001b[0m\u001b[0m\n\u001b[1;32m   1257\u001b[0m             \u001b[0;31m# This gets flux at the bottom\u001b[0m\u001b[0;34m\u001b[0m\u001b[0;34m\u001b[0m\u001b[0m\n",
      "\u001b[0;31mKeyboardInterrupt\u001b[0m: "
     ]
    }
   ],
   "source": [
    "sim.get_fluxes()"
   ]
  },
  {
   "cell_type": "code",
   "execution_count": null,
   "metadata": {},
   "outputs": [],
   "source": [
    "abs_dict_fluxmethod = compute_fluxes(sim)"
   ]
  },
  {
   "cell_type": "code",
   "execution_count": null,
   "metadata": {},
   "outputs": [],
   "source": [
    "sim.get_field()"
   ]
  },
  {
   "cell_type": "code",
   "execution_count": null,
   "metadata": {},
   "outputs": [],
   "source": [
    "sim_proc = Simulation(simulator=sim)\n",
    "freq = sim_proc.conf[('Simulation', 'params', 'frequency','value')]\n",
    "try:\n",
    "    Esq = sim_proc.data['normEsquared']\n",
    "except KeyError:\n",
    "    Esq = sim_proc.normEsquared()\n",
    "abs_dict_intmethod = {}\n",
    "for layer_name, layer_obj in sim_proc.layers.items():\n",
    "    print(\"Layer: {}\".format(layer_name))\n",
    "    base_unit = sim_proc.conf[('Simulation', 'base_unit')]\n",
    "    n_mat, k_mat = layer_obj.get_nk_matrix(freq)\n",
    "    # n and k could be functions of space, so we need to multiply the\n",
    "    # fields by n and k before integrating\n",
    "    res = integrate(Esq*n_mat*k_mat,layer_obj, sim_proc)\n",
    "    p_abs_imag = 2*np.pi*freq*consts.epsilon_0*res*base_unit\n",
    "    abs_dict_intmethod[layer_name] = p_abs_imag\n",
    "    disp.display_latex(\"$P_{abs} = \\\\frac{\\omega}{2} Im(\\epsilon) \\int |E|^2 dV\"+\" = {}$\".format(p_abs_imag), raw=True)"
   ]
  },
  {
   "cell_type": "code",
   "execution_count": null,
   "metadata": {},
   "outputs": [],
   "source": [
    "print(abs_dict_fluxmethod)\n",
    "print(abs_dict_intmethod)"
   ]
  },
  {
   "cell_type": "code",
   "execution_count": null,
   "metadata": {},
   "outputs": [],
   "source": [
    "for key in abs_dict_fluxmethod.keys():\n",
    "    fm = abs_dict_fluxmethod[key]\n",
    "    im = abs_dict_intmethod[key]\n",
    "    diff = fm - im\n",
    "    try:\n",
    "        pdiff = 100*abs(diff)/fm\n",
    "    except ZeroDivisionError:\n",
    "        pdiff = None\n",
    "        pass\n",
    "    print('-'*25)\n",
    "    print(\"Layer: {}\".format(key))\n",
    "    print(\"Flux Method: {}\".format(fm))\n",
    "    print(\"Integral Method: {}\".format(im))\n",
    "    print(\"Diff: {}\".format(diff))\n",
    "    print(\"Percent Diff: {}\".format(pdiff))"
   ]
  },
  {
   "cell_type": "code",
   "execution_count": null,
   "metadata": {},
   "outputs": [],
   "source": [
    "print(sim.data['fluxes'])"
   ]
  },
  {
   "cell_type": "code",
   "execution_count": null,
   "metadata": {},
   "outputs": [],
   "source": [
    "print(sim.flux_dict)"
   ]
  },
  {
   "cell_type": "code",
   "execution_count": null,
   "metadata": {},
   "outputs": [],
   "source": [
    "simulation = Simulation(simulator=sim)\n",
    "print(simulation.data['fluxes'])\n",
    "print(simulation.layers)"
   ]
  },
  {
   "cell_type": "code",
   "execution_count": null,
   "metadata": {},
   "outputs": [],
   "source": [
    "alist = [1., 2., 3.]\n",
    "print('{}, {}, {}, {}'.format('test', *alist))"
   ]
  },
  {
   "cell_type": "code",
   "execution_count": null,
   "metadata": {},
   "outputs": [],
   "source": []
  }
 ],
 "metadata": {
  "kernelspec": {
   "display_name": "nanowire",
   "language": "python",
   "name": "nanowire"
  },
  "language_info": {
   "codemirror_mode": {
    "name": "ipython",
    "version": 3
   },
   "file_extension": ".py",
   "mimetype": "text/x-python",
   "name": "python",
   "nbconvert_exporter": "python",
   "pygments_lexer": "ipython3",
   "version": "3.5.2"
  },
  "toc": {
   "nav_menu": {},
   "number_sections": true,
   "sideBar": true,
   "skip_h1_title": false,
   "toc_cell": false,
   "toc_position": {},
   "toc_section_display": "block",
   "toc_window_display": false
  }
 },
 "nbformat": 4,
 "nbformat_minor": 2
}
