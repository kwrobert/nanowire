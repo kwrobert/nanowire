{
 "cells": [
  {
   "cell_type": "code",
   "execution_count": 1,
   "metadata": {
    "collapsed": false
   },
   "outputs": [],
   "source": [
    "import os\n",
    "import numpy as np\n",
    "from nanowire.optics.simulate import Simulator\n",
    "from nanowire.optics.postprocess import Simulation\n",
    "from nanowire.optics.utils.utils import setup_sim\n",
    "from nanowire.optics.utils.config import Config\n",
    "import scipy.constants as consts\n",
    "import scipy.integrate as intg\n",
    "import IPython.display as disp\n",
    "import matplotlib.pyplot as plt\n",
    "%load_ext autoreload \n",
    "%autoreload 2"
   ]
  },
  {
   "cell_type": "markdown",
   "metadata": {},
   "source": [
    "# Utility Functions"
   ]
  },
  {
   "cell_type": "code",
   "execution_count": 3,
   "metadata": {
    "collapsed": false
   },
   "outputs": [],
   "source": [
    "def integrate(arr, layer_obj, sim_proc):\n",
    "    arr_slice = arr[layer_obj.slice]\n",
    "    z_vals = sim_proc.Z[layer_obj.istart:layer_obj.iend]\n",
    "    #print(\"Layer: {}\".format(layer_obj.name))\n",
    "    #print(\"Layer Start Ind: {}\".format(layer_obj.istart))\n",
    "    #print(\"Layer End Ind: {}\".format(layer_obj.iend))\n",
    "    #print(z_vals)\n",
    "    z_integral = intg.trapz(arr_slice, x=z_vals, axis=0)\n",
    "    x_integral = intg.trapz(z_integral, x=sim_proc.X, axis=0)\n",
    "    y_integral = intg.trapz(x_integral, x=sim_proc.Y, axis=0)\n",
    "    return y_integral\n",
    "\n",
    "def integrate_endpoints(arr, layer_obj, sim_proc):\n",
    "    arr_slice = arr[layer_obj.slice]\n",
    "    Nx = arr_slice.shape[1]\n",
    "    Ny = arr_slice.shape[2]\n",
    "    Nz = arr_slice.shape[0]\n",
    "    extended = np.zeros((Nz, Nx+1, Ny+1), dtype=arr_slice.dtype)\n",
    "    extended[:, 0:Nx, 0:Ny] = arr_slice\n",
    "    extended[:, 0:Nx, -1] = arr_slice[:, 0:Nx, 0]\n",
    "    extended[:, -1, 0:Ny] = arr_slice[:, 0, 0:Ny]\n",
    "    extended[:, -1, -1] = arr_slice[:, 0, 0]\n",
    "    zsamps = layer_obj.iend - layer_obj.istart\n",
    "    z_vals = np.linspace(0, layer_obj.thickness, zsamps)\n",
    "    x_vals = np.append(sim_proc.X, sim_proc.X[-1]+sim_proc.dx)\n",
    "    y_vals = np.append(sim_proc.Y, sim_proc.Y[-1]+sim_proc.dy)\n",
    "    z_integral = intg.trapz(extended, x=z_vals, axis=0)\n",
    "    x_integral = intg.trapz(z_integral, x=x_vals, axis=0)\n",
    "    y_integral = intg.trapz(x_integral, x=y_vals, axis=0)\n",
    "    return y_integral\n",
    "\n",
    "def compute_fluxes(sim):\n",
    "    fluxes = sim.flux_dict\n",
    "    total_incident_power = .5*sim.period**2/Zo*np.absolute(fluxes['Air'][0])\n",
    "    total_reflected_power = .5*sim.period**2/Zo*np.absolute(fluxes['Air'][1])\n",
    "    total_transmitted_power = .5*sim.period**2/Zo*np.absolute(sum(fluxes['Substrate_bottom']))\n",
    "    total_absorbed_power = total_incident_power - total_reflected_power - total_transmitted_power\n",
    "    print('Total Incident Power = {}'.format(total_incident_power))\n",
    "    print('Total Reflected Power = {}'.format(total_reflected_power))\n",
    "    print('Total Transmitted Power = {}'.format(total_transmitted_power))\n",
    "    print('Total Absorbed Power = {}'.format(total_absorbed_power))\n",
    "    summed_absorbed_power = 0\n",
    "    abs_dict_fluxmethod = {}\n",
    "    for layer, (forw_top, back_top) in fluxes.items():\n",
    "        if '_bottom' in layer:\n",
    "            continue\n",
    "        bottom = layer+'_bottom'\n",
    "        forw_bot, back_bot = fluxes[bottom] \n",
    "        print('-'*25)\n",
    "        print('Layer: {}'.format(layer))\n",
    "        print('Forward Top: {}'.format(forw_top))\n",
    "        print('Backward Top: {}'.format(back_top))\n",
    "        print('Forward Bottom: {}'.format(forw_bot))\n",
    "        print('Backward Bottom: {}'.format(back_bot))\n",
    "        P_in = forw_top + -1*back_bot\n",
    "        P_out = forw_bot + -1*back_top\n",
    "        print('Power Entering Layer: {}'.format(P_in))\n",
    "        print('Power Leaving Layer: {}'.format(P_out))\n",
    "        P_lost = P_in - P_out\n",
    "        P_abs = .5*P_lost*(sim.period**2)/Zo\n",
    "        abs_dict_fluxmethod[layer] = P_abs \n",
    "        print('Absorbed in Layer: {}'.format(P_abs))\n",
    "        summed_absorbed_power += P_abs\n",
    "    print('-'*25)\n",
    "    print('Summed Absorption= {}'.format(summed_absorbed_power))\n",
    "    return abs_dict_fluxmethod, summed_absorbed_power"
   ]
  },
  {
   "cell_type": "markdown",
   "metadata": {},
   "source": [
    "# NW w/ Shell"
   ]
  },
  {
   "cell_type": "markdown",
   "metadata": {},
   "source": [
    "## No Endpoints"
   ]
  },
  {
   "cell_type": "code",
   "execution_count": 4,
   "metadata": {
    "collapsed": false
   },
   "outputs": [],
   "source": [
    "conf = Config('AbsorptionTest.yml')\n",
    "sim = Simulator(conf)\n",
    "sim.setup()\n",
    "Zo = consts.physical_constants['characteristic impedance of vacuum'][0]"
   ]
  },
  {
   "cell_type": "code",
   "execution_count": 5,
   "metadata": {
    "collapsed": false
   },
   "outputs": [
    {
     "name": "stdout",
     "output_type": "stream",
     "text": [
      "0.00125\n",
      "0.00125\n",
      "0.00473035439137\n"
     ]
    }
   ],
   "source": [
    "print(sim.X[1] - sim.X[0])\n",
    "print(sim.Y[1] - sim.Y[0])\n",
    "print(sim.Z[1] - sim.Z[0])"
   ]
  },
  {
   "cell_type": "code",
   "execution_count": 6,
   "metadata": {
    "collapsed": false
   },
   "outputs": [
    {
     "data": {
      "text/plain": [
       "{'Air': ((8+0j), (-0.6889811691984553+0j)),\n",
       " 'Air_bottom': ((8+0j), (-0.6889811691984552+0j)),\n",
       " 'ITO': ((7.418002620062556-1.803822018736634e-05j),\n",
       "  (-0.10698378926127916+1.803822018736634e-05j)),\n",
       " 'ITO_bottom': ((6.94270709124475-0.004415115410177528j),\n",
       "  (-0.10822149007597238+0.004415115410177528j)),\n",
       " 'NW_AlShell': ((6.85940044486363+0.0013275440660109605j),\n",
       "  (-0.024914843694943206-0.0013275440660109605j)),\n",
       " 'NW_AlShell_bottom': ((2.46691659696217+0.004273111972458624j),\n",
       "  (-0.08333950032478386-0.004273111972458624j)),\n",
       " 'Substrate': ((2.3835770966373815+0j), 0j),\n",
       " 'Substrate_bottom': ((0.35447519644857267+0j), 0j)}"
      ]
     },
     "execution_count": 6,
     "metadata": {},
     "output_type": "execute_result"
    }
   ],
   "source": [
    "sim.get_fluxes()"
   ]
  },
  {
   "cell_type": "code",
   "execution_count": 12,
   "metadata": {
    "collapsed": false,
    "scrolled": false
   },
   "outputs": [
    {
     "name": "stdout",
     "output_type": "stream",
     "text": [
      "Total Incident Power = 0.0006636046823595181\n",
      "Total Reflected Power = 5.715139124220379e-05\n",
      "Total Transmitted Power = 2.9403925017947856e-05\n",
      "Total Absorbed Power = 0.0005770493660993665\n",
      "-------------------------\n",
      "Layer: ITO\n",
      "Forward Top: (7.418002620062556-1.803822018736634e-05j)\n",
      "Backward Top: (-0.10698378926127916+1.803822018736634e-05j)\n",
      "Forward Bottom: (6.94270709124475-0.004415115410177528j)\n",
      "Backward Bottom: (-0.10822149007597238+0.004415115410177528j)\n",
      "Power Entering Layer: (7.5262241101385285-0.004433153630364894j)\n",
      "Power Leaving Layer: (7.049690880506029-0.004433153630364894j)\n",
      "Absorbed in Layer: (3.952871031050377e-05+0j)\n",
      "-------------------------\n",
      "Layer: Air\n",
      "Forward Top: (8+0j)\n",
      "Backward Top: (-0.6889811691984553+0j)\n",
      "Forward Bottom: (8+0j)\n",
      "Backward Bottom: (-0.6889811691984552+0j)\n",
      "Power Entering Layer: (8.688981169198454+0j)\n",
      "Power Leaving Layer: (8.688981169198456+0j)\n",
      "Absorbed in Layer: (-1.473498395209201e-19+0j)\n",
      "-------------------------\n",
      "Layer: Substrate\n",
      "Forward Top: (2.3835770966373815+0j)\n",
      "Backward Top: 0j\n",
      "Forward Bottom: (0.35447519644857267+0j)\n",
      "Backward Bottom: 0j\n",
      "Power Entering Layer: (2.3835770966373815+0j)\n",
      "Power Leaving Layer: (0.35447519644857267+0j)\n",
      "Absorbed in Layer: (0.00016831519024373612+0j)\n",
      "-------------------------\n",
      "Layer: NW_AlShell\n",
      "Forward Top: (6.85940044486363+0.0013275440660109605j)\n",
      "Backward Top: (-0.024914843694943206-0.0013275440660109605j)\n",
      "Forward Bottom: (2.46691659696217+0.004273111972458624j)\n",
      "Backward Bottom: (-0.08333950032478386-0.004273111972458624j)\n",
      "Power Entering Layer: (6.942739945188414+0.005600656038469584j)\n",
      "Power Leaving Layer: (2.491831440657113+0.005600656038469584j)\n",
      "Absorbed in Layer: (0.0003692054655450965+0j)\n",
      "-------------------------\n",
      "Summed Absorption= (0.0005770493660993362+0j)\n"
     ]
    }
   ],
   "source": [
    "abs_dict_fluxmethod, flux_method_total = compute_fluxes(sim)"
   ]
  },
  {
   "cell_type": "code",
   "execution_count": 10,
   "metadata": {
    "collapsed": false,
    "scrolled": true
   },
   "outputs": [],
   "source": [
    "sim.get_field()"
   ]
  },
  {
   "cell_type": "code",
   "execution_count": 14,
   "metadata": {
    "collapsed": false
   },
   "outputs": [
    {
     "name": "stderr",
     "output_type": "stream",
     "text": [
      "DEBUG:nanowire.optics.postprocess:Logger initialized\n",
      "DEBUG:nanowire.optics.postprocess:Adding normEsquared to data dict\n"
     ]
    },
    {
     "name": "stdout",
     "output_type": "stream",
     "text": [
      "Layer: Air\n"
     ]
    },
    {
     "data": {
      "text/latex": [
       "$P_{abs} = \\frac{\\omega}{2} Im(\\epsilon) \\int |E|^2 dV = 0.0$"
      ]
     },
     "metadata": {},
     "output_type": "display_data"
    },
    {
     "name": "stdout",
     "output_type": "stream",
     "text": [
      "Layer: ITO\n"
     ]
    },
    {
     "data": {
      "text/latex": [
       "$P_{abs} = \\frac{\\omega}{2} Im(\\epsilon) \\int |E|^2 dV = 3.877927303810365e-05$"
      ]
     },
     "metadata": {},
     "output_type": "display_data"
    },
    {
     "name": "stdout",
     "output_type": "stream",
     "text": [
      "Layer: NW_AlShell\n"
     ]
    },
    {
     "data": {
      "text/latex": [
       "$P_{abs} = \\frac{\\omega}{2} Im(\\epsilon) \\int |E|^2 dV = 0.00038029434390383053$"
      ]
     },
     "metadata": {},
     "output_type": "display_data"
    },
    {
     "name": "stdout",
     "output_type": "stream",
     "text": [
      "Layer: Substrate\n"
     ]
    },
    {
     "data": {
      "text/latex": [
       "$P_{abs} = \\frac{\\omega}{2} Im(\\epsilon) \\int |E|^2 dV = 0.00016568604984178314$"
      ]
     },
     "metadata": {},
     "output_type": "display_data"
    },
    {
     "name": "stdout",
     "output_type": "stream",
     "text": [
      "Integral Method Total Absorption: 0.0005847596667837173\n"
     ]
    }
   ],
   "source": [
    "sim_proc = Simulation(simulator=sim)\n",
    "freq = sim_proc.conf[('Simulation', 'params', 'frequency','value')]\n",
    "try:\n",
    "    Esq = sim_proc.data['normEsquared']\n",
    "except KeyError:\n",
    "    Esq = sim_proc.normEsquared()\n",
    "abs_dict_intmethod = {}\n",
    "int_method_total = 0\n",
    "for layer_name, layer_obj in sim_proc.layers.items():\n",
    "    print(\"Layer: {}\".format(layer_name))\n",
    "    base_unit = sim_proc.conf[('Simulation', 'base_unit')]\n",
    "    n_mat, k_mat = layer_obj.get_nk_matrix(freq)\n",
    "    # n and k could be functions of space, so we need to multiply the\n",
    "    # fields by n and k before integrating\n",
    "    res = integrate(Esq*n_mat*k_mat,layer_obj, sim_proc)\n",
    "    p_abs_imag = 2*np.pi*freq*consts.epsilon_0*res*base_unit\n",
    "    abs_dict_intmethod[layer_name] = p_abs_imag\n",
    "    disp.display_latex(\"$P_{abs} = \\\\frac{\\omega}{2} Im(\\epsilon) \\int |E|^2 dV\"+\" = {}$\".format(p_abs_imag), raw=True)\n",
    "    int_method_total += p_abs_imag\n",
    "print(\"Integral Method Total Absorption: {}\".format(int_method_total))"
   ]
  },
  {
   "cell_type": "code",
   "execution_count": 15,
   "metadata": {
    "collapsed": false
   },
   "outputs": [
    {
     "name": "stdout",
     "output_type": "stream",
     "text": [
      "{'Air': (-1.473498395209201e-19+0j), 'Substrate': (0.00016831519024373612+0j), 'NW_AlShell': (0.0003692054655450965+0j), 'ITO': (3.952871031050377e-05+0j)}\n",
      "{'Air': 0.0, 'Substrate': 0.00016568604984178314, 'NW_AlShell': 0.00038029434390383053, 'ITO': 3.8779273038103651e-05}\n"
     ]
    }
   ],
   "source": [
    "print(abs_dict_fluxmethod)\n",
    "print(abs_dict_intmethod)"
   ]
  },
  {
   "cell_type": "code",
   "execution_count": 18,
   "metadata": {
    "collapsed": false,
    "scrolled": false
   },
   "outputs": [
    {
     "name": "stdout",
     "output_type": "stream",
     "text": [
      "-------------------------\n",
      "Layer: Air\n",
      "Flux Method: (-1.473498395209201e-19+0j)\n",
      "Integral Method: 0.0\n",
      "Diff: (-1.473498395209201e-19+0j)\n",
      "Percent Diff: (-99.99999999999999-0j)\n",
      "-------------------------\n",
      "Layer: Substrate\n",
      "Flux Method: (0.00016831519024373612+0j)\n",
      "Integral Method: 0.00016568604984178314\n",
      "Diff: (2.629140401952981e-06+0j)\n",
      "Percent Diff: (1.5620339424776457+0j)\n",
      "-------------------------\n",
      "Layer: NW_AlShell\n",
      "Flux Method: (0.0003692054655450965+0j)\n",
      "Integral Method: 0.00038029434390383053\n",
      "Diff: (-1.1088878358734026e-05+0j)\n",
      "Percent Diff: (3.0034437172706423+0j)\n",
      "-------------------------\n",
      "Layer: ITO\n",
      "Flux Method: (3.952871031050377e-05+0j)\n",
      "Integral Method: 3.877927303810365e-05\n",
      "Diff: (7.494372724001219e-07+0j)\n",
      "Percent Diff: (1.895931505260817+0j)\n",
      "-------------------------\n",
      "Total Percent Difference: (1.3361596316273958+0j)\n"
     ]
    }
   ],
   "source": [
    "for key in abs_dict_fluxmethod.keys():\n",
    "    fm = abs_dict_fluxmethod[key]\n",
    "    im = abs_dict_intmethod[key]\n",
    "    diff = fm - im\n",
    "    try:\n",
    "        pdiff = 100*abs(diff)/fm\n",
    "    except ZeroDivisionError:\n",
    "        pdiff = None\n",
    "        pass\n",
    "    print('-'*25)\n",
    "    print(\"Layer: {}\".format(key))\n",
    "    print(\"Flux Method: {}\".format(fm))\n",
    "    print(\"Integral Method: {}\".format(im))\n",
    "    print(\"Diff: {}\".format(diff))\n",
    "    print(\"Percent Diff: {}\".format(pdiff))\n",
    "pdiff_total = 100*abs(flux_method_total - int_method_total)/flux_method_total\n",
    "print('-'*25)\n",
    "print(\"Total Percent Difference: {}\".format(pdiff_total))"
   ]
  },
  {
   "cell_type": "markdown",
   "metadata": {},
   "source": [
    "## Include Endpoints"
   ]
  },
  {
   "cell_type": "code",
   "execution_count": 19,
   "metadata": {
    "collapsed": false
   },
   "outputs": [
    {
     "name": "stderr",
     "output_type": "stream",
     "text": [
      "DEBUG:nanowire.optics.postprocess:Logger initialized\n",
      "DEBUG:nanowire.optics.postprocess:Adding normEsquared to data dict\n"
     ]
    },
    {
     "name": "stdout",
     "output_type": "stream",
     "text": [
      "Layer: Air\n"
     ]
    },
    {
     "data": {
      "text/latex": [
       "$P_{abs} = \\frac{\\omega}{2} Im(\\epsilon) \\int |E|^2 dV = 0.0$"
      ]
     },
     "metadata": {},
     "output_type": "display_data"
    },
    {
     "name": "stdout",
     "output_type": "stream",
     "text": [
      "Layer: ITO\n"
     ]
    },
    {
     "data": {
      "text/latex": [
       "$P_{abs} = \\frac{\\omega}{2} Im(\\epsilon) \\int |E|^2 dV = 3.978572556053836e-05$"
      ]
     },
     "metadata": {},
     "output_type": "display_data"
    },
    {
     "name": "stdout",
     "output_type": "stream",
     "text": [
      "Layer: NW_AlShell\n"
     ]
    },
    {
     "data": {
      "text/latex": [
       "$P_{abs} = \\frac{\\omega}{2} Im(\\epsilon) \\int |E|^2 dV = 0.00038171896006087717$"
      ]
     },
     "metadata": {},
     "output_type": "display_data"
    },
    {
     "name": "stdout",
     "output_type": "stream",
     "text": [
      "Layer: Substrate\n"
     ]
    },
    {
     "data": {
      "text/latex": [
       "$P_{abs} = \\frac{\\omega}{2} Im(\\epsilon) \\int |E|^2 dV = 0.00016809086399005116$"
      ]
     },
     "metadata": {},
     "output_type": "display_data"
    },
    {
     "name": "stdout",
     "output_type": "stream",
     "text": [
      "Integral Method Total Absorption: 0.0005895955496114667\n"
     ]
    }
   ],
   "source": [
    "sim_proc = Simulation(simulator=sim)\n",
    "freq = sim_proc.conf[('Simulation', 'params', 'frequency','value')]\n",
    "try:\n",
    "    Esq = sim_proc.data['normEsquared']\n",
    "except KeyError:\n",
    "    Esq = sim_proc.normEsquared()\n",
    "abs_dict_intmethod = {}\n",
    "int_method_total = 0\n",
    "for layer_name, layer_obj in sim_proc.layers.items():\n",
    "    print(\"Layer: {}\".format(layer_name))\n",
    "    base_unit = sim_proc.conf[('Simulation', 'base_unit')]\n",
    "    n_mat, k_mat = layer_obj.get_nk_matrix(freq)\n",
    "    # n and k could be functions of space, so we need to multiply the\n",
    "    # fields by n and k before integrating\n",
    "    res = integrate_endpoints(Esq*n_mat*k_mat,layer_obj, sim_proc)\n",
    "    p_abs_imag = 2*np.pi*freq*consts.epsilon_0*res*base_unit\n",
    "    abs_dict_intmethod[layer_name] = p_abs_imag\n",
    "    disp.display_latex(\"$P_{abs} = \\\\frac{\\omega}{2} Im(\\epsilon) \\int |E|^2 dV\"+\" = {}$\".format(p_abs_imag), raw=True)\n",
    "    int_method_total += p_abs_imag\n",
    "print(\"Integral Method Total Absorption: {}\".format(int_method_total))"
   ]
  },
  {
   "cell_type": "code",
   "execution_count": 23,
   "metadata": {
    "collapsed": false
   },
   "outputs": [
    {
     "name": "stdout",
     "output_type": "stream",
     "text": [
      "{'ITO': (3.952871031050377e-05+0j), 'Air': (-1.473498395209201e-19+0j), 'Substrate': (0.00016831519024373612+0j), 'NW_AlShell': (0.0003692054655450965+0j)}\n",
      "{'Substrate': 0.00016809086399005116, 'Air': 0.0, 'ITO': 3.978572556053836e-05, 'NW_AlShell': 0.00038171896006087717}\n"
     ]
    }
   ],
   "source": [
    "print(abs_dict_fluxmethod)\n",
    "print(abs_dict_intmethod)"
   ]
  },
  {
   "cell_type": "code",
   "execution_count": 20,
   "metadata": {
    "collapsed": false,
    "scrolled": false
   },
   "outputs": [
    {
     "name": "stdout",
     "output_type": "stream",
     "text": [
      "-------------------------\n",
      "Layer: Air\n",
      "Flux Method: (-1.473498395209201e-19+0j)\n",
      "Integral Method: 0.0\n",
      "Diff: (-1.473498395209201e-19+0j)\n",
      "Percent Diff: (-99.99999999999999-0j)\n",
      "-------------------------\n",
      "Layer: Substrate\n",
      "Flux Method: (0.00016831519024373612+0j)\n",
      "Integral Method: 0.00016809086399005116\n",
      "Diff: (2.2432625368495993e-07+0j)\n",
      "Percent Diff: (0.1332774857457099+0j)\n",
      "-------------------------\n",
      "Layer: NW_AlShell\n",
      "Flux Method: (0.0003692054655450965+0j)\n",
      "Integral Method: 0.00038171896006087717\n",
      "Diff: (-1.2513494515780667e-05+0j)\n",
      "Percent Diff: (3.3893037031035527+0j)\n",
      "-------------------------\n",
      "Layer: ITO\n",
      "Flux Method: (3.952871031050377e-05+0j)\n",
      "Integral Method: 3.978572556053836e-05\n",
      "Diff: (-2.570152500345872e-07+0j)\n",
      "Percent Diff: (0.6501989263390963+0j)\n",
      "-------------------------\n",
      "Total Percent Difference: (2.1741958745988375+0j)\n"
     ]
    }
   ],
   "source": [
    "for key in abs_dict_fluxmethod.keys():\n",
    "    fm = abs_dict_fluxmethod[key]\n",
    "    im = abs_dict_intmethod[key]\n",
    "    diff = fm - im\n",
    "    try:\n",
    "        pdiff = 100*abs(diff)/fm\n",
    "    except ZeroDivisionError:\n",
    "        pdiff = None\n",
    "        pass\n",
    "    print('-'*25)\n",
    "    print(\"Layer: {}\".format(key))\n",
    "    print(\"Flux Method: {}\".format(fm))\n",
    "    print(\"Integral Method: {}\".format(im))\n",
    "    print(\"Diff: {}\".format(diff))\n",
    "    print(\"Percent Diff: {}\".format(pdiff))\n",
    "pdiff_total = 100*abs(flux_method_total - int_method_total)/flux_method_total\n",
    "print('-'*25)\n",
    "print(\"Total Percent Difference: {}\".format(pdiff_total))"
   ]
  },
  {
   "cell_type": "markdown",
   "metadata": {},
   "source": [
    "# NW w/ Shell w/ Lanczos"
   ]
  },
  {
   "cell_type": "code",
   "execution_count": 25,
   "metadata": {
    "collapsed": false
   },
   "outputs": [],
   "source": [
    "conf = Config('AbsorptionTest.yml')\n",
    "conf[('Solver', 'LanczosSmoothing')] = True\n",
    "sim = Simulator(conf)\n",
    "sim.setup()\n",
    "Zo = consts.physical_constants['characteristic impedance of vacuum'][0]"
   ]
  },
  {
   "cell_type": "markdown",
   "metadata": {},
   "source": [
    "## No Endpoints"
   ]
  },
  {
   "cell_type": "code",
   "execution_count": 26,
   "metadata": {
    "collapsed": false
   },
   "outputs": [
    {
     "data": {
      "text/plain": [
       "{'Air': ((8+0j), (-0.676539839019449+0j)),\n",
       " 'Air_bottom': ((8+0j), (-0.676539839019449+0j)),\n",
       " 'ITO': ((7.3740082923072965-0.0007174984378887084j),\n",
       "  (-0.050548131327010415+0.0007174984378887084j)),\n",
       " 'ITO_bottom': ((6.8982844387204985-0.0024152328326099703j),\n",
       "  (-0.05119776341285657+0.0024152328326099703j)),\n",
       " 'NW_AlShell': ((6.882626480026488+0.00501125688520776j),\n",
       "  (-0.035539804718956264-0.00501125688520776j)),\n",
       " 'NW_AlShell_bottom': ((2.6944980277405444+0.007276885080193779j),\n",
       "  (-0.0989242740708712-0.007276885080193779j)),\n",
       " 'Substrate': ((2.5955737536697283+0j), 0j),\n",
       " 'Substrate_bottom': ((0.38818725085573025+0j), 0j)}"
      ]
     },
     "execution_count": 26,
     "metadata": {},
     "output_type": "execute_result"
    }
   ],
   "source": [
    "sim.get_fluxes()"
   ]
  },
  {
   "cell_type": "code",
   "execution_count": 27,
   "metadata": {
    "collapsed": false
   },
   "outputs": [
    {
     "name": "stdout",
     "output_type": "stream",
     "text": [
      "Total Incident Power = 0.0006636046823595181\n",
      "Total Reflected Power = 5.611937562200762e-05\n",
      "Total Transmitted Power = 3.220035966251643e-05\n",
      "Total Absorbed Power = 0.0005752849470749941\n",
      "-------------------------\n",
      "Layer: NW_AlShell\n",
      "Forward Top: (6.882626480026488+0.00501125688520776j)\n",
      "Backward Top: (-0.035539804718956264-0.00501125688520776j)\n",
      "Forward Bottom: (2.6944980277405444+0.007276885080193779j)\n",
      "Backward Bottom: (-0.0989242740708712-0.007276885080193779j)\n",
      "Power Entering Layer: (6.981550754097359+0.012288141965401539j)\n",
      "Power Leaving Layer: (2.7300378324595007+0.012288141965401539j)\n",
      "Absorbed in Layer: (0.0003526654852388597+0j)\n",
      "-------------------------\n",
      "Layer: Substrate\n",
      "Forward Top: (2.5955737536697283+0j)\n",
      "Backward Top: 0j\n",
      "Forward Bottom: (0.38818725085573025+0j)\n",
      "Backward Bottom: 0j\n",
      "Power Entering Layer: (2.5955737536697283+0j)\n",
      "Power Leaving Layer: (0.38818725085573025+0j)\n",
      "Absorbed in Layer: (0.00018310400238057134+0j)\n",
      "-------------------------\n",
      "Layer: Air\n",
      "Forward Top: (8+0j)\n",
      "Backward Top: (-0.676539839019449+0j)\n",
      "Forward Bottom: (8+0j)\n",
      "Backward Bottom: (-0.676539839019449+0j)\n",
      "Power Entering Layer: (8.67653983901945+0j)\n",
      "Power Leaving Layer: (8.67653983901945+0j)\n",
      "Absorbed in Layer: 0j\n",
      "-------------------------\n",
      "Layer: ITO\n",
      "Forward Top: (7.3740082923072965-0.0007174984378887084j)\n",
      "Backward Top: (-0.050548131327010415+0.0007174984378887084j)\n",
      "Forward Bottom: (6.8982844387204985-0.0024152328326099703j)\n",
      "Backward Bottom: (-0.05119776341285657+0.0024152328326099703j)\n",
      "Power Entering Layer: (7.425206055720153-0.0031327312704986787j)\n",
      "Power Leaving Layer: (6.948832570047509-0.0031327312704986787j)\n",
      "Absorbed in Layer: (3.9515459455536426e-05+0j)\n",
      "-------------------------\n",
      "Summed Absorption= (0.0005752849470749675+0j)\n"
     ]
    }
   ],
   "source": [
    "abs_dict_fluxmethod = compute_fluxes(sim)"
   ]
  },
  {
   "cell_type": "code",
   "execution_count": 28,
   "metadata": {
    "collapsed": false
   },
   "outputs": [],
   "source": [
    "sim.get_field()"
   ]
  },
  {
   "cell_type": "code",
   "execution_count": 29,
   "metadata": {
    "collapsed": false
   },
   "outputs": [
    {
     "name": "stdout",
     "output_type": "stream",
     "text": [
      "Layer: Air\n",
      "Layer: Air\n",
      "Layer Start Ind: 0\n",
      "Layer End Ind: 106\n",
      "[ 0.     0.005  0.009  0.014  0.019  0.024  0.028  0.033  0.038  0.043\n",
      "  0.047  0.052  0.057  0.061  0.066  0.071  0.076  0.08   0.085  0.09\n",
      "  0.095  0.099  0.104  0.109  0.114  0.118  0.123  0.128  0.132  0.137\n",
      "  0.142  0.147  0.151  0.156  0.161  0.166  0.17   0.175  0.18   0.184\n",
      "  0.189  0.194  0.199  0.203  0.208  0.213  0.218  0.222  0.227  0.232\n",
      "  0.237  0.241  0.246  0.251  0.255  0.26   0.265  0.27   0.274  0.279\n",
      "  0.284  0.289  0.293  0.298  0.303  0.307  0.312  0.317  0.322  0.326\n",
      "  0.331  0.336  0.341  0.345  0.35   0.355  0.36   0.364  0.369  0.374\n",
      "  0.378  0.383  0.388  0.393  0.397  0.402  0.407  0.412  0.416  0.421\n",
      "  0.426  0.43   0.435  0.44   0.445  0.449  0.454  0.459  0.464  0.468\n",
      "  0.473  0.478  0.482  0.487  0.492  0.497]\n"
     ]
    },
    {
     "data": {
      "text/latex": [
       "$P_{abs} = \\frac{\\omega}{2} Im(\\epsilon) \\int |E|^2 dV = 0.0$"
      ]
     },
     "metadata": {},
     "output_type": "display_data"
    },
    {
     "name": "stdout",
     "output_type": "stream",
     "text": [
      "Layer: ITO\n",
      "Layer: ITO\n",
      "Layer Start Ind: 106\n",
      "Layer End Ind: 170\n",
      "[ 0.501  0.506  0.511  0.516  0.52   0.525  0.53   0.535  0.539  0.544\n",
      "  0.549  0.553  0.558  0.563  0.568  0.572  0.577  0.582  0.587  0.591\n",
      "  0.596  0.601  0.605  0.61   0.615  0.62   0.624  0.629  0.634  0.639\n",
      "  0.643  0.648  0.653  0.658  0.662  0.667  0.672  0.676  0.681  0.686\n",
      "  0.691  0.695  0.7    0.705  0.71   0.714  0.719  0.724  0.728  0.733\n",
      "  0.738  0.743  0.747  0.752  0.757  0.762  0.766  0.771  0.776  0.781\n",
      "  0.785  0.79   0.795  0.799]\n"
     ]
    },
    {
     "data": {
      "text/latex": [
       "$P_{abs} = \\frac{\\omega}{2} Im(\\epsilon) \\int |E|^2 dV = 3.876789678546686e-05$"
      ]
     },
     "metadata": {},
     "output_type": "display_data"
    },
    {
     "name": "stdout",
     "output_type": "stream",
     "text": [
      "Layer: NW_AlShell\n",
      "Layer: NW_AlShell\n",
      "Layer Start Ind: 170\n",
      "Layer End Ind: 438\n",
      "[ 0.804  0.809  0.814  0.818  0.823  0.828  0.833  0.837  0.842  0.847\n",
      "  0.851  0.856  0.861  0.866  0.87   0.875  0.88   0.885  0.889  0.894\n",
      "  0.899  0.903  0.908  0.913  0.918  0.922  0.927  0.932  0.937  0.941\n",
      "  0.946  0.951  0.956  0.96   0.965  0.97   0.974  0.979  0.984  0.989\n",
      "  0.993  0.998  1.003  1.008  1.012  1.017  1.022  1.026  1.031  1.036\n",
      "  1.041  1.045  1.05   1.055  1.06   1.064  1.069  1.074  1.079  1.083\n",
      "  1.088  1.093  1.097  1.102  1.107  1.112  1.116  1.121  1.126  1.131\n",
      "  1.135  1.14   1.145  1.149  1.154  1.159  1.164  1.168  1.173  1.178\n",
      "  1.183  1.187  1.192  1.197  1.202  1.206  1.211  1.216  1.22   1.225\n",
      "  1.23   1.235  1.239  1.244  1.249  1.254  1.258  1.263  1.268  1.272\n",
      "  1.277  1.282  1.287  1.291  1.296  1.301  1.306  1.31   1.315  1.32\n",
      "  1.324  1.329  1.334  1.339  1.343  1.348  1.353  1.358  1.362  1.367\n",
      "  1.372  1.377  1.381  1.386  1.391  1.395  1.4    1.405  1.41   1.414\n",
      "  1.419  1.424  1.429  1.433  1.438  1.443  1.447  1.452  1.457  1.462\n",
      "  1.466  1.471  1.476  1.481  1.485  1.49   1.495  1.5    1.504  1.509\n",
      "  1.514  1.518  1.523  1.528  1.533  1.537  1.542  1.547  1.552  1.556\n",
      "  1.561  1.566  1.57   1.575  1.58   1.585  1.589  1.594  1.599  1.604\n",
      "  1.608  1.613  1.618  1.623  1.627  1.632  1.637  1.641  1.646  1.651\n",
      "  1.656  1.66   1.665  1.67   1.675  1.679  1.684  1.689  1.693  1.698\n",
      "  1.703  1.708  1.712  1.717  1.722  1.727  1.731  1.736  1.741  1.746\n",
      "  1.75   1.755  1.76   1.764  1.769  1.774  1.779  1.783  1.788  1.793\n",
      "  1.798  1.802  1.807  1.812  1.816  1.821  1.826  1.831  1.835  1.84\n",
      "  1.845  1.85   1.854  1.859  1.864  1.868  1.873  1.878  1.883  1.887\n",
      "  1.892  1.897  1.902  1.906  1.911  1.916  1.921  1.925  1.93   1.935\n",
      "  1.939  1.944  1.949  1.954  1.958  1.963  1.968  1.973  1.977  1.982\n",
      "  1.987  1.991  1.996  2.001  2.006  2.01   2.015  2.02   2.025  2.029\n",
      "  2.034  2.039  2.044  2.048  2.053  2.058  2.062  2.067]\n"
     ]
    },
    {
     "data": {
      "text/latex": [
       "$P_{abs} = \\frac{\\omega}{2} Im(\\epsilon) \\int |E|^2 dV = 0.0003707218736060935$"
      ]
     },
     "metadata": {},
     "output_type": "display_data"
    },
    {
     "name": "stdout",
     "output_type": "stream",
     "text": [
      "Layer: Substrate\n",
      "Layer: Substrate\n",
      "Layer Start Ind: 438\n",
      "Layer End Ind: 649\n",
      "[ 2.072  2.077  2.081  2.086  2.091  2.096  2.1    2.105  2.11   2.114\n",
      "  2.119  2.124  2.129  2.133  2.138  2.143  2.148  2.152  2.157  2.162\n",
      "  2.167  2.171  2.176  2.181  2.185  2.19   2.195  2.2    2.204  2.209\n",
      "  2.214  2.219  2.223  2.228  2.233  2.237  2.242  2.247  2.252  2.256\n",
      "  2.261  2.266  2.271  2.275  2.28   2.285  2.289  2.294  2.299  2.304\n",
      "  2.308  2.313  2.318  2.323  2.327  2.332  2.337  2.342  2.346  2.351\n",
      "  2.356  2.36   2.365  2.37   2.375  2.379  2.384  2.389  2.394  2.398\n",
      "  2.403  2.408  2.412  2.417  2.422  2.427  2.431  2.436  2.441  2.446\n",
      "  2.45   2.455  2.46   2.465  2.469  2.474  2.479  2.483  2.488  2.493\n",
      "  2.498  2.502  2.507  2.512  2.517  2.521  2.526  2.531  2.535  2.54\n",
      "  2.545  2.55   2.554  2.559  2.564  2.569  2.573  2.578  2.583  2.588\n",
      "  2.592  2.597  2.602  2.606  2.611  2.616  2.621  2.625  2.63   2.635\n",
      "  2.64   2.644  2.649  2.654  2.658  2.663  2.668  2.673  2.677  2.682\n",
      "  2.687  2.692  2.696  2.701  2.706  2.71   2.715  2.72   2.725  2.729\n",
      "  2.734  2.739  2.744  2.748  2.753  2.758  2.763  2.767  2.772  2.777\n",
      "  2.781  2.786  2.791  2.796  2.8    2.805  2.81   2.815  2.819  2.824\n",
      "  2.829  2.833  2.838  2.843  2.848  2.852  2.857  2.862  2.867  2.871\n",
      "  2.876  2.881  2.886  2.89   2.895  2.9    2.904  2.909  2.914  2.919\n",
      "  2.923  2.928  2.933  2.938  2.942  2.947  2.952  2.956  2.961  2.966\n",
      "  2.971  2.975  2.98   2.985  2.99   2.994  2.999  3.004  3.009  3.013\n",
      "  3.018  3.023  3.027  3.032  3.037  3.042  3.046  3.051  3.056  3.061\n",
      "  3.065]\n"
     ]
    },
    {
     "data": {
      "text/latex": [
       "$P_{abs} = \\frac{\\omega}{2} Im(\\epsilon) \\int |E|^2 dV = 0.00018024938435423017$"
      ]
     },
     "metadata": {},
     "output_type": "display_data"
    }
   ],
   "source": [
    "sim_proc = Simulation(simulator=sim)\n",
    "freq = sim_proc.conf[('Simulation', 'params', 'frequency','value')]\n",
    "try:\n",
    "    Esq = sim_proc.data['normEsquared']\n",
    "except KeyError:\n",
    "    Esq = sim_proc.normEsquared()\n",
    "abs_dict_intmethod = {}\n",
    "for layer_name, layer_obj in sim_proc.layers.items():\n",
    "    print(\"Layer: {}\".format(layer_name))\n",
    "    base_unit = sim_proc.conf[('Simulation', 'base_unit')]\n",
    "    n_mat, k_mat = layer_obj.get_nk_matrix(freq)\n",
    "    # n and k could be functions of space, so we need to multiply the\n",
    "    # fields by n and k before integrating\n",
    "    res = integrate(Esq*n_mat*k_mat,layer_obj, sim_proc)\n",
    "    p_abs_imag = 2*np.pi*freq*consts.epsilon_0*res*base_unit\n",
    "    abs_dict_intmethod[layer_name] = p_abs_imag\n",
    "    disp.display_latex(\"$P_{abs} = \\\\frac{\\omega}{2} Im(\\epsilon) \\int |E|^2 dV\"+\" = {}$\".format(p_abs_imag), raw=True)"
   ]
  },
  {
   "cell_type": "code",
   "execution_count": 30,
   "metadata": {
    "collapsed": false
   },
   "outputs": [
    {
     "name": "stdout",
     "output_type": "stream",
     "text": [
      "{'ITO': (3.9515459455536426e-05+0j), 'Air': 0j, 'Substrate': (0.00018310400238057134+0j), 'NW_AlShell': (0.0003526654852388597+0j)}\n",
      "{'Substrate': 0.00018024938435423017, 'Air': 0.0, 'ITO': 3.876789678546686e-05, 'NW_AlShell': 0.00037072187360609352}\n"
     ]
    }
   ],
   "source": [
    "print(abs_dict_fluxmethod)\n",
    "print(abs_dict_intmethod)"
   ]
  },
  {
   "cell_type": "code",
   "execution_count": 31,
   "metadata": {
    "collapsed": false
   },
   "outputs": [
    {
     "name": "stdout",
     "output_type": "stream",
     "text": [
      "-------------------------\n",
      "Layer: ITO\n",
      "Flux Method: (3.9515459455536426e-05+0j)\n",
      "Integral Method: 3.876789678546686e-05\n",
      "Diff: (7.475626700695657e-07+0j)\n",
      "Percent Diff: (1.8918233024994635+0j)\n",
      "-------------------------\n",
      "Layer: Air\n",
      "Flux Method: 0j\n",
      "Integral Method: 0.0\n",
      "Diff: 0j\n",
      "Percent Diff: None\n",
      "-------------------------\n",
      "Layer: Substrate\n",
      "Flux Method: (0.00018310400238057134+0j)\n",
      "Integral Method: 0.00018024938435423017\n",
      "Diff: (2.8546180263411736e-06+0j)\n",
      "Percent Diff: (1.5590145432255549+0j)\n",
      "-------------------------\n",
      "Layer: NW_AlShell\n",
      "Flux Method: (0.0003526654852388597+0j)\n",
      "Integral Method: 0.0003707218736060935\n",
      "Diff: (-1.805638836723379e-05+0j)\n",
      "Percent Diff: (5.11997604614022+0j)\n"
     ]
    }
   ],
   "source": [
    "for key in abs_dict_fluxmethod.keys():\n",
    "    fm = abs_dict_fluxmethod[key]\n",
    "    im = abs_dict_intmethod[key]\n",
    "    diff = fm - im\n",
    "    try:\n",
    "        pdiff = 100*abs(diff)/fm\n",
    "    except ZeroDivisionError:\n",
    "        pdiff = None\n",
    "        pass\n",
    "    print('-'*25)\n",
    "    print(\"Layer: {}\".format(key))\n",
    "    print(\"Flux Method: {}\".format(fm))\n",
    "    print(\"Integral Method: {}\".format(im))\n",
    "    print(\"Diff: {}\".format(diff))\n",
    "    print(\"Percent Diff: {}\".format(pdiff))"
   ]
  },
  {
   "cell_type": "markdown",
   "metadata": {},
   "source": [
    "## Include Endpoints"
   ]
  },
  {
   "cell_type": "code",
   "execution_count": 32,
   "metadata": {
    "collapsed": false
   },
   "outputs": [
    {
     "name": "stdout",
     "output_type": "stream",
     "text": [
      "Layer: Air\n"
     ]
    },
    {
     "data": {
      "text/latex": [
       "$P_{abs} = \\frac{\\omega}{2} Im(\\epsilon) \\int |E|^2 dV = 0.0$"
      ]
     },
     "metadata": {},
     "output_type": "display_data"
    },
    {
     "name": "stdout",
     "output_type": "stream",
     "text": [
      "Layer: ITO\n"
     ]
    },
    {
     "data": {
      "text/latex": [
       "$P_{abs} = \\frac{\\omega}{2} Im(\\epsilon) \\int |E|^2 dV = 3.9774638267227586e-05$"
      ]
     },
     "metadata": {},
     "output_type": "display_data"
    },
    {
     "name": "stdout",
     "output_type": "stream",
     "text": [
      "Layer: NW_AlShell\n"
     ]
    },
    {
     "data": {
      "text/latex": [
       "$P_{abs} = \\frac{\\omega}{2} Im(\\epsilon) \\int |E|^2 dV = 0.00037211066850548647$"
      ]
     },
     "metadata": {},
     "output_type": "display_data"
    },
    {
     "name": "stdout",
     "output_type": "stream",
     "text": [
      "Layer: Substrate\n"
     ]
    },
    {
     "data": {
      "text/latex": [
       "$P_{abs} = \\frac{\\omega}{2} Im(\\epsilon) \\int |E|^2 dV = 0.000182865401882907$"
      ]
     },
     "metadata": {},
     "output_type": "display_data"
    }
   ],
   "source": [
    "sim_proc = Simulation(simulator=sim)\n",
    "freq = sim_proc.conf[('Simulation', 'params', 'frequency','value')]\n",
    "try:\n",
    "    Esq = sim_proc.data['normEsquared']\n",
    "except KeyError:\n",
    "    Esq = sim_proc.normEsquared()\n",
    "abs_dict_intmethod = {}\n",
    "for layer_name, layer_obj in sim_proc.layers.items():\n",
    "    print(\"Layer: {}\".format(layer_name))\n",
    "    base_unit = sim_proc.conf[('Simulation', 'base_unit')]\n",
    "    n_mat, k_mat = layer_obj.get_nk_matrix(freq)\n",
    "    # n and k could be functions of space, so we need to multiply the\n",
    "    # fields by n and k before integrating\n",
    "    res = integrate_endpoints(Esq*n_mat*k_mat,layer_obj, sim_proc)\n",
    "    p_abs_imag = 2*np.pi*freq*consts.epsilon_0*res*base_unit\n",
    "    abs_dict_intmethod[layer_name] = p_abs_imag\n",
    "    disp.display_latex(\"$P_{abs} = \\\\frac{\\omega}{2} Im(\\epsilon) \\int |E|^2 dV\"+\" = {}$\".format(p_abs_imag), raw=True)"
   ]
  },
  {
   "cell_type": "code",
   "execution_count": 33,
   "metadata": {
    "collapsed": false
   },
   "outputs": [
    {
     "name": "stdout",
     "output_type": "stream",
     "text": [
      "{'ITO': (3.9515459455536426e-05+0j), 'Air': 0j, 'Substrate': (0.00018310400238057134+0j), 'NW_AlShell': (0.0003526654852388597+0j)}\n",
      "{'Substrate': 0.00018286540188290699, 'Air': 0.0, 'ITO': 3.9774638267227586e-05, 'NW_AlShell': 0.00037211066850548647}\n"
     ]
    }
   ],
   "source": [
    "print(abs_dict_fluxmethod)\n",
    "print(abs_dict_intmethod)"
   ]
  },
  {
   "cell_type": "code",
   "execution_count": 34,
   "metadata": {
    "collapsed": false
   },
   "outputs": [
    {
     "name": "stdout",
     "output_type": "stream",
     "text": [
      "-------------------------\n",
      "Layer: ITO\n",
      "Flux Method: (3.9515459455536426e-05+0j)\n",
      "Integral Method: 3.9774638267227586e-05\n",
      "Diff: (-2.5917881169116056e-07+0j)\n",
      "Percent Diff: (0.6558921881771201+0j)\n",
      "-------------------------\n",
      "Layer: Air\n",
      "Flux Method: 0j\n",
      "Integral Method: 0.0\n",
      "Diff: 0j\n",
      "Percent Diff: None\n",
      "-------------------------\n",
      "Layer: Substrate\n",
      "Flux Method: (0.00018310400238057134+0j)\n",
      "Integral Method: 0.000182865401882907\n",
      "Diff: (2.386004976643501e-07+0j)\n",
      "Percent Diff: (0.13030872868001675+0j)\n",
      "-------------------------\n",
      "Layer: NW_AlShell\n",
      "Flux Method: (0.0003526654852388597+0j)\n",
      "Integral Method: 0.00037211066850548647\n",
      "Diff: (-1.9445183266626742e-05+0j)\n",
      "Percent Diff: (5.513775540993628+0j)\n"
     ]
    }
   ],
   "source": [
    "for key in abs_dict_fluxmethod.keys():\n",
    "    fm = abs_dict_fluxmethod[key]\n",
    "    im = abs_dict_intmethod[key]\n",
    "    diff = fm - im\n",
    "    try:\n",
    "        pdiff = 100*abs(diff)/fm\n",
    "    except ZeroDivisionError:\n",
    "        pdiff = None\n",
    "        pass\n",
    "    print('-'*25)\n",
    "    print(\"Layer: {}\".format(key))\n",
    "    print(\"Flux Method: {}\".format(fm))\n",
    "    print(\"Integral Method: {}\".format(im))\n",
    "    print(\"Diff: {}\".format(diff))\n",
    "    print(\"Percent Diff: {}\".format(pdiff))"
   ]
  },
  {
   "cell_type": "markdown",
   "metadata": {
    "heading_collapsed": true
   },
   "source": [
    "# NW no Shell"
   ]
  },
  {
   "cell_type": "code",
   "execution_count": null,
   "metadata": {
    "collapsed": false,
    "hidden": true
   },
   "outputs": [],
   "source": [
    "conf = Config('AbsorptionTestnoshell.yml')\n",
    "sim = Simulator(conf)\n",
    "sim = setup_sim(sim)\n",
    "Zo = consts.physical_constants['characteristic impedance of vacuum'][0]"
   ]
  },
  {
   "cell_type": "code",
   "execution_count": null,
   "metadata": {
    "collapsed": false,
    "hidden": true
   },
   "outputs": [],
   "source": [
    "sim.get_fluxes()"
   ]
  },
  {
   "cell_type": "code",
   "execution_count": null,
   "metadata": {
    "collapsed": false,
    "hidden": true
   },
   "outputs": [],
   "source": [
    "abs_dict_fluxmethod = compute_fluxes(sim)"
   ]
  },
  {
   "cell_type": "code",
   "execution_count": null,
   "metadata": {
    "collapsed": false,
    "hidden": true
   },
   "outputs": [],
   "source": [
    "sim.get_field()"
   ]
  },
  {
   "cell_type": "code",
   "execution_count": null,
   "metadata": {
    "collapsed": false,
    "hidden": true
   },
   "outputs": [],
   "source": [
    "sim_proc = Simulation(simulator=sim)\n",
    "freq = sim_proc.conf[('Simulation', 'params', 'frequency','value')]\n",
    "try:\n",
    "    Esq = sim_proc.data['normEsquared']\n",
    "except KeyError:\n",
    "    Esq = sim_proc.normEsquared()\n",
    "abs_dict_intmethod = {}\n",
    "for layer_name, layer_obj in sim_proc.layers.items():\n",
    "    print(\"Layer: {}\".format(layer_name))\n",
    "    base_unit = sim_proc.conf[('Simulation', 'base_unit')]\n",
    "    n_mat, k_mat = layer_obj.get_nk_matrix(freq)\n",
    "    # n and k could be functions of space, so we need to multiply the\n",
    "    # fields by n and k before integrating\n",
    "    res = integrate(Esq*n_mat*k_mat,layer_obj, sim_proc)\n",
    "    p_abs_imag = 2*np.pi*freq*consts.epsilon_0*res*base_unit\n",
    "    abs_dict_intmethod[layer_name] = p_abs_imag\n",
    "    disp.display_latex(\"$P_{abs} = \\\\frac{\\omega}{2} Im(\\epsilon) \\int |E|^2 dV\"+\" = {}$\".format(p_abs_imag), raw=True)"
   ]
  },
  {
   "cell_type": "code",
   "execution_count": null,
   "metadata": {
    "collapsed": false,
    "hidden": true
   },
   "outputs": [],
   "source": [
    "print(abs_dict_fluxmethod)\n",
    "print(abs_dict_intmethod)"
   ]
  },
  {
   "cell_type": "code",
   "execution_count": null,
   "metadata": {
    "collapsed": false,
    "hidden": true
   },
   "outputs": [],
   "source": [
    "for key in abs_dict_fluxmethod.keys():\n",
    "    fm = abs_dict_fluxmethod[key]\n",
    "    im = abs_dict_intmethod[key]\n",
    "    diff = fm - im\n",
    "    try:\n",
    "        pdiff = 100*abs(diff)/fm\n",
    "    except ZeroDivisionError:\n",
    "        pdiff = None\n",
    "        pass\n",
    "    print('-'*25)\n",
    "    print(\"Layer: {}\".format(key))\n",
    "    print(\"Flux Method: {}\".format(fm))\n",
    "    print(\"Integral Method: {}\".format(im))\n",
    "    print(\"Diff: {}\".format(diff))\n",
    "    print(\"Percent Diff: {}\".format(pdiff))"
   ]
  },
  {
   "cell_type": "code",
   "execution_count": null,
   "metadata": {
    "collapsed": false,
    "hidden": true
   },
   "outputs": [],
   "source": [
    "print(sim.data['fluxes'])"
   ]
  },
  {
   "cell_type": "code",
   "execution_count": null,
   "metadata": {
    "collapsed": false,
    "hidden": true
   },
   "outputs": [],
   "source": [
    "print(sim.flux_dict)"
   ]
  },
  {
   "cell_type": "code",
   "execution_count": null,
   "metadata": {
    "collapsed": false,
    "hidden": true
   },
   "outputs": [],
   "source": [
    "simulation = Simulation(simulator=sim)\n",
    "print(simulation.data['fluxes'])\n",
    "print(simulation.layers)"
   ]
  },
  {
   "cell_type": "code",
   "execution_count": null,
   "metadata": {
    "collapsed": false,
    "hidden": true
   },
   "outputs": [],
   "source": [
    "alist = [1., 2., 3.]\n",
    "print('{}, {}, {}, {}'.format('test', *alist))"
   ]
  },
  {
   "cell_type": "code",
   "execution_count": null,
   "metadata": {
    "collapsed": false,
    "hidden": true
   },
   "outputs": [],
   "source": []
  }
 ],
 "metadata": {
  "kernelspec": {
   "display_name": "nanowire",
   "language": "python",
   "name": "nanowire"
  },
  "language_info": {
   "codemirror_mode": {
    "name": "ipython",
    "version": 3
   },
   "file_extension": ".py",
   "mimetype": "text/x-python",
   "name": "python",
   "nbconvert_exporter": "python",
   "pygments_lexer": "ipython3",
   "version": "3.5.2"
  },
  "toc": {
   "colors": {
    "hover_highlight": "#DAA520",
    "running_highlight": "#FF0000",
    "selected_highlight": "#FFD700"
   },
   "moveMenuLeft": true,
   "nav_menu": {},
   "navigate_menu": true,
   "number_sections": true,
   "sideBar": true,
   "skip_h1_title": false,
   "threshold": 4,
   "toc_cell": false,
   "toc_position": {},
   "toc_section_display": "block",
   "toc_window_display": false
  }
 },
 "nbformat": 4,
 "nbformat_minor": 2
}
