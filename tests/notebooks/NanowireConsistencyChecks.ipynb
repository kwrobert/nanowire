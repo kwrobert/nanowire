{
 "cells": [
  {
   "cell_type": "code",
   "execution_count": 1,
   "metadata": {},
   "outputs": [],
   "source": [
    "import os\n",
    "import numpy as np\n",
    "from nanowire.optics.simulate import Simulator\n",
    "from nanowire.optics.postprocess import Simulation\n",
    "from nanowire.optics.utils.utils import setup_sim\n",
    "from nanowire.optics.utils.config import Config\n",
    "import scipy.constants as consts\n",
    "import scipy.integrate as intg\n",
    "import IPython.display as disp\n",
    "import matplotlib.pyplot as plt\n",
    "%load_ext autoreload \n",
    "%autoreload 2"
   ]
  },
  {
   "cell_type": "code",
   "execution_count": 2,
   "metadata": {},
   "outputs": [],
   "source": [
    "conf = Config('AbsorptionTest.yml')\n",
    "sim = Simulator(conf)\n",
    "sim = setup_sim(sim)\n",
    "Zo = consts.physical_constants['characteristic impedance of vacuum'][0]"
   ]
  },
  {
   "cell_type": "code",
   "execution_count": 3,
   "metadata": {},
   "outputs": [],
   "source": [
    "fluxes = sim.get_fluxes()"
   ]
  },
  {
   "cell_type": "code",
   "execution_count": 4,
   "metadata": {},
   "outputs": [
    {
     "name": "stdout",
     "output_type": "stream",
     "text": [
      "Total Incident Power = 0.00016590117058987953\n",
      "Total Reflected Power = 1.290540089566545e-05\n",
      "Total Transmitted Power = 7.410460196401563e-06\n",
      "Total Absorbed Power = 0.00014558530949781252\n"
     ]
    }
   ],
   "source": [
    "total_incident_power = .5*sim.period**2/Zo*np.absolute(fluxes['Air'][0])\n",
    "total_reflected_power = .5*sim.period**2/Zo*np.absolute(fluxes['Air'][1])\n",
    "total_transmitted_power = .5*sim.period**2/Zo*np.absolute(sum(fluxes['Substrate_bottom']))\n",
    "total_absorbed_power = total_incident_power - total_reflected_power - total_transmitted_power\n",
    "print('Total Incident Power = {}'.format(total_incident_power))\n",
    "print('Total Reflected Power = {}'.format(total_reflected_power))\n",
    "print('Total Transmitted Power = {}'.format(total_transmitted_power))\n",
    "print('Total Absorbed Power = {}'.format(total_absorbed_power))"
   ]
  },
  {
   "cell_type": "code",
   "execution_count": 5,
   "metadata": {},
   "outputs": [
    {
     "name": "stdout",
     "output_type": "stream",
     "text": [
      "-------------------------\n",
      "Layer: NW_SiO2\n",
      "Forward Top: (0.6415681690545958-0.002683480964878013j)\n",
      "Backward Top: (-0.054474731321943956+0.002683480964878013j)\n",
      "Forward Bottom: (0.632688624556471-0.0003835546834251788j)\n",
      "Backward Bottom: (-0.05485000039465573+0.0003835546834251788j)\n",
      "Power Entering Layer: (0.6964181694492515-0.0030670356483031916j)\n",
      "Power Leaving Layer: (0.6871633558784149-0.0030670356483031916j)\n",
      "Absorbed in Layer: (7.676922024964452e-07+0j)\n",
      "-------------------------\n",
      "Layer: Air\n",
      "Forward Top: (2+0j)\n",
      "Backward Top: (-0.15557938319276354+0j)\n",
      "Forward Bottom: (2+0j)\n",
      "Backward Bottom: (-0.15557938319276352+0j)\n",
      "Power Entering Layer: (2.1555793831927637+0j)\n",
      "Power Leaving Layer: (2.1555793831927637+0j)\n",
      "Absorbed in Layer: 0j\n",
      "-------------------------\n",
      "Layer: ITO\n",
      "Forward Top: (1.911743947569879+0.0008713251712626491j)\n",
      "Backward Top: (-0.06732333076256294-0.0008713251712626491j)\n",
      "Forward Bottom: (1.7901404153159508-0.0023688997496048164j)\n",
      "Backward Bottom: (-0.06949267936052105+0.0023688997496048164j)\n",
      "Power Entering Layer: (1.9812366269304-0.0014975745783421673j)\n",
      "Power Leaving Layer: (1.8574637460785137-0.0014975745783421673j)\n",
      "Absorbed in Layer: (1.0267032910304812e-05+0j)\n",
      "-------------------------\n",
      "Layer: NW_AlShell\n",
      "Forward Top: (1.7313777694256565-0.0021892601347096793j)\n",
      "Backward Top: (-0.010730033470238865+0.0021892601347096793j)\n",
      "Forward Bottom: (0.6199840123151336-0.0035553800448866954j)\n",
      "Backward Bottom: (-0.03289057458248516+0.0035553800448866954j)\n",
      "Power Entering Layer: (1.7642683440081417-0.005744640179596375j)\n",
      "Power Leaving Layer: (0.6307140457853724-0.005744640179596375j)\n",
      "Absorbed in Layer: (9.402899250117341e-05+0j)\n",
      "-------------------------\n",
      "Layer: Substrate\n",
      "Forward Top: (0.5778386241618029+0j)\n",
      "Backward Top: 0j\n",
      "Forward Bottom: (0.08933583976596272+0j)\n",
      "Backward Bottom: 0j\n",
      "Power Entering Layer: (0.5778386241618029+0j)\n",
      "Power Leaving Layer: (0.08933583976596272+0j)\n",
      "Absorbed in Layer: (4.0521591883842706e-05+0j)\n",
      "-------------------------\n",
      "Summed Absorption= (0.00014558530949781737+0j)\n"
     ]
    }
   ],
   "source": [
    "summed_absorbed_power = 0\n",
    "abs_dict_fluxmethod = {}\n",
    "for layer, (forw_top, back_top) in fluxes.items():\n",
    "    if '_bottom' in layer:\n",
    "        continue\n",
    "    bottom = layer+'_bottom'\n",
    "    forw_bot, back_bot = fluxes[bottom] \n",
    "    print('-'*25)\n",
    "    print('Layer: {}'.format(layer))\n",
    "    print('Forward Top: {}'.format(forw_top))\n",
    "    print('Backward Top: {}'.format(back_top))\n",
    "    print('Forward Bottom: {}'.format(forw_bot))\n",
    "    print('Backward Bottom: {}'.format(back_bot))\n",
    "    P_in = forw_top + -1*back_bot\n",
    "    P_out = forw_bot + -1*back_top\n",
    "    print('Power Entering Layer: {}'.format(P_in))\n",
    "    print('Power Leaving Layer: {}'.format(P_out))\n",
    "    P_lost = P_in - P_out\n",
    "    P_abs = .5*P_lost*(sim.period**2)/Zo\n",
    "    abs_dict_fluxmethod[layer] = P_abs \n",
    "    print('Absorbed in Layer: {}'.format(P_abs))\n",
    "    summed_absorbed_power += P_abs\n",
    "print('-'*25)\n",
    "print('Summed Absorption= {}'.format(summed_absorbed_power))"
   ]
  },
  {
   "cell_type": "code",
   "execution_count": 6,
   "metadata": {},
   "outputs": [],
   "source": [
    "def integrate(arr, layer_obj, sim_proc):\n",
    "    arr_slice = arr[layer_obj.slice]\n",
    "    zsamps = layer_obj.iend - layer_obj.istart\n",
    "    z_vals = np.linspace(0, layer_obj.thickness, zsamps)\n",
    "    x_vals = np.linspace(0, sim_proc.period, sim_proc.x_samples)\n",
    "    y_vals = np.linspace(0, sim_proc.period, sim_proc.y_samples)\n",
    "    z_integral = intg.trapz(arr_slice, x=z_vals, axis=0)\n",
    "    x_integral = intg.trapz(z_integral, x=x_vals, axis=0)\n",
    "    y_integral = intg.trapz(x_integral, x=y_vals, axis=0)\n",
    "    return y_integral"
   ]
  },
  {
   "cell_type": "code",
   "execution_count": 7,
   "metadata": {},
   "outputs": [],
   "source": [
    "sim.get_field()"
   ]
  },
  {
   "cell_type": "code",
   "execution_count": 8,
   "metadata": {},
   "outputs": [
    {
     "name": "stdout",
     "output_type": "stream",
     "text": [
      "Layer: Air\n"
     ]
    },
    {
     "ename": "NameError",
     "evalue": "name 'si_freq' is not defined",
     "output_type": "error",
     "traceback": [
      "\u001b[0;31m-----------------------------------------------------------------------\u001b[0m",
      "\u001b[0;31mNameError\u001b[0m                             Traceback (most recent call last)",
      "\u001b[0;32m<ipython-input-8-04f041637315>\u001b[0m in \u001b[0;36m<module>\u001b[0;34m()\u001b[0m\n\u001b[1;32m      9\u001b[0m     \u001b[0mprint\u001b[0m\u001b[0;34m(\u001b[0m\u001b[0;34m\"Layer: {}\"\u001b[0m\u001b[0;34m.\u001b[0m\u001b[0mformat\u001b[0m\u001b[0;34m(\u001b[0m\u001b[0mlayer_name\u001b[0m\u001b[0;34m)\u001b[0m\u001b[0;34m)\u001b[0m\u001b[0;34m\u001b[0m\u001b[0m\n\u001b[1;32m     10\u001b[0m     \u001b[0mbase_unit\u001b[0m \u001b[0;34m=\u001b[0m \u001b[0msim_proc\u001b[0m\u001b[0;34m.\u001b[0m\u001b[0mconf\u001b[0m\u001b[0;34m[\u001b[0m\u001b[0;34m(\u001b[0m\u001b[0;34m'Simulation'\u001b[0m\u001b[0;34m,\u001b[0m \u001b[0;34m'base_unit'\u001b[0m\u001b[0;34m)\u001b[0m\u001b[0;34m]\u001b[0m\u001b[0;34m\u001b[0m\u001b[0m\n\u001b[0;32m---> 11\u001b[0;31m     \u001b[0mn_mat\u001b[0m\u001b[0;34m,\u001b[0m \u001b[0mk_mat\u001b[0m \u001b[0;34m=\u001b[0m \u001b[0mlayer_obj\u001b[0m\u001b[0;34m.\u001b[0m\u001b[0mget_nk_matrix\u001b[0m\u001b[0;34m(\u001b[0m\u001b[0msi_freq\u001b[0m\u001b[0;34m)\u001b[0m\u001b[0;34m\u001b[0m\u001b[0m\n\u001b[0m\u001b[1;32m     12\u001b[0m     \u001b[0;31m# n and k could be functions of space, so we need to multiply the\u001b[0m\u001b[0;34m\u001b[0m\u001b[0;34m\u001b[0m\u001b[0m\n\u001b[1;32m     13\u001b[0m     \u001b[0;31m# fields by n and k before integrating\u001b[0m\u001b[0;34m\u001b[0m\u001b[0;34m\u001b[0m\u001b[0m\n",
      "\u001b[0;31mNameError\u001b[0m: name 'si_freq' is not defined"
     ]
    }
   ],
   "source": [
    "sim_proc = Simulation(simulator=sim)\n",
    "freq = sim_proc.conf[('Simulation', 'params', 'frequency','value')]\n",
    "try:\n",
    "    Esq = sim_proc.data['normEsquared']\n",
    "except KeyError:\n",
    "    Esq = sim_proc.normEsquared()\n",
    "abs_dict_intmethod = {}\n",
    "for layer_name, layer_obj in sim_proc.layers.items():\n",
    "    print(\"Layer: {}\".format(layer_name))\n",
    "    base_unit = sim_proc.conf[('Simulation', 'base_unit')]\n",
    "    n_mat, k_mat = layer_obj.get_nk_matrix(si_freq)\n",
    "    # n and k could be functions of space, so we need to multiply the\n",
    "    # fields by n and k before integrating\n",
    "    res = integrate(Esq*n_mat*k_mat,layer_obj, sim_proc)\n",
    "    p_abs_imag = 2*np.pi*freq*consts.epsilon_0*res*base_unit\n",
    "    abs_dict_intmethod[layer_name] = p_abs_imag\n",
    "    disp.display_latex(\"$P_{abs} = \\\\frac{\\omega}{2} Im(\\epsilon) \\int |E|^2 dV\"+\" = {}$\".format(p_abs_imag), raw=True)"
   ]
  },
  {
   "cell_type": "code",
   "execution_count": null,
   "metadata": {},
   "outputs": [],
   "source": [
    "print(abs_dict_fluxmethod)\n",
    "print(abs_dict_intmethod)"
   ]
  },
  {
   "cell_type": "code",
   "execution_count": null,
   "metadata": {},
   "outputs": [],
   "source": [
    "for key in abs_dict_fluxmethod.keys():\n",
    "    fm = abs_dict_fluxmethod[key]\n",
    "    im = abs_dict_intmethod[key]\n",
    "    diff = fm - im\n",
    "    try:\n",
    "        pdiff = 100*abs(diff)/fm\n",
    "    except ZeroDivisionError:\n",
    "        pdiff = None\n",
    "        pass\n",
    "    print('-'*25)\n",
    "    print(\"Layer: {}\".format(key))\n",
    "    print(\"Flux Method: {}\".format(fm))\n",
    "    print(\"Integral Method: {}\".format(im))\n",
    "    print(\"Diff: {}\".format(diff))\n",
    "    print(\"Percent Diff: {}\".format(pdiff))"
   ]
  },
  {
   "cell_type": "code",
   "execution_count": null,
   "metadata": {},
   "outputs": [],
   "source": []
  }
 ],
 "metadata": {
  "kernelspec": {
   "display_name": "nanowire",
   "language": "python",
   "name": "nanowire"
  },
  "language_info": {
   "codemirror_mode": {
    "name": "ipython",
    "version": 3
   },
   "file_extension": ".py",
   "mimetype": "text/x-python",
   "name": "python",
   "nbconvert_exporter": "python",
   "pygments_lexer": "ipython3",
   "version": "3.5.2"
  },
  "toc": {
   "nav_menu": {},
   "number_sections": true,
   "sideBar": true,
   "skip_h1_title": false,
   "toc_cell": false,
   "toc_position": {},
   "toc_section_display": "block",
   "toc_window_display": false
  }
 },
 "nbformat": 4,
 "nbformat_minor": 2
}
