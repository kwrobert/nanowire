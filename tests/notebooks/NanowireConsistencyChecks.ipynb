{
 "cells": [
  {
   "cell_type": "code",
   "execution_count": 1,
   "metadata": {},
   "outputs": [],
   "source": [
    "import os\n",
    "import numpy as np\n",
    "from nanowire.optics.simulate import Simulator\n",
    "from nanowire.optics.postprocess import Simulation\n",
    "from nanowire.optics.utils.utils import setup_sim\n",
    "from nanowire.optics.utils.config import Config\n",
    "import scipy.constants as consts\n",
    "import scipy.integrate as intg\n",
    "import IPython.display as disp\n",
    "import matplotlib.pyplot as plt\n",
    "%load_ext autoreload \n",
    "%autoreload 2"
   ]
  },
  {
   "cell_type": "markdown",
   "metadata": {},
   "source": [
    "# Utility Functions"
   ]
  },
  {
   "cell_type": "code",
   "execution_count": 43,
   "metadata": {},
   "outputs": [],
   "source": [
    "def integrate(arr, layer_obj, sim_proc):\n",
    "    arr_slice = arr[layer_obj.slice]\n",
    "    z_vals = sim_proc.Z[layer_obj.istart:layer_obj.iend]\n",
    "    #print(\"Layer: {}\".format(layer_obj.name))\n",
    "    #print(\"Layer Start Ind: {}\".format(layer_obj.istart))\n",
    "    #print(\"Layer End Ind: {}\".format(layer_obj.iend))\n",
    "    #print(z_vals)\n",
    "    z_integral = intg.trapz(arr_slice, x=z_vals, axis=0)\n",
    "    x_integral = intg.trapz(z_integral, x=sim_proc.X, axis=0)\n",
    "    y_integral = intg.trapz(x_integral, x=sim_proc.Y, axis=0)\n",
    "    return y_integral\n",
    "\n",
    "def integrate_endpoints(arr, layer_obj, sim_proc):\n",
    "    arr_slice = arr[layer_obj.slice]\n",
    "    Nx = arr_slice.shape[1]\n",
    "    Ny = arr_slice.shape[2]\n",
    "    Nz = arr_slice.shape[0]\n",
    "    extended = np.zeros((Nz, Nx+1, Ny+1), dtype=arr_slice.dtype)\n",
    "    extended[:, 0:Nx, 0:Ny] = arr_slice\n",
    "    extended[:, 0:Nx, -1] = arr_slice[:, 0:Nx, 0]\n",
    "    extended[:, -1, 0:Ny] = arr_slice[:, 0, 0:Ny]\n",
    "    extended[:, -1, -1] = arr_slice[:, 0, 0]\n",
    "    zsamps = layer_obj.iend - layer_obj.istart\n",
    "    z_vals = sim_proc.Z[layer_obj.istart:layer_obj.iend]\n",
    "    x_vals = np.append(sim_proc.X, sim_proc.X[-1]+sim_proc.dx)\n",
    "    y_vals = np.append(sim_proc.Y, sim_proc.Y[-1]+sim_proc.dy)\n",
    "    z_integral = intg.trapz(extended, x=z_vals, axis=0)\n",
    "    x_integral = intg.trapz(z_integral, x=x_vals, axis=0)\n",
    "    y_integral = intg.trapz(x_integral, x=y_vals, axis=0)\n",
    "    return y_integral\n",
    "\n",
    "def compute_fluxes(sim):\n",
    "    fluxes = sim.flux_dict\n",
    "    total_incident_power = .5*sim.period**2/Zo*np.absolute(fluxes['Air'][0])\n",
    "    total_reflected_power = .5*sim.period**2/Zo*np.absolute(fluxes['Air'][1])\n",
    "    total_transmitted_power = .5*sim.period**2/Zo*np.absolute(sum(fluxes['Substrate_bottom']))\n",
    "    total_absorbed_power = total_incident_power - total_reflected_power - total_transmitted_power\n",
    "    print('Total Incident Power = {}'.format(total_incident_power))\n",
    "    print('Total Reflected Power = {}'.format(total_reflected_power))\n",
    "    print('Total Transmitted Power = {}'.format(total_transmitted_power))\n",
    "    print('Total Absorbed Power = {}'.format(total_absorbed_power))\n",
    "    summed_absorbed_power = 0\n",
    "    abs_dict_fluxmethod = {}\n",
    "    for layer, (forw_top, back_top) in fluxes.items():\n",
    "        if '_bottom' in layer:\n",
    "            continue\n",
    "        bottom = layer+'_bottom'\n",
    "        forw_bot, back_bot = fluxes[bottom] \n",
    "        print('-'*25)\n",
    "        print('Layer: {}'.format(layer))\n",
    "        print('Forward Top: {}'.format(forw_top))\n",
    "        print('Backward Top: {}'.format(back_top))\n",
    "        print('Forward Bottom: {}'.format(forw_bot))\n",
    "        print('Backward Bottom: {}'.format(back_bot))\n",
    "        P_in = forw_top + -1*back_bot\n",
    "        P_out = forw_bot + -1*back_top\n",
    "        print('Power Entering Layer: {}'.format(P_in))\n",
    "        print('Power Leaving Layer: {}'.format(P_out))\n",
    "        P_lost = P_in - P_out\n",
    "        P_abs = .5*P_lost*(sim.period**2)/Zo\n",
    "        abs_dict_fluxmethod[layer] = P_abs \n",
    "        print('Absorbed in Layer: {}'.format(P_abs))\n",
    "        summed_absorbed_power += P_abs\n",
    "    print('-'*25)\n",
    "    print('Summed Absorption= {}'.format(summed_absorbed_power))\n",
    "    return abs_dict_fluxmethod, summed_absorbed_power"
   ]
  },
  {
   "cell_type": "markdown",
   "metadata": {},
   "source": [
    "# NW w/ Shell"
   ]
  },
  {
   "cell_type": "markdown",
   "metadata": {},
   "source": [
    "## No Endpoints"
   ]
  },
  {
   "cell_type": "code",
   "execution_count": 44,
   "metadata": {},
   "outputs": [],
   "source": [
    "conf = Config('AbsorptionTest.yml')\n",
    "sim = Simulator(conf)\n",
    "sim.setup()\n",
    "Zo = consts.physical_constants['characteristic impedance of vacuum'][0]"
   ]
  },
  {
   "cell_type": "code",
   "execution_count": 45,
   "metadata": {},
   "outputs": [
    {
     "data": {
      "text/plain": [
       "{'Air': ((930.4485521295919+0j), (-80.13269141567162+0j)),\n",
       " 'Air_bottom': ((930.4485521295919+0j), (-80.13269141567159+0j)),\n",
       " 'ITO': ((862.7587246914472-0.002097954481151021j),\n",
       "  (-12.442863977490237+0.002097954481151021j)),\n",
       " 'ITO_bottom': ((807.4789701136685-0.5135047176124203j),\n",
       "  (-12.586816093866625+0.5135047176124203j)),\n",
       " 'NW_AlShell': ((797.789901550103+0.15440143176019916j),\n",
       "  (-2.8977475303095144-0.15440143176019916j)),\n",
       " 'NW_AlShell_bottom': ((286.9173719835523+0.4969888559825204j),\n",
       "  (-9.692889676537526-0.4969888559825204j)),\n",
       " 'Substrate': ((277.2244823070163+0j), 0j),\n",
       " 'Substrate_bottom': ((41.2276166626902+0j), 0j)}"
      ]
     },
     "execution_count": 45,
     "metadata": {},
     "output_type": "execute_result"
    }
   ],
   "source": [
    "sim.get_fluxes()"
   ]
  },
  {
   "cell_type": "code",
   "execution_count": 46,
   "metadata": {
    "scrolled": false
   },
   "outputs": [
    {
     "name": "stdout",
     "output_type": "stream",
     "text": [
      "Total Incident Power = 0.07718125198597892\n",
      "Total Reflected Power = 0.006647053654188756\n",
      "Total Transmitted Power = 0.0034198549324855635\n",
      "Total Absorbed Power = 0.0671143433993046\n",
      "-------------------------\n",
      "Layer: Substrate\n",
      "Forward Top: (277.2244823070163+0j)\n",
      "Backward Top: 0j\n",
      "Forward Bottom: (41.2276166626902+0j)\n",
      "Backward Bottom: 0j\n",
      "Power Entering Layer: (277.2244823070163+0j)\n",
      "Power Leaving Layer: (41.2276166626902+0j)\n",
      "Absorbed in Layer: (0.01957607813296811+0j)\n",
      "-------------------------\n",
      "Layer: Air\n",
      "Forward Top: (930.4485521295919+0j)\n",
      "Backward Top: (-80.13269141567162+0j)\n",
      "Forward Bottom: (930.4485521295919+0j)\n",
      "Backward Bottom: (-80.13269141567159+0j)\n",
      "Power Entering Layer: (1010.5812435452635+0j)\n",
      "Power Leaving Layer: (1010.5812435452635+0j)\n",
      "Absorbed in Layer: 0j\n",
      "-------------------------\n",
      "Layer: ITO\n",
      "Forward Top: (862.7587246914472-0.002097954481151021j)\n",
      "Backward Top: (-12.442863977490237+0.002097954481151021j)\n",
      "Forward Bottom: (807.4789701136685-0.5135047176124203j)\n",
      "Backward Bottom: (-12.586816093866625+0.5135047176124203j)\n",
      "Power Entering Layer: (875.3455407853139-0.5156026720935714j)\n",
      "Power Leaving Layer: (819.9218340911588-0.5156026720935714j)\n",
      "Absorbed in Layer: (0.004597428909495241+0j)\n",
      "-------------------------\n",
      "Layer: NW_AlShell\n",
      "Forward Top: (797.789901550103+0.15440143176019916j)\n",
      "Backward Top: (-2.8977475303095144-0.15440143176019916j)\n",
      "Forward Bottom: (286.9173719835523+0.4969888559825204j)\n",
      "Backward Bottom: (-9.692889676537526-0.4969888559825204j)\n",
      "Power Entering Layer: (807.4827912266405+0.6513902877427196j)\n",
      "Power Leaving Layer: (289.8151195138618+0.6513902877427196j)\n",
      "Absorbed in Layer: (0.04294083635684372+0j)\n",
      "-------------------------\n",
      "Summed Absorption= (0.06711434339930707+0j)\n"
     ]
    }
   ],
   "source": [
    "abs_dict_fluxmethod, flux_method_total = compute_fluxes(sim)"
   ]
  },
  {
   "cell_type": "code",
   "execution_count": 47,
   "metadata": {
    "scrolled": true
   },
   "outputs": [],
   "source": [
    "sim.get_field()"
   ]
  },
  {
   "cell_type": "code",
   "execution_count": 48,
   "metadata": {},
   "outputs": [
    {
     "name": "stdout",
     "output_type": "stream",
     "text": [
      "Layer: Air\n"
     ]
    },
    {
     "data": {
      "text/latex": [
       "$P_{abs} = \\frac{\\omega}{2} Im(\\epsilon) \\int |E|^2 dV = 0.0$"
      ]
     },
     "metadata": {},
     "output_type": "display_data"
    },
    {
     "name": "stdout",
     "output_type": "stream",
     "text": [
      "Layer: ITO\n"
     ]
    },
    {
     "data": {
      "text/latex": [
       "$P_{abs} = \\frac{\\omega}{2} Im(\\epsilon) \\int |E|^2 dV = 0.004510264806368185$"
      ]
     },
     "metadata": {},
     "output_type": "display_data"
    },
    {
     "name": "stdout",
     "output_type": "stream",
     "text": [
      "Layer: NW_AlShell\n"
     ]
    },
    {
     "data": {
      "text/latex": [
       "$P_{abs} = \\frac{\\omega}{2} Im(\\epsilon) \\int |E|^2 dV = 0.044230540208550294$"
      ]
     },
     "metadata": {},
     "output_type": "display_data"
    },
    {
     "name": "stdout",
     "output_type": "stream",
     "text": [
      "Layer: Substrate\n"
     ]
    },
    {
     "data": {
      "text/latex": [
       "$P_{abs} = \\frac{\\omega}{2} Im(\\epsilon) \\int |E|^2 dV = 0.01927029314792518$"
      ]
     },
     "metadata": {},
     "output_type": "display_data"
    },
    {
     "name": "stdout",
     "output_type": "stream",
     "text": [
      "Integral Method Total Absorption: 0.06801109816284366\n"
     ]
    }
   ],
   "source": [
    "sim_proc = Simulation(simulator=sim)\n",
    "freq = sim_proc.conf[('Simulation', 'params', 'frequency','value')]\n",
    "try:\n",
    "    Esq = sim_proc.data['normEsquared']\n",
    "except KeyError:\n",
    "    Esq = sim_proc.normEsquared()\n",
    "abs_dict_intmethod = {}\n",
    "int_method_total = 0\n",
    "for layer_name, layer_obj in sim_proc.layers.items():\n",
    "    print(\"Layer: {}\".format(layer_name))\n",
    "    base_unit = sim_proc.conf[('Simulation', 'base_unit')]\n",
    "    n_mat, k_mat = layer_obj.get_nk_matrix(freq)\n",
    "    # n and k could be functions of space, so we need to multiply the\n",
    "    # fields by n and k before integrating\n",
    "    res = integrate(Esq*n_mat*k_mat,layer_obj, sim_proc)\n",
    "    p_abs_imag = 2*np.pi*freq*consts.epsilon_0*res*base_unit\n",
    "    abs_dict_intmethod[layer_name] = p_abs_imag\n",
    "    disp.display_latex(\"$P_{abs} = \\\\frac{\\omega}{2} Im(\\epsilon) \\int |E|^2 dV\"+\" = {}$\".format(p_abs_imag), raw=True)\n",
    "    int_method_total += p_abs_imag\n",
    "print(\"Integral Method Total Absorption: {}\".format(int_method_total))"
   ]
  },
  {
   "cell_type": "code",
   "execution_count": 49,
   "metadata": {},
   "outputs": [
    {
     "name": "stdout",
     "output_type": "stream",
     "text": [
      "{'Air': 0j, 'Substrate': (0.01957607813296811+0j), 'NW_AlShell': (0.04294083635684372+0j), 'ITO': (0.004597428909495241+0j)}\n",
      "{'Air': 0.0, 'ITO': 0.0045102648063681848, 'Substrate': 0.01927029314792518, 'NW_AlShell': 0.044230540208550294}\n"
     ]
    }
   ],
   "source": [
    "print(abs_dict_fluxmethod)\n",
    "print(abs_dict_intmethod)"
   ]
  },
  {
   "cell_type": "code",
   "execution_count": 50,
   "metadata": {
    "scrolled": false
   },
   "outputs": [
    {
     "name": "stdout",
     "output_type": "stream",
     "text": [
      "-------------------------\n",
      "Layer: Air\n",
      "Flux Method: 0j\n",
      "Integral Method: 0.0\n",
      "Diff: 0j\n",
      "Percent Diff: None\n",
      "-------------------------\n",
      "Layer: Substrate\n",
      "Flux Method: (0.01957607813296811+0j)\n",
      "Integral Method: 0.01927029314792518\n",
      "Diff: (0.0003057849850429291+0j)\n",
      "Percent Diff: (1.5620339424777634+0j)\n",
      "-------------------------\n",
      "Layer: NW_AlShell\n",
      "Flux Method: (0.04294083635684372+0j)\n",
      "Integral Method: 0.044230540208550294\n",
      "Diff: (-0.0012897038517065765+0j)\n",
      "Percent Diff: (3.0034437172787607+0j)\n",
      "-------------------------\n",
      "Layer: ITO\n",
      "Flux Method: (0.004597428909495241+0j)\n",
      "Integral Method: 0.004510264806368185\n",
      "Diff: (8.716410312705619e-05+0j)\n",
      "Percent Diff: (1.8959315052601016+0j)\n",
      "-------------------------\n",
      "Total Percent Difference: (1.336159631632265+0j)\n"
     ]
    }
   ],
   "source": [
    "for key in abs_dict_fluxmethod.keys():\n",
    "    fm = abs_dict_fluxmethod[key]\n",
    "    im = abs_dict_intmethod[key]\n",
    "    diff = fm - im\n",
    "    try:\n",
    "        pdiff = 100*abs(diff)/fm\n",
    "    except ZeroDivisionError:\n",
    "        pdiff = None\n",
    "        pass\n",
    "    print('-'*25)\n",
    "    print(\"Layer: {}\".format(key))\n",
    "    print(\"Flux Method: {}\".format(fm))\n",
    "    print(\"Integral Method: {}\".format(im))\n",
    "    print(\"Diff: {}\".format(diff))\n",
    "    print(\"Percent Diff: {}\".format(pdiff))\n",
    "pdiff_total = 100*abs(flux_method_total - int_method_total)/flux_method_total\n",
    "print('-'*25)\n",
    "print(\"Total Percent Difference: {}\".format(pdiff_total))"
   ]
  },
  {
   "cell_type": "markdown",
   "metadata": {},
   "source": [
    "## Include Endpoints"
   ]
  },
  {
   "cell_type": "code",
   "execution_count": 51,
   "metadata": {},
   "outputs": [
    {
     "name": "stdout",
     "output_type": "stream",
     "text": [
      "Layer: Air\n"
     ]
    },
    {
     "data": {
      "text/latex": [
       "$P_{abs} = \\frac{\\omega}{2} Im(\\epsilon) \\int |E|^2 dV = 0.0$"
      ]
     },
     "metadata": {},
     "output_type": "display_data"
    },
    {
     "name": "stdout",
     "output_type": "stream",
     "text": [
      "Layer: ITO\n"
     ]
    },
    {
     "data": {
      "text/latex": [
       "$P_{abs} = \\frac{\\omega}{2} Im(\\epsilon) \\int |E|^2 dV = 0.004555019446921141$"
      ]
     },
     "metadata": {},
     "output_type": "display_data"
    },
    {
     "name": "stdout",
     "output_type": "stream",
     "text": [
      "Layer: NW_AlShell\n"
     ]
    },
    {
     "data": {
      "text/latex": [
       "$P_{abs} = \\frac{\\omega}{2} Im(\\epsilon) \\int |E|^2 dV = 0.044230574132612346$"
      ]
     },
     "metadata": {},
     "output_type": "display_data"
    },
    {
     "name": "stdout",
     "output_type": "stream",
     "text": [
      "Layer: Substrate\n"
     ]
    },
    {
     "data": {
      "text/latex": [
       "$P_{abs} = \\frac{\\omega}{2} Im(\\epsilon) \\int |E|^2 dV = 0.019457333658422827$"
      ]
     },
     "metadata": {},
     "output_type": "display_data"
    },
    {
     "name": "stdout",
     "output_type": "stream",
     "text": [
      "Integral Method Total Absorption: 0.06824292723795632\n"
     ]
    }
   ],
   "source": [
    "sim_proc = Simulation(simulator=sim)\n",
    "freq = sim_proc.conf[('Simulation', 'params', 'frequency','value')]\n",
    "try:\n",
    "    Esq = sim_proc.data['normEsquared']\n",
    "except KeyError:\n",
    "    Esq = sim_proc.normEsquared()\n",
    "abs_dict_intmethod = {}\n",
    "int_method_total = 0\n",
    "for layer_name, layer_obj in sim_proc.layers.items():\n",
    "    print(\"Layer: {}\".format(layer_name))\n",
    "    base_unit = sim_proc.conf[('Simulation', 'base_unit')]\n",
    "    n_mat, k_mat = layer_obj.get_nk_matrix(freq)\n",
    "    # n and k could be functions of space, so we need to multiply the\n",
    "    # fields by n and k before integrating\n",
    "    res = integrate_endpoints(Esq*n_mat*k_mat,layer_obj, sim_proc)\n",
    "    p_abs_imag = 2*np.pi*freq*consts.epsilon_0*res*base_unit\n",
    "    abs_dict_intmethod[layer_name] = p_abs_imag\n",
    "    disp.display_latex(\"$P_{abs} = \\\\frac{\\omega}{2} Im(\\epsilon) \\int |E|^2 dV\"+\" = {}$\".format(p_abs_imag), raw=True)\n",
    "    int_method_total += p_abs_imag\n",
    "print(\"Integral Method Total Absorption: {}\".format(int_method_total))"
   ]
  },
  {
   "cell_type": "code",
   "execution_count": 52,
   "metadata": {},
   "outputs": [
    {
     "name": "stdout",
     "output_type": "stream",
     "text": [
      "{'Air': 0j, 'Substrate': (0.01957607813296811+0j), 'NW_AlShell': (0.04294083635684372+0j), 'ITO': (0.004597428909495241+0j)}\n",
      "{'Air': 0.0, 'ITO': 0.0045550194469211411, 'Substrate': 0.019457333658422827, 'NW_AlShell': 0.044230574132612346}\n"
     ]
    }
   ],
   "source": [
    "print(abs_dict_fluxmethod)\n",
    "print(abs_dict_intmethod)"
   ]
  },
  {
   "cell_type": "code",
   "execution_count": 53,
   "metadata": {
    "scrolled": false
   },
   "outputs": [
    {
     "name": "stdout",
     "output_type": "stream",
     "text": [
      "-------------------------\n",
      "Layer: Air\n",
      "Flux Method: 0j\n",
      "Integral Method: 0.0\n",
      "Diff: 0j\n",
      "Percent Diff: None\n",
      "-------------------------\n",
      "Layer: Substrate\n",
      "Flux Method: (0.01957607813296811+0j)\n",
      "Integral Method: 0.019457333658422827\n",
      "Diff: (0.00011874447454528203+0j)\n",
      "Percent Diff: (0.6065794881831016+0j)\n",
      "-------------------------\n",
      "Layer: NW_AlShell\n",
      "Flux Method: (0.04294083635684372+0j)\n",
      "Integral Method: 0.044230574132612346\n",
      "Diff: (-0.001289737775768629+0j)\n",
      "Percent Diff: (3.003522719144888+0j)\n",
      "-------------------------\n",
      "Layer: ITO\n",
      "Flux Method: (0.004597428909495241+0j)\n",
      "Integral Method: 0.004555019446921141\n",
      "Diff: (4.240946257409988e-05+0j)\n",
      "Percent Diff: (0.9224604318842221+0j)\n",
      "-------------------------\n",
      "Total Percent Difference: (1.681583669729982+0j)\n"
     ]
    }
   ],
   "source": [
    "for key in abs_dict_fluxmethod.keys():\n",
    "    fm = abs_dict_fluxmethod[key]\n",
    "    im = abs_dict_intmethod[key]\n",
    "    diff = fm - im\n",
    "    try:\n",
    "        pdiff = 100*abs(diff)/fm\n",
    "    except ZeroDivisionError:\n",
    "        pdiff = None\n",
    "        pass\n",
    "    print('-'*25)\n",
    "    print(\"Layer: {}\".format(key))\n",
    "    print(\"Flux Method: {}\".format(fm))\n",
    "    print(\"Integral Method: {}\".format(im))\n",
    "    print(\"Diff: {}\".format(diff))\n",
    "    print(\"Percent Diff: {}\".format(pdiff))\n",
    "pdiff_total = 100*abs(flux_method_total - int_method_total)/flux_method_total\n",
    "print('-'*25)\n",
    "print(\"Total Percent Difference: {}\".format(pdiff_total))"
   ]
  },
  {
   "cell_type": "markdown",
   "metadata": {},
   "source": [
    "# NW w/ Shell w/ Lanczos"
   ]
  },
  {
   "cell_type": "code",
   "execution_count": 54,
   "metadata": {},
   "outputs": [],
   "source": [
    "conf = Config('AbsorptionTest.yml')\n",
    "conf[('Solver', 'LanczosSmoothing')] = True\n",
    "sim = Simulator(conf)\n",
    "sim.setup()\n",
    "Zo = consts.physical_constants['characteristic impedance of vacuum'][0]"
   ]
  },
  {
   "cell_type": "markdown",
   "metadata": {},
   "source": [
    "## No Endpoints"
   ]
  },
  {
   "cell_type": "code",
   "execution_count": 55,
   "metadata": {},
   "outputs": [
    {
     "data": {
      "text/plain": [
       "{'Air': ((930.4485521295919+0j), (-78.6856892093137+0j)),\n",
       " 'Air_bottom': ((930.4485521295919-7.105427357601002e-15j),\n",
       "  (-78.68568920931372+7.105427357601002e-15j)),\n",
       " 'ITO': ((857.6419173711085-0.08344942283687828j),\n",
       "  (-5.879054450793626+0.08344942283687828j)),\n",
       " 'ITO_bottom': ((802.3123460231939-0.280906236520142j),\n",
       "  (-5.954610605004693+0.280906236520142j)),\n",
       " 'NW_AlShell': ((800.4912303986539+0.582839589143596j),\n",
       "  (-4.133494980474132-0.582839589143596j)),\n",
       " 'NW_AlShell_bottom': ((313.3864735787744+0.84634589837402j),\n",
       "  (-11.5054934474821-0.84634589837402j)),\n",
       " 'Substrate': ((301.8809801312894+0j), 0j),\n",
       " 'Substrate_bottom': ((45.148533189286084+0j), 0j)}"
      ]
     },
     "execution_count": 55,
     "metadata": {},
     "output_type": "execute_result"
    }
   ],
   "source": [
    "sim.get_fluxes()"
   ]
  },
  {
   "cell_type": "code",
   "execution_count": 56,
   "metadata": {},
   "outputs": [
    {
     "name": "stdout",
     "output_type": "stream",
     "text": [
      "Total Incident Power = 0.07718125198597892\n",
      "Total Reflected Power = 0.0065270239742482965\n",
      "Total Transmitted Power = 0.003745097253259294\n",
      "Total Absorbed Power = 0.06690913075847132\n",
      "-------------------------\n",
      "Layer: Substrate\n",
      "Forward Top: (301.8809801312894+0j)\n",
      "Backward Top: 0j\n",
      "Forward Bottom: (45.148533189286084+0j)\n",
      "Backward Bottom: 0j\n",
      "Power Entering Layer: (301.8809801312894+0j)\n",
      "Power Leaving Layer: (45.148533189286084+0j)\n",
      "Absorbed in Layer: (0.02129610673804124+0j)\n",
      "-------------------------\n",
      "Layer: Air\n",
      "Forward Top: (930.4485521295919+0j)\n",
      "Backward Top: (-78.6856892093137+0j)\n",
      "Forward Bottom: (930.4485521295919-7.105427357601002e-15j)\n",
      "Backward Bottom: (-78.68568920931372+7.105427357601002e-15j)\n",
      "Power Entering Layer: (1009.1342413389057-7.105427357601002e-15j)\n",
      "Power Leaving Layer: (1009.1342413389057-7.105427357601002e-15j)\n",
      "Absorbed in Layer: 0j\n",
      "-------------------------\n",
      "Layer: ITO\n",
      "Forward Top: (857.6419173711085-0.08344942283687828j)\n",
      "Backward Top: (-5.879054450793626+0.08344942283687828j)\n",
      "Forward Bottom: (802.3123460231939-0.280906236520142j)\n",
      "Backward Bottom: (-5.954610605004693+0.280906236520142j)\n",
      "Power Entering Layer: (863.5965279761133-0.3643556593570203j)\n",
      "Power Leaving Layer: (808.1914004739875-0.3643556593570203j)\n",
      "Absorbed in Layer: (0.004595887754642096+0j)\n",
      "-------------------------\n",
      "Layer: NW_AlShell\n",
      "Forward Top: (800.4912303986539+0.582839589143596j)\n",
      "Backward Top: (-4.133494980474132-0.582839589143596j)\n",
      "Forward Bottom: (313.3864735787744+0.84634589837402j)\n",
      "Backward Bottom: (-11.5054934474821-0.84634589837402j)\n",
      "Power Entering Layer: (811.996723846136+1.429185487517616j)\n",
      "Power Leaving Layer: (317.5199685592486+1.429185487517616j)\n",
      "Absorbed in Layer: (0.04101713626579001+0j)\n",
      "-------------------------\n",
      "Summed Absorption= (0.06690913075847335+0j)\n"
     ]
    }
   ],
   "source": [
    "abs_dict_fluxmethod, flux_method_total = compute_fluxes(sim)"
   ]
  },
  {
   "cell_type": "code",
   "execution_count": 57,
   "metadata": {},
   "outputs": [],
   "source": [
    "sim.get_field()"
   ]
  },
  {
   "cell_type": "code",
   "execution_count": 58,
   "metadata": {},
   "outputs": [
    {
     "name": "stdout",
     "output_type": "stream",
     "text": [
      "Layer: Air\n"
     ]
    },
    {
     "data": {
      "text/latex": [
       "$P_{abs} = \\frac{\\omega}{2} Im(\\epsilon) \\int |E|^2 dV = 0.0$"
      ]
     },
     "metadata": {},
     "output_type": "display_data"
    },
    {
     "name": "stdout",
     "output_type": "stream",
     "text": [
      "Layer: ITO\n"
     ]
    },
    {
     "data": {
      "text/latex": [
       "$P_{abs} = \\frac{\\omega}{2} Im(\\epsilon) \\int |E|^2 dV = 0.004508941679143061$"
      ]
     },
     "metadata": {},
     "output_type": "display_data"
    },
    {
     "name": "stdout",
     "output_type": "stream",
     "text": [
      "Layer: NW_AlShell\n"
     ]
    },
    {
     "data": {
      "text/latex": [
       "$P_{abs} = \\frac{\\omega}{2} Im(\\epsilon) \\int |E|^2 dV = 0.04311720381746877$"
      ]
     },
     "metadata": {},
     "output_type": "display_data"
    },
    {
     "name": "stdout",
     "output_type": "stream",
     "text": [
      "Layer: Substrate\n"
     ]
    },
    {
     "data": {
      "text/latex": [
       "$P_{abs} = \\frac{\\omega}{2} Im(\\epsilon) \\int |E|^2 dV = 0.02096409733685438$"
      ]
     },
     "metadata": {},
     "output_type": "display_data"
    },
    {
     "name": "stdout",
     "output_type": "stream",
     "text": [
      "Integral Method Total Absorption: 0.06859024283346621\n"
     ]
    }
   ],
   "source": [
    "sim_proc = Simulation(simulator=sim)\n",
    "freq = sim_proc.conf[('Simulation', 'params', 'frequency','value')]\n",
    "try:\n",
    "    Esq = sim_proc.data['normEsquared']\n",
    "except KeyError:\n",
    "    Esq = sim_proc.normEsquared()\n",
    "abs_dict_intmethod = {}\n",
    "int_method_total = 0\n",
    "for layer_name, layer_obj in sim_proc.layers.items():\n",
    "    print(\"Layer: {}\".format(layer_name))\n",
    "    base_unit = sim_proc.conf[('Simulation', 'base_unit')]\n",
    "    n_mat, k_mat = layer_obj.get_nk_matrix(freq)\n",
    "    # n and k could be functions of space, so we need to multiply the\n",
    "    # fields by n and k before integrating\n",
    "    res = integrate(Esq*n_mat*k_mat,layer_obj, sim_proc)\n",
    "    p_abs_imag = 2*np.pi*freq*consts.epsilon_0*res*base_unit\n",
    "    abs_dict_intmethod[layer_name] = p_abs_imag\n",
    "    disp.display_latex(\"$P_{abs} = \\\\frac{\\omega}{2} Im(\\epsilon) \\int |E|^2 dV\"+\" = {}$\".format(p_abs_imag), raw=True)\n",
    "    int_method_total += p_abs_imag\n",
    "print(\"Integral Method Total Absorption: {}\".format(int_method_total))"
   ]
  },
  {
   "cell_type": "code",
   "execution_count": 59,
   "metadata": {},
   "outputs": [
    {
     "name": "stdout",
     "output_type": "stream",
     "text": [
      "{'Air': 0j, 'Substrate': (0.02129610673804124+0j), 'NW_AlShell': (0.04101713626579001+0j), 'ITO': (0.004595887754642096+0j)}\n",
      "{'Air': 0.0, 'ITO': 0.0045089416791430611, 'Substrate': 0.020964097336854379, 'NW_AlShell': 0.043117203817468773}\n"
     ]
    }
   ],
   "source": [
    "print(abs_dict_fluxmethod)\n",
    "print(abs_dict_intmethod)"
   ]
  },
  {
   "cell_type": "code",
   "execution_count": 60,
   "metadata": {},
   "outputs": [
    {
     "name": "stdout",
     "output_type": "stream",
     "text": [
      "-------------------------\n",
      "Layer: Air\n",
      "Flux Method: 0j\n",
      "Integral Method: 0.0\n",
      "Diff: 0j\n",
      "Percent Diff: None\n",
      "-------------------------\n",
      "Layer: Substrate\n",
      "Flux Method: (0.02129610673804124+0j)\n",
      "Integral Method: 0.02096409733685438\n",
      "Diff: (0.0003320094011868627+0j)\n",
      "Percent Diff: (1.5590145432253784+0j)\n",
      "-------------------------\n",
      "Layer: NW_AlShell\n",
      "Flux Method: (0.04101713626579001+0j)\n",
      "Integral Method: 0.04311720381746877\n",
      "Diff: (-0.0021000675516787623+0j)\n",
      "Percent Diff: (5.1199760462807+0j)\n",
      "-------------------------\n",
      "Layer: ITO\n",
      "Flux Method: (0.004595887754642096+0j)\n",
      "Integral Method: 0.004508941679143061\n",
      "Diff: (8.694607549903505e-05+0j)\n",
      "Percent Diff: (1.8918233024993873+0j)\n",
      "-------------------------\n",
      "Total Percent Difference: (2.512530137420687+0j)\n"
     ]
    }
   ],
   "source": [
    "for key in abs_dict_fluxmethod.keys():\n",
    "    fm = abs_dict_fluxmethod[key]\n",
    "    im = abs_dict_intmethod[key]\n",
    "    diff = fm - im\n",
    "    try:\n",
    "        pdiff = 100*abs(diff)/fm\n",
    "    except ZeroDivisionError:\n",
    "        pdiff = None\n",
    "        pass\n",
    "    print('-'*25)\n",
    "    print(\"Layer: {}\".format(key))\n",
    "    print(\"Flux Method: {}\".format(fm))\n",
    "    print(\"Integral Method: {}\".format(im))\n",
    "    print(\"Diff: {}\".format(diff))\n",
    "    print(\"Percent Diff: {}\".format(pdiff))\n",
    "pdiff_total = 100*abs(flux_method_total - int_method_total)/flux_method_total\n",
    "print('-'*25)\n",
    "print(\"Total Percent Difference: {}\".format(pdiff_total))"
   ]
  },
  {
   "cell_type": "markdown",
   "metadata": {},
   "source": [
    "## Include Endpoints"
   ]
  },
  {
   "cell_type": "code",
   "execution_count": 61,
   "metadata": {},
   "outputs": [
    {
     "name": "stdout",
     "output_type": "stream",
     "text": [
      "Layer: Air\n"
     ]
    },
    {
     "data": {
      "text/latex": [
       "$P_{abs} = \\frac{\\omega}{2} Im(\\epsilon) \\int |E|^2 dV = 0.0$"
      ]
     },
     "metadata": {},
     "output_type": "display_data"
    },
    {
     "name": "stdout",
     "output_type": "stream",
     "text": [
      "Layer: ITO\n"
     ]
    },
    {
     "data": {
      "text/latex": [
       "$P_{abs} = \\frac{\\omega}{2} Im(\\epsilon) \\int |E|^2 dV = 0.004553750076161526$"
      ]
     },
     "metadata": {},
     "output_type": "display_data"
    },
    {
     "name": "stdout",
     "output_type": "stream",
     "text": [
      "Layer: NW_AlShell\n"
     ]
    },
    {
     "data": {
      "text/latex": [
       "$P_{abs} = \\frac{\\omega}{2} Im(\\epsilon) \\int |E|^2 dV = 0.04311724129776428$"
      ]
     },
     "metadata": {},
     "output_type": "display_data"
    },
    {
     "name": "stdout",
     "output_type": "stream",
     "text": [
      "Layer: Substrate\n"
     ]
    },
    {
     "data": {
      "text/latex": [
       "$P_{abs} = \\frac{\\omega}{2} Im(\\epsilon) \\int |E|^2 dV = 0.021167558156111103$"
      ]
     },
     "metadata": {},
     "output_type": "display_data"
    },
    {
     "name": "stdout",
     "output_type": "stream",
     "text": [
      "Integral Method Total Absorption: 0.0688385495300369\n"
     ]
    }
   ],
   "source": [
    "sim_proc = Simulation(simulator=sim)\n",
    "freq = sim_proc.conf[('Simulation', 'params', 'frequency','value')]\n",
    "try:\n",
    "    Esq = sim_proc.data['normEsquared']\n",
    "except KeyError:\n",
    "    Esq = sim_proc.normEsquared()\n",
    "abs_dict_intmethod = {}\n",
    "int_method_total = 0\n",
    "for layer_name, layer_obj in sim_proc.layers.items():\n",
    "    print(\"Layer: {}\".format(layer_name))\n",
    "    base_unit = sim_proc.conf[('Simulation', 'base_unit')]\n",
    "    n_mat, k_mat = layer_obj.get_nk_matrix(freq)\n",
    "    # n and k could be functions of space, so we need to multiply the\n",
    "    # fields by n and k before integrating\n",
    "    res = integrate_endpoints(Esq*n_mat*k_mat,layer_obj, sim_proc)\n",
    "    p_abs_imag = 2*np.pi*freq*consts.epsilon_0*res*base_unit\n",
    "    abs_dict_intmethod[layer_name] = p_abs_imag\n",
    "    disp.display_latex(\"$P_{abs} = \\\\frac{\\omega}{2} Im(\\epsilon) \\int |E|^2 dV\"+\" = {}$\".format(p_abs_imag), raw=True)\n",
    "    int_method_total += p_abs_imag\n",
    "print(\"Integral Method Total Absorption: {}\".format(int_method_total))"
   ]
  },
  {
   "cell_type": "code",
   "execution_count": 62,
   "metadata": {},
   "outputs": [
    {
     "name": "stdout",
     "output_type": "stream",
     "text": [
      "{'Air': 0j, 'Substrate': (0.02129610673804124+0j), 'NW_AlShell': (0.04101713626579001+0j), 'ITO': (0.004595887754642096+0j)}\n",
      "{'Air': 0.0, 'ITO': 0.0045537500761615264, 'Substrate': 0.021167558156111103, 'NW_AlShell': 0.043117241297764279}\n"
     ]
    }
   ],
   "source": [
    "print(abs_dict_fluxmethod)\n",
    "print(abs_dict_intmethod)"
   ]
  },
  {
   "cell_type": "code",
   "execution_count": 63,
   "metadata": {},
   "outputs": [
    {
     "name": "stdout",
     "output_type": "stream",
     "text": [
      "-------------------------\n",
      "Layer: Air\n",
      "Flux Method: 0j\n",
      "Integral Method: 0.0\n",
      "Diff: 0j\n",
      "Percent Diff: None\n",
      "-------------------------\n",
      "Layer: Substrate\n",
      "Flux Method: (0.02129610673804124+0j)\n",
      "Integral Method: 0.021167558156111103\n",
      "Diff: (0.00012854858193013866+0j)\n",
      "Percent Diff: (0.60362480105583+0j)\n",
      "-------------------------\n",
      "Layer: NW_AlShell\n",
      "Flux Method: (0.04101713626579001+0j)\n",
      "Integral Method: 0.04311724129776428\n",
      "Diff: (-0.0021001050319742684+0j)\n",
      "Percent Diff: (5.120067423443803+0j)\n",
      "-------------------------\n",
      "Layer: ITO\n",
      "Flux Method: (0.004595887754642096+0j)\n",
      "Integral Method: 0.004553750076161526\n",
      "Diff: (4.213767848056972e-05+0j)\n",
      "Percent Diff: (0.9168561272630816+0j)\n",
      "-------------------------\n",
      "Total Percent Difference: (2.8836404683365435+0j)\n"
     ]
    }
   ],
   "source": [
    "for key in abs_dict_fluxmethod.keys():\n",
    "    fm = abs_dict_fluxmethod[key]\n",
    "    im = abs_dict_intmethod[key]\n",
    "    diff = fm - im\n",
    "    try:\n",
    "        pdiff = 100*abs(diff)/fm\n",
    "    except ZeroDivisionError:\n",
    "        pdiff = None\n",
    "        pass\n",
    "    print('-'*25)\n",
    "    print(\"Layer: {}\".format(key))\n",
    "    print(\"Flux Method: {}\".format(fm))\n",
    "    print(\"Integral Method: {}\".format(im))\n",
    "    print(\"Diff: {}\".format(diff))\n",
    "    print(\"Percent Diff: {}\".format(pdiff))\n",
    "pdiff_total = 100*abs(flux_method_total - int_method_total)/flux_method_total\n",
    "print('-'*25)\n",
    "print(\"Total Percent Difference: {}\".format(pdiff_total))"
   ]
  },
  {
   "cell_type": "markdown",
   "metadata": {
    "heading_collapsed": true
   },
   "source": [
    "# NW no Shell"
   ]
  },
  {
   "cell_type": "code",
   "execution_count": null,
   "metadata": {
    "hidden": true
   },
   "outputs": [],
   "source": [
    "conf = Config('AbsorptionTestnoshell.yml')\n",
    "sim = Simulator(conf)\n",
    "sim = setup_sim(sim)\n",
    "Zo = consts.physical_constants['characteristic impedance of vacuum'][0]"
   ]
  },
  {
   "cell_type": "code",
   "execution_count": null,
   "metadata": {
    "hidden": true
   },
   "outputs": [],
   "source": [
    "sim.get_fluxes()"
   ]
  },
  {
   "cell_type": "code",
   "execution_count": null,
   "metadata": {
    "hidden": true
   },
   "outputs": [],
   "source": [
    "abs_dict_fluxmethod = compute_fluxes(sim)"
   ]
  },
  {
   "cell_type": "code",
   "execution_count": null,
   "metadata": {
    "hidden": true
   },
   "outputs": [],
   "source": [
    "sim.get_field()"
   ]
  },
  {
   "cell_type": "code",
   "execution_count": null,
   "metadata": {
    "hidden": true
   },
   "outputs": [],
   "source": [
    "sim_proc = Simulation(simulator=sim)\n",
    "freq = sim_proc.conf[('Simulation', 'params', 'frequency','value')]\n",
    "try:\n",
    "    Esq = sim_proc.data['normEsquared']\n",
    "except KeyError:\n",
    "    Esq = sim_proc.normEsquared()\n",
    "abs_dict_intmethod = {}\n",
    "for layer_name, layer_obj in sim_proc.layers.items():\n",
    "    print(\"Layer: {}\".format(layer_name))\n",
    "    base_unit = sim_proc.conf[('Simulation', 'base_unit')]\n",
    "    n_mat, k_mat = layer_obj.get_nk_matrix(freq)\n",
    "    # n and k could be functions of space, so we need to multiply the\n",
    "    # fields by n and k before integrating\n",
    "    res = integrate(Esq*n_mat*k_mat,layer_obj, sim_proc)\n",
    "    p_abs_imag = 2*np.pi*freq*consts.epsilon_0*res*base_unit\n",
    "    abs_dict_intmethod[layer_name] = p_abs_imag\n",
    "    disp.display_latex(\"$P_{abs} = \\\\frac{\\omega}{2} Im(\\epsilon) \\int |E|^2 dV\"+\" = {}$\".format(p_abs_imag), raw=True)"
   ]
  },
  {
   "cell_type": "code",
   "execution_count": null,
   "metadata": {
    "hidden": true
   },
   "outputs": [],
   "source": [
    "print(abs_dict_fluxmethod)\n",
    "print(abs_dict_intmethod)"
   ]
  },
  {
   "cell_type": "code",
   "execution_count": null,
   "metadata": {
    "hidden": true
   },
   "outputs": [],
   "source": [
    "for key in abs_dict_fluxmethod.keys():\n",
    "    fm = abs_dict_fluxmethod[key]\n",
    "    im = abs_dict_intmethod[key]\n",
    "    diff = fm - im\n",
    "    try:\n",
    "        pdiff = 100*abs(diff)/fm\n",
    "    except ZeroDivisionError:\n",
    "        pdiff = None\n",
    "        pass\n",
    "    print('-'*25)\n",
    "    print(\"Layer: {}\".format(key))\n",
    "    print(\"Flux Method: {}\".format(fm))\n",
    "    print(\"Integral Method: {}\".format(im))\n",
    "    print(\"Diff: {}\".format(diff))\n",
    "    print(\"Percent Diff: {}\".format(pdiff))"
   ]
  },
  {
   "cell_type": "code",
   "execution_count": null,
   "metadata": {
    "hidden": true
   },
   "outputs": [],
   "source": [
    "print(sim.data['fluxes'])"
   ]
  },
  {
   "cell_type": "code",
   "execution_count": null,
   "metadata": {
    "hidden": true
   },
   "outputs": [],
   "source": [
    "print(sim.flux_dict)"
   ]
  },
  {
   "cell_type": "code",
   "execution_count": null,
   "metadata": {
    "hidden": true
   },
   "outputs": [],
   "source": [
    "simulation = Simulation(simulator=sim)\n",
    "print(simulation.data['fluxes'])\n",
    "print(simulation.layers)"
   ]
  },
  {
   "cell_type": "code",
   "execution_count": null,
   "metadata": {
    "hidden": true
   },
   "outputs": [],
   "source": [
    "alist = [1., 2., 3.]\n",
    "print('{}, {}, {}, {}'.format('test', *alist))"
   ]
  },
  {
   "cell_type": "code",
   "execution_count": null,
   "metadata": {
    "hidden": true
   },
   "outputs": [],
   "source": []
  }
 ],
 "metadata": {
  "kernelspec": {
   "display_name": "nanowire",
   "language": "python",
   "name": "nanowire"
  },
  "language_info": {
   "codemirror_mode": {
    "name": "ipython",
    "version": 3
   },
   "file_extension": ".py",
   "mimetype": "text/x-python",
   "name": "python",
   "nbconvert_exporter": "python",
   "pygments_lexer": "ipython3",
   "version": "3.5.2"
  },
  "toc": {
   "nav_menu": {},
   "number_sections": true,
   "sideBar": true,
   "skip_h1_title": false,
   "toc_cell": false,
   "toc_position": {},
   "toc_section_display": "block",
   "toc_window_display": false
  }
 },
 "nbformat": 4,
 "nbformat_minor": 2
}
