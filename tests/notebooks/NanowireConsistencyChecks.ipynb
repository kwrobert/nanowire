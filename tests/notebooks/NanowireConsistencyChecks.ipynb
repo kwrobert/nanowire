{
 "cells": [
  {
   "cell_type": "code",
   "execution_count": 1,
   "metadata": {
    "collapsed": false
   },
   "outputs": [],
   "source": [
    "import os\n",
    "import numpy as np\n",
    "from nanowire.optics.simulate import Simulator\n",
    "from nanowire.optics.postprocess import Simulation\n",
    "from nanowire.optics.utils.utils import setup_sim\n",
    "from nanowire.optics.utils.config import Config\n",
    "import scipy.constants as consts\n",
    "import scipy.integrate as intg\n",
    "import IPython.display as disp\n",
    "import matplotlib.pyplot as plt\n",
    "%load_ext autoreload \n",
    "%autoreload 2"
   ]
  },
  {
   "cell_type": "markdown",
   "metadata": {},
   "source": [
    "# Utility Functions"
   ]
  },
  {
   "cell_type": "code",
   "execution_count": 2,
   "metadata": {
    "collapsed": false
   },
   "outputs": [],
   "source": [
    "def integrate(arr, layer_obj, sim_proc):\n",
    "    arr_slice = arr[layer_obj.slice]\n",
    "    zsamps = layer_obj.iend - layer_obj.istart\n",
    "    z_vals = np.linspace(0, layer_obj.thickness, zsamps)\n",
    "    x_vals = np.linspace(0, sim_proc.period, sim_proc.x_samples)\n",
    "    y_vals = np.linspace(0, sim_proc.period, sim_proc.y_samples)\n",
    "    z_integral = intg.trapz(arr_slice, x=z_vals, axis=0)\n",
    "    x_integral = intg.trapz(z_integral, x=x_vals, axis=0)\n",
    "    y_integral = intg.trapz(x_integral, x=y_vals, axis=0)\n",
    "    return y_integral\n",
    "\n",
    "def compute_fluxes(sim):\n",
    "    fluxes = sim.flux_dict\n",
    "    total_incident_power = .5*sim.period**2/Zo*np.absolute(fluxes['Air'][0])\n",
    "    total_reflected_power = .5*sim.period**2/Zo*np.absolute(fluxes['Air'][1])\n",
    "    total_transmitted_power = .5*sim.period**2/Zo*np.absolute(sum(fluxes['Substrate_bottom']))\n",
    "    total_absorbed_power = total_incident_power - total_reflected_power - total_transmitted_power\n",
    "    print('Total Incident Power = {}'.format(total_incident_power))\n",
    "    print('Total Reflected Power = {}'.format(total_reflected_power))\n",
    "    print('Total Transmitted Power = {}'.format(total_transmitted_power))\n",
    "    print('Total Absorbed Power = {}'.format(total_absorbed_power))\n",
    "    summed_absorbed_power = 0\n",
    "    abs_dict_fluxmethod = {}\n",
    "    for layer, (forw_top, back_top) in fluxes.items():\n",
    "        if '_bottom' in layer:\n",
    "            continue\n",
    "        bottom = layer+'_bottom'\n",
    "        forw_bot, back_bot = fluxes[bottom] \n",
    "        print('-'*25)\n",
    "        print('Layer: {}'.format(layer))\n",
    "        print('Forward Top: {}'.format(forw_top))\n",
    "        print('Backward Top: {}'.format(back_top))\n",
    "        print('Forward Bottom: {}'.format(forw_bot))\n",
    "        print('Backward Bottom: {}'.format(back_bot))\n",
    "        P_in = forw_top + -1*back_bot\n",
    "        P_out = forw_bot + -1*back_top\n",
    "        print('Power Entering Layer: {}'.format(P_in))\n",
    "        print('Power Leaving Layer: {}'.format(P_out))\n",
    "        P_lost = P_in - P_out\n",
    "        P_abs = .5*P_lost*(sim.period**2)/Zo\n",
    "        abs_dict_fluxmethod[layer] = P_abs \n",
    "        print('Absorbed in Layer: {}'.format(P_abs))\n",
    "        summed_absorbed_power += P_abs\n",
    "    print('-'*25)\n",
    "    print('Summed Absorption= {}'.format(summed_absorbed_power))\n",
    "    return abs_dict_fluxmethod"
   ]
  },
  {
   "cell_type": "markdown",
   "metadata": {},
   "source": [
    "# NW w/ Shell"
   ]
  },
  {
   "cell_type": "code",
   "execution_count": 3,
   "metadata": {
    "collapsed": false
   },
   "outputs": [],
   "source": [
    "conf = Config('AbsorptionTest.yml')\n",
    "sim = Simulator(conf)\n",
    "sim = setup_sim(sim)\n",
    "Zo = consts.physical_constants['characteristic impedance of vacuum'][0]"
   ]
  },
  {
   "cell_type": "code",
   "execution_count": 4,
   "metadata": {
    "collapsed": false
   },
   "outputs": [
    {
     "data": {
      "text/plain": [
       "{'Air': ((8+0j), (-0.6223175327719734+0j)),\n",
       " 'Air_bottom': ((8+0j), (-0.6223175327719733+0j)),\n",
       " 'ITO': ((7.646975790277538+0.003485300685028281j),\n",
       "  (-0.2692933230497826-0.003485300685028281j)),\n",
       " 'ITO_bottom': ((7.160561661261964-0.009475598998399282j),\n",
       "  (-0.2779707174415758+0.009475598998399282j)),\n",
       " 'NW_AlShell': ((6.925511077701219-0.008757040538793975j),\n",
       "  (-0.04292013388091296+0.008757040538793975j)),\n",
       " 'NW_AlShell_bottom': ((2.479936049259686-0.014221520179471897j),\n",
       "  (-0.1315622983299687+0.014221520179471897j)),\n",
       " 'NW_SiO2': ((2.566272676217353-0.010733923859513661j),\n",
       "  (-0.2178989252876916+0.010733923859513661j)),\n",
       " 'NW_SiO2_bottom': ((2.5307544982248817-0.001534218733692104j),\n",
       "  (-0.21940000157852244+0.001534218733692104j)),\n",
       " 'Substrate': ((2.3113544966463353+0j), 0j),\n",
       " 'Substrate_bottom': ((0.35734335906371556+0j), 0j)}"
      ]
     },
     "execution_count": 4,
     "metadata": {},
     "output_type": "execute_result"
    }
   ],
   "source": [
    "sim.get_fluxes()"
   ]
  },
  {
   "cell_type": "code",
   "execution_count": 5,
   "metadata": {
    "collapsed": false
   },
   "outputs": [
    {
     "name": "stdout",
     "output_type": "stream",
     "text": [
      "Total Incident Power = 0.0006636046823595181\n",
      "Total Reflected Power = 5.1621603582738056e-05\n",
      "Total Transmitted Power = 2.9641840785595023e-05\n",
      "Total Absorbed Power = 0.0005823412379911849\n",
      "-------------------------\n",
      "Layer: ITO\n",
      "Forward Top: (7.646975790277538+0.003485300685028281j)\n",
      "Backward Top: (-0.2692933230497826-0.003485300685028281j)\n",
      "Forward Bottom: (7.160561661261964-0.009475598998399282j)\n",
      "Backward Bottom: (-0.2779707174415758+0.009475598998399282j)\n",
      "Power Entering Layer: (7.924946507719114-0.005990298313371001j)\n",
      "Power Leaving Layer: (7.4298549843117465-0.005990298313371001j)\n",
      "Absorbed in Layer: (4.106813164120451e-05+0j)\n",
      "-------------------------\n",
      "Layer: Substrate\n",
      "Forward Top: (2.3113544966463353+0j)\n",
      "Backward Top: 0j\n",
      "Forward Bottom: (0.35734335906371556+0j)\n",
      "Backward Bottom: 0j\n",
      "Power Entering Layer: (2.3113544966463353+0j)\n",
      "Power Leaving Layer: (0.35734335906371556+0j)\n",
      "Absorbed in Layer: (0.00016208636753530938+0j)\n",
      "-------------------------\n",
      "Layer: NW_SiO2\n",
      "Forward Top: (2.566272676217353-0.010733923859513661j)\n",
      "Backward Top: (-0.2178989252876916+0.010733923859513661j)\n",
      "Forward Bottom: (2.5307544982248817-0.001534218733692104j)\n",
      "Backward Bottom: (-0.21940000157852244+0.001534218733692104j)\n",
      "Power Entering Layer: (2.7856726777958754-0.012268142593205765j)\n",
      "Power Leaving Layer: (2.7486534235125735-0.012268142593205765j)\n",
      "Absorbed in Layer: (3.070768809982097e-06+0j)\n",
      "-------------------------\n",
      "Layer: Air\n",
      "Forward Top: (8+0j)\n",
      "Backward Top: (-0.6223175327719734+0j)\n",
      "Forward Bottom: (8+0j)\n",
      "Backward Bottom: (-0.6223175327719733+0j)\n",
      "Power Entering Layer: (8.622317532771973+0j)\n",
      "Power Leaving Layer: (8.622317532771973+0j)\n",
      "Absorbed in Layer: 0j\n",
      "-------------------------\n",
      "Layer: NW_AlShell\n",
      "Forward Top: (6.925511077701219-0.008757040538793975j)\n",
      "Backward Top: (-0.04292013388091296+0.008757040538793975j)\n",
      "Forward Bottom: (2.479936049259686-0.014221520179471897j)\n",
      "Backward Bottom: (-0.1315622983299687+0.014221520179471897j)\n",
      "Power Entering Layer: (7.0570733760311875-0.022978560718265872j)\n",
      "Power Leaving Layer: (2.522856183140599-0.022978560718265872j)\n",
      "Absorbed in Layer: (0.0003761159700046531+0j)\n",
      "-------------------------\n",
      "Summed Absorption= (0.000582341237991149+0j)\n"
     ]
    }
   ],
   "source": [
    "abs_dict_fluxmethod = compute_fluxes(sim)"
   ]
  },
  {
   "cell_type": "code",
   "execution_count": 6,
   "metadata": {
    "collapsed": false
   },
   "outputs": [],
   "source": [
    "sim.get_field()"
   ]
  },
  {
   "cell_type": "code",
   "execution_count": 7,
   "metadata": {
    "collapsed": false
   },
   "outputs": [
    {
     "name": "stdout",
     "output_type": "stream",
     "text": [
      "Layer: Air\n"
     ]
    },
    {
     "data": {
      "text/latex": [
       "$P_{abs} = \\frac{\\omega}{2} Im(\\epsilon) \\int |E|^2 dV = 0.0$"
      ]
     },
     "metadata": {},
     "output_type": "display_data"
    },
    {
     "name": "stdout",
     "output_type": "stream",
     "text": [
      "Layer: ITO\n"
     ]
    },
    {
     "data": {
      "text/latex": [
       "$P_{abs} = \\frac{\\omega}{2} Im(\\epsilon) \\int |E|^2 dV = 4.1088123474421656e-05$"
      ]
     },
     "metadata": {},
     "output_type": "display_data"
    },
    {
     "name": "stdout",
     "output_type": "stream",
     "text": [
      "Layer: NW_AlShell\n"
     ]
    },
    {
     "data": {
      "text/latex": [
       "$P_{abs} = \\frac{\\omega}{2} Im(\\epsilon) \\int |E|^2 dV = 0.00039358724356213935$"
      ]
     },
     "metadata": {},
     "output_type": "display_data"
    },
    {
     "name": "stdout",
     "output_type": "stream",
     "text": [
      "Layer: NW_SiO2\n"
     ]
    },
    {
     "data": {
      "text/latex": [
       "$P_{abs} = \\frac{\\omega}{2} Im(\\epsilon) \\int |E|^2 dV = 3.4075267331699198e-06$"
      ]
     },
     "metadata": {},
     "output_type": "display_data"
    },
    {
     "name": "stdout",
     "output_type": "stream",
     "text": [
      "Layer: Substrate\n"
     ]
    },
    {
     "data": {
      "text/latex": [
       "$P_{abs} = \\frac{\\omega}{2} Im(\\epsilon) \\int |E|^2 dV = 0.00015756428563003678$"
      ]
     },
     "metadata": {},
     "output_type": "display_data"
    }
   ],
   "source": [
    "sim_proc = Simulation(simulator=sim)\n",
    "freq = sim_proc.conf[('Simulation', 'params', 'frequency','value')]\n",
    "try:\n",
    "    Esq = sim_proc.data['normEsquared']\n",
    "except KeyError:\n",
    "    Esq = sim_proc.normEsquared()\n",
    "abs_dict_intmethod = {}\n",
    "for layer_name, layer_obj in sim_proc.layers.items():\n",
    "    print(\"Layer: {}\".format(layer_name))\n",
    "    base_unit = sim_proc.conf[('Simulation', 'base_unit')]\n",
    "    n_mat, k_mat = layer_obj.get_nk_matrix(freq)\n",
    "    # n and k could be functions of space, so we need to multiply the\n",
    "    # fields by n and k before integrating\n",
    "    res = integrate(Esq*n_mat*k_mat,layer_obj, sim_proc)\n",
    "    p_abs_imag = 2*np.pi*freq*consts.epsilon_0*res*base_unit\n",
    "    abs_dict_intmethod[layer_name] = p_abs_imag\n",
    "    disp.display_latex(\"$P_{abs} = \\\\frac{\\omega}{2} Im(\\epsilon) \\int |E|^2 dV\"+\" = {}$\".format(p_abs_imag), raw=True)"
   ]
  },
  {
   "cell_type": "code",
   "execution_count": 8,
   "metadata": {
    "collapsed": false
   },
   "outputs": [
    {
     "name": "stdout",
     "output_type": "stream",
     "text": [
      "{'Air': 0j, 'NW_AlShell': (0.0003761159700046531+0j), 'ITO': (4.106813164120451e-05+0j), 'Substrate': (0.00016208636753530938+0j), 'NW_SiO2': (3.070768809982097e-06+0j)}\n",
      "{'Air': 0.0, 'NW_AlShell': 0.00039358724356213935, 'ITO': 4.1088123474421656e-05, 'Substrate': 0.00015756428563003678, 'NW_SiO2': 3.4075267331699198e-06}\n"
     ]
    }
   ],
   "source": [
    "print(abs_dict_fluxmethod)\n",
    "print(abs_dict_intmethod)"
   ]
  },
  {
   "cell_type": "code",
   "execution_count": 9,
   "metadata": {
    "collapsed": false,
    "scrolled": true
   },
   "outputs": [
    {
     "name": "stdout",
     "output_type": "stream",
     "text": [
      "-------------------------\n",
      "Layer: Air\n",
      "Flux Method: 0j\n",
      "Integral Method: 0.0\n",
      "Diff: 0j\n",
      "Percent Diff: None\n",
      "-------------------------\n",
      "Layer: NW_AlShell\n",
      "Flux Method: (0.0003761159700046531+0j)\n",
      "Integral Method: 0.00039358724356213935\n",
      "Diff: (-1.7471273557486257e-05+0j)\n",
      "Percent Diff: (4.645182590164973+0j)\n",
      "-------------------------\n",
      "Layer: ITO\n",
      "Flux Method: (4.106813164120451e-05+0j)\n",
      "Integral Method: 4.1088123474421656e-05\n",
      "Diff: (-1.9991833217147207e-08+0j)\n",
      "Percent Diff: (0.04867967550072082+0j)\n",
      "-------------------------\n",
      "Layer: Substrate\n",
      "Flux Method: (0.00016208636753530938+0j)\n",
      "Integral Method: 0.00015756428563003678\n",
      "Diff: (4.522081905272598e-06+0j)\n",
      "Percent Diff: (2.789921184634787+0j)\n",
      "-------------------------\n",
      "Layer: NW_SiO2\n",
      "Flux Method: (3.070768809982097e-06+0j)\n",
      "Integral Method: 3.4075267331699198e-06\n",
      "Diff: (-3.367579231878226e-07+0j)\n",
      "Percent Diff: (10.966567137621341+0j)\n"
     ]
    }
   ],
   "source": [
    "for key in abs_dict_fluxmethod.keys():\n",
    "    fm = abs_dict_fluxmethod[key]\n",
    "    im = abs_dict_intmethod[key]\n",
    "    diff = fm - im\n",
    "    try:\n",
    "        pdiff = 100*abs(diff)/fm\n",
    "    except ZeroDivisionError:\n",
    "        pdiff = None\n",
    "        pass\n",
    "    print('-'*25)\n",
    "    print(\"Layer: {}\".format(key))\n",
    "    print(\"Flux Method: {}\".format(fm))\n",
    "    print(\"Integral Method: {}\".format(im))\n",
    "    print(\"Diff: {}\".format(diff))\n",
    "    print(\"Percent Diff: {}\".format(pdiff))"
   ]
  },
  {
   "cell_type": "markdown",
   "metadata": {},
   "source": [
    "# NW w/ Shell w/ Lanczos"
   ]
  },
  {
   "cell_type": "code",
   "execution_count": 10,
   "metadata": {
    "collapsed": false
   },
   "outputs": [],
   "source": [
    "conf = Config('AbsorptionTest.yml')\n",
    "conf[('Solver', 'LanczosSmoothing')] = True\n",
    "sim = Simulator(conf)\n",
    "sim = setup_sim(sim)\n",
    "Zo = consts.physical_constants['characteristic impedance of vacuum'][0]"
   ]
  },
  {
   "cell_type": "code",
   "execution_count": 11,
   "metadata": {
    "collapsed": false
   },
   "outputs": [
    {
     "data": {
      "text/plain": [
       "{'Air': ((8-1.1102230246251565e-16j),\n",
       "  (-0.7634567825647854+1.1102230246251565e-16j)),\n",
       " 'Air_bottom': ((8+0j), (-0.7634567825647852+0j)),\n",
       " 'ITO': ((7.458803815628605+0.0006962511562763618j),\n",
       "  (-0.22226059819365043-0.0006962511562763618j)),\n",
       " 'ITO_bottom': ((6.985538323184275-0.006973473057016066j),\n",
       "  (-0.22701755175106705+0.006973473057016066j)),\n",
       " 'NW_AlShell': ((6.810464916302623-0.005459676801960411j),\n",
       "  (-0.05194414486951902+0.005459676801960411j)),\n",
       " 'NW_AlShell_bottom': ((2.655213701216194-0.012739572446102104j),\n",
       "  (-0.15086594283916177+0.012739572446102104j)),\n",
       " 'NW_SiO2': ((2.739239838534732-0.013372127431107994j),\n",
       "  (-0.2348920801576382+0.013372127431107994j)),\n",
       " 'NW_SiO2_bottom': ((2.7071301062440085-0.005874276380139681j),\n",
       "  (-0.23743488369594565+0.005874276380139681j)),\n",
       " 'Substrate': ((2.469695222548072+0j), 0j),\n",
       " 'Substrate_bottom': ((0.38398303284842933+0j), 0j)}"
      ]
     },
     "execution_count": 11,
     "metadata": {},
     "output_type": "execute_result"
    }
   ],
   "source": [
    "sim.get_fluxes()"
   ]
  },
  {
   "cell_type": "code",
   "execution_count": 12,
   "metadata": {
    "collapsed": false
   },
   "outputs": [
    {
     "name": "stdout",
     "output_type": "stream",
     "text": [
      "Total Incident Power = 0.0006636046823595181\n",
      "Total Reflected Power = 6.332918696114051e-05\n",
      "Total Transmitted Power = 3.1851617318103296e-05\n",
      "Total Absorbed Power = 0.0005684238780802744\n",
      "-------------------------\n",
      "Layer: ITO\n",
      "Forward Top: (7.458803815628605+0.0006962511562763618j)\n",
      "Backward Top: (-0.22226059819365043-0.0006962511562763618j)\n",
      "Forward Bottom: (6.985538323184275-0.006973473057016066j)\n",
      "Backward Bottom: (-0.22701755175106705+0.006973473057016066j)\n",
      "Power Entering Layer: (7.685821367379672-0.0062772219007397045j)\n",
      "Power Leaving Layer: (7.207798921377925-0.0062772219007397045j)\n",
      "Absorbed in Layer: (3.965224167996363e-05+0j)\n",
      "-------------------------\n",
      "Layer: Substrate\n",
      "Forward Top: (2.469695222548072+0j)\n",
      "Backward Top: 0j\n",
      "Forward Bottom: (0.38398303284842933+0j)\n",
      "Backward Bottom: 0j\n",
      "Power Entering Layer: (2.469695222548072+0j)\n",
      "Power Leaving Layer: (0.38398303284842933+0j)\n",
      "Absorbed in Layer: (0.0001730110468923758+0j)\n",
      "-------------------------\n",
      "Layer: NW_SiO2\n",
      "Forward Top: (2.739239838534732-0.013372127431107994j)\n",
      "Backward Top: (-0.2348920801576382+0.013372127431107994j)\n",
      "Forward Bottom: (2.7071301062440085-0.005874276380139681j)\n",
      "Backward Bottom: (-0.23743488369594565+0.005874276380139681j)\n",
      "Power Entering Layer: (2.9766747222306775-0.019246403811247675j)\n",
      "Power Leaving Layer: (2.9420221864016467-0.019246403811247675j)\n",
      "Absorbed in Layer: (2.874448128971978e-06+0j)\n",
      "-------------------------\n",
      "Layer: Air\n",
      "Forward Top: (8-1.1102230246251565e-16j)\n",
      "Backward Top: (-0.7634567825647854+1.1102230246251565e-16j)\n",
      "Forward Bottom: (8+0j)\n",
      "Backward Bottom: (-0.7634567825647852+0j)\n",
      "Power Entering Layer: (8.763456782564786-1.1102230246251565e-16j)\n",
      "Power Leaving Layer: (8.763456782564786-1.1102230246251565e-16j)\n",
      "Absorbed in Layer: 0j\n",
      "-------------------------\n",
      "Layer: NW_AlShell\n",
      "Forward Top: (6.810464916302623-0.005459676801960411j)\n",
      "Backward Top: (-0.05194414486951902+0.005459676801960411j)\n",
      "Forward Bottom: (2.655213701216194-0.012739572446102104j)\n",
      "Backward Bottom: (-0.15086594283916177+0.012739572446102104j)\n",
      "Power Entering Layer: (6.961330859141785-0.018199249248062516j)\n",
      "Power Leaving Layer: (2.7071578460857126-0.018199249248062516j)\n",
      "Absorbed in Layer: (0.00035288614137893857+0j)\n",
      "-------------------------\n",
      "Summed Absorption= (0.00056842387808025+0j)\n"
     ]
    }
   ],
   "source": [
    "abs_dict_fluxmethod = compute_fluxes(sim)"
   ]
  },
  {
   "cell_type": "code",
   "execution_count": 13,
   "metadata": {
    "collapsed": false
   },
   "outputs": [],
   "source": [
    "sim.get_field()"
   ]
  },
  {
   "cell_type": "code",
   "execution_count": 14,
   "metadata": {
    "collapsed": false
   },
   "outputs": [
    {
     "name": "stdout",
     "output_type": "stream",
     "text": [
      "Layer: Air\n"
     ]
    },
    {
     "data": {
      "text/latex": [
       "$P_{abs} = \\frac{\\omega}{2} Im(\\epsilon) \\int |E|^2 dV = 0.0$"
      ]
     },
     "metadata": {},
     "output_type": "display_data"
    },
    {
     "name": "stdout",
     "output_type": "stream",
     "text": [
      "Layer: ITO\n"
     ]
    },
    {
     "data": {
      "text/latex": [
       "$P_{abs} = \\frac{\\omega}{2} Im(\\epsilon) \\int |E|^2 dV = 3.9530936675958905e-05$"
      ]
     },
     "metadata": {},
     "output_type": "display_data"
    },
    {
     "name": "stdout",
     "output_type": "stream",
     "text": [
      "Layer: NW_AlShell\n"
     ]
    },
    {
     "data": {
      "text/latex": [
       "$P_{abs} = \\frac{\\omega}{2} Im(\\epsilon) \\int |E|^2 dV = 0.0003770383815946924$"
      ]
     },
     "metadata": {},
     "output_type": "display_data"
    },
    {
     "name": "stdout",
     "output_type": "stream",
     "text": [
      "Layer: NW_SiO2\n"
     ]
    },
    {
     "data": {
      "text/latex": [
       "$P_{abs} = \\frac{\\omega}{2} Im(\\epsilon) \\int |E|^2 dV = 3.6733446094810126e-06$"
      ]
     },
     "metadata": {},
     "output_type": "display_data"
    },
    {
     "name": "stdout",
     "output_type": "stream",
     "text": [
      "Layer: Substrate\n"
     ]
    },
    {
     "data": {
      "text/latex": [
       "$P_{abs} = \\frac{\\omega}{2} Im(\\epsilon) \\int |E|^2 dV = 0.00016864834863216508$"
      ]
     },
     "metadata": {},
     "output_type": "display_data"
    }
   ],
   "source": [
    "sim_proc = Simulation(simulator=sim)\n",
    "freq = sim_proc.conf[('Simulation', 'params', 'frequency','value')]\n",
    "try:\n",
    "    Esq = sim_proc.data['normEsquared']\n",
    "except KeyError:\n",
    "    Esq = sim_proc.normEsquared()\n",
    "abs_dict_intmethod = {}\n",
    "for layer_name, layer_obj in sim_proc.layers.items():\n",
    "    print(\"Layer: {}\".format(layer_name))\n",
    "    base_unit = sim_proc.conf[('Simulation', 'base_unit')]\n",
    "    n_mat, k_mat = layer_obj.get_nk_matrix(freq)\n",
    "    # n and k could be functions of space, so we need to multiply the\n",
    "    # fields by n and k before integrating\n",
    "    res = integrate(Esq*n_mat*k_mat,layer_obj, sim_proc)\n",
    "    p_abs_imag = 2*np.pi*freq*consts.epsilon_0*res*base_unit\n",
    "    abs_dict_intmethod[layer_name] = p_abs_imag\n",
    "    disp.display_latex(\"$P_{abs} = \\\\frac{\\omega}{2} Im(\\epsilon) \\int |E|^2 dV\"+\" = {}$\".format(p_abs_imag), raw=True)"
   ]
  },
  {
   "cell_type": "code",
   "execution_count": 15,
   "metadata": {
    "collapsed": false
   },
   "outputs": [
    {
     "name": "stdout",
     "output_type": "stream",
     "text": [
      "{'Air': 0j, 'NW_AlShell': (0.00035288614137893857+0j), 'ITO': (3.965224167996363e-05+0j), 'Substrate': (0.0001730110468923758+0j), 'NW_SiO2': (2.874448128971978e-06+0j)}\n",
      "{'Air': 0.0, 'NW_AlShell': 0.00037703838159469243, 'ITO': 3.9530936675958905e-05, 'Substrate': 0.00016864834863216508, 'NW_SiO2': 3.6733446094810126e-06}\n"
     ]
    }
   ],
   "source": [
    "print(abs_dict_fluxmethod)\n",
    "print(abs_dict_intmethod)"
   ]
  },
  {
   "cell_type": "code",
   "execution_count": 16,
   "metadata": {
    "collapsed": false
   },
   "outputs": [
    {
     "name": "stdout",
     "output_type": "stream",
     "text": [
      "-------------------------\n",
      "Layer: Air\n",
      "Flux Method: 0j\n",
      "Integral Method: 0.0\n",
      "Diff: 0j\n",
      "Percent Diff: None\n",
      "-------------------------\n",
      "Layer: NW_AlShell\n",
      "Flux Method: (0.00035288614137893857+0j)\n",
      "Integral Method: 0.0003770383815946924\n",
      "Diff: (-2.415224021575386e-05+0j)\n",
      "Percent Diff: (6.8442019630968+0j)\n",
      "-------------------------\n",
      "Layer: ITO\n",
      "Flux Method: (3.965224167996363e-05+0j)\n",
      "Integral Method: 3.9530936675958905e-05\n",
      "Diff: (1.213050040047264e-07+0j)\n",
      "Percent Diff: (0.30592218463659293+0j)\n",
      "-------------------------\n",
      "Layer: Substrate\n",
      "Flux Method: (0.0001730110468923758+0j)\n",
      "Integral Method: 0.00016864834863216508\n",
      "Diff: (4.362698260210716e-06+0j)\n",
      "Percent Diff: (2.521629883509462+0j)\n",
      "-------------------------\n",
      "Layer: NW_SiO2\n",
      "Flux Method: (2.874448128971978e-06+0j)\n",
      "Integral Method: 3.6733446094810126e-06\n",
      "Diff: (-7.988964805090346e-07+0j)\n",
      "Percent Diff: (27.793038686516606+0j)\n"
     ]
    }
   ],
   "source": [
    "for key in abs_dict_fluxmethod.keys():\n",
    "    fm = abs_dict_fluxmethod[key]\n",
    "    im = abs_dict_intmethod[key]\n",
    "    diff = fm - im\n",
    "    try:\n",
    "        pdiff = 100*abs(diff)/fm\n",
    "    except ZeroDivisionError:\n",
    "        pdiff = None\n",
    "        pass\n",
    "    print('-'*25)\n",
    "    print(\"Layer: {}\".format(key))\n",
    "    print(\"Flux Method: {}\".format(fm))\n",
    "    print(\"Integral Method: {}\".format(im))\n",
    "    print(\"Diff: {}\".format(diff))\n",
    "    print(\"Percent Diff: {}\".format(pdiff))"
   ]
  },
  {
   "cell_type": "markdown",
   "metadata": {},
   "source": [
    "# NW no Shell"
   ]
  },
  {
   "cell_type": "code",
   "execution_count": 17,
   "metadata": {
    "collapsed": false
   },
   "outputs": [],
   "source": [
    "conf = Config('AbsorptionTestnoshell.yml')\n",
    "sim = Simulator(conf)\n",
    "sim = setup_sim(sim)\n",
    "Zo = consts.physical_constants['characteristic impedance of vacuum'][0]"
   ]
  },
  {
   "cell_type": "code",
   "execution_count": 18,
   "metadata": {
    "collapsed": false
   },
   "outputs": [
    {
     "data": {
      "text/plain": [
       "{'Air': ((8+0j), (-0.9852588301655535+0j)),\n",
       " 'Air_bottom': ((8+0j), (-0.9852588301655535+0j)),\n",
       " 'ITO': ((7.133256784779571-0.00415199595578708j),\n",
       "  (-0.1185156149453849+0.00415199595578708j)),\n",
       " 'ITO_bottom': ((6.657799654778778+0.007113102097409382j),\n",
       "  (-0.13981974282046136-0.007113102097409382j)),\n",
       " 'NW_AlShell': ((6.744153574990113+0.010119357499265125j),\n",
       "  (-0.2261736630319038-0.010119357499265125j)),\n",
       " 'NW_AlShell_bottom': ((4.15627843758476+0.01853459036351636j),\n",
       "  (-0.36664157753097343-0.01853459036351636j)),\n",
       " 'Substrate': ((3.789636860053752+0j), 0j),\n",
       " 'Substrate_bottom': ((0.595143736436588+0j), 0j)}"
      ]
     },
     "execution_count": 18,
     "metadata": {},
     "output_type": "execute_result"
    }
   ],
   "source": [
    "sim.get_fluxes()"
   ]
  },
  {
   "cell_type": "code",
   "execution_count": 19,
   "metadata": {
    "collapsed": false
   },
   "outputs": [
    {
     "name": "stdout",
     "output_type": "stream",
     "text": [
      "Total Incident Power = 0.0006636046823595181\n",
      "Total Reflected Power = 8.172779662924032e-05\n",
      "Total Transmitted Power = 4.9367521272032344e-05\n",
      "Total Absorbed Power = 0.0005325093644582455\n",
      "-------------------------\n",
      "Layer: ITO\n",
      "Forward Top: (7.133256784779571-0.00415199595578708j)\n",
      "Backward Top: (-0.1185156149453849+0.00415199595578708j)\n",
      "Forward Bottom: (6.657799654778778+0.007113102097409382j)\n",
      "Backward Bottom: (-0.13981974282046136-0.007113102097409382j)\n",
      "Power Entering Layer: (7.273076527600033+0.0029611061416223022j)\n",
      "Power Leaving Layer: (6.776315269724162+0.0029611061416223022j)\n",
      "Absorbed in Layer: (4.120663709265394e-05+0j)\n",
      "-------------------------\n",
      "Layer: Substrate\n",
      "Forward Top: (3.789636860053752+0j)\n",
      "Backward Top: 0j\n",
      "Forward Bottom: (0.595143736436588+0j)\n",
      "Backward Bottom: 0j\n",
      "Power Entering Layer: (3.789636860053752+0j)\n",
      "Power Leaving Layer: (0.595143736436588+0j)\n",
      "Absorbed in Layer: (0.00026498507432470413+0j)\n",
      "-------------------------\n",
      "Layer: Air\n",
      "Forward Top: (8+0j)\n",
      "Backward Top: (-0.9852588301655535+0j)\n",
      "Forward Bottom: (8+0j)\n",
      "Backward Bottom: (-0.9852588301655535+0j)\n",
      "Power Entering Layer: (8.985258830165554+0j)\n",
      "Power Leaving Layer: (8.985258830165554+0j)\n",
      "Absorbed in Layer: 0j\n",
      "-------------------------\n",
      "Layer: NW_AlShell\n",
      "Forward Top: (6.744153574990113+0.010119357499265125j)\n",
      "Backward Top: (-0.2261736630319038-0.010119357499265125j)\n",
      "Forward Bottom: (4.15627843758476+0.01853459036351636j)\n",
      "Backward Bottom: (-0.36664157753097343-0.01853459036351636j)\n",
      "Power Entering Layer: (7.110795152521087+0.028653947862781484j)\n",
      "Power Leaving Layer: (4.382452100616664+0.028653947862781484j)\n",
      "Absorbed in Layer: (0.00022631765304085408+0j)\n",
      "-------------------------\n",
      "Summed Absorption= (0.0005325093644582121+0j)\n"
     ]
    }
   ],
   "source": [
    "abs_dict_fluxmethod = compute_fluxes(sim)"
   ]
  },
  {
   "cell_type": "code",
   "execution_count": 20,
   "metadata": {
    "collapsed": false
   },
   "outputs": [],
   "source": [
    "sim.get_field()"
   ]
  },
  {
   "cell_type": "code",
   "execution_count": 21,
   "metadata": {
    "collapsed": false
   },
   "outputs": [
    {
     "name": "stdout",
     "output_type": "stream",
     "text": [
      "Layer: Air\n"
     ]
    },
    {
     "data": {
      "text/latex": [
       "$P_{abs} = \\frac{\\omega}{2} Im(\\epsilon) \\int |E|^2 dV = 0.0$"
      ]
     },
     "metadata": {},
     "output_type": "display_data"
    },
    {
     "name": "stdout",
     "output_type": "stream",
     "text": [
      "Layer: ITO\n"
     ]
    },
    {
     "data": {
      "text/latex": [
       "$P_{abs} = \\frac{\\omega}{2} Im(\\epsilon) \\int |E|^2 dV = 4.064428119371991e-05$"
      ]
     },
     "metadata": {},
     "output_type": "display_data"
    },
    {
     "name": "stdout",
     "output_type": "stream",
     "text": [
      "Layer: NW_AlShell\n"
     ]
    },
    {
     "data": {
      "text/latex": [
       "$P_{abs} = \\frac{\\omega}{2} Im(\\epsilon) \\int |E|^2 dV = 0.00030266718657491373$"
      ]
     },
     "metadata": {},
     "output_type": "display_data"
    },
    {
     "name": "stdout",
     "output_type": "stream",
     "text": [
      "Layer: Substrate\n"
     ]
    },
    {
     "data": {
      "text/latex": [
       "$P_{abs} = \\frac{\\omega}{2} Im(\\epsilon) \\int |E|^2 dV = 0.000258174593451757$"
      ]
     },
     "metadata": {},
     "output_type": "display_data"
    }
   ],
   "source": [
    "sim_proc = Simulation(simulator=sim)\n",
    "freq = sim_proc.conf[('Simulation', 'params', 'frequency','value')]\n",
    "try:\n",
    "    Esq = sim_proc.data['normEsquared']\n",
    "except KeyError:\n",
    "    Esq = sim_proc.normEsquared()\n",
    "abs_dict_intmethod = {}\n",
    "for layer_name, layer_obj in sim_proc.layers.items():\n",
    "    print(\"Layer: {}\".format(layer_name))\n",
    "    base_unit = sim_proc.conf[('Simulation', 'base_unit')]\n",
    "    n_mat, k_mat = layer_obj.get_nk_matrix(freq)\n",
    "    # n and k could be functions of space, so we need to multiply the\n",
    "    # fields by n and k before integrating\n",
    "    res = integrate(Esq*n_mat*k_mat,layer_obj, sim_proc)\n",
    "    p_abs_imag = 2*np.pi*freq*consts.epsilon_0*res*base_unit\n",
    "    abs_dict_intmethod[layer_name] = p_abs_imag\n",
    "    disp.display_latex(\"$P_{abs} = \\\\frac{\\omega}{2} Im(\\epsilon) \\int |E|^2 dV\"+\" = {}$\".format(p_abs_imag), raw=True)"
   ]
  },
  {
   "cell_type": "code",
   "execution_count": 22,
   "metadata": {
    "collapsed": false
   },
   "outputs": [
    {
     "name": "stdout",
     "output_type": "stream",
     "text": [
      "{'Air': 0j, 'NW_AlShell': (0.00022631765304085408+0j), 'ITO': (4.120663709265394e-05+0j), 'Substrate': (0.00026498507432470413+0j)}\n",
      "{'Air': 0.0, 'NW_AlShell': 0.00030266718657491373, 'ITO': 4.0644281193719912e-05, 'Substrate': 0.00025817459345175699}\n"
     ]
    }
   ],
   "source": [
    "print(abs_dict_fluxmethod)\n",
    "print(abs_dict_intmethod)"
   ]
  },
  {
   "cell_type": "code",
   "execution_count": 23,
   "metadata": {
    "collapsed": false
   },
   "outputs": [
    {
     "name": "stdout",
     "output_type": "stream",
     "text": [
      "-------------------------\n",
      "Layer: Air\n",
      "Flux Method: 0j\n",
      "Integral Method: 0.0\n",
      "Diff: 0j\n",
      "Percent Diff: None\n",
      "-------------------------\n",
      "Layer: NW_AlShell\n",
      "Flux Method: (0.00022631765304085408+0j)\n",
      "Integral Method: 0.00030266718657491373\n",
      "Diff: (-7.634953353405965e-05+0j)\n",
      "Percent Diff: (33.735562607781766+0j)\n",
      "-------------------------\n",
      "Layer: ITO\n",
      "Flux Method: (4.120663709265394e-05+0j)\n",
      "Integral Method: 4.064428119371991e-05\n",
      "Diff: (5.623558989340273e-07+0j)\n",
      "Percent Diff: (1.3647216531394175+0j)\n",
      "-------------------------\n",
      "Layer: Substrate\n",
      "Flux Method: (0.00026498507432470413+0j)\n",
      "Integral Method: 0.000258174593451757\n",
      "Diff: (6.810480872947145e-06+0j)\n",
      "Percent Diff: (2.5701375408796805+0j)\n"
     ]
    }
   ],
   "source": [
    "for key in abs_dict_fluxmethod.keys():\n",
    "    fm = abs_dict_fluxmethod[key]\n",
    "    im = abs_dict_intmethod[key]\n",
    "    diff = fm - im\n",
    "    try:\n",
    "        pdiff = 100*abs(diff)/fm\n",
    "    except ZeroDivisionError:\n",
    "        pdiff = None\n",
    "        pass\n",
    "    print('-'*25)\n",
    "    print(\"Layer: {}\".format(key))\n",
    "    print(\"Flux Method: {}\".format(fm))\n",
    "    print(\"Integral Method: {}\".format(im))\n",
    "    print(\"Diff: {}\".format(diff))\n",
    "    print(\"Percent Diff: {}\".format(pdiff))"
   ]
  },
  {
   "cell_type": "code",
   "execution_count": 24,
   "metadata": {
    "collapsed": false
   },
   "outputs": [
    {
     "ename": "KeyError",
     "evalue": "'fluxes'",
     "output_type": "error",
     "traceback": [
      "\u001b[0;31m---------------------------------------------------------------------------\u001b[0m",
      "\u001b[0;31mKeyError\u001b[0m                                  Traceback (most recent call last)",
      "\u001b[0;32m<ipython-input-24-c99b5c96eff2>\u001b[0m in \u001b[0;36m<module>\u001b[0;34m()\u001b[0m\n\u001b[0;32m----> 1\u001b[0;31m \u001b[0mprint\u001b[0m\u001b[0;34m(\u001b[0m\u001b[0msim\u001b[0m\u001b[0;34m.\u001b[0m\u001b[0mdata\u001b[0m\u001b[0;34m[\u001b[0m\u001b[0;34m'fluxes'\u001b[0m\u001b[0;34m]\u001b[0m\u001b[0;34m)\u001b[0m\u001b[0;34m\u001b[0m\u001b[0m\n\u001b[0m",
      "\u001b[0;31mKeyError\u001b[0m: 'fluxes'"
     ]
    }
   ],
   "source": [
    "print(sim.data['fluxes'])"
   ]
  },
  {
   "cell_type": "code",
   "execution_count": 25,
   "metadata": {
    "collapsed": false
   },
   "outputs": [
    {
     "name": "stdout",
     "output_type": "stream",
     "text": [
      "{'ITO_bottom': ((6.657799654778778+0.007113102097409382j), (-0.13981974282046136-0.007113102097409382j)), 'ITO': ((7.133256784779571-0.00415199595578708j), (-0.1185156149453849+0.00415199595578708j)), 'Substrate': ((3.789636860053752+0j), 0j), 'NW_AlShell_bottom': ((4.15627843758476+0.01853459036351636j), (-0.36664157753097343-0.01853459036351636j)), 'Air': ((8+0j), (-0.9852588301655535+0j)), 'NW_AlShell': ((6.744153574990113+0.010119357499265125j), (-0.2261736630319038-0.010119357499265125j)), 'Substrate_bottom': ((0.595143736436588+0j), 0j), 'Air_bottom': ((8+0j), (-0.9852588301655535+0j))}\n"
     ]
    }
   ],
   "source": [
    "print(sim.flux_dict)"
   ]
  },
  {
   "cell_type": "code",
   "execution_count": 26,
   "metadata": {
    "collapsed": false
   },
   "outputs": [
    {
     "name": "stderr",
     "output_type": "stream",
     "text": [
      "DEBUG:nanowire.optics.postprocess:Logger initialized\n"
     ]
    },
    {
     "name": "stdout",
     "output_type": "stream",
     "text": [
      "{'ITO_bottom': ((6.657799654778778+0.007113102097409382j), (-0.13981974282046136-0.007113102097409382j)), 'ITO': ((7.133256784779571-0.00415199595578708j), (-0.1185156149453849+0.00415199595578708j)), 'Substrate': ((3.789636860053752+0j), 0j), 'NW_AlShell_bottom': ((4.15627843758476+0.01853459036351636j), (-0.36664157753097343-0.01853459036351636j)), 'Air': ((8+0j), (-0.9852588301655535+0j)), 'NW_AlShell': ((6.744153574990113+0.010119357499265125j), (-0.2261736630319038-0.010119357499265125j)), 'Substrate_bottom': ((0.595143736436588+0j), 0j), 'Air_bottom': ((8+0j), (-0.9852588301655535+0j))}\n",
      "OrderedDict([('Air', <nanowire.optics.utils.geometry.Layer object at 0x7f1b66a88be0>), ('ITO', <nanowire.optics.utils.geometry.Layer object at 0x7f1b66a88cc0>), ('NW_AlShell', <nanowire.optics.utils.geometry.Layer object at 0x7f1b66a886a0>), ('Substrate', <nanowire.optics.utils.geometry.Layer object at 0x7f1b66a88a20>)])\n"
     ]
    }
   ],
   "source": [
    "simulation = Simulation(simulator=sim)\n",
    "print(simulation.data['fluxes'])\n",
    "print(simulation.layers)"
   ]
  },
  {
   "cell_type": "code",
   "execution_count": 29,
   "metadata": {
    "collapsed": false
   },
   "outputs": [
    {
     "name": "stdout",
     "output_type": "stream",
     "text": [
      "test, 1.0, 2.0, 3.0\n"
     ]
    }
   ],
   "source": [
    "alist = [1., 2., 3.]\n",
    "print('{}, {}, {}, {}'.format('test', *alist))"
   ]
  },
  {
   "cell_type": "code",
   "execution_count": null,
   "metadata": {
    "collapsed": true
   },
   "outputs": [],
   "source": []
  }
 ],
 "metadata": {
  "kernelspec": {
   "display_name": "nanowire",
   "language": "python",
   "name": "nanowire"
  },
  "language_info": {
   "codemirror_mode": {
    "name": "ipython",
    "version": 3
   },
   "file_extension": ".py",
   "mimetype": "text/x-python",
   "name": "python",
   "nbconvert_exporter": "python",
   "pygments_lexer": "ipython3",
   "version": "3.5.2"
  },
  "toc": {
   "colors": {
    "hover_highlight": "#DAA520",
    "running_highlight": "#FF0000",
    "selected_highlight": "#FFD700"
   },
   "moveMenuLeft": true,
   "nav_menu": {},
   "navigate_menu": true,
   "number_sections": true,
   "sideBar": true,
   "skip_h1_title": false,
   "threshold": 4,
   "toc_cell": false,
   "toc_position": {},
   "toc_section_display": "block",
   "toc_window_display": false
  }
 },
 "nbformat": 4,
 "nbformat_minor": 2
}
