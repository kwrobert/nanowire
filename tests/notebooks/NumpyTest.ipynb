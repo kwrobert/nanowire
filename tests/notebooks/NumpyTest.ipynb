{
 "cells": [
  {
   "cell_type": "code",
   "execution_count": null,
   "metadata": {
    "deletable": true,
    "editable": true
   },
   "outputs": [],
   "source": [
    "import os\n",
    "import sys\n",
    "import numpy as np\n",
    "import matplotlib.pyplot as plt\n",
    "from nanowire.optics.simulate import Simulator\n",
    "from nanowire.optics.postprocess import Simulation\n",
    "from nanowire.optics.utils.utils import setup_sim\n",
    "from nanowire.optics.utils.config import Config\n",
    "from nanowire.optics.utils.geometry import *\n",
    "%load_ext autoreload\n",
    "%load_ext line_profiler\n",
    "%autoreload 2"
   ]
  },
  {
   "cell_type": "code",
   "execution_count": null,
   "metadata": {
    "deletable": true,
    "editable": true
   },
   "outputs": [],
   "source": [
    "conf = Config('numpytest.yml')\n",
    "sim = Simulator(conf)\n",
    "sim.setup()\n",
    "sim.get_layers()"
   ]
  },
  {
   "cell_type": "code",
   "execution_count": null,
   "metadata": {},
   "outputs": [],
   "source": [
    "print(\"E numpy\")\n",
    "E, H = sim.s4.GetFieldsOnGridNumpy(z=.35, NumSamples=(200, 150))\n",
    "print(E.flags)\n",
    "print(E.shape)\n",
    "print(\"E tuple\")\n",
    "Etup, Htup = sim.s4.GetFieldsOnGrid(z=.35, NumSamples=(200, 150), Format='Array')\n",
    "Et = np.array(Etup)\n",
    "Ht = np.array(Htup)\n",
    "print(Et.flags)\n",
    "print(Et.shape)\n",
    "np.all(np.isclose(E, Et))"
   ]
  },
  {
   "cell_type": "code",
   "execution_count": null,
   "metadata": {
    "deletable": true,
    "editable": true
   },
   "outputs": [],
   "source": [
    "fig, (ax1, ax2) = plt.subplots(1, 2)\n",
    "ax1.pcolormesh(np.abs(E[:, :, 0]))\n",
    "ax2.pcolormesh(np.abs(Et[:, :, 0]))\n",
    "plt.show()"
   ]
  },
  {
   "cell_type": "code",
   "execution_count": null,
   "metadata": {
    "deletable": true,
    "editable": true
   },
   "outputs": [],
   "source": [
    "E = sim.compute_fields_on_plane(.35, 200, 150, numpy=True)"
   ]
  },
  {
   "cell_type": "code",
   "execution_count": null,
   "metadata": {},
   "outputs": [],
   "source": [
    "plt.figure()\n",
    "plt.pcolormesh(np.abs(E[0]))\n",
    "plt.show()"
   ]
  },
  {
   "cell_type": "code",
   "execution_count": null,
   "metadata": {
    "deletable": true,
    "editable": true
   },
   "outputs": [],
   "source": [
    "E = sim.compute_fields_on_plane(.35, 200, 150, numpy=False)"
   ]
  },
  {
   "cell_type": "code",
   "execution_count": null,
   "metadata": {
    "deletable": true,
    "editable": true
   },
   "outputs": [],
   "source": [
    "Enx, Eny, Enz, Hnx, Hny, Hnz = sim.compute_fields_on_plane(.35, 200, 150, numpy=True)\n",
    "Etx, Ety, Etz, Htx, Hty, Htz  = sim.compute_fields_on_plane(.35, 200, 150, numpy=False)\n",
    "print(Enx.shape)"
   ]
  },
  {
   "cell_type": "code",
   "execution_count": null,
   "metadata": {
    "deletable": true,
    "editable": true
   },
   "outputs": [],
   "source": [
    "fig, (ax1, ax2) = plt.subplots(1, 2)\n",
    "ax1.imshow(np.abs(Enx))\n",
    "ax2.imshow(np.abs(Etx))\n",
    "plt.show()"
   ]
  },
  {
   "cell_type": "code",
   "execution_count": null,
   "metadata": {
    "deletable": true,
    "editable": true
   },
   "outputs": [],
   "source": [
    "print(np.all(np.isclose(Enx, Etx)))\n",
    "print(np.all(np.isclose(Eny, Ety)))\n",
    "print(np.all(np.isclose(Enz, Etz)))"
   ]
  },
  {
   "cell_type": "code",
   "execution_count": null,
   "metadata": {
    "deletable": true,
    "editable": true
   },
   "outputs": [],
   "source": [
    "dx = .25/50\n",
    "xvals = np.arange(0, .25, dx)\n",
    "print(xvals)\n",
    "Exp, Eyp, Ezp, Hxp, Hyp, Hzp = sim.compute_fields_at_point(0, xvals[1], .35)"
   ]
  },
  {
   "cell_type": "code",
   "execution_count": null,
   "metadata": {
    "deletable": true,
    "editable": true
   },
   "outputs": [],
   "source": [
    "print(Enx[0, 1] - Exp)\n",
    "print(Etx[0, 1] - Exp)\n",
    "print(Eny[0, 1] - Eyp)\n",
    "print(Ety[0, 1] - Eyp)\n",
    "print(Enz[0, 1] - Ezp)\n",
    "print(Etz[0, 1] - Ezp)"
   ]
  },
  {
   "cell_type": "code",
   "execution_count": null,
   "metadata": {
    "deletable": true,
    "editable": true
   },
   "outputs": [],
   "source": []
  }
 ],
 "metadata": {
  "kernelspec": {
   "display_name": "nanowire",
   "language": "python",
   "name": "nanowire"
  },
  "language_info": {
   "codemirror_mode": {
    "name": "ipython",
    "version": 3
   },
   "file_extension": ".py",
   "mimetype": "text/x-python",
   "name": "python",
   "nbconvert_exporter": "python",
   "pygments_lexer": "ipython3",
   "version": "3.5.2"
  },
  "toc": {
   "colors": {
    "hover_highlight": "#DAA520",
    "running_highlight": "#FF0000",
    "selected_highlight": "#FFD700"
   },
   "moveMenuLeft": true,
   "nav_menu": {
    "height": "4px",
    "width": "254px"
   },
   "navigate_menu": true,
   "number_sections": true,
   "sideBar": true,
   "threshold": 4,
   "toc_cell": false,
   "toc_section_display": "block",
   "toc_window_display": false,
   "widenNotebook": false
  }
 },
 "nbformat": 4,
 "nbformat_minor": 1
}
